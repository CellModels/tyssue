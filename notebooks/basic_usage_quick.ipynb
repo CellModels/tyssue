{
  "cells": [
    {
      "cell_type": "markdown",
      "metadata": {
        "id": "view-in-github",
        "colab_type": "text"
      },
      "source": [
        "<a href=\"https://colab.research.google.com/github/Pablo1990/tyssue/blob/main/notebooks/basic_usage_quick.ipynb\" target=\"_parent\"><img src=\"https://colab.research.google.com/assets/colab-badge.svg\" alt=\"Open In Colab\"/></a>"
      ]
    },
    {
      "cell_type": "markdown",
      "source": [
        "# Setup"
      ],
      "metadata": {
        "id": "4l4AwQ1JRSRD"
      },
      "id": "4l4AwQ1JRSRD"
    },
    {
      "cell_type": "code",
      "execution_count": null,
      "id": "O65ThAv1P3zN",
      "metadata": {
        "id": "O65ThAv1P3zN"
      },
      "outputs": [],
      "source": [
        "!pip install numpy==1.23.5 scipy matplotlib pandas==1.5.3 jupyter notebook quantities ipywidgets pythreejs ipyvolume vispy tyssue==0.8.0"
      ]
    },
    {
      "cell_type": "markdown",
      "source": [
        "# Auxiliar functions"
      ],
      "metadata": {
        "id": "1sbtbParQkhB"
      },
      "id": "1sbtbParQkhB"
    },
    {
      "cell_type": "code",
      "source": [
        "from tyssue import History\n",
        "from tyssue.draw import sheet_view\n",
        "from tyssue.draw.plt_draw import quick_edge_draw\n",
        "from tyssue.io import obj\n",
        "import csv\n",
        "import matplotlib.pylab as plt\n",
        "import numpy as np\n",
        "import pathlib\n",
        "import random\n",
        "import numpy as np\n",
        "\n",
        "import matplotlib.pylab as plt\n",
        "from tyssue.draw import sheet_view\n",
        "from tyssue.io import obj\n",
        "\n",
        "\n",
        "def line_tension_range(cellmap, lower_line_tension, higher_line_tension):\n",
        "    \"\"\"\n",
        "    Randomly assign line tension values between lower_line_tension and higher_line_tension\n",
        "    :param cellmap:\n",
        "    :param lower_line_tension:\n",
        "    :param higher_line_tension:\n",
        "    :return:\n",
        "    \"\"\"\n",
        "    for edge in range(len(cellmap.edge_df)):\n",
        "        newValue = random.uniform(lower_line_tension, higher_line_tension)\n",
        "        cellmap.edge_df.loc[edge, 'line_tension'] = newValue\n",
        "    return cellmap\n",
        "\n",
        "def length_elasticity_range(cellmap, lower_line_tension, higher_line_tension):\n",
        "    for edge in range(len(cellmap.edge_df)):\n",
        "        newValue = random.uniform(lower_line_tension, higher_line_tension)\n",
        "        cellmap.edge_df.loc[edge, 'length_elasticity'] = newValue\n",
        "    return cellmap\n",
        "\n",
        "def create_frames(\n",
        "    history,\n",
        "    output,\n",
        "    num_frames=None,\n",
        "    interval=None,\n",
        "    margin=0,\n",
        "    **draw_kwds,\n",
        "):\n",
        "    \"\"\"\n",
        "    Creates a set of png frames of the recorded history.\n",
        "    :param history:  a :class:`tyssue.History` object\n",
        "    :param output:  path to the output directory\n",
        "    :param num_frames:  int, the number of frames in the gif\n",
        "    :param interval:    tuples, define begin and end frame of the gif\n",
        "    :param draw_func:   a drawing function. This function must take a `sheet` object as first argument and return a\n",
        "    `fig, ax` pair. Defaults to quick_edge_draw(aka sheet_view with quick mode)\n",
        "    :param margin:  int, the graph margins in percents, default 5. If margin is -1, let the draw function decide\n",
        "    :param draw_kwds:   are passed to the drawing function\n",
        "    :return:\n",
        "    \"\"\"\n",
        "\n",
        "    graph_dir = pathlib.Path(output)\n",
        "    graph_dir.mkdir(parents=True, exist_ok=True)\n",
        "\n",
        "    x, y = coords = draw_kwds.get(\"coords\", history.sheet.coords[:2])\n",
        "    sheet0 = history.retrieve(0)\n",
        "    bounds = sheet0.vert_df[coords].describe().loc[[\"min\", \"max\"]]\n",
        "    delta = (bounds.loc[\"max\"] - bounds.loc[\"min\"]).max()\n",
        "    margin = delta * margin / 100\n",
        "    xlim = bounds.loc[\"min\", x] - margin, bounds.loc[\"max\", x] + margin\n",
        "    ylim = bounds.loc[\"min\", y] - margin, bounds.loc[\"max\", y] + margin\n",
        "\n",
        "    if interval is None:\n",
        "        start, stop = None, None\n",
        "    else:\n",
        "        start, stop = interval[0], interval[1]\n",
        "\n",
        "    # Replace the loop that uses 'browse' with this manual approach\n",
        "    for i, t in enumerate(np.linspace(start if start else 0, stop if stop else history.time,\n",
        "                                      num_frames if num_frames else len(history.time_stamps))):\n",
        "        try:\n",
        "            # Manually retrieve each sheet for the corresponding time step\n",
        "            sheet = history.retrieve(int(t))  # retrieve from history at time 't'\n",
        "\n",
        "            # Now apply the sheet view function as before\n",
        "            fig, ax = sheet_view(sheet, **draw_kwds)\n",
        "            fig.set_size_inches(20, 20)\n",
        "\n",
        "            # if isinstance(ax, plt.Axes) and margin >= 0:\n",
        "            #     ax.set(xlim=xlim, ylim=ylim)\n",
        "\n",
        "            # labels = np.array(sheet.face_df.index.array, dtype=np.uint32);\n",
        "            # x = sheet.face_df.x;\n",
        "            # y = sheet.face_df.y;\n",
        "            # for index, label in enumerate(labels):\n",
        "            #     ax.text(x[index], y[index], label, fontsize=5, ha='center')\n",
        "\n",
        "            # Combine the arrays into a list of rows\n",
        "            rows = zip(sheet.face_df.x, bounds.loc[\"max\", y] - sheet.face_df.y, np.array(sheet.face_df.index.array, dtype=np.uint32))\n",
        "\n",
        "            # Define the file path and name\n",
        "            file_name = graph_dir / f\"movie_{i:04d}.csv\"\n",
        "\n",
        "            # # Open the CSV file in write mode and write the rows\n",
        "            # with open(file_name, 'w', newline='') as file:\n",
        "            #     writer = csv.writer(file)\n",
        "            #     writer.writerow(['Column1', 'Column2', 'Column3'])  # Write header\n",
        "            #     writer.writerows(rows)  # Write data rows\n",
        "\n",
        "            plt.axis('off')\n",
        "            fig.savefig(graph_dir / f\"movie_{i:04d}.png\") #, bbox_inches='tight', pad_inches=0\n",
        "        except Exception as e:\n",
        "            print(f\"Dropped frame {i}\")\n",
        "            print(e)\n",
        "\n",
        "        plt.close()\n",
        "\n",
        "\n",
        "def exportToMesh(history, dir):\n",
        "    \"\"\"\n",
        "    Exporting each timepoint to mesh\n",
        "    :param history:\n",
        "    :param dir:\n",
        "    :return:\n",
        "    \"\"\"\n",
        "\n",
        "    # Replace the loop that uses 'browse' with this manual approach\n",
        "    for i, t in enumerate(np.linspace(0, history.time, len(history.time_stamps))):\n",
        "        try:\n",
        "            # Manually retrieve each sheet for the corresponding time step\n",
        "            sheet = history.retrieve(int(t))  # retrieve from history at time 't'\n",
        "\n",
        "            # Save the split cells data using the provided function\n",
        "            obj.save_splitted_cells(dir + f'/junctions_{int(t)}.obj', sheet, epsilon=0.001)\n",
        "\n",
        "        except Exception as e:\n",
        "            print(f\"Error at time {t}: {e}\")"
      ],
      "metadata": {
        "id": "jfBm0QmpQh2a"
      },
      "id": "jfBm0QmpQh2a",
      "execution_count": null,
      "outputs": []
    },
    {
      "cell_type": "markdown",
      "source": [
        "# Brownian motion"
      ],
      "metadata": {
        "id": "CS8Unn8OQwgJ"
      },
      "id": "CS8Unn8OQwgJ"
    },
    {
      "cell_type": "code",
      "source": [
        "import numpy as np\n",
        "import pandas as pd\n",
        "from tyssue.dynamics import effectors\n",
        "\n",
        "\n",
        "# Adding some gigling\n",
        "class BrownianMotion(effectors.AbstractEffector):\n",
        "\n",
        "    label = 'Brownian Motion'\n",
        "    element = 'vert'\n",
        "    specs = {\"settings\": {\"temperature\": 1e-3}}\n",
        "\n",
        "    def energy(eptm):\n",
        "        T = eptm.settings['temperature']\n",
        "        return np.ones(eptm.Nv) * T / eptm.Nv\n",
        "\n",
        "    def gradient(eptm):\n",
        "        T = eptm.settings['temperature']\n",
        "        scale = T/eptm.edge_df.length.mean()\n",
        "\n",
        "        grad = pd.DataFrame(\n",
        "            data=np.random.normal(0, scale=scale, size=(eptm.Nv, eptm.dim)),\n",
        "            index=eptm.vert_df.index,\n",
        "            columns=['g'+c for c in eptm.coords]\n",
        "        )\n",
        "        return grad, None"
      ],
      "metadata": {
        "id": "51lrudDEQ_Qa"
      },
      "id": "51lrudDEQ_Qa",
      "execution_count": null,
      "outputs": []
    },
    {
      "cell_type": "markdown",
      "source": [
        "# Vertex model"
      ],
      "metadata": {
        "id": "WZExyf-FQ7mR"
      },
      "id": "WZExyf-FQ7mR"
    },
    {
      "cell_type": "code",
      "source": [
        "import copy\n",
        "\n",
        "from tyssue import PlanarGeometry, Sheet, History\n",
        "from tyssue.behaviors import EventManager\n",
        "from tyssue.draw import sheet_view\n",
        "from tyssue.dynamics import effectors, model_factory\n",
        "from tyssue.solvers.viscous import EulerSolver\n",
        "\n",
        "def initialize():\n",
        "    \"\"\"\n",
        "    Initialize the model\n",
        "    :return:\n",
        "    \"\"\"\n",
        "    ## Defining energy contributions\n",
        "    # https://tyssue.readthedocs.io/en/latest/_modules/tyssue/dynamics/effectors.html\n",
        "    energyContributions_model = model_factory([\n",
        "        BrownianMotion,\n",
        "        effectors.FaceAreaElasticity,\n",
        "        effectors.LineTension,\n",
        "        # effectors.LengthElasticity,\n",
        "        effectors.PerimeterElasticity,\n",
        "        # effectors.CellAreaElasticity,\n",
        "        # effectors.FaceContractility,\n",
        "        # effectors.BarrierElasticity\n",
        "        # effectors.LineViscosity\n",
        "        # effectors.BorderElasticity\n",
        "    ])\n",
        "\n",
        "    ## Size of the patch\n",
        "    numCellRows = 40\n",
        "    noiseCellShape = 0.2\n",
        "\n",
        "    # noise = 0 -> hexagonal pattern\n",
        "    # noise = 1 -> random voronoi\n",
        "    cellMap = Sheet.planar_sheet_2d('tissue',\n",
        "                                    nx=numCellRows,  # approximate number of cells on the x axis\n",
        "                                    ny=numCellRows,  # approximate number of cells along the y axis\n",
        "                                    distx=1,  # distance between 2 cells along x\n",
        "                                    disty=1,  # distance between 2 cells along y\n",
        "                                    noise=noiseCellShape)\n",
        "\n",
        "    try:\n",
        "        cellMap.remove(cellMap.cut_out([[1, numCellRows], [1, numCellRows]]), trim_borders=True)\n",
        "    except:\n",
        "        cellMap.sanitize(trim_borders=True, order_edges=True)\n",
        "    cellMap.reset_index()\n",
        "    cellMap.reset_topo()\n",
        "\n",
        "    # Definition of the geometry of the sheet\n",
        "    # PlanarGeometry: Geometry methods for 2D planar cell arangements\n",
        "    # SheetGeometry: Geometry definitions for 2D sheets in 3D\n",
        "    # BulkGeometry: Geometry functions for 3D cell arangements\n",
        "    geom = PlanarGeometry\n",
        "\n",
        "    # Update geometry with the patch\n",
        "    geom.update_all(cellMap)\n",
        "\n",
        "    # Visualize the sheet\n",
        "    fig, ax = sheet_view(cellMap, mode=\"quick\")\n",
        "\n",
        "    ## Connect cells with energy contributions\n",
        "    cellMap.update_specs(energyContributions_model.specs)\n",
        "\n",
        "    return [cellMap, geom, energyContributions_model]\n",
        "\n",
        "\n",
        "def on_topo_change(sheet):\n",
        "    \"\"\"\n",
        "\n",
        "    :param sheet:\n",
        "    :return:\n",
        "    \"\"\"\n",
        "    print('Topology changed!')\n",
        "\n",
        "\n",
        "def solveEuler(cellMap, geom, energyContributions_model, endTime):\n",
        "    \"\"\"\n",
        "\n",
        "    :param cellMap:\n",
        "    :param geom:\n",
        "    :param energyContributions_model:\n",
        "    :param endTime:\n",
        "    :return:\n",
        "    \"\"\"\n",
        "    ## Init history object\n",
        "    # The History object records all the time steps\n",
        "    history_cellMap = History(cellMap)\n",
        "\n",
        "    ## Manager Initialization\n",
        "    manager = EventManager(\"face\", )\n",
        "    # manager.append(basic_events.auto_reconnect)\n",
        "\n",
        "    ## Init solver\n",
        "    solver1 = EulerSolver(cellMap,\n",
        "                          geom,\n",
        "                          energyContributions_model,\n",
        "                          manager=manager,\n",
        "                          bounds=(\n",
        "                              -cellMap.edge_df.length.median() / 10,\n",
        "                              cellMap.edge_df.length.median() / 10\n",
        "                          ),\n",
        "                          history=history_cellMap,\n",
        "                          auto_reconnect=True)\n",
        "\n",
        "    manager.update()\n",
        "\n",
        "    ## Run the solver\n",
        "    res1 = solver1.solve(tf=endTime, dt=1, on_topo_change=on_topo_change,\n",
        "                         topo_change_args=(solver1.eptm,))\n",
        "\n",
        "    ## Deep copy to return it and being able to modify maintaining the previous one\n",
        "    cellMap_new = copy.deepcopy(cellMap)\n",
        "    history_new = copy.deepcopy(history_cellMap)\n",
        "\n",
        "    return [cellMap_new, geom, energyContributions_model, history_new]\n",
        "\n",
        "\n",
        "def solveStepByStep(cellMap, geom, energyContributions_model, endTime):\n",
        "    \"\"\"\n",
        "\n",
        "    :param cellMap:\n",
        "    :param geom:\n",
        "    :param energyContributions_model:\n",
        "    :param endTime:\n",
        "    :return:\n",
        "    \"\"\"\n",
        "    ## Init history object\n",
        "    # The History object records all the time steps\n",
        "    history_cellMap = History(cellMap)\n",
        "\n",
        "    ## Manager Initialization\n",
        "    manager = EventManager(\"manager\", )\n",
        "\n",
        "    ## Find the minima in different timeSteps:\n",
        "    # https://tyssue.readthedocs.io/en/latest/notebooks/07-EventManager.html\n",
        "    t = 0\n",
        "\n",
        "    history_cellMap = history_cellMap(cellMap)\n",
        "\n",
        "    while manager.current and t < endTime:\n",
        "        # Execute the event in the current list\n",
        "        manager.execute(cellMap)\n",
        "        t += 1\n",
        "        cellMap.reset_index(order=True)\n",
        "        # Find energy min\n",
        "        res = solver.resolve_t1s(cellMap, geom, energyContributions_model)\n",
        "        history_cellMap.record()\n",
        "        # Switch event list from the next list to the current list\n",
        "        manager.update()\n",
        "\n",
        "    ## Deep copy to return it and being able to modify maintaining the previous one\n",
        "    cellMap_new = copy.deepcopy(cellMap)\n",
        "    history_new = copy.deepcopy(history_cellMap)\n",
        "\n",
        "    return [cellMap_new, geom, energyContributions_model, history_new]\n"
      ],
      "metadata": {
        "id": "COXs8V1GQ-Fp",
        "outputId": "74b1684c-44b2-4637-9345-88c23befdc66",
        "colab": {
          "base_uri": "https://localhost:8080/"
        }
      },
      "id": "COXs8V1GQ-Fp",
      "execution_count": null,
      "outputs": [
        {
          "output_type": "stream",
          "name": "stdout",
          "text": [
            "collision solver could not be imported You may need to install CGAL and re-install tyssue\n"
          ]
        }
      ]
    },
    {
      "cell_type": "markdown",
      "source": [
        "# Mechanical parameters"
      ],
      "metadata": {
        "id": "p-H6OP_eQy4Z"
      },
      "id": "p-H6OP_eQy4Z"
    },
    {
      "cell_type": "code",
      "source": [
        "def update(cellmap):\n",
        "    \"\"\"\n",
        "\n",
        "    :param cellmap:\n",
        "    :return:\n",
        "    \"\"\"\n",
        "    # Per sheet:\n",
        "    cellmap.settings[\"temperature\"] = 10\n",
        "    # Stochastically detaches vertices from rosettes.\n",
        "    # Uses two probabilities `p_4` and `p_5p`\n",
        "    cellmap.settings[\"p_4\"] = 10\n",
        "    cellmap.settings[\"p_5p\"] = 0.1\n",
        "    cellmap.settings[\"threshold_length\"] = 2e-2\n",
        "\n",
        "    # Per cell:\n",
        "\n",
        "    # Per face:\n",
        "    cellmap.face_df[\"area_elasticity\"] = 50\n",
        "    cellmap.face_df[\"prefered_area\"] = cellmap.face_df[\"area\"].mean() * 1.1\n",
        "\n",
        "    cellmap.face_df[\"perimeter\"] = 1\n",
        "    cellmap.face_df[\"perimeter_elasticity\"] = 10\n",
        "    cellmap.face_df[\"prefered_perimeter\"] = 3.81\n",
        "\n",
        "    # Per edge:\n",
        "    rangeLineTension = 0\n",
        "\n",
        "    if rangeLineTension:\n",
        "        lower_line_tension = 0.1\n",
        "        higher_line_tension = 1\n",
        "        cellmap = line_tension_range(cellmap, lower_line_tension, higher_line_tension)\n",
        "    else:\n",
        "        cellmap.edge_df[\"line_tension\"] = 0.1\n",
        "\n",
        "    # Per vertex:\n",
        "    cellmap.vert_df[\"viscosity\"] = 1\n",
        "\n",
        "    return cellmap\n"
      ],
      "metadata": {
        "id": "4kcuqZsQQ-lR"
      },
      "id": "4kcuqZsQQ-lR",
      "execution_count": null,
      "outputs": []
    },
    {
      "cell_type": "markdown",
      "source": [
        "# Main"
      ],
      "metadata": {
        "id": "Oxkot99_Qr5g"
      },
      "id": "Oxkot99_Qr5g"
    },
    {
      "cell_type": "code",
      "execution_count": null,
      "id": "8d0dae41-39fe-494b-a67b-c2029d9705a0",
      "metadata": {
        "id": "8d0dae41-39fe-494b-a67b-c2029d9705a0"
      },
      "outputs": [],
      "source": [
        "import warnings\n",
        "warnings.simplefilter(action='ignore', category=FutureWarning)\n",
        "\n",
        "from tyssue.draw import sheet_view"
      ]
    },
    {
      "cell_type": "code",
      "execution_count": null,
      "id": "5f29f35f-ef29-4b15-ad99-260d0a92c31c",
      "metadata": {
        "id": "5f29f35f-ef29-4b15-ad99-260d0a92c31c"
      },
      "outputs": [],
      "source": [
        "# Initialize Model\n",
        "[cellmap_init, geom, energyContributions_model] = initialize()\n",
        "\n",
        "# Update mechanical parameters\n",
        "cellmap_init = update(cellmap_init)\n",
        "\n",
        "# Initial stage\n",
        "energyContributions_model.compute_energy(cellmap_init)"
      ]
    },
    {
      "cell_type": "code",
      "execution_count": null,
      "id": "c82b11cb-b2f1-4f5f-80e4-f374842cf6be",
      "metadata": {
        "id": "c82b11cb-b2f1-4f5f-80e4-f374842cf6be"
      },
      "outputs": [],
      "source": [
        "# RUN\n",
        "[cellmap_H, geom, model_H, history_H] = solveEuler(cellmap_init, geom, energyContributions_model, endTime = 100)"
      ]
    },
    {
      "cell_type": "code",
      "execution_count": null,
      "id": "c8f6d114-3658-4a70-923f-d2dd76a323eb",
      "metadata": {
        "id": "c8f6d114-3658-4a70-923f-d2dd76a323eb"
      },
      "outputs": [],
      "source": [
        "cellmap_H.edge_df[\"color_edges\"] = cellmap_H.edge_df['length']/(max(cellmap_H.edge_df['length']))\n",
        "cellmap_H.face_df[\"color_edges\"] = cellmap_H.face_df['area']/(max(cellmap_H.face_df['area']))\n",
        "\n",
        "## https://tyssue.readthedocs.io/en/latest/notebooks/02-Visualization.html\n",
        "specs = {\n",
        "    'face': {\n",
        "        'visible': True,\n",
        "        'color': cellmap_H.face_df[\"color_edges\"],\n",
        "    },\n",
        "    'edge': {\n",
        "        'visible': True,\n",
        "        'color': cellmap_H.edge_df[\"color_edges\"],\n",
        "        'colormap':'Greys',\n",
        "        'width': 1,\n",
        "    },\n",
        "    'vert': {\n",
        "        'visible': True,\n",
        "        's': 5,\n",
        "    }\n",
        "}\n",
        "fig, ax = sheet_view(cellmap_H, **specs)\n",
        "energyContributions_model.compute_energy(cellmap_init)"
      ]
    },
    {
      "cell_type": "code",
      "source": [
        "# Create a movie\n",
        "!rm -rf movie\n",
        "!mkdir -p movie\n",
        "create_frames(history_H, 'movie/', edge={'color':'black'})"
      ],
      "metadata": {
        "id": "UsLUqszL6e3D"
      },
      "id": "UsLUqszL6e3D",
      "execution_count": null,
      "outputs": []
    }
  ],
  "metadata": {
    "colab": {
      "provenance": [],
      "collapsed_sections": [
        "4l4AwQ1JRSRD",
        "1sbtbParQkhB",
        "CS8Unn8OQwgJ",
        "WZExyf-FQ7mR",
        "p-H6OP_eQy4Z"
      ],
      "include_colab_link": true
    },
    "kernelspec": {
      "display_name": "Python 3 (ipykernel)",
      "language": "python",
      "name": "python3"
    },
    "language_info": {
      "codemirror_mode": {
        "name": "ipython",
        "version": 3
      },
      "file_extension": ".py",
      "mimetype": "text/x-python",
      "name": "python",
      "nbconvert_exporter": "python",
      "pygments_lexer": "ipython3",
      "version": "3.12.0"
    }
  },
  "nbformat": 4,
  "nbformat_minor": 5
}