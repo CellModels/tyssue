{
 "cells": [
  {
   "cell_type": "code",
   "execution_count": 1,
   "metadata": {
    "collapsed": false
   },
   "outputs": [],
   "source": [
    "\n",
    "%load_ext autoreload\n",
    "%autoreload 2\n",
    "\n",
    "#import tyssue\n",
    "import sys\n",
    "sys.path.append('/home/guillaume/Python/tyssue/src/py-tyssue/')\n",
    "\n",
    "import numpy as np\n",
    "import pandas as pd\n",
    "\n",
    "import matplotlib.pylab as plt\n",
    "%matplotlib inline\n",
    "\n",
    "import tyssue as ty\n",
    "from tyssue.core import Cell, JunctionEdge, JunctionVertex\n",
    "from tyssue.core.sheet import Sheet\n",
    "from tyssue.core.generation import three_cells_sheet\n",
    "from tyssue.geometry import sheet_geometry as geom"
   ]
  },
  {
   "cell_type": "code",
   "execution_count": 2,
   "metadata": {
    "collapsed": false
   },
   "outputs": [
    {
     "name": "stdout",
     "output_type": "stream",
     "text": [
      "Automatic pdb calling has been turned ON\n"
     ]
    }
   ],
   "source": [
    "%pdb"
   ]
  },
  {
   "cell_type": "code",
   "execution_count": 3,
   "metadata": {
    "collapsed": false
   },
   "outputs": [
    {
     "name": "stdout",
     "output_type": "stream",
     "text": [
      "Int64Index([0, 1, 2, 3, 4, 5], dtype='int64', name='srce')\n"
     ]
    }
   ],
   "source": [
    "datasets = three_cells_sheet(zaxis=True)\n",
    "sheet = Sheet('3cells_2D', datasets)\n",
    "cell = Cell(sheet, 0)\n",
    "jv = JunctionVertex(sheet, 0)\n",
    "je = JunctionEdge(sheet, (0, 1, 0))\n",
    "print(cell.jv_orbit())\n",
    "\n",
    "geom.set_geometry_columns(sheet)\n",
    "\n",
    "geom.update_all(sheet)"
   ]
  },
  {
   "cell_type": "code",
   "execution_count": 4,
   "metadata": {
    "collapsed": false
   },
   "outputs": [
    {
     "data": {
      "text/html": [
       "<div>\n",
       "<table border=\"1\" class=\"dataframe\">\n",
       "  <thead>\n",
       "    <tr style=\"text-align: right;\">\n",
       "      <th></th>\n",
       "      <th>z</th>\n",
       "      <th>x</th>\n",
       "      <th>is_active</th>\n",
       "      <th>y</th>\n",
       "      <th>basal_shift</th>\n",
       "      <th>rho</th>\n",
       "      <th>height</th>\n",
       "    </tr>\n",
       "  </thead>\n",
       "  <tbody>\n",
       "    <tr>\n",
       "      <th>count</th>\n",
       "      <td>13</td>\n",
       "      <td>13.000000</td>\n",
       "      <td>13</td>\n",
       "      <td>1.300000e+01</td>\n",
       "      <td>13</td>\n",
       "      <td>13.000000</td>\n",
       "      <td>13.000000</td>\n",
       "    </tr>\n",
       "    <tr>\n",
       "      <th>mean</th>\n",
       "      <td>0</td>\n",
       "      <td>0.000000</td>\n",
       "      <td>1</td>\n",
       "      <td>-8.540177e-18</td>\n",
       "      <td>4</td>\n",
       "      <td>1.491694</td>\n",
       "      <td>5.491694</td>\n",
       "    </tr>\n",
       "    <tr>\n",
       "      <th>std</th>\n",
       "      <td>0</td>\n",
       "      <td>1.172604</td>\n",
       "      <td>0</td>\n",
       "      <td>1.172570e+00</td>\n",
       "      <td>0</td>\n",
       "      <td>0.582529</td>\n",
       "      <td>0.582529</td>\n",
       "    </tr>\n",
       "  </tbody>\n",
       "</table>\n",
       "</div>"
      ],
      "text/plain": [
       "        z          x  is_active             y  basal_shift        rho  \\\n",
       "count  13  13.000000         13  1.300000e+01           13  13.000000   \n",
       "mean    0   0.000000          1 -8.540177e-18            4   1.491694   \n",
       "std     0   1.172604          0  1.172570e+00            0   0.582529   \n",
       "\n",
       "          height  \n",
       "count  13.000000  \n",
       "mean    5.491694  \n",
       "std     0.582529  "
      ]
     },
     "execution_count": 4,
     "metadata": {},
     "output_type": "execute_result"
    }
   ],
   "source": [
    "sheet.jv_df.describe().head(3)"
   ]
  },
  {
   "cell_type": "markdown",
   "metadata": {},
   "source": [
    "## Matplotlib based representation\n",
    "\n",
    "### Custom settings\n",
    "\n",
    "These might go in a config file latter on."
   ]
  },
  {
   "cell_type": "code",
   "execution_count": null,
   "metadata": {
    "collapsed": true
   },
   "outputs": [],
   "source": []
  },
  {
   "cell_type": "markdown",
   "metadata": {},
   "source": [
    "#### Ploting itself"
   ]
  },
  {
   "cell_type": "code",
   "execution_count": 5,
   "metadata": {
    "collapsed": false
   },
   "outputs": [
    {
     "name": "stderr",
     "output_type": "stream",
     "text": [
      "/home/guillaume/anaconda/envs/tyssue/lib/python3.4/site-packages/matplotlib/__init__.py:872: UserWarning: axes.color_cycle is deprecated and replaced with axes.prop_cycle; please use the latter.\n",
      "  warnings.warn(self.msg_depr % (key, alt_key))\n"
     ]
    }
   ],
   "source": [
    "import seaborn as sns"
   ]
  },
  {
   "cell_type": "markdown",
   "metadata": {},
   "source": [
    "## Epithelial sheet representation\n",
    "\n",
    "\n",
    "### The  default"
   ]
  },
  {
   "cell_type": "code",
   "execution_count": 6,
   "metadata": {
    "collapsed": false
   },
   "outputs": [],
   "source": [
    "from tyssue.draw.mpl_draw import sheet_view, default_draw_specs"
   ]
  },
  {
   "cell_type": "code",
   "execution_count": 17,
   "metadata": {
    "collapsed": false
   },
   "outputs": [
    {
     "data": {
      "image/png": "[encoded data removed]",
      "text/plain": [
       "<matplotlib.figure.Figure at 0x7f5a89a8ce48>"
      ]
     },
     "metadata": {},
     "output_type": "display_data"
    }
   ],
   "source": [
    "fig, ax = sheet_view(sheet, ['x', 'y'], draw_specs=default_draw_specs)\n",
    "\n",
    "\n",
    "ax.set_xlim(-3, 2.5)\n",
    "ax.set_ylim(-2.75, 2.75)\n",
    "fig.set_size_inches((8, 8))\n",
    "    \n"
   ]
  },
  {
   "cell_type": "markdown",
   "metadata": {},
   "source": [
    "#### Coloring"
   ]
  },
  {
   "cell_type": "code",
   "execution_count": 10,
   "metadata": {
    "collapsed": false
   },
   "outputs": [],
   "source": [
    "polys = sheet.cell_polygons(['x', 'y'])"
   ]
  },
  {
   "cell_type": "code",
   "execution_count": 12,
   "metadata": {
    "collapsed": false
   },
   "outputs": [],
   "source": [
    "grp = polys.groupby(level='cell')"
   ]
  },
  {
   "cell_type": "code",
   "execution_count": 13,
   "metadata": {
    "collapsed": false
   },
   "outputs": [
    {
     "name": "stdout",
     "output_type": "stream",
     "text": [
      "(0,              x      y\n",
      "cell srce            \n",
      "0    0     0.0  0.000\n",
      "     1     1.0  0.000\n",
      "     2     1.5  0.866\n",
      "     3     1.0  1.732\n",
      "     4     0.0  1.732\n",
      "     5    -0.5  0.866)\n",
      "(1,              x      y\n",
      "cell srce            \n",
      "1    0     0.0  0.000\n",
      "     5    -0.5  0.866\n",
      "     6    -1.5  0.866\n",
      "     7    -2.0  0.000\n",
      "     8    -1.5 -0.866\n",
      "     9    -0.5 -0.866)\n",
      "(2,              x      y\n",
      "cell srce            \n",
      "2    0     0.0  0.000\n",
      "     9    -0.5 -0.866\n",
      "     10    0.0 -1.732\n",
      "     11    1.0 -1.732\n",
      "     12    1.5 -0.866\n",
      "     1     1.0  0.000)\n"
     ]
    }
   ],
   "source": [
    "for g in grp.\n",
    "    print(g)"
   ]
  },
  {
   "cell_type": "code",
   "execution_count": null,
   "metadata": {
    "collapsed": false
   },
   "outputs": [],
   "source": [
    "new_pt_style = points_style.copy()\n",
    "\n",
    "## Let's add a column to sheet.jv_df\n",
    "sheet.jv_df['rand'] = np.random.normal(loc=0.5, scale=0.4, \n",
    "                                      size=sheet.jv_df.shape[0])\n",
    "\n",
    "cmap = plt.cm.get_cmap('viridis')\n",
    "color_cmap = cmap(sheet.jv_df.rand)\n",
    "\n",
    "new_pt_style['color'] = color_cmap\n",
    "new_pt_style['alpha'] = 1\n",
    "new_pt_style['s'] = 200\n",
    "\n",
    "### TODO: doing the same to change the edge's style is less\n",
    "### trivial, as you have to cycle through the color sequence\n",
    "### within the `for e in eptm.je_idx` loop...\n",
    "### should look into matplotlib patch collections"
   ]
  },
  {
   "cell_type": "code",
   "execution_count": null,
   "metadata": {
    "collapsed": false
   },
   "outputs": [],
   "source": [
    "fig, ax = sheet_view(sheet, coords, edge_arrow_style, new_pt_style)\n",
    "\n",
    "ax.set_xlim(-3, 2.5)\n",
    "ax.set_ylim(-2.75, 2.75)\n",
    "fig.set_size_inches((8, 8))"
   ]
  },
  {
   "cell_type": "markdown",
   "metadata": {},
   "source": [
    "#### Filling the cells\n",
    "\n"
   ]
  },
  {
   "cell_type": "code",
   "execution_count": 34,
   "metadata": {
    "collapsed": false
   },
   "outputs": [],
   "source": [
    "polys = sheet.je_df.groupby(level='cell')"
   ]
  },
  {
   "cell_type": "code",
   "execution_count": 52,
   "metadata": {
    "collapsed": false
   },
   "outputs": [
    {
     "data": {
      "text/html": [
       "<div>\n",
       "<table border=\"1\" class=\"dataframe\">\n",
       "  <thead>\n",
       "    <tr style=\"text-align: right;\">\n",
       "      <th></th>\n",
       "      <th>x</th>\n",
       "      <th>y</th>\n",
       "    </tr>\n",
       "    <tr>\n",
       "      <th>srce</th>\n",
       "      <th></th>\n",
       "      <th></th>\n",
       "    </tr>\n",
       "  </thead>\n",
       "  <tbody>\n",
       "    <tr>\n",
       "      <th>0</th>\n",
       "      <td>0.0</td>\n",
       "      <td>0.000</td>\n",
       "    </tr>\n",
       "    <tr>\n",
       "      <th>9</th>\n",
       "      <td>-0.5</td>\n",
       "      <td>-0.866</td>\n",
       "    </tr>\n",
       "    <tr>\n",
       "      <th>10</th>\n",
       "      <td>0.0</td>\n",
       "      <td>-1.732</td>\n",
       "    </tr>\n",
       "    <tr>\n",
       "      <th>11</th>\n",
       "      <td>1.0</td>\n",
       "      <td>-1.732</td>\n",
       "    </tr>\n",
       "    <tr>\n",
       "      <th>12</th>\n",
       "      <td>1.5</td>\n",
       "      <td>-0.866</td>\n",
       "    </tr>\n",
       "    <tr>\n",
       "      <th>1</th>\n",
       "      <td>1.0</td>\n",
       "      <td>0.000</td>\n",
       "    </tr>\n",
       "  </tbody>\n",
       "</table>\n",
       "</div>"
      ],
      "text/plain": [
       "        x      y\n",
       "srce            \n",
       "0     0.0  0.000\n",
       "9    -0.5 -0.866\n",
       "10    0.0 -1.732\n",
       "11    1.0 -1.732\n",
       "12    1.5 -0.866\n",
       "1     1.0  0.000"
      ]
     },
     "execution_count": 52,
     "metadata": {},
     "output_type": "execute_result"
    }
   ],
   "source": [
    "poly\n"
   ]
  },
  {
   "cell_type": "code",
   "execution_count": 29,
   "metadata": {
    "collapsed": false
   },
   "outputs": [
    {
     "data": {
      "image/png": "[encoded data removed]",
      "text/plain": [
       "<matplotlib.figure.Figure at 0x7ff29b61ad68>"
      ]
     },
     "execution_count": 29,
     "metadata": {},
     "output_type": "execute_result"
    }
   ],
   "source": [
    "from matplotlib.patches import Polygon\n",
    "\n",
    "coords = ['x', 'y']\n",
    "x, y = coords\n",
    "\n",
    "cell_colors = None\n",
    "alphas = None\n",
    "    \n",
    "    \n",
    "fig"
   ]
  },
  {
   "cell_type": "markdown",
   "metadata": {},
   "source": [
    "### Vispy based\n"
   ]
  },
  {
   "cell_type": "code",
   "execution_count": 9,
   "metadata": {
    "collapsed": false
   },
   "outputs": [],
   "source": [
    "coords = ['x', 'y', 'z']\n",
    "eptm.jv_df['z'] = 1.\n",
    "geom.update_all(eptm)\n",
    "\n",
    "vertices, faces, cell_mask = eptm.triangular_mesh(coords)"
   ]
  },
  {
   "cell_type": "code",
   "execution_count": 10,
   "metadata": {
    "collapsed": false
   },
   "outputs": [
    {
     "name": "stdout",
     "output_type": "stream",
     "text": [
      "VisPy version: 0.5.0.dev0\n",
      "Python version: 3.4.3 |Anaconda 2.3.0 (64-bit)| (default, Jun  4 2015, 15:29:08) \n",
      "[GCC 4.4.7 20120313 (Red Hat 4.4.7-1)]\n",
      "Jupyter version: 4.0.0\n"
     ]
    },
    {
     "name": "stderr",
     "output_type": "stream",
     "text": [
      "/home/guillaume/anaconda/envs/python3/lib/python3.4/site-packages/IPython/html.py:14: ShimWarning: The `IPython.html` package has been deprecated. You should import from `notebook` instead. `IPython.html.widgets` has moved to `ipywidgets`.\n",
      "  \"`IPython.html.widgets` has moved to `ipywidgets`.\", ShimWarning)\n",
      "/home/guillaume/anaconda/envs/python3/lib/python3.4/site-packages/IPython/utils/traitlets.py:5: UserWarning: IPython.utils.traitlets has moved to a top-level traitlets package.\n",
      "  warn(\"IPython.utils.traitlets has moved to a top-level traitlets package.\")\n"
     ]
    }
   ],
   "source": [
    "import vispy as vp\n",
    "import sys\n",
    "import IPython\n",
    "\n",
    "from IPython import display\n",
    "\n",
    "from vispy import app, gloo, visuals, scene\n",
    "from vispy.geometry import MeshData\n",
    "#from vispy import plot\n",
    "#vp.use('PyQt4')\n",
    "\n",
    "from vispy.app.backends.ipython import VispyWidget\n",
    "\n",
    "print('VisPy version: {}'.format(vp.__version__))\n",
    "\n",
    "\n",
    "print('Python version: {}'.format(sys.version))\n",
    "print('Jupyter version: {}'.format(IPython.__version__))"
   ]
  },
  {
   "cell_type": "code",
   "execution_count": 11,
   "metadata": {
    "collapsed": true
   },
   "outputs": [],
   "source": [
    "cell_color = vp.color.ColorArray(cell_style['color'], alpha=0.8)"
   ]
  },
  {
   "cell_type": "code",
   "execution_count": 15,
   "metadata": {
    "collapsed": false
   },
   "outputs": [
    {
     "name": "stdout",
     "output_type": "stream",
     "text": [
      "before_apoptosis.hf5  Import data from leg-joint.ipynb\tnb_init.py\r\n"
     ]
    }
   ],
   "source": [
    "!ls ../leg_joint\\ import"
   ]
  },
  {
   "cell_type": "markdown",
   "metadata": {},
   "source": [
    "Hi,\n",
    "\n",
    "Thank you for making vispy, \n",
    "\n",
    "\n",
    "\n",
    "The `_user_to_rgba` function does not accept `np.ndarray` or any other sequence that can pass through `np.asarray()`.\n",
    "\n",
    "Is there a good reason for this?\n",
    "\n",
    "Here is the (https://github.com/vispy/vispy/blob/master/vispy/color/color_array.py#L49)[relevant code]\n",
    "```python\n",
    "_user_to_rgba(color, expand=True, clip=False):\n",
    "...\n",
    "    elif isinstance(color, (list, tuple)):\n",
    "        if any(isinstance(c, string_types) for c in color):\n",
    "            color = [_user_to_rgba(c, expand=expand, clip=clip) for c in color]\n",
    "            if any(len(c) > 1 for c in color):\n",
    "                raise RuntimeError('could not parse colors, are they nested?')\n",
    "            color = [c[0] for c in color]\n",
    "```\n",
    "\n",
    "one could add bellow those lines:\n",
    "\n",
    "```python\n",
    "   \n",
    "```"
   ]
  },
  {
   "cell_type": "code",
   "execution_count": null,
   "metadata": {
    "collapsed": true
   },
   "outputs": [],
   "source": [
    "with pd.get_store('../leg_joint import/before_apoptosis.hf5') as store:\n",
    "    cell_df = store.get('cell_df')\n",
    "    jv_df = store.get('jv_df')\n",
    "    je_df = store.get('je_df')\n",
    "    \n",
    "eptm = Epithelium('before', cell_df, jv_df, je_df)\n",
    "vertices, faces, cell_mask = eptm.triangular_mesh(coords)"
   ]
  },
  {
   "cell_type": "code",
   "execution_count": 23,
   "metadata": {
    "collapsed": false,
    "scrolled": true
   },
   "outputs": [
    {
     "data": {
      "text/plain": [
       "0"
      ]
     },
     "execution_count": 23,
     "metadata": {},
     "output_type": "execute_result"
    }
   ],
   "source": [
    "\n",
    "canvas = scene.SceneCanvas(keys='interactive', show=True)\n",
    "\n",
    "grid = canvas.central_widget.add_grid()\n",
    "view = grid.add_view(0, 1)\n",
    "#view = canvas.central_widget.add_view()\n",
    "view.camera =  'turntable'\n",
    "view.camera.aspect = 1\n",
    "\n",
    "cell_color = vp.color.ColorArray(cell_style['color'], alpha=0.5)\n",
    "cell_color = cell_color.rgba.repeat(eptm.Nf, axis=0)\n",
    "\n",
    "edge_color = vp.color.ColorArray(edge_arrow_style['color'], alpha=1)\n",
    "\n",
    "view.bgcolor = vp.color.Color('#ffffff')\n",
    "\n",
    "\n",
    "mesh = vp.scene.visuals.Mesh(vertices=vertices,\n",
    "                             faces=faces,\n",
    "                             face_colors=cell_color)\n",
    "\n",
    "wire_pos = vertices[eptm.Nc:].copy()\n",
    "wire_pos[:, 2] += 0.1\n",
    "\n",
    "wire = vp.scene.visuals.Line(pos=wire_pos, \n",
    "                             connect=faces[:, :2]-eptm.Nc,\n",
    "                             color=edge_color,\n",
    "                             width=20)\n",
    "\n",
    "view.add(mesh)\n",
    "view.add(wire)\n",
    "view.camera.set_range()\n",
    "canvas.show()\n",
    "\n",
    "#vp_widget = VispyWidget()\n",
    "#vp_widget.set_canvas(canvas)\n",
    "\n",
    "\n",
    "\n",
    "app.run()"
   ]
  },
  {
   "cell_type": "code",
   "execution_count": null,
   "metadata": {
    "collapsed": true
   },
   "outputs": [],
   "source": []
  },
  {
   "cell_type": "code",
   "execution_count": null,
   "metadata": {
    "collapsed": true
   },
   "outputs": [],
   "source": []
  }
 ],
 "metadata": {
  "kernelspec": {
   "display_name": "Python 3",
   "language": "python",
   "name": "python3"
  },
  "language_info": {
   "codemirror_mode": {
    "name": "ipython",
    "version": 3
   },
   "file_extension": ".py",
   "mimetype": "text/x-python",
   "name": "python",
   "nbconvert_exporter": "python",
   "pygments_lexer": "ipython3",
   "version": "3.5.1"
  }
 },
 "nbformat": 4,
 "nbformat_minor": 0
}
