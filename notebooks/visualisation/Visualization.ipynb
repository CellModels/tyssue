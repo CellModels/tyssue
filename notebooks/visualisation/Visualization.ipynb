{
 "cells": [
  {
   "cell_type": "code",
   "execution_count": 1,
   "metadata": {
    "collapsed": false
   },
   "outputs": [
    {
     "name": "stderr",
     "output_type": "stream",
     "text": [
      "/home/guillaume/anaconda/envs/tyssue/lib/python3.4/site-packages/matplotlib/__init__.py:872: UserWarning: axes.color_cycle is deprecated and replaced with axes.prop_cycle; please use the latter.\n",
      "  warnings.warn(self.msg_depr % (key, alt_key))\n"
     ]
    }
   ],
   "source": [
    "\n",
    "%load_ext autoreload\n",
    "%autoreload 2\n",
    "\n",
    "import tyssue\n",
    "\n",
    "import numpy as np\n",
    "import pandas as pd\n",
    "\n",
    "import matplotlib.pylab as plt\n",
    "import seaborn as sns\n",
    "%matplotlib inline\n",
    "\n",
    "import tyssue as ty\n",
    "\n",
    "from tyssue.core.sheet import Sheet\n",
    "from tyssue.core.generation import three_faces_sheet\n",
    "from tyssue.geometry.sheet_geometry import SheetGeometry  as geom\n",
    "from tyssue.draw.mpl_draw import sheet_view\n",
    "from tyssue.config import load_default"
   ]
  },
  {
   "cell_type": "code",
   "execution_count": 2,
   "metadata": {
    "collapsed": false
   },
   "outputs": [
    {
     "name": "stdout",
     "output_type": "stream",
     "text": [
      "Automatic pdb calling has been turned ON\n"
     ]
    }
   ],
   "source": [
    "%pdb"
   ]
  },
  {
   "cell_type": "code",
   "execution_count": 3,
   "metadata": {
    "collapsed": false
   },
   "outputs": [],
   "source": [
    "\n",
    "datasets, specs = three_faces_sheet()\n",
    "sheet = Sheet('3cells_2D', datasets, specs)\n",
    "\n",
    "\n",
    "geom.update_all(sheet)"
   ]
  },
  {
   "cell_type": "code",
   "execution_count": 4,
   "metadata": {
    "collapsed": false
   },
   "outputs": [
    {
     "data": {
      "text/html": [
       "<div>\n",
       "<table border=\"1\" class=\"dataframe\">\n",
       "  <thead>\n",
       "    <tr style=\"text-align: right;\">\n",
       "      <th></th>\n",
       "      <th>z</th>\n",
       "      <th>is_active</th>\n",
       "      <th>y</th>\n",
       "      <th>basal_shift</th>\n",
       "      <th>x</th>\n",
       "      <th>rho</th>\n",
       "      <th>height</th>\n",
       "    </tr>\n",
       "  </thead>\n",
       "  <tbody>\n",
       "    <tr>\n",
       "      <th>count</th>\n",
       "      <td>13</td>\n",
       "      <td>13</td>\n",
       "      <td>1.300000e+01</td>\n",
       "      <td>13</td>\n",
       "      <td>13.000000</td>\n",
       "      <td>13.000000</td>\n",
       "      <td>13.000000</td>\n",
       "    </tr>\n",
       "    <tr>\n",
       "      <th>mean</th>\n",
       "      <td>0</td>\n",
       "      <td>1</td>\n",
       "      <td>-8.540177e-18</td>\n",
       "      <td>4</td>\n",
       "      <td>0.000000</td>\n",
       "      <td>1.491694</td>\n",
       "      <td>-2.508306</td>\n",
       "    </tr>\n",
       "    <tr>\n",
       "      <th>std</th>\n",
       "      <td>0</td>\n",
       "      <td>0</td>\n",
       "      <td>1.172570e+00</td>\n",
       "      <td>0</td>\n",
       "      <td>1.172604</td>\n",
       "      <td>0.582529</td>\n",
       "      <td>0.582529</td>\n",
       "    </tr>\n",
       "  </tbody>\n",
       "</table>\n",
       "</div>"
      ],
      "text/plain": [
       "        z is_active             y  basal_shift          x        rho  \\\n",
       "count  13        13  1.300000e+01           13  13.000000  13.000000   \n",
       "mean    0         1 -8.540177e-18            4   0.000000   1.491694   \n",
       "std     0         0  1.172570e+00            0   1.172604   0.582529   \n",
       "\n",
       "          height  \n",
       "count  13.000000  \n",
       "mean   -2.508306  \n",
       "std     0.582529  "
      ]
     },
     "execution_count": 4,
     "metadata": {},
     "output_type": "execute_result"
    }
   ],
   "source": [
    "sheet.jv_df.describe().head(3)"
   ]
  },
  {
   "cell_type": "markdown",
   "metadata": {},
   "source": [
    "## Matplotlib based representation\n",
    "\n",
    "### Custom settings\n",
    "\n",
    "These might go in a config file latter on."
   ]
  },
  {
   "cell_type": "markdown",
   "metadata": {},
   "source": [
    "#### Ploting itself"
   ]
  },
  {
   "cell_type": "markdown",
   "metadata": {},
   "source": [
    "## Epithelial sheet representation\n",
    "\n",
    "\n",
    "### The  default"
   ]
  },
  {
   "cell_type": "code",
   "execution_count": 5,
   "metadata": {
    "collapsed": false
   },
   "outputs": [],
   "source": [
    "draw_specs = load_default('draw', 'sheet')"
   ]
  },
  {
   "cell_type": "code",
   "execution_count": 6,
   "metadata": {
    "collapsed": false
   },
   "outputs": [
    {
     "data": {
      "image/png": "[encoded data removed]",
      "text/plain": [
       "<matplotlib.figure.Figure at 0x7fa663b9aac8>"
      ]
     },
     "metadata": {},
     "output_type": "display_data"
    }
   ],
   "source": [
    "fig, ax = sheet_view(sheet, ['x', 'y'])\n",
    "\n",
    "\n",
    "ax.set_xlim(-3, 2.5)\n",
    "ax.set_ylim(-2.75, 2.75)\n",
    "fig.set_size_inches((8, 8))\n",
    "    \n"
   ]
  },
  {
   "cell_type": "markdown",
   "metadata": {},
   "source": [
    "#### Coloring"
   ]
  },
  {
   "cell_type": "code",
   "execution_count": 7,
   "metadata": {
    "collapsed": false
   },
   "outputs": [],
   "source": [
    "\n",
    "## Let's add a column to sheet.jv_df\n",
    "sheet.jv_df['rand'] = np.linspace(0.0, 1.0, \n",
    "                                  num=sheet.jv_df.shape[0])\n",
    "\n",
    "cmap = plt.cm.get_cmap('viridis')\n",
    "color_cmap = cmap(sheet.jv_df.rand)\n",
    "\n",
    "draw_specs['jv']['color'] = color_cmap\n",
    "draw_specs['jv']['alpha'] = 0.5\n",
    "draw_specs['jv']['s'] = 500"
   ]
  },
  {
   "cell_type": "code",
   "execution_count": 8,
   "metadata": {
    "collapsed": false
   },
   "outputs": [
    {
     "data": {
      "image/png": "[encoded data removed]",
      "text/plain": [
       "<matplotlib.figure.Figure at 0x7fa663a8f400>"
      ]
     },
     "metadata": {},
     "output_type": "display_data"
    }
   ],
   "source": [
    "coords = ['x', 'y']\n",
    "fig, ax = sheet_view(sheet, coords, **draw_specs)\n",
    "\n",
    "ax.set_xlim(-3, 2.5)\n",
    "ax.set_ylim(-2.75, 2.75)\n",
    "fig.set_size_inches((8, 8))"
   ]
  },
  {
   "cell_type": "markdown",
   "metadata": {},
   "source": [
    "#### Filling the cells\n",
    "\n"
   ]
  },
  {
   "cell_type": "code",
   "execution_count": 9,
   "metadata": {
    "collapsed": false
   },
   "outputs": [
    {
     "data": {
      "image/png": "[encoded data removed]",
      "text/plain": [
       "<matplotlib.figure.Figure at 0x7fa65e0b1eb8>"
      ]
     },
     "metadata": {},
     "output_type": "display_data"
    }
   ],
   "source": [
    "sheet.face_df['col'] = np.linspace(0.0, 1.0, \n",
    "                                    num=sheet.face_df.shape[0])\n",
    "\n",
    "cmap = plt.cm.get_cmap('viridis')\n",
    "color_cmap = cmap(sheet.face_df.col)\n",
    "\n",
    "draw_specs['je']['visible'] = False\n",
    "\n",
    "draw_specs['face']['visible'] = True\n",
    "draw_specs['face']['color'] = color_cmap\n",
    "draw_specs['face']['alpha'] = 0.5\n",
    "\n",
    "\n",
    "fig, ax = sheet_view(sheet, coords, **draw_specs)"
   ]
  },
  {
   "cell_type": "markdown",
   "metadata": {},
   "source": [
    "### Vispy based\n"
   ]
  },
  {
   "cell_type": "code",
   "execution_count": 11,
   "metadata": {
    "collapsed": true
   },
   "outputs": [],
   "source": [
    "from tyssue.draw.vispy_draw import draw_tyssue"
   ]
  },
  {
   "cell_type": "code",
   "execution_count": 12,
   "metadata": {
    "collapsed": true
   },
   "outputs": [],
   "source": [
    "draw_specs['je']['visible'] = True\n",
    "\n",
    "draw_specs['face']['visible'] = False\n",
    "draw_specs['face']['color'] = color_cmap\n",
    "draw_specs['face']['alpha'] = 0.5\n",
    "\n",
    "edge_color = np.linspace(0.0, 1.0, \n",
    "                        num=sheet.je_df.shape[0])\n",
    "\n",
    "cmap = plt.cm.get_cmap('viridis')\n",
    "edge_cmap = cmap(edge_color)\n",
    "#draw_specs['je']['color'] = edge_cmap #[0, 0, 0, 1]\n",
    "draw_specs['je']['color'] = [0, 0, 0, 1]\n",
    "\n",
    "draw_specs['je']['width'] = 2."
   ]
  },
  {
   "cell_type": "code",
   "execution_count": 14,
   "metadata": {
    "collapsed": false
   },
   "outputs": [
    {
     "data": {
      "text/plain": [
       "(4,)"
      ]
     },
     "execution_count": 14,
     "metadata": {},
     "output_type": "execute_result"
    }
   ],
   "source": [
    "np.asarray(draw_specs['je']['color']).shape"
   ]
  },
  {
   "cell_type": "code",
   "execution_count": 13,
   "metadata": {
    "collapsed": false,
    "scrolled": true
   },
   "outputs": [
    {
     "name": "stderr",
     "output_type": "stream",
     "text": [
      "/home/guillaume/anaconda/envs/tyssue/lib/python3.4/site-packages/IPython/config.py:13: ShimWarning: The `IPython.config` package has been deprecated. You should import from traitlets.config instead.\n",
      "  \"You should import from traitlets.config instead.\", ShimWarning)\n",
      "WARNING: Traceback (most recent call last):\n",
      "  File \"/home/guillaume/anaconda/envs/tyssue/lib/python3.4/runpy.py\", line 170, in _run_module_as_main\n",
      "    \"__main__\", mod_spec)\n",
      "  File \"/home/guillaume/anaconda/envs/tyssue/lib/python3.4/runpy.py\", line 85, in _run_code\n",
      "    exec(code, run_globals)\n",
      "  File \"/home/guillaume/anaconda/envs/tyssue/lib/python3.4/site-packages/ipykernel/__main__.py\", line 3, in <module>\n",
      "    app.launch_new_instance()\n",
      "  File \"/home/guillaume/anaconda/envs/tyssue/lib/python3.4/site-packages/traitlets/config/application.py\", line 592, in launch_instance\n",
      "    app.start()\n",
      "  File \"/home/guillaume/anaconda/envs/tyssue/lib/python3.4/site-packages/ipykernel/kernelapp.py\", line 389, in start\n",
      "    ioloop.IOLoop.instance().start()\n",
      "  File \"/home/guillaume/anaconda/envs/tyssue/lib/python3.4/site-packages/zmq/eventloop/ioloop.py\", line 151, in start\n",
      "    super(ZMQIOLoop, self).start()\n",
      "  File \"/home/guillaume/anaconda/envs/tyssue/lib/python3.4/site-packages/tornado/ioloop.py\", line 866, in start\n",
      "    handler_func(fd_obj, events)\n",
      "  File \"/home/guillaume/anaconda/envs/tyssue/lib/python3.4/site-packages/tornado/stack_context.py\", line 275, in null_wrapper\n",
      "    return fn(*args, **kwargs)\n",
      "  File \"/home/guillaume/anaconda/envs/tyssue/lib/python3.4/site-packages/zmq/eventloop/zmqstream.py\", line 433, in _handle_events\n",
      "    self._handle_recv()\n",
      "  File \"/home/guillaume/anaconda/envs/tyssue/lib/python3.4/site-packages/zmq/eventloop/zmqstream.py\", line 465, in _handle_recv\n",
      "    self._run_callback(callback, msg)\n",
      "  File \"/home/guillaume/anaconda/envs/tyssue/lib/python3.4/site-packages/zmq/eventloop/zmqstream.py\", line 407, in _run_callback\n",
      "    callback(*args, **kwargs)\n",
      "  File \"/home/guillaume/anaconda/envs/tyssue/lib/python3.4/site-packages/tornado/stack_context.py\", line 275, in null_wrapper\n",
      "    return fn(*args, **kwargs)\n",
      "  File \"/home/guillaume/anaconda/envs/tyssue/lib/python3.4/site-packages/ipykernel/kernelbase.py\", line 252, in dispatcher\n",
      "    return self.dispatch_shell(stream, msg)\n",
      "  File \"/home/guillaume/anaconda/envs/tyssue/lib/python3.4/site-packages/ipykernel/kernelbase.py\", line 213, in dispatch_shell\n",
      "    handler(stream, idents, msg)\n",
      "  File \"/home/guillaume/anaconda/envs/tyssue/lib/python3.4/site-packages/ipykernel/kernelbase.py\", line 362, in execute_request\n",
      "    user_expressions, allow_stdin)\n",
      "  File \"/home/guillaume/anaconda/envs/tyssue/lib/python3.4/site-packages/ipykernel/ipkernel.py\", line 175, in do_execute\n",
      "    shell.run_cell(code, store_history=store_history, silent=silent)\n",
      "  File \"/home/guillaume/anaconda/envs/tyssue/lib/python3.4/site-packages/IPython/core/interactiveshell.py\", line 2902, in run_cell\n",
      "    interactivity=interactivity, compiler=compiler, result=result)\n",
      "  File \"/home/guillaume/anaconda/envs/tyssue/lib/python3.4/site-packages/IPython/core/interactiveshell.py\", line 3012, in run_ast_nodes\n",
      "    if self.run_code(code, result):\n",
      "  File \"/home/guillaume/anaconda/envs/tyssue/lib/python3.4/site-packages/IPython/core/interactiveshell.py\", line 3066, in run_code\n",
      "    exec(code_obj, self.user_global_ns, self.user_ns)\n",
      "  File \"<ipython-input-13-fd572bdb4e12>\", line 1, in <module>\n",
      "    draw_tyssue(sheet, **draw_specs)\n",
      "  File \"/home/guillaume/anaconda/envs/tyssue/lib/python3.4/site-packages/tyssue-0.1-py3.4.egg/tyssue/draw/vispy_draw.py\", line 121, in draw_tyssue\n",
      "    app.run()\n",
      "  File \"/home/guillaume/anaconda/envs/tyssue/lib/python3.4/site-packages/vispy-0.5.0.dev0-py3.4.egg/vispy/app/_default_app.py\", line 62, in run\n",
      "    return default_app.run()\n",
      "  File \"/home/guillaume/anaconda/envs/tyssue/lib/python3.4/site-packages/vispy-0.5.0.dev0-py3.4.egg/vispy/app/application.py\", line 137, in run\n",
      "    return self._backend._vispy_run()\n",
      "  File \"/home/guillaume/anaconda/envs/tyssue/lib/python3.4/site-packages/vispy-0.5.0.dev0-py3.4.egg/vispy/app/backends/_qt.py\", line 229, in _vispy_run\n",
      "    return app.exec_()\n",
      "  File \"/home/guillaume/anaconda/envs/tyssue/lib/python3.4/site-packages/vispy-0.5.0.dev0-py3.4.egg/vispy/app/backends/_qt.py\", line 431, in event\n",
      "    out = super(QtBaseCanvasBackend, self).event(ev)\n",
      "  File \"/home/guillaume/anaconda/envs/tyssue/lib/python3.4/site-packages/vispy-0.5.0.dev0-py3.4.egg/vispy/app/backends/_qt.py\", line 431, in event\n",
      "    out = super(QtBaseCanvasBackend, self).event(ev)\n",
      "  File \"/home/guillaume/anaconda/envs/tyssue/lib/python3.4/site-packages/vispy-0.5.0.dev0-py3.4.egg/vispy/app/backends/_qt.py\", line 703, in paintGL\n",
      "    self._vispy_canvas.events.draw(region=None)\n",
      "  File \"/home/guillaume/anaconda/envs/tyssue/lib/python3.4/site-packages/vispy-0.5.0.dev0-py3.4.egg/vispy/util/event.py\", line 455, in __call__\n",
      "    self._invoke_callback(cb, event)\n",
      "  File \"/home/guillaume/anaconda/envs/tyssue/lib/python3.4/site-packages/vispy-0.5.0.dev0-py3.4.egg/vispy/util/event.py\", line 475, in _invoke_callback\n",
      "    self, cb_event=(cb, event))\n",
      "  << caught exception here: >>\n",
      "  File \"/home/guillaume/anaconda/envs/tyssue/lib/python3.4/site-packages/vispy-0.5.0.dev0-py3.4.egg/vispy/util/event.py\", line 471, in _invoke_callback\n",
      "    cb(event)\n",
      "  File \"/home/guillaume/anaconda/envs/tyssue/lib/python3.4/site-packages/vispy-0.5.0.dev0-py3.4.egg/vispy/scene/canvas.py\", line 207, in on_draw\n",
      "    self._draw_scene()\n",
      "  File \"/home/guillaume/anaconda/envs/tyssue/lib/python3.4/site-packages/vispy-0.5.0.dev0-py3.4.egg/vispy/scene/canvas.py\", line 253, in _draw_scene\n",
      "    self.draw_visual(self.scene)\n",
      "  File \"/home/guillaume/anaconda/envs/tyssue/lib/python3.4/site-packages/vispy-0.5.0.dev0-py3.4.egg/vispy/scene/canvas.py\", line 291, in draw_visual\n",
      "    node.draw()\n",
      "  File \"/home/guillaume/anaconda/envs/tyssue/lib/python3.4/site-packages/vispy-0.5.0.dev0-py3.4.egg/vispy/scene/visuals.py\", line 98, in draw\n",
      "    self._visual_superclass.draw(self)\n",
      "  File \"/home/guillaume/anaconda/envs/tyssue/lib/python3.4/site-packages/vispy-0.5.0.dev0-py3.4.egg/vispy/visuals/visual.py\", line 588, in draw\n",
      "    v.draw()\n",
      "  File \"/home/guillaume/anaconda/envs/tyssue/lib/python3.4/site-packages/vispy-0.5.0.dev0-py3.4.egg/vispy/visuals/visual.py\", line 432, in draw\n",
      "    if self._prepare_draw(view=self) is False:\n",
      "  File \"/home/guillaume/anaconda/envs/tyssue/lib/python3.4/site-packages/vispy-0.5.0.dev0-py3.4.egg/vispy/visuals/line/line.py\", line 323, in _prepare_draw\n",
      "    color = self._parent._interpret_color()\n",
      "  File \"/home/guillaume/anaconda/envs/tyssue/lib/python3.4/site-packages/vispy-0.5.0.dev0-py3.4.egg/vispy/visuals/line/line.py\", line 235, in _interpret_color\n",
      "    color = ColorArray(self._color).rgba\n",
      "  File \"/home/guillaume/anaconda/envs/tyssue/lib/python3.4/site-packages/vispy-0.5.0.dev0-py3.4.egg/vispy/color/color_array.py\", line 148, in __init__\n",
      "    rgba = _user_to_rgba(color, clip=clip)\n",
      "  File \"/home/guillaume/anaconda/envs/tyssue/lib/python3.4/site-packages/vispy-0.5.0.dev0-py3.4.egg/vispy/color/color_array.py\", line 55, in _user_to_rgba\n",
      "    color = np.atleast_2d(color).astype(np.float32)\n",
      "ValueError: could not convert string to float: 'A'\n",
      "WARNING:vispy:Traceback (most recent call last):\n",
      "  File \"/home/guillaume/anaconda/envs/tyssue/lib/python3.4/runpy.py\", line 170, in _run_module_as_main\n",
      "    \"__main__\", mod_spec)\n",
      "  File \"/home/guillaume/anaconda/envs/tyssue/lib/python3.4/runpy.py\", line 85, in _run_code\n",
      "    exec(code, run_globals)\n",
      "  File \"/home/guillaume/anaconda/envs/tyssue/lib/python3.4/site-packages/ipykernel/__main__.py\", line 3, in <module>\n",
      "    app.launch_new_instance()\n",
      "  File \"/home/guillaume/anaconda/envs/tyssue/lib/python3.4/site-packages/traitlets/config/application.py\", line 592, in launch_instance\n",
      "    app.start()\n",
      "  File \"/home/guillaume/anaconda/envs/tyssue/lib/python3.4/site-packages/ipykernel/kernelapp.py\", line 389, in start\n",
      "    ioloop.IOLoop.instance().start()\n",
      "  File \"/home/guillaume/anaconda/envs/tyssue/lib/python3.4/site-packages/zmq/eventloop/ioloop.py\", line 151, in start\n",
      "    super(ZMQIOLoop, self).start()\n",
      "  File \"/home/guillaume/anaconda/envs/tyssue/lib/python3.4/site-packages/tornado/ioloop.py\", line 866, in start\n",
      "    handler_func(fd_obj, events)\n",
      "  File \"/home/guillaume/anaconda/envs/tyssue/lib/python3.4/site-packages/tornado/stack_context.py\", line 275, in null_wrapper\n",
      "    return fn(*args, **kwargs)\n",
      "  File \"/home/guillaume/anaconda/envs/tyssue/lib/python3.4/site-packages/zmq/eventloop/zmqstream.py\", line 433, in _handle_events\n",
      "    self._handle_recv()\n",
      "  File \"/home/guillaume/anaconda/envs/tyssue/lib/python3.4/site-packages/zmq/eventloop/zmqstream.py\", line 465, in _handle_recv\n",
      "    self._run_callback(callback, msg)\n",
      "  File \"/home/guillaume/anaconda/envs/tyssue/lib/python3.4/site-packages/zmq/eventloop/zmqstream.py\", line 407, in _run_callback\n",
      "    callback(*args, **kwargs)\n",
      "  File \"/home/guillaume/anaconda/envs/tyssue/lib/python3.4/site-packages/tornado/stack_context.py\", line 275, in null_wrapper\n",
      "    return fn(*args, **kwargs)\n",
      "  File \"/home/guillaume/anaconda/envs/tyssue/lib/python3.4/site-packages/ipykernel/kernelbase.py\", line 252, in dispatcher\n",
      "    return self.dispatch_shell(stream, msg)\n",
      "  File \"/home/guillaume/anaconda/envs/tyssue/lib/python3.4/site-packages/ipykernel/kernelbase.py\", line 213, in dispatch_shell\n",
      "    handler(stream, idents, msg)\n",
      "  File \"/home/guillaume/anaconda/envs/tyssue/lib/python3.4/site-packages/ipykernel/kernelbase.py\", line 362, in execute_request\n",
      "    user_expressions, allow_stdin)\n",
      "  File \"/home/guillaume/anaconda/envs/tyssue/lib/python3.4/site-packages/ipykernel/ipkernel.py\", line 175, in do_execute\n",
      "    shell.run_cell(code, store_history=store_history, silent=silent)\n",
      "  File \"/home/guillaume/anaconda/envs/tyssue/lib/python3.4/site-packages/IPython/core/interactiveshell.py\", line 2902, in run_cell\n",
      "    interactivity=interactivity, compiler=compiler, result=result)\n",
      "  File \"/home/guillaume/anaconda/envs/tyssue/lib/python3.4/site-packages/IPython/core/interactiveshell.py\", line 3012, in run_ast_nodes\n",
      "    if self.run_code(code, result):\n",
      "  File \"/home/guillaume/anaconda/envs/tyssue/lib/python3.4/site-packages/IPython/core/interactiveshell.py\", line 3066, in run_code\n",
      "    exec(code_obj, self.user_global_ns, self.user_ns)\n",
      "  File \"<ipython-input-13-fd572bdb4e12>\", line 1, in <module>\n",
      "    draw_tyssue(sheet, **draw_specs)\n",
      "  File \"/home/guillaume/anaconda/envs/tyssue/lib/python3.4/site-packages/tyssue-0.1-py3.4.egg/tyssue/draw/vispy_draw.py\", line 121, in draw_tyssue\n",
      "    app.run()\n",
      "  File \"/home/guillaume/anaconda/envs/tyssue/lib/python3.4/site-packages/vispy-0.5.0.dev0-py3.4.egg/vispy/app/_default_app.py\", line 62, in run\n",
      "    return default_app.run()\n",
      "  File \"/home/guillaume/anaconda/envs/tyssue/lib/python3.4/site-packages/vispy-0.5.0.dev0-py3.4.egg/vispy/app/application.py\", line 137, in run\n",
      "    return self._backend._vispy_run()\n",
      "  File \"/home/guillaume/anaconda/envs/tyssue/lib/python3.4/site-packages/vispy-0.5.0.dev0-py3.4.egg/vispy/app/backends/_qt.py\", line 229, in _vispy_run\n",
      "    return app.exec_()\n",
      "  File \"/home/guillaume/anaconda/envs/tyssue/lib/python3.4/site-packages/vispy-0.5.0.dev0-py3.4.egg/vispy/app/backends/_qt.py\", line 431, in event\n",
      "    out = super(QtBaseCanvasBackend, self).event(ev)\n",
      "  File \"/home/guillaume/anaconda/envs/tyssue/lib/python3.4/site-packages/vispy-0.5.0.dev0-py3.4.egg/vispy/app/backends/_qt.py\", line 431, in event\n",
      "    out = super(QtBaseCanvasBackend, self).event(ev)\n",
      "  File \"/home/guillaume/anaconda/envs/tyssue/lib/python3.4/site-packages/vispy-0.5.0.dev0-py3.4.egg/vispy/app/backends/_qt.py\", line 703, in paintGL\n",
      "    self._vispy_canvas.events.draw(region=None)\n",
      "  File \"/home/guillaume/anaconda/envs/tyssue/lib/python3.4/site-packages/vispy-0.5.0.dev0-py3.4.egg/vispy/util/event.py\", line 455, in __call__\n",
      "    self._invoke_callback(cb, event)\n",
      "  File \"/home/guillaume/anaconda/envs/tyssue/lib/python3.4/site-packages/vispy-0.5.0.dev0-py3.4.egg/vispy/util/event.py\", line 475, in _invoke_callback\n",
      "    self, cb_event=(cb, event))\n",
      "  << caught exception here: >>\n",
      "  File \"/home/guillaume/anaconda/envs/tyssue/lib/python3.4/site-packages/vispy-0.5.0.dev0-py3.4.egg/vispy/util/event.py\", line 471, in _invoke_callback\n",
      "    cb(event)\n",
      "  File \"/home/guillaume/anaconda/envs/tyssue/lib/python3.4/site-packages/vispy-0.5.0.dev0-py3.4.egg/vispy/scene/canvas.py\", line 207, in on_draw\n",
      "    self._draw_scene()\n",
      "  File \"/home/guillaume/anaconda/envs/tyssue/lib/python3.4/site-packages/vispy-0.5.0.dev0-py3.4.egg/vispy/scene/canvas.py\", line 253, in _draw_scene\n",
      "    self.draw_visual(self.scene)\n",
      "  File \"/home/guillaume/anaconda/envs/tyssue/lib/python3.4/site-packages/vispy-0.5.0.dev0-py3.4.egg/vispy/scene/canvas.py\", line 291, in draw_visual\n",
      "    node.draw()\n",
      "  File \"/home/guillaume/anaconda/envs/tyssue/lib/python3.4/site-packages/vispy-0.5.0.dev0-py3.4.egg/vispy/scene/visuals.py\", line 98, in draw\n",
      "    self._visual_superclass.draw(self)\n",
      "  File \"/home/guillaume/anaconda/envs/tyssue/lib/python3.4/site-packages/vispy-0.5.0.dev0-py3.4.egg/vispy/visuals/visual.py\", line 588, in draw\n",
      "    v.draw()\n",
      "  File \"/home/guillaume/anaconda/envs/tyssue/lib/python3.4/site-packages/vispy-0.5.0.dev0-py3.4.egg/vispy/visuals/visual.py\", line 432, in draw\n",
      "    if self._prepare_draw(view=self) is False:\n",
      "  File \"/home/guillaume/anaconda/envs/tyssue/lib/python3.4/site-packages/vispy-0.5.0.dev0-py3.4.egg/vispy/visuals/line/line.py\", line 323, in _prepare_draw\n",
      "    color = self._parent._interpret_color()\n",
      "  File \"/home/guillaume/anaconda/envs/tyssue/lib/python3.4/site-packages/vispy-0.5.0.dev0-py3.4.egg/vispy/visuals/line/line.py\", line 235, in _interpret_color\n",
      "    color = ColorArray(self._color).rgba\n",
      "  File \"/home/guillaume/anaconda/envs/tyssue/lib/python3.4/site-packages/vispy-0.5.0.dev0-py3.4.egg/vispy/color/color_array.py\", line 148, in __init__\n",
      "    rgba = _user_to_rgba(color, clip=clip)\n",
      "  File \"/home/guillaume/anaconda/envs/tyssue/lib/python3.4/site-packages/vispy-0.5.0.dev0-py3.4.egg/vispy/color/color_array.py\", line 55, in _user_to_rgba\n",
      "    color = np.atleast_2d(color).astype(np.float32)\n",
      "ValueError: could not convert string to float: 'A'\n",
      "ERROR: Invoking <bound method SceneCanvas.on_draw of <SceneCanvas (PyQt4) at 0x7fa663b1be10>> for DrawEvent\n",
      "ERROR:vispy:Invoking <bound method SceneCanvas.on_draw of <SceneCanvas (PyQt4) at 0x7fa663b1be10>> for DrawEvent\n",
      "ERROR: Invoking <bound method SceneCanvas.on_draw of <SceneCanvas (PyQt4) at 0x7fa663b1be10>> repeat 2\n",
      "ERROR:vispy:Invoking <bound method SceneCanvas.on_draw of <SceneCanvas (PyQt4) at 0x7fa663b1be10>> repeat 2\n",
      "ERROR: Invoking <bound method SceneCanvas.on_draw of <SceneCanvas (PyQt4) at 0x7fa663b1be10>> repeat 4\n",
      "ERROR:vispy:Invoking <bound method SceneCanvas.on_draw of <SceneCanvas (PyQt4) at 0x7fa663b1be10>> repeat 4\n"
     ]
    }
   ],
   "source": [
    "draw_tyssue(sheet, **draw_specs)"
   ]
  },
  {
   "cell_type": "code",
   "execution_count": null,
   "metadata": {
    "collapsed": true
   },
   "outputs": [],
   "source": []
  }
 ],
 "metadata": {
  "kernelspec": {
   "display_name": "Python 3",
   "language": "python",
   "name": "python3"
  },
  "language_info": {
   "codemirror_mode": {
    "name": "ipython",
    "version": 3
   },
   "file_extension": ".py",
   "mimetype": "text/x-python",
   "name": "python",
   "nbconvert_exporter": "python",
   "pygments_lexer": "ipython3",
   "version": "3.4.4"
  }
 },
 "nbformat": 4,
 "nbformat_minor": 0
}
