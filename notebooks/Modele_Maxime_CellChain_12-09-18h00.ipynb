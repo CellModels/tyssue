{
 "metadata": {
  "name": "",
  "signature": "sha256:92563960d5e472294877a9e99392ea6126ebac07ab25821862a3789aa9a87abe"
 },
 "nbformat": 3,
 "nbformat_minor": 0,
 "worksheets": [
  {
   "cells": [
    {
     "cell_type": "heading",
     "level": 1,
     "metadata": {},
     "source": [
      "Le Programme Cell Chain Article version Septembre 2014"
     ]
    },
    {
     "cell_type": "heading",
     "level": 2,
     "metadata": {},
     "source": [
      "Les imports"
     ]
    },
    {
     "cell_type": "code",
     "collapsed": false,
     "input": [
      "import numpy as np\n",
      "from sys import stdout\n",
      "from itertools import chain\n",
      "%matplotlib inline\n",
      "import matplotlib.pyplot as plt\n",
      "from warnings import catch_warnings, filterwarnings\n",
      "import pylab\n",
      "from scipy import fftpack"
     ],
     "language": "python",
     "metadata": {},
     "outputs": [],
     "prompt_number": 6
    },
    {
     "cell_type": "heading",
     "level": 2,
     "metadata": {},
     "source": [
      "La classe cell"
     ]
    },
    {
     "cell_type": "code",
     "collapsed": false,
     "input": [
      "class cell() :\n",
      "    \"\"\"Handles all things physical!\"\"\"\n",
      "\n",
      "    def __init__(self, dt, freq,\n",
      "                m_cc=0.1, eta_cc=0.5, G_cc_dot=0., \n",
      "                m_cm=0.1, eta_cm=0.5, G_cm_dot=0.,F_adh0=0.5,\n",
      "                v_adh_0=0.002, L_x_dot_0=0.1, L_x_0=1., V_dot=0.) :\n",
      "        \n",
      "        self.steps_elapsed = 0\n",
      "    \n",
      "        # Global variables string list\n",
      "        self.vars = [['dt', 'freq',\\\n",
      "                      'm_cc','eta_cc','G_cc_dot', \\\n",
      "                      'm_cm','eta_cm','G_cm_dot', 'F_adh0',\\\n",
      "                      'v_adh_0', 'L_x_dot_0','L_x_0','V_dot'], \\\n",
      "                     ['sigma_cc','sigma_cm','v_sqz','L_buck', \\\n",
      "                      'L_cc','L_cm','theta','L_x', 'G_cc','G_cm','s','thetime','v_adh','L_x_dot','force','Volume']]\n",
      "            \n",
      "        \n",
      "        self.list = list(chain.from_iterable(self.vars))\n",
      "        \n",
      "        sigma_cc = m_cc * eta_cc\n",
      "        sigma_cm = m_cm * eta_cm\n",
      "        v_sqz = 0.\n",
      "        L_buck = 0.\n",
      "        L_cc = 0.\n",
      "        L_cm = 0.5*3.14159\n",
      "        theta = 3.14159\n",
      "        L_x = L_x_0\n",
      "        G_cc = 1.\n",
      "        G_cm = 1.\n",
      "        s = 0\n",
      "        thetime = 0.\n",
      "        v_adh=v_adh_0\n",
      "        L_x_dot = L_x_dot_0\n",
      "        force = 0.\n",
      "        Volume = (L_cc-L_buck)*L_x+L_cm**2*(theta-np.sin(theta))/theta**2\n",
      "        \n",
      "        \n",
      "        # Parameters initialisation\n",
      "        for var in self.vars[0] : \n",
      "            exec 'self.'+var+' = np.float64('+var+') * np.ones(1)'\n",
      "                                \n",
      "        # Variables initialization\n",
      "        for var in self.vars[1] : \n",
      "            exec 'self.'+var+' = np.float64('+var+') * np.ones(2)'\n",
      "            \n",
      "        self.update_diff()\n",
      "        \n",
      "        \n",
      "    def update_diff(self) :\n",
      "        \"\"\"Computes differentials through linear inversion\"\"\"\n",
      "\n",
      "        safety = 1e100\n",
      "        \n",
      "        #self.v_adh[0] = self.v_adh_0 * (1-self.sigma_cc[0] * np.sin((np.pi-self.theta[0])/2.0)/self.F_adh0)\n",
      "        self.v_adh[0] += self.dt * (self.v_adh_0 * (1-self.sigma_cc[0] * np.sin((np.pi-self.theta[0])/2.0)/self.F_adh0) - self.v_adh[0]) / (50*self.dt)\n",
      "        #self.v_adh[0] = self.v_adh_0\n",
      "        \n",
      "        self.force[0] = self.sigma_cm[0] * (2.0 * np.cos(self.theta[0]/2.0) - self.theta[0] * self.L_cc[0]/self.L_cm[0])\n",
      "        \n",
      "        if self.theta[0]**2./safety == 0. :\n",
      "            self.Volume[0] = (self.L_cc[0]-self.L_buck[0]) * self.L_x[0]\n",
      "        else :\n",
      "            self.Volume[0] = (self.L_cc[0]-self.L_buck[0]) * self.L_x[0] + self.L_cm[0]**2*(self.theta[0]-np.sin(self.theta[0]))/self.theta[0]**2\n",
      "            \n",
      "            \n",
      "        for var in self.list : \n",
      "            exec var+' = self.'+var+'.copy()[0]'\n",
      "          \n",
      "        M = np.zeros([7, 7])\n",
      "        Vec = np.zeros(7)\n",
      "        \n",
      "        #print theta\n",
      "        #print L_x\n",
      "        #print L_x_dot\n",
      "        #print L_cc\n",
      "        #print s\n",
      "        M[0,0] = 1.\n",
      "        M[0,1] = -np.sin(theta/2.)\n",
      "        M[0,2] = 0.\n",
      "        M[0,3] = 0.\n",
      "        M[0,4] = 0.\n",
      "        M[0,5] = 0.\n",
      "        M[0,6] = -sigma_cm/2.*np.cos(theta/2.)\n",
      "        Vec[0] = 0.\n",
      "             \n",
      "        M[1,0] = 0.\n",
      "        M[1,1] = 0.\n",
      "        M[1,2] = 0.\n",
      "        M[1,3] = 0.\n",
      "        if theta/2./safety == 0. :\n",
      "            M[1,4] = 1.\n",
      "        else :\n",
      "            M[1,4] = np.sin(theta/2.)/(theta/2.)\n",
      "        M[1,5] = 0.\n",
      "        if theta**2./4./safety == 0. :\n",
      "            M[1,6] = L_cm/2. * (-theta/6.)\n",
      "        else :\n",
      "            M[1,6] = L_cm/2. * (np.cos(theta/2.)*theta/2.-np.sin(theta/2.))/(theta**2./4.)\n",
      "        #M[1,6] = L_cm/2. * (np.cos(theta/2.)*theta/2.-np.sin(theta/2.))/(theta**2./4.)\n",
      "            \n",
      "        Vec[1] = L_x_dot\n",
      "                               \n",
      "        M[2,0] = 0.\n",
      "        M[2,1] = 0.\n",
      "        M[2,2] = 0.\n",
      "        M[2,3] = -L_x\n",
      "        if theta**2./safety ==  0. :\n",
      "            M[2,4] = 2. * L_cm * theta/6.\n",
      "        else :\n",
      "            M[2,4] = 2. * L_cm * (theta-np.sin(theta)) / theta**2.    \n",
      "        #M[2,4] = 2. * L_cm * (theta-np.sin(theta)) / theta**2.    \n",
      "        M[2,5] = L_x\n",
      "        if theta**3./safety == 0. :\n",
      "            M[2,6] = L_cm**2. * 1./6.\n",
      "        else :\n",
      "            M[2,6] = L_cm**2. * (2.*np.sin(theta) -np.cos(theta)*theta -theta) / theta**3.\n",
      "        #M[2,6] = L_cm**2. * (2.*np.sin(theta) -np.cos(theta)*theta -theta) / theta**3.\n",
      "            \n",
      "        Vec[2] = V_dot -(L_cc-L_buck)*L_x_dot\n",
      "\n",
      "        M[3,0] = -L_cc/G_cc\n",
      "        M[3,1] = 0.\n",
      "        M[3,2] = -2.\n",
      "        M[3,3] = 0.\n",
      "        M[3,4] = 0.\n",
      "        M[3,5] = 1.\n",
      "        M[3,6] = 0.\n",
      "        Vec[3] = L_cc*((1./eta_cc-G_cc_dot/G_cc**2.)*sigma_cc-m_cc) +2.*v_adh\n",
      "\n",
      "        M[4,0] = 0.\n",
      "        M[4,1] = -L_cm/G_cm\n",
      "        M[4,2] = 2\n",
      "        M[4,3] = 0.\n",
      "        M[4,4] = 1.\n",
      "        M[4,5] = 0.\n",
      "        M[4,6] = 0.\n",
      "        Vec[4] = L_cm*((1./eta_cm-G_cm_dot/G_cm**2.)*sigma_cm-m_cm)-2.*v_adh\n",
      "        \n",
      "        M[5,0] = 0.\n",
      "        M[5,1] = 0.\n",
      "        M[5,2] = (1.+s)*(2.-s)/2.\n",
      "        M[5,3] = 0.\n",
      "        M[5,4] = 0.\n",
      "        M[5,5] = 0.\n",
      "        M[5,6] = (s-1.)*s/2.\n",
      "        Vec[5] = 0. \n",
      "        \n",
      "        M[6,0] = 0.\n",
      "        M[6,1] = 0.\n",
      "        M[6,2] = 0.\n",
      "        M[6,3] = (2.+s)*(1.-s)/2.\n",
      "        M[6,4] = 0.\n",
      "        M[6,5] = 0.\n",
      "        M[6,6] = (s+1.)*s/2.\n",
      "        Vec[6] = 0. \n",
      "\n",
      "\n",
      "        self.determ = np.linalg.det(M) * np.ones(1)\n",
      "        #print self.determ\n",
      "        self.v_sqz[0] = self.v_sqz[1] # keep track of previous v_sqz\n",
      "\n",
      "        # find variable derivatives\n",
      "        self.sigma_cc[1], self.sigma_cm[1], self.v_sqz[1], \\\n",
      "             self.L_buck[1], self.L_cm[1], self.L_cc[1],\\\n",
      "             self.theta[1] \\\n",
      "                = np.linalg.solve(M, Vec)\n",
      "\n",
      "\n",
      "\n",
      "    def increment(self,deltat) :\n",
      "        self.thetime += deltat\n",
      "        self.sigma_cc[0] += self.sigma_cc[1] * deltat\n",
      "        self.sigma_cm[0] += self.sigma_cm[1] * deltat\n",
      "        self.L_buck[0] += self.L_buck[1] * deltat\n",
      "        self.L_cm[0] += self.L_cm[1] * deltat\n",
      "        self.L_cc[0] += self.L_cc[1] * deltat\n",
      "        self.theta[0] += self.theta[1] * deltat\n",
      "        self.L_x[0] += self.L_x_dot[0] * deltat\n",
      "        self.G_cc[0] += self.G_cc_dot * deltat\n",
      "        self.G_cm[0] += self.G_cm_dot * deltat\n",
      "                     \n",
      "    def step(self,dt) :\n",
      "        \"\"\"Main iteration function\"\"\"\n",
      "\n",
      "        self.steps_elapsed += 1\n",
      "        self.time = self.steps_elapsed * dt\n",
      "\n",
      "        self.increment(dt)\n",
      "        \n",
      "        test = 0\n",
      "        if (self.s[0] == 0) & (test == 0) :\n",
      "            self.L_buck[0] = 0.0\n",
      "            \n",
      "            if (self.theta[0] >= np.pi) & (self.theta[1] > 0.0) :\n",
      "                self.s[0] = -1\n",
      "                # backtime is supposed to be positive\n",
      "                backtime = (self.theta[0] - np.pi) / self.theta[1]\n",
      "                self.increment(-backtime)\n",
      "                self.theta[0] = np.pi\n",
      "                test = 1\n",
      "\n",
      "            if (self.theta[0] <= 0.0) & (self.theta[1] < 0.0) :\n",
      "                self.s[0] = 1\n",
      "                # backtime is supposed to be positive\n",
      "                backtime = - (0.0 - self.theta[0]) / self.theta[1]\n",
      "                self.increment(-backtime)\n",
      "                self.theta[0] = 0.0\n",
      "                test = 1\n",
      "                \n",
      "        if (self.s[0] == 1) & (test == 0) :\n",
      "            self.theta[0] = 0.0\n",
      "            \n",
      "            if (self.L_buck[0] <= 0.0) & (self.L_buck[1] < 0.0) :\n",
      "                self.s[0] = 0\n",
      "                # backtime is supposed to be positive\n",
      "                backtime = -(0.0 - self.L_buck[0]) / self.L_buck[1]\n",
      "                self.increment(-backtime)\n",
      "                test = 1\n",
      "        \n",
      "        if (self.s[0] == -1) & (test == 0) :\n",
      "            self.L_buck[0] = 0.0\n",
      "            self.theta[0] = np.pi\n",
      "            \n",
      "            if (self.v_sqz[1] < 0.0) :\n",
      "                self.s[0] = 0\n",
      "                # backtime is supposed to be positive\n",
      "                backtime = v_sqz[1] / (v_sqz[1] - v_sqz[0]) * self.dt\n",
      "                self.increment(-backtime)\n",
      "                test = 1\n",
      "            \n",
      "        \n",
      "        self.update_diff()\n",
      "        \n",
      "    def L_x_dot_function(self,t,Nstep) :\n",
      "        \n",
      "        for var in self.list : \n",
      "            exec var+' = self.'+var+'.copy()[0]'\n",
      "        \n",
      "        L_x_dot = 0.1\n",
      "        #if t >= Nstep/4. :\n",
      "        #    L_x_dot = self.L_x_dot_0 * (1. - 1./(1.+((t-Nstep/4.)/(Nstep/7.))**6.))\n",
      "            \n",
      "        #if t >= 3.0*Nstep/4.0 :\n",
      "        #    L_x_dot = 0.0\n",
      "        if (self.freq != 0) :\n",
      "            L_x_dot = min(1./2. * min(G_cc/eta_cc,min(m_cc,v_adh_0/L_x_0)) /freq, L_x_0/5) * 2. * np.pi * freq * np.sin(2*np.pi*freq*t*dt)\n",
      "        return L_x_dot\n",
      "\n",
      "        "
     ],
     "language": "python",
     "metadata": {},
     "outputs": [],
     "prompt_number": 7
    },
    {
     "cell_type": "heading",
     "level": 2,
     "metadata": {},
     "source": [
      "L'it\u00e9ration"
     ]
    },
    {
     "cell_type": "code",
     "collapsed": false,
     "input": [
      "dt=1e-1\n",
      "freq=1e0\n",
      "time_sim=10/freq+max(1 / freq, 250)\n",
      "tol=1e-2\n",
      "plot=True\n",
      "Nstep = int(round(time_sim / dt))\n",
      "CSI   = \"\\x1B[\"\n",
      "reset = CSI+\"m\"  \n",
      "\n",
      "color_str = lambda X: CSI+\"34;49m\"+str(X)+reset\n",
      "info_str = map(color_str, (Nstep, round(time_sim, 2)))\n",
      "\n",
      "print 'Max. number of steps : %s (sim. time : %ss)' % tuple(info_str)\n",
      "    \n",
      "# Exit mode - 0=normal, 1=problem with Lenghts, 2=problem with determinant\n",
      "ex = 0\n",
      "          \n",
      "# Function class instance - cell.py\n",
      "syst = cell(dt=dt,freq=freq)\n",
      "\n",
      "# Variables to be displayed\n",
      "Vars = chain.from_iterable(syst.vars[1:])\n",
      "Vars = list(Vars)\n",
      "print Vars\n",
      "    \n",
      "for var in Vars: exec var+' = np.zeros(Nstep)' in globals(), locals()\n",
      "\n",
      "# Vectorial storage\n",
      "for t in range(Nstep) :\n",
      "    # print t\n",
      "    for var in Vars: exec var+'[t] = syst.'+var+'[0]' in globals(), locals()\n",
      "    \n",
      "    syst.L_x_dot[0] = syst.L_x_dot_function(t,Nstep)\n",
      "\n",
      "     # Iteration\n",
      "    syst.step(dt)\n",
      "\n",
      "    if (syst.L_cc[0] < 0.) | (syst.L_cm[0] <= 0.) :\n",
      "            Nstep = syst.steps_elapsed\n",
      "            ex = 1\n",
      "            break          \n",
      "    elif abs(syst.determ[0]) < tol :\n",
      "            Nstep = syst.steps_elapsed\n",
      "            ex = 2\n",
      "            break\n",
      "            \n",
      "print 'Simulation ended after %s steps.\\t(Exit mode %i)' \\\n",
      "    % (color_str(Nstep), ex)\n",
      "        \n",
      "    \n",
      "        \n",
      "for var in Vars : \n",
      "    exec var+' = '+var+'[:Nstep]' in globals(), locals()\n",
      "\n",
      "T = [t * dt for t in range(Nstep)]"
     ],
     "language": "python",
     "metadata": {},
     "outputs": [
      {
       "output_type": "stream",
       "stream": "stdout",
       "text": [
        "Max. number of steps : \u001b[34;49m2600\u001b[m (sim. time : \u001b[34;49m260.0\u001b[ms)\n",
        "['sigma_cc', 'sigma_cm', 'v_sqz', 'L_buck', 'L_cc', 'L_cm', 'theta', 'L_x', 'G_cc', 'G_cm', 's', 'thetime', 'v_adh', 'L_x_dot', 'force', 'Volume']\n",
        "Simulation ended after \u001b[34;49m2600\u001b[m steps.\t(Exit mode 0)"
       ]
      },
      {
       "output_type": "stream",
       "stream": "stdout",
       "text": [
        "\n"
       ]
      }
     ],
     "prompt_number": 34
    },
    {
     "cell_type": "heading",
     "level": 2,
     "metadata": {},
     "source": [
      "Sauvegarde r\u00e9sultats texte"
     ]
    },
    {
     "cell_type": "code",
     "collapsed": false,
     "input": [
      "S = np.column_stack((thetime,sigma_cc,sigma_cm,v_sqz,L_buck,L_cc,L_cm,theta,L_x,G_cc,G_cm,s))\n",
      "np.savetxt('Results.txt', S)"
     ],
     "language": "python",
     "metadata": {},
     "outputs": []
    },
    {
     "cell_type": "heading",
     "level": 2,
     "metadata": {},
     "source": [
      "Les graphes"
     ]
    },
    {
     "cell_type": "code",
     "collapsed": false,
     "input": [
      "Tmax=Nstep"
     ],
     "language": "python",
     "metadata": {},
     "outputs": [],
     "prompt_number": 37
    },
    {
     "cell_type": "code",
     "collapsed": false,
     "input": [
      "plt.plot(thetime[:Tmax], L_x[:Tmax])\n",
      "#plt.xlim([0, Nstep*dt])\n",
      "plt.title(r'$L_x$') "
     ],
     "language": "python",
     "metadata": {},
     "outputs": [
      {
       "metadata": {},
       "output_type": "pyout",
       "prompt_number": 38,
       "text": [
        "<matplotlib.text.Text at 0x7fe1e81dc0d0>"
       ]
      },
      {
       "metadata": {},
       "output_type": "display_data",
       "png": "[encoded data removed]",
       "text": [
        "<matplotlib.figure.Figure at 0x7fe1e82c9a90>"
       ]
      }
     ],
     "prompt_number": 38
    },
    {
     "cell_type": "code",
     "collapsed": false,
     "input": [
      "plt.plot(thetime[1:Tmax], L_x_dot[1:Tmax])\n",
      "#plt.xlim([0, Nstep*dt])\n",
      "plt.title(r'$\\dot{L_x}$') "
     ],
     "language": "python",
     "metadata": {},
     "outputs": [
      {
       "metadata": {},
       "output_type": "pyout",
       "prompt_number": 32,
       "text": [
        "<matplotlib.text.Text at 0x7fe1e84eed90>"
       ]
      },
      {
       "metadata": {},
       "output_type": "display_data",
       "png": "[encoded data removed]",
       "text": [
        "<matplotlib.figure.Figure at 0x7fe1e853e990>"
       ]
      }
     ],
     "prompt_number": 32
    },
    {
     "cell_type": "code",
     "collapsed": false,
     "input": [
      "plt.plot(thetime[:Tmax], sigma_cc[:Tmax])\n",
      "#plt.xlim([0, Nstep*dt])0"
     ],
     "language": "python",
     "metadata": {},
     "outputs": [
      {
       "metadata": {},
       "output_type": "pyout",
       "prompt_number": 39,
       "text": [
        "[<matplotlib.lines.Line2D at 0x7fe1e8143050>]"
       ]
      },
      {
       "metadata": {},
       "output_type": "display_data",
       "png": "[encoded data removed]",
       "text": [
        "<matplotlib.figure.Figure at 0x7fe1e8432e50>"
       ]
      }
     ],
     "prompt_number": 39
    },
    {
     "cell_type": "code",
     "collapsed": false,
     "input": [
      "plt.plot(thetime[:Tmax], sigma_cm[:Tmax])\n",
      "#plt.xlim([0, Nstep*dt])\n",
      "plt.title(r'$\\sigma_{cm}$') "
     ],
     "language": "python",
     "metadata": {},
     "outputs": [
      {
       "metadata": {},
       "output_type": "pyout",
       "prompt_number": 40,
       "text": [
        "<matplotlib.text.Text at 0x7fe1e80bb950>"
       ]
      },
      {
       "metadata": {},
       "output_type": "display_data",
       "png": "[encoded data removed]",
       "text": [
        "<matplotlib.figure.Figure at 0x7fe1e826b2d0>"
       ]
      }
     ],
     "prompt_number": 40
    },
    {
     "cell_type": "code",
     "collapsed": false,
     "input": [
      "plt.plot(thetime[:Tmax], L_buck[:Tmax])\n",
      "#plt.xlim([0, Nstep*dt])\n",
      "plt.title(r'$L_{buck}$')"
     ],
     "language": "python",
     "metadata": {},
     "outputs": []
    },
    {
     "cell_type": "code",
     "collapsed": false,
     "input": [
      "plt.plot(thetime[:5000], L_cc[:5000]-L_buck[:5000])\n",
      "#plt.xlim([0, Nstep*dt])\n",
      "plt.title(r'$L_{cceff}$')   "
     ],
     "language": "python",
     "metadata": {},
     "outputs": []
    },
    {
     "cell_type": "code",
     "collapsed": false,
     "input": [
      "plt.plot(thetime[:Tmax], L_cc[:Tmax])\n",
      "#plt.xlim([0, Nstep*dt])\n",
      "plt.title(r'$L_{cc}$')   "
     ],
     "language": "python",
     "metadata": {},
     "outputs": []
    },
    {
     "cell_type": "code",
     "collapsed": false,
     "input": [
      "plt.plot(thetime[:8000], theta[:8000])\n",
      "#plt.xlim([0, Nstep*dt])\n",
      "plt.title(r'$\\theta$')   "
     ],
     "language": "python",
     "metadata": {},
     "outputs": []
    },
    {
     "cell_type": "code",
     "collapsed": false,
     "input": [
      "#plt.plot(thetime, G_cc)\n",
      "#plt.xlim([0, Nstep*dt])\n",
      "#plt.title(r'$G_{cc}$')   "
     ],
     "language": "python",
     "metadata": {},
     "outputs": []
    },
    {
     "cell_type": "code",
     "collapsed": false,
     "input": [
      "plt.plot(thetime[:Tmax], force[:Tmax])\n",
      "#plt.xlim([0, Nstep*dt])\n",
      "plt.title(r'$force$')"
     ],
     "language": "python",
     "metadata": {},
     "outputs": []
    },
    {
     "cell_type": "code",
     "collapsed": false,
     "input": [
      "plt.plot(thetime[:8000], v_adh[:8000])\n",
      "#plt.xlim([0, Nstep*dt])\n",
      "plt.title(r'$v_{adh}$')"
     ],
     "language": "python",
     "metadata": {},
     "outputs": []
    },
    {
     "cell_type": "code",
     "collapsed": false,
     "input": [
      "plt.plot(thetime[:5000], s[:5000])\n",
      "#plt.xlim([0, Nstep*dt])\n",
      "plt.title(r'$s$')"
     ],
     "language": "python",
     "metadata": {},
     "outputs": []
    },
    {
     "cell_type": "code",
     "collapsed": false,
     "input": [
      "plt.plot(T, thetime)\n",
      "plt.xlim([0, Nstep*dt])\n",
      "plt.title(r'$thetime$')"
     ],
     "language": "python",
     "metadata": {},
     "outputs": []
    },
    {
     "cell_type": "code",
     "collapsed": false,
     "input": [
      "plt.plot(T, Volume)\n",
      "plt.xlim([0, Nstep*dt])\n",
      "plt.title(r'$Volumme$')"
     ],
     "language": "python",
     "metadata": {},
     "outputs": []
    },
    {
     "cell_type": "code",
     "collapsed": false,
     "input": [
      "# Geometric variables\n",
      "res = 500\n",
      "Nadj = 3\n",
      "\n",
      "\n",
      "im_numb=4000\n",
      "\n",
      "alpha=(np.pi-theta[im_numb-1])/2.\n",
      "R=L_x[im_numb-1]/np.cos(alpha)/2\n",
      "\n",
      "\n",
      "l = 2 * R * np.cos(alpha)\n",
      "l_cc=L_cc[im_numb-1]\n",
      "\n",
      "\n",
      "\n",
      "tmpX = -l / 2 * np.ones(res)\n",
      "tmpY = R * np.sin(alpha)\n",
      "\n",
      "thetap = np.linspace(alpha, np.pi - alpha, num=res)\n",
      "y = np.linspace(l_cc/2, -l_cc/2, num=res)\n",
      "\n",
      "# Draw round sides\n",
      "round1 = (R * np.cos(thetap), R * np.sin(thetap) - tmpY +l_cc/2)\n",
      "round2 = (-round1[0], -round1[1])\n",
      "\n",
      "# Draw flat sides\n",
      "flat1 = (tmpX, y)\n",
      "flat2 = (-flat1[0], -flat1[1])\n",
      "    \n",
      "# Add adjacent cells\n",
      "size = int((Nadj - 1) / 2) \n",
      "xc = l * np.linspace(-size, size, num=Nadj)\n",
      "\n",
      "sep = np.empty([2,1])\n",
      "sep.fill(np.nan)\n",
      "\n",
      "for cell in range(Nadj) :\n",
      "    round1 = np.hstack((round1, sep, (round1[0]+xc[cell], round1[1])))\n",
      "    round2 = np.hstack((round2, sep, (round2[0]+xc[cell], round2[1])))\n",
      "    flat1 = np.hstack((flat1, sep, (flat1[0]+xc[cell], flat1[1])))\n",
      "    flat2 = np.hstack((flat2, sep, (flat2[0]+xc[cell], flat2[1])))\n",
      "    \n",
      "tr = 5.0\n",
      "plt.axes(aspect='equal')\n",
      "plt.plot(round1[0] ,round1[1], lw=tr,color='b')\n",
      "plt.plot(round2[0] ,round2[1], lw=tr,color='b')\n",
      "plt.plot(flat1[0] ,flat1[1], lw=tr,color='b')\n",
      "plt.plot(flat2[0] ,flat2[1], lw=tr,color='b')\n",
      "\n",
      "pylab.savefig('Figure.png',dpi=300)"
     ],
     "language": "python",
     "metadata": {},
     "outputs": [
      {
       "metadata": {},
       "output_type": "display_data",
       "png": "[encoded data removed]",
       "text": [
        "<matplotlib.figure.Figure at 0x7f6a92b2e790>"
       ]
      }
     ],
     "prompt_number": 34
    },
    {
     "cell_type": "heading",
     "level": 2,
     "metadata": {},
     "source": [
      "Mode oscillant"
     ]
    },
    {
     "cell_type": "code",
     "collapsed": false,
     "input": [
      "def run(dt, time_sim, time_trans, freq, plot) :\n",
      "    \"\"\"Omitted variables will default to the values in __init__\"\"\"\n",
      " \n",
      "    dt_i = 1e-1\n",
      "    dt_f = dt\n",
      "    Nstep = int(round(time_trans / dt_i + (time_sim - time_trans) / dt_f))\n",
      "    CSI   = \"\\x1B[\"\n",
      "    reset = CSI+\"m\"\n",
      "    color_str = lambda X: CSI+\"34;49m\"+str(X)+reset\n",
      "    info_str = map(color_str, (Nstep, freq, round(time_sim, 2)))\n",
      "\n",
      "    print 'Max. number of steps : %s (freq. : %sHz, sim. time : %ss)' \\\n",
      "        % tuple(info_str)\n",
      "    \n",
      "    # Exit mode - 0=normal, 1=L, 2=det\n",
      "    ex = 0 \n",
      "    \n",
      "    # Function class instance - cell.py\n",
      "    syst = cell(dt=dt_f,freq=freq)\n",
      "\n",
      "    # Variables to be displayed\n",
      "    Vars = chain.from_iterable(syst.vars[1:])\n",
      "    Vars = list(Vars)\n",
      "    \n",
      "    for var in Vars: exec var+' = np.zeros(Nstep)' in globals(), locals()\n",
      "\n",
      "    # Vectorial storage\n",
      "    for t in range(Nstep) :\n",
      "        #print t\n",
      "        if syst.thetime[0]<= time_trans: dt = dt_i\n",
      "        else: dt = dt_f\n",
      "        \n",
      "        for var in Vars: exec var+'[t] = syst.'+var+'[0]' in globals(), locals()\n",
      "\n",
      "        syst.L_x_dot[0] = syst.L_x_dot_function(t,Nstep)\n",
      "        \n",
      "        # Iteration\n",
      "        syst.step(dt)\n",
      "\n",
      "\n",
      "        if (syst.L_cc[0] < 0.) | (syst.L_cm[0] <= 0.) :\n",
      "            Nstep = syst.steps_elapsed\n",
      "            ex = 1\n",
      "            break          \n",
      "        elif abs(syst.determ[0]) < tol :\n",
      "            Nstep = syst.steps_elapsed\n",
      "            ex = 2\n",
      "            break\n",
      "\n",
      "    print 'Simulation ended after %s steps.\\t(Exit mode %i)' \\\n",
      "        % (color_str(Nstep), ex)\n",
      "    \n",
      "    res = []\n",
      "        \n",
      "    for var in Vars : \n",
      "        exec var+' = '+var+'[:Nstep]' in globals(), locals()\n",
      "        exec 'res.append('+var+')' in globals(), locals()\n",
      "    return Vars, res"
     ],
     "language": "python",
     "metadata": {},
     "outputs": [],
     "prompt_number": 9
    },
    {
     "cell_type": "code",
     "collapsed": false,
     "input": [
      "def response(dt, time_sim, time_trans, freq) :\n",
      "    \"\"\"Computes responses to a given mode through Fourier analysis\"\"\"\n",
      " \n",
      "    Ntrans = int(round(time_trans / 1e-1))\n",
      "    pulse = 2*np.pi * freq * dt\n",
      "\n",
      "    # Call run function - run.py\n",
      "    lst, res= run(dt=dt, time_sim=time_sim, time_trans=time_trans,\n",
      "                   plot=False, freq=freq)\n",
      "    \n",
      "    lst = np.asarray(lst)\n",
      "    res = np.asarray(res)\n",
      "    \n",
      "    \n",
      "    # Variables to be computed\n",
      "    Vars = ['L_x','L_x_dot','force']\n",
      "    \n",
      "    # Unpack variables  \n",
      "    for var in Vars: \n",
      "        exec var+' = res[lst==\"'+var+'\"][0]'\n",
      "    \n",
      "    \n",
      "    \n",
      "    for var in Vars :\n",
      "        exec var+' = '+var+'[Ntrans:]'\n",
      "        \n",
      "    ampl=(max(L_x) - min(L_x))/2.\n",
      "    \n",
      "    \n",
      "    \n",
      "    ##########\n",
      "\n",
      "    # Fourier transforms\n",
      "    for var in Vars :\n",
      "        exec 'f'+var+' = fftpack.fft('+var+')'\n",
      "    \n",
      "    fL_xr = fL_x.conjugate()\n",
      "    for var in Vars[1:] :\n",
      "        # Phase-shifts from cross-correlation functions\n",
      "        exec 'shift'+var+' = np.argmax(np.abs(fftpack.ifft(fL_xr * f'+var+'))) * pulse'\n",
      "\n",
      "        exec 'shift'+var+' = shift'+var+' % (2*np.pi)'\n",
      "        \n",
      "        # Transfer function modulii\n",
      "        exec 'ratio'+var+' = np.max(np.abs(f'+var+'[1:])) / np.max(np.abs(fL_x[1:]))'\n",
      "\n",
      "    \n",
      "    phase = [shiftforce]\n",
      "    modul = [ratioforce]\n",
      "    \n",
      "    phase = np.asarray(phase)\n",
      "    modul = np.asarray(modul)  \n",
      "    \n",
      "    modul[np.isinf(modul)] = 0.\n",
      "    \n",
      "    ########## \n",
      "    \n",
      "    Gp =  np.sum(np.multiply(L_x,force))*dt*freq/5/ampl\n",
      "    Gsec = np.sum(np.multiply(L_x_dot,force))*dt*freq/5/ampl\n",
      "\n",
      "    return phase, modul, Gp, Gsec"
     ],
     "language": "python",
     "metadata": {},
     "outputs": [],
     "prompt_number": 10
    },
    {
     "cell_type": "code",
     "collapsed": false,
     "input": [
      "f_min=1e-2\n",
      "f_max=1e0\n",
      "f_steps=10\n",
      "mode='log'\n",
      "\n",
      "if mode == 'lin' : \n",
      "    f_range = np.linspace(f_min, f_max, num=f_steps)\n",
      "        \n",
      "elif mode == 'log' : \n",
      "    f_range = np.logspace(np.log10(f_min), np.log10(f_max), num=f_steps)\n",
      "         \n",
      "# Matrical storage\n",
      "phase = np.zeros([f_steps, 1])\n",
      "modul = np.zeros([f_steps, 1])\n",
      "Gp = np.zeros([f_steps, 1])\n",
      "Gsec = np.zeros([f_steps, 1])\n",
      "freq_save = np.zeros([f_steps, 1])\n",
      "\n",
      "\n",
      "for ind, freq in enumerate(f_range) : \n",
      "    # Sample 500 points per period\n",
      "    \n",
      "    if freq < 1e-2 :\n",
      "        dt_min = 1e-1\n",
      "        time_trans_max = 250\n",
      "    else : \n",
      "        dt_min = 1e-3\n",
      "        time_trans_max = 30 \n",
      "        \n",
      "    dt = min(1. / (500 * freq), dt_min)\n",
      "    print dt\n",
      "    time_trans = max(1 / freq, time_trans_max)\n",
      "        \n",
      "    # Sample 5 periods\n",
      "    time_sim = time_trans + 10 / freq\n",
      "        \n",
      "    # Call response function\n",
      "    res = response(dt, time_sim, time_trans, freq)\n",
      "    \n",
      "    # Storage\n",
      "    phase[ind,:], modul[ind,:], Gp[ind,:], Gsec[ind,:] = res\n",
      "    freq_save[ind,:] = freq\n",
      "    \n",
      "    \n"
     ],
     "language": "python",
     "metadata": {},
     "outputs": [
      {
       "output_type": "stream",
       "stream": "stdout",
       "text": [
        "0.001\n",
        "Max. number of steps : \u001b[34;49m1001000\u001b[m (freq. : \u001b[34;49m0.01\u001b[mHz, sim. time : \u001b[34;49m1100.0\u001b[ms)\n",
        "Simulation ended after \u001b[34;49m1001000\u001b[m steps.\t(Exit mode 0)"
       ]
      },
      {
       "output_type": "stream",
       "stream": "stdout",
       "text": [
        "\n",
        "0.001"
       ]
      },
      {
       "output_type": "stream",
       "stream": "stdout",
       "text": [
        "\n",
        "Max. number of steps : \u001b[34;49m600084\u001b[m (freq. : \u001b[34;49m0.016681005372\u001b[mHz, sim. time : \u001b[34;49m659.43\u001b[ms)\n",
        "Simulation ended after \u001b[34;49m600084\u001b[m steps.\t(Exit mode 0)"
       ]
      },
      {
       "output_type": "stream",
       "stream": "stdout",
       "text": [
        "\n",
        "0.001"
       ]
      },
      {
       "output_type": "stream",
       "stream": "stdout",
       "text": [
        "\n",
        "Max. number of steps : \u001b[34;49m359741\u001b[m (freq. : \u001b[34;49m0.0278255940221\u001b[mHz, sim. time : \u001b[34;49m395.32\u001b[ms)\n",
        "Simulation ended after \u001b[34;49m359741\u001b[m steps.\t(Exit mode 0)"
       ]
      },
      {
       "output_type": "stream",
       "stream": "stdout",
       "text": [
        "\n",
        "0.001"
       ]
      },
      {
       "output_type": "stream",
       "stream": "stdout",
       "text": [
        "\n",
        "Max. number of steps : \u001b[34;49m215743\u001b[m (freq. : \u001b[34;49m0.0464158883361\u001b[mHz, sim. time : \u001b[34;49m245.44\u001b[ms)\n",
        "Simulation ended after \u001b[34;49m215743\u001b[m steps.\t(Exit mode 0)"
       ]
      },
      {
       "output_type": "stream",
       "stream": "stdout",
       "text": [
        "\n",
        "0.001"
       ]
      },
      {
       "output_type": "stream",
       "stream": "stdout",
       "text": [
        "\n",
        "Max. number of steps : \u001b[34;49m129455\u001b[m (freq. : \u001b[34;49m0.0774263682681\u001b[mHz, sim. time : \u001b[34;49m159.15\u001b[ms)\n",
        "Simulation ended after \u001b[34;49m129455\u001b[m steps.\t(Exit mode 0)"
       ]
      },
      {
       "output_type": "stream",
       "stream": "stdout",
       "text": [
        "\n",
        "0.001"
       ]
      },
      {
       "output_type": "stream",
       "stream": "stdout",
       "text": [
        "\n",
        "Max. number of steps : \u001b[34;49m77726\u001b[m (freq. : \u001b[34;49m0.129154966501\u001b[mHz, sim. time : \u001b[34;49m107.43\u001b[ms)\n",
        "Simulation ended after \u001b[34;49m77726\u001b[m steps.\t(Exit mode 0)"
       ]
      },
      {
       "output_type": "stream",
       "stream": "stdout",
       "text": [
        "\n",
        "0.001"
       ]
      },
      {
       "output_type": "stream",
       "stream": "stdout",
       "text": [
        "\n",
        "Max. number of steps : \u001b[34;49m46716\u001b[m (freq. : \u001b[34;49m0.215443469003\u001b[mHz, sim. time : \u001b[34;49m76.42\u001b[ms)\n",
        "Simulation ended after \u001b[34;49m46716\u001b[m steps.\t(Exit mode 0)"
       ]
      },
      {
       "output_type": "stream",
       "stream": "stdout",
       "text": [
        "\n",
        "0.001"
       ]
      },
      {
       "output_type": "stream",
       "stream": "stdout",
       "text": [
        "\n",
        "Max. number of steps : \u001b[34;49m28126\u001b[m (freq. : \u001b[34;49m0.35938136638\u001b[mHz, sim. time : \u001b[34;49m57.83\u001b[ms)\n",
        "Simulation ended after \u001b[34;49m28126\u001b[m steps.\t(Exit mode 0)"
       ]
      },
      {
       "output_type": "stream",
       "stream": "stdout",
       "text": [
        "\n",
        "0.001"
       ]
      },
      {
       "output_type": "stream",
       "stream": "stdout",
       "text": [
        "\n",
        "Max. number of steps : \u001b[34;49m16981\u001b[m (freq. : \u001b[34;49m0.599484250319\u001b[mHz, sim. time : \u001b[34;49m46.68\u001b[ms)\n",
        "Simulation ended after \u001b[34;49m16981\u001b[m steps.\t(Exit mode 0)"
       ]
      },
      {
       "output_type": "stream",
       "stream": "stdout",
       "text": [
        "\n",
        "0.001"
       ]
      },
      {
       "output_type": "stream",
       "stream": "stdout",
       "text": [
        "\n",
        "Max. number of steps : \u001b[34;49m10300\u001b[m (freq. : \u001b[34;49m1.0\u001b[mHz, sim. time : \u001b[34;49m40.0\u001b[ms)\n",
        "Simulation ended after \u001b[34;49m10300\u001b[m steps.\t(Exit mode 0)"
       ]
      },
      {
       "output_type": "stream",
       "stream": "stdout",
       "text": [
        "\n"
       ]
      }
     ],
     "prompt_number": 48
    },
    {
     "cell_type": "code",
     "collapsed": false,
     "input": [
      "S = np.column_stack((freq_save, Gp, Gsec))\n",
      "np.savetxt('Results_m_cc=0.1-eta_cc=0.5-G_cc_dot=0-m_cm=0.1-eta_cm=0.5-G_cm_dot=0-F_adh0=0.5-v_adh_0=0.002freq10-4to10+0txt', S)"
     ],
     "language": "python",
     "metadata": {},
     "outputs": [],
     "prompt_number": 44
    },
    {
     "cell_type": "code",
     "collapsed": false,
     "input": [
      "plt.loglog(f_range, np.abs(modul * np.cos(phase)))"
     ],
     "language": "python",
     "metadata": {},
     "outputs": [
      {
       "metadata": {},
       "output_type": "pyout",
       "prompt_number": 42,
       "text": [
        "[<matplotlib.lines.Line2D at 0x7f6a92b24d90>]"
       ]
      },
      {
       "metadata": {},
       "output_type": "display_data",
       "png": "[encoded data removed]",
       "text": [
        "<matplotlib.figure.Figure at 0x7f6a92dd4510>"
       ]
      }
     ],
     "prompt_number": 42
    },
    {
     "cell_type": "code",
     "collapsed": false,
     "input": [
      "plt.loglog(f_range, np.abs(modul * np.sin(phase)))"
     ],
     "language": "python",
     "metadata": {},
     "outputs": [
      {
       "metadata": {},
       "output_type": "pyout",
       "prompt_number": 43,
       "text": [
        "[<matplotlib.lines.Line2D at 0x7f6a92aa46d0>]"
       ]
      },
      {
       "metadata": {},
       "output_type": "display_data",
       "png": "[encoded data removed]",
       "text": [
        "<matplotlib.figure.Figure at 0x7f6a92a80f10>"
       ]
      }
     ],
     "prompt_number": 43
    },
    {
     "cell_type": "code",
     "collapsed": false,
     "input": [
      "plt.loglog(f_range, abs(Gp))         "
     ],
     "language": "python",
     "metadata": {},
     "outputs": [
      {
       "metadata": {},
       "output_type": "pyout",
       "prompt_number": 47,
       "text": [
        "[<matplotlib.lines.Line2D at 0x7fe1e3a59850>]"
       ]
      },
      {
       "metadata": {},
       "output_type": "display_data",
       "png": "[encoded data removed]",
       "text": [
        "<matplotlib.figure.Figure at 0x7fe1e3f03910>"
       ]
      }
     ],
     "prompt_number": 47
    },
    {
     "cell_type": "code",
     "collapsed": false,
     "input": [
      "plt.loglog(f_range, abs(Gsec))"
     ],
     "language": "python",
     "metadata": {},
     "outputs": [
      {
       "metadata": {},
       "output_type": "pyout",
       "prompt_number": 50,
       "text": [
        "[<matplotlib.lines.Line2D at 0x7fe1e371ed10>]"
       ]
      },
      {
       "metadata": {},
       "output_type": "display_data",
       "png": "[encoded data removed]",
       "text": [
        "<matplotlib.figure.Figure at 0x7fe1e38b7250>"
       ]
      }
     ],
     "prompt_number": 50
    },
    {
     "cell_type": "code",
     "collapsed": false,
     "input": [
      "plt.plot(thetime,L_x)"
     ],
     "language": "python",
     "metadata": {},
     "outputs": [
      {
       "metadata": {},
       "output_type": "pyout",
       "prompt_number": 46,
       "text": [
        "[<matplotlib.lines.Line2D at 0x7f6a92481d50>]"
       ]
      },
      {
       "metadata": {},
       "output_type": "display_data",
       "png": "[encoded data removed]",
       "text": [
        "<matplotlib.figure.Figure at 0x7f6a921dcf90>"
       ]
      }
     ],
     "prompt_number": 46
    },
    {
     "cell_type": "code",
     "collapsed": false,
     "input": [
      "plt.plot(thetime,sigma_cc)"
     ],
     "language": "python",
     "metadata": {},
     "outputs": [
      {
       "metadata": {},
       "output_type": "pyout",
       "prompt_number": 67,
       "text": [
        "[<matplotlib.lines.Line2D at 0x7f6a91a0e290>]"
       ]
      },
      {
       "metadata": {},
       "output_type": "display_data",
       "png": "[encoded data removed]",
       "text": [
        "<matplotlib.figure.Figure at 0x7f6a91b18650>"
       ]
      }
     ],
     "prompt_number": 67
    },
    {
     "cell_type": "code",
     "collapsed": false,
     "input": [],
     "language": "python",
     "metadata": {},
     "outputs": []
    }
   ],
   "metadata": {}
  }
 ]
}