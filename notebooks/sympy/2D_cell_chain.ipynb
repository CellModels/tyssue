{
 "cells": [
  {
   "cell_type": "markdown",
   "metadata": {},
   "source": [
    "# Modèle 2D de cellules en contact\n",
    "\n",
    "![géométrie](geometrie_master.svg)"
   ]
  },
  {
   "cell_type": "code",
   "execution_count": 1,
   "metadata": {
    "collapsed": true
   },
   "outputs": [],
   "source": [
    "import IPython.display as disp\n",
    "\n",
    "from sympy import symbols, Matrix, Eq, Function\n",
    "from sympy import sin, cos, factor\n",
    "from sympy import sympify, lambdify\n",
    "from sympy import diff\n",
    "\n",
    "from sympy.physics.mechanics import dynamicsymbols, find_dynamicsymbols\n",
    "from sympy.physics.mechanics import mechanics_printing\n",
    "mechanics_printing(pretty_print=True) # Shinny\n",
    "\n",
    "import numpy as np\n",
    "from collections import OrderedDict\n",
    "import json\n",
    "\n",
    "import pandas as pd\n",
    "\n"
   ]
  },
  {
   "cell_type": "markdown",
   "metadata": {},
   "source": [
    "## Symbolic implementation\n"
   ]
  },
  {
   "cell_type": "code",
   "execution_count": 1,
   "metadata": {
    "collapsed": false
   },
   "outputs": [
    {
     "data": {
      "text/plain": [
       "4"
      ]
     },
     "execution_count": 1,
     "metadata": {},
     "output_type": "execute_result"
    }
   ],
   "source": [
    "2+2"
   ]
  },
  {
   "cell_type": "code",
   "execution_count": 2,
   "metadata": {
    "collapsed": false
   },
   "outputs": [],
   "source": [
    "\n",
    "class SymCell:\n",
    "    '''\n",
    "    Single cell of the cell chain. Contains the physics\n",
    "    '''\n",
    "    ### Static symbols (i. e. parameters)\n",
    "    symbols_names = ['m_cc','eta_cc',\n",
    "                     'm_cm','eta_cm', 'v_adh', 's']   \n",
    "    \n",
    "    ### Dynamic symbols\n",
    "    #### unknown speeds\n",
    "    unknowns_names = ['sigma_cc','sigma_cm', 'v_sqz', 'L_buck',\n",
    "                     'L_cc','L_cm','theta']\n",
    "    \n",
    "    #### other time dependant variables\n",
    "    dynsyms_names = ['L_x', 'L_y',\n",
    "                     'G_cc','G_cm',\n",
    "                     'force', 'vol']\n",
    "    \n",
    "    def __init__(self):\n",
    "        \n",
    "        self.u_ind = [] #list of variables\n",
    "        self.ud_ind = [] #list of variables derivatives\n",
    "        self.arguments = [] #list of all arguments except the unknown speeds\n",
    "        \n",
    "        self._build_arguments()\n",
    "        ### creates null_speeds dictionnaries\n",
    "        self._null_subs()\n",
    "\n",
    "\n",
    "    def _null_subs(self):\n",
    "        ## create a dictionnary where all the speeds are replaced by 0\n",
    "        self.null_speeds = {ud:0\n",
    "                            for ud in self.ud_ind}\n",
    "\n",
    "        ### second dictionnary for the other time derivatives\n",
    "        self.null_other = {self.G_cc_dot: 0,\n",
    "                           self.G_cm_dot: 0,\n",
    "                           self.L_x_dot: 0,\n",
    "                           self.L_y_dot: 0}\n",
    "\n",
    "\n",
    "    def _build_arguments(self):\n",
    "    \n",
    "        ## This is later used to pass\n",
    "        ## dynamicsymbols as arguments\n",
    "        self.arg_subs = {}\n",
    "        for name in self.symbols_names:\n",
    "            setattr(self, name, symbols(name))\n",
    "            self.arguments.append(symbols(name))\n",
    "            \n",
    "        for name in self.unknowns_names:\n",
    "            u = dynamicsymbols(name)\n",
    "            if name == 'v_sqz': ### This is allready a speed\n",
    "                ##that's weird, but I don't know how else to deal with it\n",
    "                self.u_ind.append(u) ## just a place holder\n",
    "                self.ud_ind.append(u)\n",
    "                setattr(self, name, u)\n",
    "            \n",
    "            else:\n",
    "                self.u_ind.append(u)\n",
    "                ### Dummy symbol to replace the variable when lambdifying\n",
    "                q = symbols(name+'_s')\n",
    "                self.arg_subs[u] = q\n",
    "                self.arguments.append(q)\n",
    "                setattr(self, name, u)\n",
    "\n",
    "                ud = dynamicsymbols(name, 1)\n",
    "                self.ud_ind.append(ud)\n",
    "                #self.arguments.append(ud)\n",
    "                setattr(self, name+'_dot', ud)\n",
    "\n",
    "        for name in self.dynsyms_names:\n",
    "            u = dynamicsymbols(name)\n",
    "            q = symbols(name+'_s')\n",
    "            self.arg_subs[u] = q\n",
    "            self.arguments.append(q)\n",
    "            setattr(self, name, u)\n",
    "            \n",
    "            ud = dynamicsymbols(name, 1)\n",
    "            q = symbols(name+'_dot_s')\n",
    "            self.arg_subs[ud] = q\n",
    "            self.arguments.append(q)\n",
    "            setattr(self, name+'_dot', ud)\n",
    "\n",
    "    def build_lambdified(self):\n",
    "        \n",
    "        M, V = self.build()\n",
    "        M_np = lambdify(self.arguments, M.subs(self.arg_subs),\n",
    "                        'numpy', dummify=False)\n",
    "        V_np = lambdify(self.arguments, V.subs(self.arg_subs),\n",
    "                        'numpy', dummify=False)\n",
    "        \n",
    "        M_c, V_c = self.build_small_theta(order=3)\n",
    "        M_npc = lambdify(self.arguments, M_c.subs(self.arg_subs),\n",
    "                         'numpy', dummify=False)\n",
    "        V_npc = lambdify(self.arguments, V_c.subs(self.arg_subs),\n",
    "                         'numpy', dummify=False)\n",
    "        return M_np, V_np, M_npc, V_npc\n",
    "        \n",
    "    def build(self, subs=None):\n",
    "        \"\"\"\n",
    "        Generates all the equations and\n",
    "        returns the  matrix M and vector V\n",
    "        such that M * ud_ind = V\n",
    "        \n",
    "        if provided, `subs` will be used to substitute values\n",
    "        in the equations\n",
    "        \"\"\"\n",
    "        self.build_equations(subs)\n",
    "        M = self.eoms.jacobian(self.ud_ind)\n",
    "        V = - self.eoms.subs(self.null_speeds)\n",
    "        return M, V\n",
    "        \n",
    "        \n",
    "    def build_small_theta(self, order=1):\n",
    "        if order == 1:\n",
    "            small_theta = {sin(self.theta/2): self.theta/2,\n",
    "                           sin(self.theta): self.theta,\n",
    "                           cos(self.theta/2): 1,\n",
    "                           cos(self.theta): 1}\n",
    "        elif order > 1:\n",
    "            small_theta = {sin(self.theta/2): self.theta/2 - (self.theta/2)**3 / 6,\n",
    "                           sin(self.theta): self.theta - self.theta**3/6,\n",
    "                           cos(self.theta/2): 1 - (self.theta/2)**2 / 2, # + (cell.theta/2)**4 / 24,\n",
    "                           cos(self.theta): 1 - self.theta**2 / 2}\n",
    "            \n",
    "        M_c, V_c = self.build(small_theta)\n",
    "        M_c = factor(M_c, self.theta)\n",
    "        V_c = factor(V_c, self.theta)\n",
    "        \n",
    "        return M_c, V_c\n",
    "    \n",
    "        \n",
    "    def build_equations(self, subs=None):\n",
    "        \n",
    "        self.constrains()\n",
    "        self.rheology()\n",
    "        self.height_and_force()\n",
    "        self.rollin_n_bucklin()\n",
    "        self.eoms = Matrix([diff(self.eq_Plateau),\n",
    "                            diff(self.eq_longx),\n",
    "                            diff(self.eq_volume),\n",
    "                            self.eq_rheocc,\n",
    "                            self.eq_rheocm,\n",
    "                            self.eq_thetadot_rolling,\n",
    "                            self.eq_thetadot_buckling])\n",
    "        if subs is not None:\n",
    "            self.eoms = self.eoms.subs(subs)\n",
    "        \n",
    "    ### System's equations\n",
    "    def constrains(self):\n",
    "        \n",
    "        self.eq_Plateau = (- self.sigma_cc +\n",
    "                             self.sigma_cm * sin(self.theta/2))\n",
    "        self.eq_longx =  (- self.L_x +\n",
    "                           self.L_cm * sin(self.theta/2) / (self.theta/2))\n",
    "        self.eq_volume = (- self.vol +\n",
    "                          (self.L_cc - self.L_buck) * self.L_x + self.L_cm**2 * \n",
    "                          (self.theta - sin(self.theta)) / self.theta**2)                \n",
    "\n",
    "    def rheology(self):\n",
    "        \n",
    "        self.eq_rheocc = (- self.L_cc_dot +\n",
    "                            self.L_cc * (self.sigma_cc_dot / self.G_cc\n",
    "                                         + (1 / self.eta_cc - self.G_cc_dot/self.G_cc**2\n",
    "                                         ) * self.sigma_cc - self.m_cc)\n",
    "                            + 2 * self.v_adh + 2 * self.v_sqz)\n",
    "        \n",
    "        self.eq_rheocm = (- self.L_cm_dot +\n",
    "                            self.L_cm * (self.sigma_cm_dot / self.G_cm\n",
    "                                         + (1 / self.eta_cm - self.G_cm_dot/self.G_cc**2\n",
    "                                            ) * self.sigma_cm - self.m_cm)\n",
    "                            - 2 * self.v_adh - 2 * self.v_sqz)          \n",
    "    \n",
    "    def height_and_force(self):\n",
    "        \n",
    "        self.eq_longy = (- self.L_y +\n",
    "                           self.L_cc + 2 * self.L_cm * (1 - cos(self.theta/2))/self.theta)\n",
    "        self.eq_force = (- self.force +\n",
    "                           self.sigma_cm * (2 * cos(self.theta / 2)\n",
    "                                            - self.theta * self.L_cc / self.L_cm))\n",
    "\n",
    "    def rollin_n_bucklin(self):\n",
    "        \n",
    "        s = symcell.s\n",
    "        self.eq_thetadot_rolling = (self.theta_dot * (s - 1) * s / 2\n",
    "                                    + self.v_sqz * (1 + s) * (2 - s) / 2)\n",
    "        self.eq_thetadot_buckling = (self.theta_dot * (s + 1) * s / 2\n",
    "                                     + self.L_buck_dot * (1 - s) * (2 + s) / 2)\n",
    "\n",
    "\n",
    "\n",
    "        "
   ]
  },
  {
   "cell_type": "code",
   "execution_count": 3,
   "metadata": {
    "collapsed": false
   },
   "outputs": [],
   "source": [
    "symcell = SymCell()"
   ]
  },
  {
   "cell_type": "markdown",
   "metadata": {},
   "source": [
    "The unknown speeds are stored in the `u_ind` attribute"
   ]
  },
  {
   "cell_type": "code",
   "execution_count": 4,
   "metadata": {
    "collapsed": false
   },
   "outputs": [
    {
     "data": {
      "image/png": "[encoded data removed]",
      "text/latex": [
       "$$\\left ( \\left [ \\sigma_{cc}, \\quad \\sigma_{cm}, \\quad v_{sqz}, \\quad L_{buck}, \\quad L_{cc}, \\quad L_{cm}, \\quad \\theta\\right ], \\quad \\left [ \\dot{\\sigma}_{cc}, \\quad \\dot{\\sigma}_{cm}, \\quad v_{sqz}, \\quad \\dot{L}_{buck}, \\quad \\dot{L}_{cc}, \\quad \\dot{L}_{cm}, \\quad \\dot{\\theta}\\right ]\\right )$$"
      ],
      "text/plain": [
       "([σ_cc, σ_cm, v_sqz, L_buck, L_cc, L_cm, θ], [σ_ċc, σ_ċm, v_sqz, L_bu̇ck, L_\n",
       "ċc, L_ċm, θ̇])"
      ]
     },
     "execution_count": 4,
     "metadata": {},
     "output_type": "execute_result"
    }
   ],
   "source": [
    "symcell.u_ind, symcell.ud_ind"
   ]
  },
  {
   "cell_type": "code",
   "execution_count": 5,
   "metadata": {
    "collapsed": false
   },
   "outputs": [
    {
     "data": {
      "image/png": "[encoded data removed]",
      "text/latex": [
       "$$\\left [ m_{cc}, \\quad \\eta_{cc}, \\quad m_{cm}, \\quad \\eta_{cm}, \\quad v_{adh}, \\quad s, \\quad \\sigma_{cc s}, \\quad \\sigma_{cm s}, \\quad L_{buck s}, \\quad L_{cc s}, \\quad L_{cm s}, \\quad \\theta_{s}, \\quad L_{x s}, \\quad L_{x dot s}, \\quad L_{y s}, \\quad L_{y dot s}, \\quad G_{cc s}, \\quad G_{cc dot s}, \\quad G_{cm s}, \\quad G_{cm dot s}, \\quad force_{s}, \\quad force_{dot s}, \\quad vol_{s}, \\quad vol_{dot s}\\right ]$$"
      ],
      "text/plain": [
       "[m_cc, η_cc, m_cm, η_cm, v_adh, s, σ_cc_s, σ_cm_s, L_buck_s, L_cc_s, L_cm_s, θ\n",
       "_s, L_x_s, L_x_dot_s, L_y_s, L_y_dot_s, G_cc_s, G_cc_dot_s, G_cm_s, G_cm_dot_s\n",
       ", force_s, force_dot_s, vol_s, vol_dot_s]"
      ]
     },
     "execution_count": 5,
     "metadata": {},
     "output_type": "execute_result"
    }
   ],
   "source": [
    "symcell.arguments"
   ]
  },
  {
   "cell_type": "code",
   "execution_count": 6,
   "metadata": {
    "collapsed": false
   },
   "outputs": [
    {
     "data": {
      "image/png": "[encoded data removed]",
      "text/latex": [
       "$$\\left[\\begin{matrix}\\frac{\\operatorname{cos}\\left(\\frac{\\theta}{2}\\right) \\dot{\\theta}}{2} \\sigma_{cm} + \\operatorname{sin}\\left(\\frac{\\theta}{2}\\right) \\dot{\\sigma}_{cm} - \\dot{\\sigma}_{cc}\\\\\\frac{L_{cm} \\dot{\\theta}}{\\theta} \\operatorname{cos}\\left(\\frac{\\theta}{2}\\right) - \\frac{2 \\dot{\\theta}}{\\theta^{2}} L_{cm} \\operatorname{sin}\\left(\\frac{\\theta}{2}\\right) - \\dot{L}_{x} + \\frac{2 \\dot{L}_{cm}}{\\theta} \\operatorname{sin}\\left(\\frac{\\theta}{2}\\right)\\\\\\frac{L^{2}_{cm}}{\\theta^{2}} \\left(- \\operatorname{cos}\\left(\\theta\\right) \\dot{\\theta} + \\dot{\\theta}\\right) + \\left(- L_{buck} + L_{cc}\\right) \\dot{L}_{x} - \\frac{2 L^{2}_{cm}}{\\theta^{3}} \\left(\\theta - \\operatorname{sin}\\left(\\theta\\right)\\right) \\dot{\\theta} + \\frac{2 \\dot{L}_{cm}}{\\theta^{2}} \\left(\\theta - \\operatorname{sin}\\left(\\theta\\right)\\right) L_{cm} + \\left(- \\dot{L}_{buck} + \\dot{L}_{cc}\\right) L_{x} - \\dot{vol}\\\\2 v_{adh} + \\left(- m_{cc} + \\left(- \\frac{\\dot{G}_{cc}}{G^{2}_{cc}} + \\frac{1}{\\eta_{cc}}\\right) \\sigma_{cc} + \\frac{\\dot{\\sigma}_{cc}}{G_{cc}}\\right) L_{cc} + 2 v_{sqz} - \\dot{L}_{cc}\\\\- 2 v_{adh} + \\left(- m_{cm} + \\left(- \\frac{\\dot{G}_{cm}}{G^{2}_{cc}} + \\frac{1}{\\eta_{cm}}\\right) \\sigma_{cm} + \\frac{\\dot{\\sigma}_{cm}}{G_{cm}}\\right) L_{cm} - 2 v_{sqz} - \\dot{L}_{cm}\\\\\\frac{s \\dot{\\theta}}{2} \\left(s - 1\\right) + \\frac{v_{sqz}}{2} \\left(- s + 2\\right) \\left(s + 1\\right)\\\\\\frac{s \\dot{\\theta}}{2} \\left(s + 1\\right) + \\frac{\\dot{L}_{buck}}{2} \\left(- s + 1\\right) \\left(s + 2\\right)\\end{matrix}\\right]$$"
      ],
      "text/plain": [
       "⎡                                                       ⎛θ⎞                   \n",
       "⎢                                               σ_cm⋅cos⎜─⎟⋅θ̇                \n",
       "⎢                                                       ⎝2⎠         ⎛θ⎞       \n",
       "⎢                                               ────────────── + sin⎜─⎟⋅σ_ċm \n",
       "⎢                                                     2             ⎝2⎠       \n",
       "⎢                                                                             \n",
       "⎢                                             ⎛θ⎞                ⎛θ⎞          \n",
       "⎢                                     L_cm⋅cos⎜─⎟⋅θ̇   2⋅L_cm⋅sin⎜─⎟⋅θ̇       \n",
       "⎢                                             ⎝2⎠                ⎝2⎠          \n",
       "⎢                                     ────────────── - ──────────────── - Lₓ̇ \n",
       "⎢                                           θ                  2              \n",
       "⎢                                                             θ               \n",
       "⎢                                                                             \n",
       "⎢                      2                                             2        \n",
       "⎢(-cos(θ)⋅θ̇ + θ̇)⋅L_cm                           2⋅(θ - sin(θ))⋅L_cm ⋅θ̇   2⋅\n",
       "⎢─────────────────────── + (-L_buck + L_cc)⋅Lₓ̇ - ─────────────────────── + ──\n",
       "⎢            2                                                3               \n",
       "⎢           θ                                                θ                \n",
       "⎢                                                                             \n",
       "⎢                                       ⎛        ⎛  G_ċc    1  ⎞        σ_ċc\n",
       "⎢                             2⋅v_adh + ⎜-m_cc + ⎜- ───── + ────⎟⋅σ_cc + ─────\n",
       "⎢                                       ⎜        ⎜      2   η_cc⎟         G_cc\n",
       "⎢                                       ⎝        ⎝  G_cc        ⎠             \n",
       "⎢                                                                             \n",
       "⎢                                        ⎛        ⎛  G_ċm    1  ⎞        σ_ċ\n",
       "⎢                             -2⋅v_adh + ⎜-m_cm + ⎜- ───── + ────⎟⋅σ_cm + ────\n",
       "⎢                                        ⎜        ⎜      2   η_cm⎟         G_c\n",
       "⎢                                        ⎝        ⎝  G_cc        ⎠            \n",
       "⎢                                                                             \n",
       "⎢                                               s⋅(s - 1)⋅θ̇   (-s + 2)⋅(s + 1\n",
       "⎢                                               ──────────── + ───────────────\n",
       "⎢                                                    2                   2    \n",
       "⎢                                                                             \n",
       "⎢                                              s⋅(s + 1)⋅θ̇   (-s + 1)⋅(s + 2)\n",
       "⎢                                              ──────────── + ────────────────\n",
       "⎣                                                   2                    2    \n",
       "\n",
       "                                                      ⎤\n",
       "                                                      ⎥\n",
       "                                                      ⎥\n",
       "- σ_ċc                                               ⎥\n",
       "                                                      ⎥\n",
       "                                                      ⎥\n",
       "       ⎛θ⎞                                            ⎥\n",
       "  2⋅sin⎜─⎟⋅L_ċm                                      ⎥\n",
       "       ⎝2⎠                                            ⎥\n",
       "+ ──────────────                                      ⎥\n",
       "        θ                                             ⎥\n",
       "                                                      ⎥\n",
       "                                                      ⎥\n",
       "                                                      ⎥\n",
       "(θ - sin(θ))⋅L_cm⋅L_ċm                               ⎥\n",
       "─────────────────────── + (-L_bu̇ck + L_ċc)⋅Lₓ - vȯl⎥\n",
       "           2                                          ⎥\n",
       "          θ                                           ⎥\n",
       "                                                      ⎥\n",
       "⎞                                                     ⎥\n",
       "⎟⋅L_cc + 2⋅v_sqz - L_ċc                              ⎥\n",
       "⎟                                                     ⎥\n",
       "⎠                                                     ⎥\n",
       "                                                      ⎥\n",
       "m⎞                                                    ⎥\n",
       "─⎟⋅L_cm - 2⋅v_sqz - L_ċm                             ⎥\n",
       "m⎟                                                    ⎥\n",
       " ⎠                                                    ⎥\n",
       "                                                      ⎥\n",
       ")⋅v_sqz                                               ⎥\n",
       "───────                                               ⎥\n",
       "                                                      ⎥\n",
       "                                                      ⎥\n",
       "⋅L_bu̇ck                                              ⎥\n",
       "────────                                              ⎥\n",
       "                                                      ⎦"
      ]
     },
     "execution_count": 6,
     "metadata": {},
     "output_type": "execute_result"
    }
   ],
   "source": [
    "M, V = symcell.build()\n",
    "symcell.eoms"
   ]
  },
  {
   "cell_type": "code",
   "execution_count": 7,
   "metadata": {
    "collapsed": false
   },
   "outputs": [
    {
     "data": {
      "image/png": "[encoded data removed]",
      "text/latex": [
       "$$\\left[\\begin{matrix}-1 & - \\frac{\\theta}{48} \\left(\\theta^{2} - 24\\right) & 0 & 0 & 0 & 0 & - \\frac{\\sigma_{cm}}{16} \\left(\\theta^{2} - 8\\right)\\\\0 & 0 & 0 & 0 & 0 & - \\frac{1}{24} \\left(\\theta^{2} - 24\\right) & - \\frac{L_{cm} \\theta}{12}\\\\0 & 0 & 0 & - L_{x} & L_{x} & \\frac{L_{cm} \\theta}{3} & \\frac{L^{2}_{cm}}{6}\\\\\\frac{L_{cc}}{G_{cc}} & 0 & 2 & 0 & -1 & 0 & 0\\\\0 & \\frac{L_{cm}}{G_{cm}} & -2 & 0 & 0 & -1 & 0\\\\0 & 0 & \\left(- s + 2\\right) \\left(\\frac{s}{2} + \\frac{1}{2}\\right) & 0 & 0 & 0 & \\frac{s}{2} \\left(s - 1\\right)\\\\0 & 0 & 0 & \\left(- \\frac{s}{2} + \\frac{1}{2}\\right) \\left(s + 2\\right) & 0 & 0 & \\frac{s}{2} \\left(s + 1\\right)\\end{matrix}\\right]$$"
      ],
      "text/plain": [
       "⎡       ⎛ 2     ⎞                                                            ⎛\n",
       "⎢      -⎝θ  - 24⎠⋅θ                                                         -⎝\n",
       "⎢ -1   ─────────────         0                  0          0        0       ──\n",
       "⎢            48                                                               \n",
       "⎢                                                                             \n",
       "⎢                                                               ⎛ 2     ⎞     \n",
       "⎢                                                              -⎝θ  - 24⎠     \n",
       "⎢ 0          0               0                  0          0   ───────────    \n",
       "⎢                                                                   24        \n",
       "⎢                                                                             \n",
       "⎢                                                                             \n",
       "⎢                                                                L_cm⋅θ       \n",
       "⎢ 0          0               0                 -Lₓ         Lₓ    ──────       \n",
       "⎢                                                                  3          \n",
       "⎢                                                                             \n",
       "⎢L_cc                                                                         \n",
       "⎢────        0               2                  0          -1       0         \n",
       "⎢G_cc                                                                         \n",
       "⎢                                                                             \n",
       "⎢          L_cm                                                               \n",
       "⎢ 0        ────              -2                 0          0       -1         \n",
       "⎢          G_cm                                                               \n",
       "⎢                                                                             \n",
       "⎢                              ⎛s   1⎞                                        \n",
       "⎢ 0          0        (-s + 2)⋅⎜─ + ─⎟          0          0        0         \n",
       "⎢                              ⎝2   2⎠                                        \n",
       "⎢                                                                             \n",
       "⎢                                       ⎛  s   1⎞                             \n",
       "⎢ 0          0               0          ⎜- ─ + ─⎟⋅(s + 2)  0        0         \n",
       "⎣                                       ⎝  2   2⎠                             \n",
       "\n",
       " 2    ⎞      ⎤\n",
       "θ  - 8⎠⋅σ_cm ⎥\n",
       "─────────────⎥\n",
       "     16      ⎥\n",
       "             ⎥\n",
       "             ⎥\n",
       " -L_cm⋅θ     ⎥\n",
       " ────────    ⎥\n",
       "    12       ⎥\n",
       "             ⎥\n",
       "       2     ⎥\n",
       "   L_cm      ⎥\n",
       "   ─────     ⎥\n",
       "     6       ⎥\n",
       "             ⎥\n",
       "             ⎥\n",
       "     0       ⎥\n",
       "             ⎥\n",
       "             ⎥\n",
       "             ⎥\n",
       "     0       ⎥\n",
       "             ⎥\n",
       "             ⎥\n",
       " s⋅(s - 1)   ⎥\n",
       " ─────────   ⎥\n",
       "     2       ⎥\n",
       "             ⎥\n",
       " s⋅(s + 1)   ⎥\n",
       " ─────────   ⎥\n",
       "     2       ⎦"
      ]
     },
     "execution_count": 7,
     "metadata": {},
     "output_type": "execute_result"
    }
   ],
   "source": [
    "### Matrices for small values of theta\n",
    "M_c, V_c = symcell.build_small_theta(order=3)\n",
    "M_c"
   ]
  },
  {
   "cell_type": "code",
   "execution_count": 8,
   "metadata": {
    "collapsed": false
   },
   "outputs": [
    {
     "data": {
      "image/png": "[encoded data removed]",
      "text/latex": [
       "$$\\left[\\begin{matrix}0\\\\\\dot{L}_{x}\\\\L_{buck} \\dot{L}_{x} - L_{cc} \\dot{L}_{x} + \\dot{vol}\\\\\\frac{1}{\\eta_{cc} G^{2}_{cc}} \\left(\\eta_{cc} m_{cc} G^{2}_{cc} L_{cc} - 2 \\eta_{cc} v_{adh} G^{2}_{cc} + \\eta_{cc} L_{cc} \\sigma_{cc} \\dot{G}_{cc} - G^{2}_{cc} L_{cc} \\sigma_{cc}\\right)\\\\\\frac{1}{\\eta_{cm} G^{2}_{cc}} \\left(\\eta_{cm} m_{cm} G^{2}_{cc} L_{cm} + 2 \\eta_{cm} v_{adh} G^{2}_{cc} + \\eta_{cm} L_{cm} \\sigma_{cm} \\dot{G}_{cm} - G^{2}_{cc} L_{cm} \\sigma_{cm}\\right)\\\\0\\\\0\\end{matrix}\\right]$$"
      ],
      "text/plain": [
       "⎡                                        0                                    \n",
       "⎢                                                                             \n",
       "⎢                                       Lₓ̇                                   \n",
       "⎢                                                                             \n",
       "⎢                           L_buck⋅Lₓ̇ - L_cc⋅Lₓ̇ + vȯl                      \n",
       "⎢                                                                             \n",
       "⎢              2                         2                              2     \n",
       "⎢η_cc⋅m_cc⋅G_cc ⋅L_cc - 2⋅η_cc⋅v_adh⋅G_cc  + η_cc⋅L_cc⋅σ_cc⋅G_ċc - G_cc ⋅L_cc\n",
       "⎢─────────────────────────────────────────────────────────────────────────────\n",
       "⎢                                             2                               \n",
       "⎢                                    η_cc⋅G_cc                                \n",
       "⎢                                                                             \n",
       "⎢              2                         2                              2     \n",
       "⎢η_cm⋅m_cm⋅G_cc ⋅L_cm + 2⋅η_cm⋅v_adh⋅G_cc  + η_cm⋅L_cm⋅σ_cm⋅G_ċm - G_cc ⋅L_cm\n",
       "⎢─────────────────────────────────────────────────────────────────────────────\n",
       "⎢                                             2                               \n",
       "⎢                                    η_cm⋅G_cc                                \n",
       "⎢                                                                             \n",
       "⎢                                        0                                    \n",
       "⎢                                                                             \n",
       "⎣                                        0                                    \n",
       "\n",
       "     ⎤\n",
       "     ⎥\n",
       "     ⎥\n",
       "     ⎥\n",
       "     ⎥\n",
       "     ⎥\n",
       "     ⎥\n",
       "⋅σ_cc⎥\n",
       "─────⎥\n",
       "     ⎥\n",
       "     ⎥\n",
       "     ⎥\n",
       "     ⎥\n",
       "⋅σ_cm⎥\n",
       "─────⎥\n",
       "     ⎥\n",
       "     ⎥\n",
       "     ⎥\n",
       "     ⎥\n",
       "     ⎥\n",
       "     ⎦"
      ]
     },
     "execution_count": 8,
     "metadata": {},
     "output_type": "execute_result"
    }
   ],
   "source": [
    "V_c"
   ]
  },
  {
   "cell_type": "code",
   "execution_count": 9,
   "metadata": {
    "collapsed": false
   },
   "outputs": [
    {
     "data": {
      "image/png": "[encoded data removed]",
      "text/latex": [
       "$$\\left ( - \\frac{2 L^{2}_{cm}}{\\theta^{3}} \\left(\\theta - \\operatorname{sin}\\left(\\theta\\right)\\right) + \\frac{L^{2}_{cm}}{\\theta^{2}} \\left(- \\operatorname{cos}\\left(\\theta\\right) + 1\\right), \\quad \\frac{L^{2}_{cm}}{6}\\right )$$"
      ],
      "text/plain": [
       "⎛                     2                     2      2⎞\n",
       "⎜  2⋅(θ - sin(θ))⋅L_cm    (-cos(θ) + 1)⋅L_cm   L_cm ⎟\n",
       "⎜- ──────────────────── + ───────────────────, ─────⎟\n",
       "⎜            3                      2            6  ⎟\n",
       "⎝           θ                      θ                ⎠"
      ]
     },
     "execution_count": 9,
     "metadata": {},
     "output_type": "execute_result"
    }
   ],
   "source": [
    "## Quick check\n",
    "# M[2,6] = L_cm**2. * (2.*np.sin(theta) -np.cos(theta)*theta -theta) / theta**3.\n",
    "M[2, 6], M_c[2, 6]"
   ]
  },
  {
   "cell_type": "code",
   "execution_count": 10,
   "metadata": {
    "collapsed": true
   },
   "outputs": [],
   "source": [
    "mechanics_printing(pretty_print=False)"
   ]
  },
  {
   "cell_type": "markdown",
   "metadata": {},
   "source": [
    "## Numerical simulation"
   ]
  },
  {
   "cell_type": "code",
   "execution_count": 11,
   "metadata": {
    "collapsed": false
   },
   "outputs": [],
   "source": [
    "\n",
    "theta_c = 1e-10 ## critical angle to avoid zero divisions\n",
    "\n",
    "class NumCell:\n",
    "    \n",
    "    def __init__(self, symcell, parameters):\n",
    "               \n",
    "        self.parameters = parameters\n",
    "        self.symcell = symcell\n",
    "        self.speeds = np.zeros(len(symcell.ud_ind), dtype=np.float)\n",
    "        self.variables = [str(u)[:-3] for u in symcell.u_ind]\n",
    "        self.speed_index = {var: n for n, var in enumerate(self.variables)}\n",
    "        self.args = OrderedDict() ### Arguments\n",
    "        for arg in symcell.arguments:\n",
    "            arg_name = str(arg)\n",
    "            if arg_name.endswith('_s'):\n",
    "                ### Fall back to the original name\n",
    "                param_name = arg_name[:-2]\n",
    "            else:\n",
    "                param_name = arg_name\n",
    "            initial = parameters.get(param_name)\n",
    "            #if initial is not None:\n",
    "            #    setattr(self, param_name, initial)\n",
    "            #else:\n",
    "            #    setattr(self, param_name, 0)\n",
    "            self.args[param_name] = 0 if initial is None else initial#getattr(self, param_name)\n",
    "        \n",
    "        self.build_matrices()\n",
    "        self.step_elapsed = 0\n",
    "        self.time = 0.\n",
    "        self.update_diff()\n",
    "        \n",
    "    def get_speed(self, var):\n",
    "        return self.speeds[self.speed_index[var]]\n",
    "        \n",
    "    def build_matrices(self):\n",
    "        \n",
    "        self.M, self.V, self.M_c, self.V_c = self.symcell.build_lambdified()\n",
    "        \n",
    "    @property ## see this for details: https://docs.python.org/3.4/library/functions.html#property\n",
    "    def force(self):\n",
    "\n",
    "        sigma_cm = self.parameters['sigma_cm']\n",
    "        L_cc = self.parameters['L_cc']\n",
    "        L_cm = self.parameters['L_cm']\n",
    "        theta = self.parameters['theta']\n",
    "        \n",
    "        return sigma_cm * (2.0 * np.cos(theta/2.0) - theta * L_cc/L_cm)\n",
    "    \n",
    "    @property\n",
    "    def volume(self):\n",
    "        \n",
    "        L_cc = self.parameters['L_cc']\n",
    "        L_cm = self.parameters['L_cm']\n",
    "        L_x = self.parameters['L_x']\n",
    "        L_buck = self.parameters['L_buck']\n",
    "        theta = self.parameters['theta']\n",
    "        if theta < theta_c:\n",
    "            vol = (L_cc - L_buck) * self.L_x\n",
    "        else:\n",
    "            vol = ((L_cc - L_buck) * L_x\n",
    "                   + L_cm**2 * (theta - np.sin(theta)) / theta**2)\n",
    "        return vol\n",
    "\n",
    "    def step(self, dt):\n",
    "        \n",
    "        self.step_elapsed += 1\n",
    "        self.time += dt\n",
    "        self.increment(dt)\n",
    "        self.condition_s()\n",
    "        self.update_diff()\n",
    "        \n",
    "    def update_diff(self):\n",
    "        '''\n",
    "        Solves the differentials through linear inversion\n",
    "        '''\n",
    "        theta = self.parameters['theta']\n",
    "        self.prev_v_sqz = self.get_speed('v_sqz')\n",
    "        if theta < theta_c:\n",
    "            M = self.M(*self.args.values())\n",
    "            V = self.V(*self.args.values())\n",
    "        else:        \n",
    "            M = self.M_c(*self.args.values())\n",
    "            V = self.V_c(*self.args.values())\n",
    "\n",
    "        self.determ = np.linalg.det(M)\n",
    "        self.speeds = np.linalg.solve(M, V)\n",
    "    \n",
    "    def increment(self, dt):\n",
    "        \n",
    "        for n, var in enumerate(self.variables):\n",
    "            if var == 'v_sqz':\n",
    "                continue\n",
    "            else:\n",
    "                self.parameters[var] += self.speeds[n] * dt\n",
    "        self.parameters['force'] = self.force\n",
    "        self.parameters['vol'] = self.volume\n",
    "    \n",
    "    def condition_s(self):\n",
    "        \n",
    "        theta = self.parameters['theta']\n",
    "        theta_dot = self.get_speed('theta')\n",
    "        L_buck = self.parameters['L_buck']\n",
    "        L_buck_dot = self.get_speed('L_buck')\n",
    "        v_sqz = self.get_speed('v_sqz')\n",
    "        prev_v_sqz = self.prev_v_sqz\n",
    "        s = self.parameters['s']\n",
    "\n",
    "        \n",
    "        if s == 0:\n",
    "            L_buck = 0.0\n",
    "            if (theta >= np.pi) & (theta_dot > 0.0) :\n",
    "                self.parameters['s'] = -1\n",
    "                # backtime is supposed to be positive\n",
    "                backtime = (theta - np.pi) / theta_dot\n",
    "                self.increment(-backtime)\n",
    "                self.parameters['theta'] = np.pi\n",
    "                return\n",
    "\n",
    "            elif (theta <= 0.0) & (theta_dot < 0.0) :\n",
    "                self.parameters['s'] = 1\n",
    "                # backtime is supposed to be positive\n",
    "                backtime = theta / theta_dot\n",
    "                self.increment(-backtime)\n",
    "                self.parameters['theta'] = 0.0\n",
    "                return\n",
    "                \n",
    "        elif s == 1 :\n",
    "            self.parameters['theta'] = 0.0\n",
    "            if (L_buck <= 0.0) & (L_buck_dot < 0.0) :\n",
    "                self.parameters['s'] = 0\n",
    "                # backtime is supposed to be positive\n",
    "                backtime = L_buck / L_buck_dot\n",
    "                self.increment(-backtime)\n",
    "                return\n",
    "                \n",
    "        elif s == -1 :\n",
    "            L_buck = 0.0\n",
    "            self.parameters['theta'] = np.pi\n",
    "            if v_sqz < 0.0:\n",
    "                self.parameters['s'] = 0\n",
    "                # backtime is supposed to be positive\n",
    "                backtime = v_sqz / (v_sqz - prev_v_sqz) ### * self.dt uh?\n",
    "                self.increment(-backtime)\n",
    "                \n",
    "                return\n",
    "        \n",
    "### As this is an external stimulation, it seems logical \n",
    "### to define it outside of the class definition\n",
    "def L_x_dot_function(numcell, freq, amplitude, times) :\n",
    "    \n",
    "    L_x_dot = numcell.parameters['L_x_dot']\n",
    "    L_x = numcell.parameters['L_x']\n",
    "    G_cc = numcell.parameters['G_cc']\n",
    "    m_cc = numcell.parameters['m_cc']\n",
    "    eta_cc = numcell.parameters['eta_cc']\n",
    "    v_adh = numcell.parameters['v_adh']\n",
    "    amplitude = - min(1./10. * min(G_cc/eta_cc,\n",
    "                                   min(m_cc, v_adh/L_x))/freq,\n",
    "                        L_x/5) * 2. * np.pi * freq\n",
    "\n",
    "    L_x_dots =  amplitude * np.sin(2*np.pi * freq * times)\n",
    "    return L_x_dots\n",
    "\n",
    "    "
   ]
  },
  {
   "cell_type": "markdown",
   "metadata": {},
   "source": [
    "### Initial parameters"
   ]
  },
  {
   "cell_type": "code",
   "execution_count": 12,
   "metadata": {
    "collapsed": true
   },
   "outputs": [],
   "source": [
    "parameters = {'L_x':  1.,\n",
    "              'L_x_dot': 0.,\n",
    "              'v_adh': 0.02,\n",
    "              'F_adh': 0.06,\n",
    "              'm_cc': 0.1,\n",
    "              'eta_cc': 0.5,\n",
    "              'G_cc_dot': 0., \n",
    "              'm_cm': 0.1,\n",
    "              'eta_cm': 0.5,\n",
    "              'G_cm_dot': 0.,\n",
    "              'V_dot': 0.,\n",
    "              'sigma_cc':  0.0378112500962,\n",
    "              'sigma_cm':  0.0557574320458,\n",
    "              'v_sqz':  0.,\n",
    "              'L_buck':  0.,\n",
    "              'L_cc':  0.51832867931,\n",
    "              'L_cm':  1.09732599832,\n",
    "              'theta':  1.48682076362,\n",
    "              'G_cc':  1.,\n",
    "              'G_cm':  1.,\n",
    "              's':  0,\n",
    "              'thetime':  0.,\n",
    "              'v_adh': 0.00631778245004,\n",
    "              'force':  0.0429343631124,\n",
    "              'vol': 0.78541739}\n",
    "\n",
    "init_parameters = OrderedDict(parameters)\n",
    "with open('params_20150320.json', 'w+') as p_file:\n",
    "    parmafile = json.dump(init_parameters, p_file)\n"
   ]
  },
  {
   "cell_type": "markdown",
   "metadata": {},
   "source": [
    "### Simulation itself"
   ]
  },
  {
   "cell_type": "code",
   "execution_count": 18,
   "metadata": {
    "collapsed": false
   },
   "outputs": [
    {
     "name": "stdout",
     "output_type": "stream",
     "text": [
      "Max. number of steps : \u001b[34;49m5000\u001b[m (sim. time : \u001b[34;49m500\u001b[ms)\n",
      "0\n"
     ]
    }
   ],
   "source": [
    "\n",
    "dt = 1e-1\n",
    "time_sim = 500\n",
    "#freq = 1e1\n",
    "freq = 0\n",
    "if freq != 0 : \n",
    "    dt = min(1. / (500 * freq), 9e-1)\n",
    "    time_sim=50 + 5./freq\n",
    "    print('time step: {}'.format(dt))\n",
    "\n",
    "tol= 1e-2 ## Tolerance for the determinent\n",
    "plot = True\n",
    "\n",
    "\n",
    "times = np.arange(0, time_sim, dt)\n",
    "n_steps = times.size\n",
    "\n",
    "CSI   = \"\\x1B[\"\n",
    "reset = CSI+\"m\"  \n",
    "\n",
    "color_str = lambda X: CSI+\"34;49m\"+str(X)+reset\n",
    "info_str = map(color_str, (n_steps, round(time_sim, 2)))\n",
    "\n",
    "print('Max. number of steps : %s (sim. time : %ss)' % tuple(info_str))\n",
    "\n",
    "                  \n",
    "numcell = NumCell(symcell, init_parameters)\n",
    "\n",
    "data = pd.DataFrame(np.zeros((n_steps, len(numcell.parameters))),\n",
    "                             columns=numcell.parameters.keys(),\n",
    "                             index=pd.Index(times))\n",
    "\n",
    "if freq != 0:\n",
    "    L_x_dots =  L_x_dot_function(numcell, freq, times)\n",
    "\n",
    "# Exit mode - 0=normal, 1=problem with Lenghts, 2=problem with determinant\n",
    "exit = 0\n",
    "\n",
    "    \n",
    "for n, t in enumerate(times):\n",
    "    if freq != 0:\n",
    "        numcell.parameters['L_x_dot'] = L_x_dots[n]\n",
    "    \n",
    "    numcell.step(dt)\n",
    "    L_cc = numcell.parameters['L_cc']\n",
    "    L_cm = numcell.parameters['L_cm']   \n",
    "    \n",
    "    ## register the data\n",
    "    for name, val in numcell.parameters.items():\n",
    "        data.loc[t, name] = val\n",
    "\n",
    "    if L_cc < 0. or L_cm <= 0. :\n",
    "            n_steps = syst.steps_elapsed\n",
    "            exit = 1\n",
    "            break          \n",
    "    elif abs(numcell.determ) < tol :\n",
    "            n_steps = syst.steps_elapsed\n",
    "            exit = 2\n",
    "            break\n",
    "    \n",
    "print(exit)"
   ]
  },
  {
   "cell_type": "markdown",
   "metadata": {},
   "source": [
    "### Results"
   ]
  },
  {
   "cell_type": "code",
   "execution_count": 19,
   "metadata": {
    "collapsed": false,
    "scrolled": true
   },
   "outputs": [
    {
     "data": {
      "text/html": [
       "<div style=\"max-height:1000px;max-width:1500px;overflow:auto;\">\n",
       "<table border=\"1\" class=\"dataframe\">\n",
       "  <thead>\n",
       "    <tr style=\"text-align: right;\">\n",
       "      <th></th>\n",
       "      <th>sigma_cc</th>\n",
       "      <th>sigma_cm</th>\n",
       "      <th>v_sqz</th>\n",
       "      <th>L_buck</th>\n",
       "      <th>L_cc</th>\n",
       "      <th>L_cm</th>\n",
       "      <th>theta</th>\n",
       "    </tr>\n",
       "  </thead>\n",
       "  <tbody>\n",
       "    <tr>\n",
       "      <th>0.0</th>\n",
       "      <td> 0.037811</td>\n",
       "      <td> 0.055757</td>\n",
       "      <td> 0</td>\n",
       "      <td> 0.000000e+00</td>\n",
       "      <td> 0.518329</td>\n",
       "      <td> 1.097326</td>\n",
       "      <td> 1.486819</td>\n",
       "    </tr>\n",
       "    <tr>\n",
       "      <th>0.1</th>\n",
       "      <td> 0.037811</td>\n",
       "      <td> 0.055757</td>\n",
       "      <td> 0</td>\n",
       "      <td> 3.308722e-25</td>\n",
       "      <td> 0.518329</td>\n",
       "      <td> 1.097326</td>\n",
       "      <td> 1.486819</td>\n",
       "    </tr>\n",
       "    <tr>\n",
       "      <th>0.2</th>\n",
       "      <td> 0.037811</td>\n",
       "      <td> 0.055757</td>\n",
       "      <td> 0</td>\n",
       "      <td> 3.308722e-25</td>\n",
       "      <td> 0.518329</td>\n",
       "      <td> 1.097326</td>\n",
       "      <td> 1.486819</td>\n",
       "    </tr>\n",
       "    <tr>\n",
       "      <th>0.3</th>\n",
       "      <td> 0.037811</td>\n",
       "      <td> 0.055757</td>\n",
       "      <td> 0</td>\n",
       "      <td> 3.308722e-25</td>\n",
       "      <td> 0.518329</td>\n",
       "      <td> 1.097326</td>\n",
       "      <td> 1.486819</td>\n",
       "    </tr>\n",
       "    <tr>\n",
       "      <th>0.4</th>\n",
       "      <td> 0.037811</td>\n",
       "      <td> 0.055757</td>\n",
       "      <td> 0</td>\n",
       "      <td> 3.308722e-25</td>\n",
       "      <td> 0.518329</td>\n",
       "      <td> 1.097326</td>\n",
       "      <td> 1.486819</td>\n",
       "    </tr>\n",
       "  </tbody>\n",
       "</table>\n",
       "</div>"
      ],
      "text/plain": [
       "     sigma_cc  sigma_cm  v_sqz        L_buck      L_cc      L_cm     theta\n",
       "0.0  0.037811  0.055757      0  0.000000e+00  0.518329  1.097326  1.486819\n",
       "0.1  0.037811  0.055757      0  3.308722e-25  0.518329  1.097326  1.486819\n",
       "0.2  0.037811  0.055757      0  3.308722e-25  0.518329  1.097326  1.486819\n",
       "0.3  0.037811  0.055757      0  3.308722e-25  0.518329  1.097326  1.486819\n",
       "0.4  0.037811  0.055757      0  3.308722e-25  0.518329  1.097326  1.486819"
      ]
     },
     "execution_count": 19,
     "metadata": {},
     "output_type": "execute_result"
    }
   ],
   "source": [
    "data[numcell.variables].head()"
   ]
  },
  {
   "cell_type": "code",
   "execution_count": 20,
   "metadata": {
    "collapsed": false
   },
   "outputs": [
    {
     "name": "stderr",
     "output_type": "stream",
     "text": [
      "/home/guillaume/anaconda/envs/python3/lib/python3.4/site-packages/matplotlib-1.4.x-py3.4-linux-x86_64.egg/matplotlib/figure.py:1644: UserWarning: This figure includes Axes that are not compatible with tight_layout, so its results might be incorrect.\n",
      "  warnings.warn(\"This figure includes Axes that are not \"\n"
     ]
    },
    {
     "data": {
      "image/png": "[encoded data removed]",
      "text/plain": [
       "<matplotlib.figure.Figure at 0x7f6491b610f0>"
      ]
     },
     "metadata": {},
     "output_type": "display_data"
    }
   ],
   "source": [
    "import matplotlib.pyplot as plt\n",
    "%matplotlib inline\n",
    "ax = data.L_x.plot()"
   ]
  },
  {
   "cell_type": "code",
   "execution_count": 21,
   "metadata": {
    "collapsed": false
   },
   "outputs": [
    {
     "name": "stderr",
     "output_type": "stream",
     "text": [
      "/home/guillaume/anaconda/envs/python3/lib/python3.4/site-packages/matplotlib-1.4.x-py3.4-linux-x86_64.egg/matplotlib/figure.py:1644: UserWarning: This figure includes Axes that are not compatible with tight_layout, so its results might be incorrect.\n",
      "  warnings.warn(\"This figure includes Axes that are not \"\n"
     ]
    },
    {
     "data": {
      "image/png": "[encoded data removed]",
      "text/plain": [
       "<matplotlib.figure.Figure at 0x7f648d5e5a90>"
      ]
     },
     "metadata": {},
     "output_type": "display_data"
    }
   ],
   "source": [
    "ax = data.sigma_cc.plot()"
   ]
  },
  {
   "cell_type": "code",
   "execution_count": 22,
   "metadata": {
    "collapsed": false
   },
   "outputs": [
    {
     "name": "stderr",
     "output_type": "stream",
     "text": [
      "/home/guillaume/anaconda/envs/python3/lib/python3.4/site-packages/matplotlib-1.4.x-py3.4-linux-x86_64.egg/matplotlib/figure.py:1644: UserWarning: This figure includes Axes that are not compatible with tight_layout, so its results might be incorrect.\n",
      "  warnings.warn(\"This figure includes Axes that are not \"\n"
     ]
    },
    {
     "data": {
      "image/png": "[encoded data removed]",
      "text/plain": [
       "<matplotlib.figure.Figure at 0x7f648d707978>"
      ]
     },
     "metadata": {},
     "output_type": "display_data"
    }
   ],
   "source": [
    "ax = data.L_cc.plot()"
   ]
  },
  {
   "cell_type": "code",
   "execution_count": 23,
   "metadata": {
    "collapsed": false
   },
   "outputs": [
    {
     "name": "stderr",
     "output_type": "stream",
     "text": [
      "/home/guillaume/anaconda/envs/python3/lib/python3.4/site-packages/matplotlib-1.4.x-py3.4-linux-x86_64.egg/matplotlib/figure.py:1644: UserWarning: This figure includes Axes that are not compatible with tight_layout, so its results might be incorrect.\n",
      "  warnings.warn(\"This figure includes Axes that are not \"\n"
     ]
    },
    {
     "data": {
      "image/png": "[encoded data removed]",
      "text/plain": [
       "<matplotlib.figure.Figure at 0x7f648d6f9470>"
      ]
     },
     "metadata": {},
     "output_type": "display_data"
    }
   ],
   "source": [
    "ax = data.force.plot()"
   ]
  },
  {
   "cell_type": "code",
   "execution_count": null,
   "metadata": {
    "collapsed": true
   },
   "outputs": [],
   "source": []
  }
 ],
 "metadata": {
  "kernelspec": {
   "display_name": "Python 3",
   "language": "python",
   "name": "python3"
  },
  "language_info": {
   "codemirror_mode": {
    "name": "ipython",
    "version": 3
   },
   "file_extension": ".py",
   "mimetype": "text/x-python",
   "name": "python",
   "nbconvert_exporter": "python",
   "pygments_lexer": "ipython3",
   "version": "3.4.3"
  }
 },
 "nbformat": 4,
 "nbformat_minor": 0
}
