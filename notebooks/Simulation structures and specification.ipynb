{
 "cells": [
  {
   "cell_type": "markdown",
   "metadata": {},
   "source": [
    "\n",
    "# We seek to build a generic architecture to model an epithelium.\n",
    "\n",
    "<hr/>\n",
    "\n",
    "## A brief word on existing models of living tissues\n",
    "\n",
    "\n",
    "\n",
    "\n",
    "\n",
    "## Models we want to simulate\n",
    "\n",
    "\n",
    "\n",
    "\n",
    "we might want to simulate only part of these structures. Nevertheless, the basic building blocks are the same.\n",
    "\n",
    "![Examples of possible models](../illus/two_models.png)"
   ]
  },
  {
   "cell_type": "markdown",
   "metadata": {},
   "source": [
    "\n",
    "\n",
    "![Objects architecture](../illus/objects_architecture.png)\n",
    "\n",
    "\n"
   ]
  },
  {
   "cell_type": "markdown",
   "metadata": {
    "collapsed": true
   },
   "source": []
  }
 ],
 "metadata": {
  "kernelspec": {
   "display_name": "Python 3",
   "language": "python",
   "name": "python3"
  },
  "language_info": {
   "codemirror_mode": {
    "name": "ipython",
    "version": 3
   },
   "file_extension": ".py",
   "mimetype": "text/x-python",
   "name": "python",
   "nbconvert_exporter": "python",
   "pygments_lexer": "ipython3",
   "version": "3.4.3"
  }
 },
 "nbformat": 4,
 "nbformat_minor": 0
}
