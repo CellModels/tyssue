{
 "cells": [
  {
   "cell_type": "code",
   "execution_count": null,
   "metadata": {
    "collapsed": false
   },
   "outputs": [],
   "source": [
    "import pandas as pd\n",
    "import numpy as np\n",
    "import json\n",
    "import matplotlib.pylab as plt\n",
    "%matplotlib inline\n",
    "from scipy import optimize # Usefull to access the docs\n",
    "\n",
    "from tyssue.core.sheet import Sheet\n",
    "\n",
    "\n",
    "\n",
    "from tyssue.geometry.sheet_geometry import SheetGeometry as geom\n",
    "from tyssue.dynamics.sheet_vertex_model import SheetModel as model\n",
    "\n",
    "from tyssue.solvers.sheet_vertex_solver import Solver as solver\n",
    "from tyssue.config.json_parser import load_default\n",
    "\n",
    "from tyssue.dynamics.sheet_isotropic_model import isotropic_relax\n",
    "\n",
    "\n",
    "\n",
    "from tyssue.draw.mpl_draw import sheet_view\n",
    "import tyssue.draw.mpl_draw as draw\n",
    "from tyssue.io import hdf5"
   ]
  },
  {
   "cell_type": "code",
   "execution_count": null,
   "metadata": {
    "collapsed": false
   },
   "outputs": [],
   "source": [
    "h5store = 'small_hexagonal.hf5'\n",
    "datasets = hdf5.load_datasets(h5store, data_names=['face', 'vert', 'edge'])\n",
    "sheet = Sheet('emin', datasets)\n",
    "\n",
    "sheet.set_geom('sheet')\n",
    "geom.update_all(sheet)\n",
    "\n",
    "nondim_specs = load_default('dynamics', 'sheet')\n",
    "dim_model_specs = model.dimentionalize(nondim_specs)\n",
    "\n",
    "sheet.set_model('sheet', dim_model_specs)\n",
    "sheet.grad_norm_factor = sheet.specs['settings']['grad_norm_factor']\n",
    "sheet.nrj_norm_factor = sheet.specs['settings']['nrj_norm_factor']\n",
    "\n",
    "isotropic_relax(sheet, nondim_specs)\n",
    "\n",
    "solver_settings = {\n",
    "    'minimize': {\n",
    "        'options': {'disp':True,\n",
    "        'gtol':1e-4},\n",
    "        }\n",
    "    }\n",
    "\n",
    "\n",
    "\n",
    "live_edge = sheet.upcast_face(sheet.face_df.is_alive).astype(np.bool)\n",
    "dead_edge = np.logical_not(live_edge)\n",
    "inactive_verts = set(sheet.edge_df[dead_edge].srce)\n",
    "\n",
    "active_verts = set(sheet.vert_df.index).difference(inactive_verts)\n",
    "active_verts = list(active_verts)\n",
    "sheet.vert_df.is_active = 0\n",
    "sheet.vert_df.loc[active_verts, 'is_active'] = 1\n",
    "\n",
    "fig, ax = sheet_view(sheet, ['z', 'x'])"
   ]
  },
  {
   "cell_type": "code",
   "execution_count": null,
   "metadata": {
    "collapsed": false
   },
   "outputs": [],
   "source": [
    "res = solver.find_energy_min(sheet, geom, model, pos_idx=active_verts, \n",
    "                             **solver_settings)\n",
    "print(res['success'])\n",
    "fig, ax = sheet_view(sheet, ['z', 'x'])"
   ]
  },
  {
   "cell_type": "code",
   "execution_count": null,
   "metadata": {
    "collapsed": false
   },
   "outputs": [],
   "source": [
    "from tyssue.topology.sheet_topology import type1_transition"
   ]
  },
  {
   "cell_type": "markdown",
   "metadata": {},
   "source": [
    "![Type 1 transition](../../doc/illus/t1_transition.png)"
   ]
  },
  {
   "cell_type": "code",
   "execution_count": null,
   "metadata": {
    "collapsed": false
   },
   "outputs": [],
   "source": [
    "type1_transition(sheet, 84)\n",
    "geom.update_all(sheet)\n"
   ]
  },
  {
   "cell_type": "code",
   "execution_count": null,
   "metadata": {
    "collapsed": false
   },
   "outputs": [],
   "source": [
    "\n",
    "fig, ax = sheet_view(sheet, ['z', 'x'])\n",
    "\n",
    "ax.set_ylim(-5, 5)\n",
    "ax.set_xlim(-9, 3)\n",
    "\n",
    "ax.set_aspect('equal')\n",
    "fig.set_size_inches(8, 5)\n"
   ]
  },
  {
   "cell_type": "code",
   "execution_count": null,
   "metadata": {
    "collapsed": false
   },
   "outputs": [],
   "source": [
    "%pdb"
   ]
  },
  {
   "cell_type": "code",
   "execution_count": null,
   "metadata": {
    "collapsed": false
   },
   "outputs": [],
   "source": [
    "settings = {\n",
    "    'minimize': {\n",
    "        'options': {'disp':True,\n",
    "        'gtol':1e-6},\n",
    "        }\n",
    "    }\n",
    "\n",
    "\n",
    "res = solver.find_energy_min(sheet, geom, model, **settings)\n",
    "print(res['success'])\n",
    "fig, ax = sheet_view(sheet, ['z', 'x'])"
   ]
  }
 ],
 "metadata": {
  "kernelspec": {
   "display_name": "Python 3",
   "language": "python",
   "name": "python3"
  },
  "language_info": {
   "codemirror_mode": {
    "name": "ipython",
    "version": 3
   },
   "file_extension": ".py",
   "mimetype": "text/x-python",
   "name": "python",
   "nbconvert_exporter": "python",
   "pygments_lexer": "ipython3",
   "version": "3.4.4"
  }
 },
 "nbformat": 4,
 "nbformat_minor": 0
}
