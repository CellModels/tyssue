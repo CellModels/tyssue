{
 "cells": [
  {
   "cell_type": "code",
   "execution_count": 1,
   "metadata": {
    "collapsed": false
   },
   "outputs": [],
   "source": [
    "%load_ext autoreload\n",
    "%autoreload 2\n"
   ]
  },
  {
   "cell_type": "code",
   "execution_count": 2,
   "metadata": {
    "collapsed": true
   },
   "outputs": [],
   "source": [
    "#import tyssue\n",
    "import sys\n",
    "sys.path.append('/home/guillaume/Python/tyssue/src')\n",
    "import pandas as pd\n",
    "import numpy as np\n",
    "import json\n",
    "import matplotlib.pylab as plt\n",
    "%matplotlib inline\n",
    "from scipy import optimize\n",
    "\n",
    "from tyssue.core.sheet import Sheet\n",
    "\n",
    "from tyssue.utils.utils import set_data_columns\n",
    "\n",
    "import tyssue.geometry.sheet_geometry as geom\n",
    "import tyssue.dynamics.sheet_vertex_model as model\n",
    "import tyssue.solvers.sheet_vertex_solver as solver\n",
    "\n",
    "from tyssue.dynamics.sheet_isotropic_model import isotropic_relax\n",
    "\n",
    "\n",
    "\n",
    "from tyssue.draw.mpl_draw import sheet_view\n",
    "import tyssue.draw.mpl_draw as draw\n",
    "from tyssue.io import hdf5"
   ]
  },
  {
   "cell_type": "code",
   "execution_count": 3,
   "metadata": {
    "collapsed": false
   },
   "outputs": [
    {
     "name": "stdout",
     "output_type": "stream",
     "text": [
      "before_apoptosis.hf5\t\t  iterate.dat\t       small_xml.hf5\r\n",
      "default_params.json\t\t  nb_init.py\r\n",
      "Import data from leg-joint.ipynb  small_hexagonal.hf5\r\n"
     ]
    }
   ],
   "source": [
    "!ls ../leg_joint\\ import\n"
   ]
  },
  {
   "cell_type": "code",
   "execution_count": 4,
   "metadata": {
    "collapsed": false
   },
   "outputs": [],
   "source": [
    "h5store = '../leg_joint import/before_apoptosis.hf5'\n",
    "_datasets = hdf5.load_datasets(h5store, data_names=['cell_df', 'jv_df', 'je_df'])\n",
    "\n",
    "# translate\n",
    "corresp = {\n",
    "    'cell_df': 'face',\n",
    "    'jv_df': 'jv',\n",
    "    'je_df': 'je',}\n",
    "\n",
    "datasets = {}\n",
    "for old, new in corresp.items():\n",
    "    datasets[new] = _datasets[old]\n",
    "\n",
    "# Pass from multiIndex to flat\n",
    "je_df_ = datasets['je']\n",
    "\n",
    "je_df = je_df_.reset_index()\n",
    "je_df['face'] = je_df['cell']\n",
    "\n",
    "# Strip everything but the indexes\n",
    "keep = ['srce', 'trgt', 'face']\n",
    "je_df = je_df[keep]\n",
    "\n",
    "del _datasets"
   ]
  },
  {
   "cell_type": "code",
   "execution_count": 5,
   "metadata": {
    "collapsed": false
   },
   "outputs": [
    {
     "data": {
      "text/html": [
       "<div>\n",
       "<table border=\"1\" class=\"dataframe\">\n",
       "  <thead>\n",
       "    <tr style=\"text-align: right;\">\n",
       "      <th></th>\n",
       "      <th>srce</th>\n",
       "      <th>trgt</th>\n",
       "      <th>face</th>\n",
       "    </tr>\n",
       "  </thead>\n",
       "  <tbody>\n",
       "    <tr>\n",
       "      <th>0</th>\n",
       "      <td>1</td>\n",
       "      <td>0</td>\n",
       "      <td>0</td>\n",
       "    </tr>\n",
       "    <tr>\n",
       "      <th>1</th>\n",
       "      <td>2</td>\n",
       "      <td>1</td>\n",
       "      <td>0</td>\n",
       "    </tr>\n",
       "    <tr>\n",
       "      <th>2</th>\n",
       "      <td>0</td>\n",
       "      <td>1</td>\n",
       "      <td>1</td>\n",
       "    </tr>\n",
       "    <tr>\n",
       "      <th>3</th>\n",
       "      <td>3</td>\n",
       "      <td>0</td>\n",
       "      <td>1</td>\n",
       "    </tr>\n",
       "    <tr>\n",
       "      <th>4</th>\n",
       "      <td>1</td>\n",
       "      <td>6</td>\n",
       "      <td>1</td>\n",
       "    </tr>\n",
       "  </tbody>\n",
       "</table>\n",
       "</div>"
      ],
      "text/plain": [
       "   srce  trgt  face\n",
       "0     1     0     0\n",
       "1     2     1     0\n",
       "2     0     1     1\n",
       "3     3     0     1\n",
       "4     1     6     1"
      ]
     },
     "execution_count": 5,
     "metadata": {},
     "output_type": "execute_result"
    }
   ],
   "source": [
    "je_df.head()"
   ]
  },
  {
   "cell_type": "code",
   "execution_count": 6,
   "metadata": {
    "collapsed": false
   },
   "outputs": [
    {
     "data": {
      "text/plain": [
       "dict_keys(['jv', 'je', 'face'])"
      ]
     },
     "execution_count": 6,
     "metadata": {},
     "output_type": "execute_result"
    }
   ],
   "source": [
    "datasets.keys()"
   ]
  },
  {
   "cell_type": "code",
   "execution_count": 7,
   "metadata": {
    "collapsed": false
   },
   "outputs": [
    {
     "ename": "ValueError",
     "evalue": "The `datasets` dictionnary should\n            contain at least the 'cell', 'jv' and 'je' keys",
     "output_type": "error",
     "traceback": [
      "\u001b[1;31m---------------------------------------------------------------------------\u001b[0m",
      "\u001b[1;31mValueError\u001b[0m                                Traceback (most recent call last)",
      "\u001b[1;32m<ipython-input-7-1720055da10d>\u001b[0m in \u001b[0;36m<module>\u001b[1;34m()\u001b[0m\n\u001b[1;32m----> 1\u001b[1;33m \u001b[0msheet\u001b[0m \u001b[1;33m=\u001b[0m \u001b[0mSheet\u001b[0m\u001b[1;33m(\u001b[0m\u001b[1;34m'pola'\u001b[0m\u001b[1;33m,\u001b[0m \u001b[0mdatasets\u001b[0m\u001b[1;33m)\u001b[0m\u001b[1;33m\u001b[0m\u001b[0m\n\u001b[0m\u001b[0;32m      2\u001b[0m \u001b[0mgeom_spec\u001b[0m \u001b[1;33m=\u001b[0m \u001b[0mgeom\u001b[0m\u001b[1;33m.\u001b[0m\u001b[0mget_default_geom_specs\u001b[0m\u001b[1;33m(\u001b[0m\u001b[1;33m)\u001b[0m\u001b[1;33m\u001b[0m\u001b[0m\n\u001b[0;32m      3\u001b[0m \u001b[1;33m\u001b[0m\u001b[0m\n\u001b[0;32m      4\u001b[0m \u001b[0mset_data_columns\u001b[0m\u001b[1;33m(\u001b[0m\u001b[0msheet\u001b[0m\u001b[1;33m,\u001b[0m \u001b[0mgeom_spec\u001b[0m\u001b[1;33m)\u001b[0m\u001b[1;33m\u001b[0m\u001b[0m\n\u001b[0;32m      5\u001b[0m \u001b[0mgeom\u001b[0m\u001b[1;33m.\u001b[0m\u001b[0mupdate_all\u001b[0m\u001b[1;33m(\u001b[0m\u001b[0msheet\u001b[0m\u001b[1;33m,\u001b[0m \u001b[0mcoords\u001b[0m\u001b[1;33m=\u001b[0m\u001b[0msheet\u001b[0m\u001b[1;33m.\u001b[0m\u001b[0mcoords\u001b[0m\u001b[1;33m)\u001b[0m\u001b[1;33m\u001b[0m\u001b[0m\n",
      "\u001b[1;32m/home/guillaume/anaconda/envs/tyssue/lib/python3.4/site-packages/tyssue-0.1-py3.4.egg/tyssue/core/sheet.py\u001b[0m in \u001b[0;36m__init__\u001b[1;34m(self, identifier, datasets)\u001b[0m\n\u001b[0;32m     26\u001b[0m \u001b[1;33m\u001b[0m\u001b[0m\n\u001b[0;32m     27\u001b[0m         '''\n\u001b[1;32m---> 28\u001b[1;33m         \u001b[0msuper\u001b[0m\u001b[1;33m(\u001b[0m\u001b[1;33m)\u001b[0m\u001b[1;33m.\u001b[0m\u001b[0m__init__\u001b[0m\u001b[1;33m(\u001b[0m\u001b[0midentifier\u001b[0m\u001b[1;33m,\u001b[0m \u001b[0mdatasets\u001b[0m\u001b[1;33m)\u001b[0m\u001b[1;33m\u001b[0m\u001b[0m\n\u001b[0m\u001b[0;32m     29\u001b[0m \u001b[1;33m\u001b[0m\u001b[0m\n\u001b[0;32m     30\u001b[0m     \u001b[1;32mdef\u001b[0m \u001b[0mtriangular_mesh\u001b[0m\u001b[1;33m(\u001b[0m\u001b[0mself\u001b[0m\u001b[1;33m,\u001b[0m \u001b[0mcoords\u001b[0m\u001b[1;33m)\u001b[0m\u001b[1;33m:\u001b[0m\u001b[1;33m\u001b[0m\u001b[0m\n",
      "\u001b[1;32m/home/guillaume/anaconda/envs/tyssue/lib/python3.4/site-packages/tyssue-0.1-py3.4.egg/tyssue/core/objects.py\u001b[0m in \u001b[0;36m__init__\u001b[1;34m(self, identifier, datasets, coords)\u001b[0m\n\u001b[0;32m     83\u001b[0m         \u001b[1;32mif\u001b[0m \u001b[1;32mnot\u001b[0m \u001b[0mset\u001b[0m\u001b[1;33m(\u001b[0m\u001b[1;33m(\u001b[0m\u001b[1;34m'cell'\u001b[0m\u001b[1;33m,\u001b[0m \u001b[1;34m'jv'\u001b[0m\u001b[1;33m,\u001b[0m \u001b[1;34m'je'\u001b[0m\u001b[1;33m)\u001b[0m\u001b[1;33m)\u001b[0m\u001b[1;33m.\u001b[0m\u001b[0missubset\u001b[0m\u001b[1;33m(\u001b[0m\u001b[0mdatasets\u001b[0m\u001b[1;33m)\u001b[0m \u001b[1;33m:\u001b[0m\u001b[1;33m\u001b[0m\u001b[0m\n\u001b[0;32m     84\u001b[0m             raise ValueError('''The `datasets` dictionnary should\n\u001b[1;32m---> 85\u001b[1;33m             contain at least the 'cell', 'jv' and 'je' keys''')\n\u001b[0m\u001b[0;32m     86\u001b[0m         \u001b[1;32mfor\u001b[0m \u001b[0mname\u001b[0m\u001b[1;33m,\u001b[0m \u001b[0mdata\u001b[0m \u001b[1;32min\u001b[0m \u001b[0mdatasets\u001b[0m\u001b[1;33m.\u001b[0m\u001b[0mitems\u001b[0m\u001b[1;33m(\u001b[0m\u001b[1;33m)\u001b[0m\u001b[1;33m:\u001b[0m\u001b[1;33m\u001b[0m\u001b[0m\n\u001b[0;32m     87\u001b[0m             \u001b[0msetattr\u001b[0m\u001b[1;33m(\u001b[0m\u001b[0mself\u001b[0m\u001b[1;33m,\u001b[0m \u001b[1;34m'{}_df'\u001b[0m\u001b[1;33m.\u001b[0m\u001b[0mformat\u001b[0m\u001b[1;33m(\u001b[0m\u001b[0mname\u001b[0m\u001b[1;33m)\u001b[0m\u001b[1;33m,\u001b[0m \u001b[0mdata\u001b[0m\u001b[1;33m)\u001b[0m\u001b[1;33m\u001b[0m\u001b[0m\n",
      "\u001b[1;31mValueError\u001b[0m: The `datasets` dictionnary should\n            contain at least the 'cell', 'jv' and 'je' keys"
     ]
    }
   ],
   "source": [
    "sheet = Sheet('pola', datasets)\n",
    "geom_spec = geom.get_default_geom_specs()\n",
    "\n",
    "set_data_columns(sheet, geom_spec)\n",
    "geom.update_all(sheet, coords=sheet.coords)"
   ]
  },
  {
   "cell_type": "code",
   "execution_count": 49,
   "metadata": {
    "collapsed": false
   },
   "outputs": [],
   "source": [
    "mod_specs = model.get_default_mod_specs()\n",
    "mod_specs['cell']['aspect'] = (6., np.float)\n",
    "dim_mod_specs = model.dimentionalize(mod_specs)\n",
    "set_data_columns(sheet, dim_mod_specs)\n",
    "sheet.grad_norm_factor = dim_mod_specs['settings']['grad_norm_factor']\n",
    "sheet.nrj_norm_factor = dim_mod_specs['settings']['nrj_norm_factor']\n",
    "geom.update_num_sides(sheet)\n",
    "\n",
    "isotropic_relax(sheet, **mod_specs)\n"
   ]
  },
  {
   "cell_type": "code",
   "execution_count": 50,
   "metadata": {
    "collapsed": true
   },
   "outputs": [],
   "source": [
    "%matplotlib inline"
   ]
  },
  {
   "cell_type": "code",
   "execution_count": 51,
   "metadata": {
    "collapsed": false
   },
   "outputs": [
    {
     "data": {
      "text/plain": [
       "(-20.842163712540533, 20.629088066648414)"
      ]
     },
     "execution_count": 51,
     "metadata": {},
     "output_type": "execute_result"
    },
    {
     "data": {
      "image/png": "[encoded data removed]",
      "text/plain": [
       "<matplotlib.figure.Figure at 0x7f09ae7b4cc0>"
      ]
     },
     "metadata": {},
     "output_type": "display_data"
    }
   ],
   "source": [
    "from tyssue.draw.mpl_draw import get_default_draw_specs\n",
    "draw_specs = get_default_draw_specs()\n",
    "draw_specs['jv']['visible'] = False\n",
    "draw_specs['je']['width'] = 0.01\n",
    "\n",
    "\n",
    "local_mask_jv = (sheet.jv_df.x.abs() < 20) & (sheet.jv_df.z.abs() < 10) & (sheet.jv_df.y > 0)\n",
    "local_patch_jv = sheet.jv_df[local_mask_jv] \n",
    "local_patch_je = sheet.je_df[sheet.upcast_srce(local_mask_jv) & sheet.upcast_trgt(local_mask_jv)]\n",
    "local_patch_cell = sheet.cell_df.loc[np.unique(local_patch_je.index.get_level_values('cell'))]\n",
    "local_datasets = {'jv': local_patch_jv,\n",
    "                  'je': local_patch_je,\n",
    "                  'cell':local_patch_cell}\n",
    "local_sheet = Sheet('local', local_datasets)\n",
    "\n",
    "fig, ax = sheet_view(local_sheet, ['z', 'x'], **draw_specs)\n",
    "ax.set_xlim(local_sheet.jv_df.z.min()-1, local_sheet.jv_df.z.max()+1)\n",
    "ax.set_ylim(local_sheet.jv_df.x.min()-1, local_sheet.jv_df.x.max()+1)"
   ]
  },
  {
   "cell_type": "code",
   "execution_count": 52,
   "metadata": {
    "collapsed": false
   },
   "outputs": [
    {
     "name": "stdout",
     "output_type": "stream",
     "text": [
      "True\n"
     ]
    }
   ],
   "source": [
    "\n",
    "\n",
    "\n",
    "res = solver.find_energy_min(sheet, **settings)\n",
    "print(res['success'])"
   ]
  },
  {
   "cell_type": "code",
   "execution_count": 53,
   "metadata": {
    "collapsed": false
   },
   "outputs": [],
   "source": [
    "center_jes = sheet.je_df[sheet.upcast_srce(sheet.jv_df['z']).abs() < 5].index"
   ]
  },
  {
   "cell_type": "code",
   "execution_count": 54,
   "metadata": {
    "collapsed": false
   },
   "outputs": [
    {
     "name": "stderr",
     "output_type": "stream",
     "text": [
      "/home/guillaume/anaconda/envs/tyssue/lib/python3.4/site-packages/ipykernel/__main__.py:1: PerformanceWarning: indexing past lexsort depth may impact performance.\n",
      "  if __name__ == '__main__':\n",
      "/home/guillaume/anaconda/envs/tyssue/lib/python3.4/site-packages/ipykernel/__main__.py:2: PerformanceWarning: indexing past lexsort depth may impact performance.\n",
      "  from ipykernel import kernelapp as app\n",
      "/home/guillaume/anaconda/envs/tyssue/lib/python3.4/site-packages/ipykernel/kernelbase.py:213: PerformanceWarning: indexing past lexsort depth may impact performance.\n",
      "  handler(stream, idents, msg)\n"
     ]
    }
   ],
   "source": [
    "sheet.je_df.loc[center_jes, 'line_tension'] = (sheet.je_df.loc[center_jes, 'line_tension'] * \n",
    "                                               (3*np.sin(sheet.je_df.loc[center_jes, 'nz'])**2))"
   ]
  },
  {
   "cell_type": "code",
   "execution_count": 58,
   "metadata": {
    "collapsed": false
   },
   "outputs": [
    {
     "data": {
      "text/plain": [
       "[<matplotlib.lines.Line2D at 0x7f0982105ef0>]"
      ]
     },
     "execution_count": 58,
     "metadata": {},
     "output_type": "execute_result"
    },
    {
     "data": {
      "image/png": "[encoded data removed]",
      "text/plain": [
       "<matplotlib.figure.Figure at 0x7f09821053c8>"
      ]
     },
     "metadata": {},
     "output_type": "display_data"
    }
   ],
   "source": [
    "fig, ax = plt.subplots()\n",
    "ax.plot(sheet.upcast_srce(sheet.jv_df['z']), sheet.je_df['line_tension'], '.', alpha=0.2)"
   ]
  },
  {
   "cell_type": "code",
   "execution_count": 56,
   "metadata": {
    "collapsed": false
   },
   "outputs": [
    {
     "name": "stdout",
     "output_type": "stream",
     "text": [
      "True\n"
     ]
    }
   ],
   "source": [
    "settings = {\n",
    "    'minimize': {\n",
    "        'options': {'disp':True,\n",
    "        'gtol':1e-2},\n",
    "        'jac': solver.opt_grad\n",
    "        }\n",
    "    }\n",
    "res = solver.find_energy_min(sheet, **settings)\n",
    "print(res['success'])"
   ]
  },
  {
   "cell_type": "code",
   "execution_count": 57,
   "metadata": {
    "collapsed": false
   },
   "outputs": [
    {
     "data": {
      "text/plain": [
       "(-19.328021719179496, 20.97766308065178)"
      ]
     },
     "execution_count": 57,
     "metadata": {},
     "output_type": "execute_result"
    },
    {
     "data": {
      "image/png": "[encoded data removed]",
      "text/plain": [
       "<matplotlib.figure.Figure at 0x7f098219aeb8>"
      ]
     },
     "metadata": {},
     "output_type": "display_data"
    }
   ],
   "source": [
    "local_mask_jv = (sheet.jv_df.x.abs() < 20) & (sheet.jv_df.z.abs() < 10) & (sheet.jv_df.y > 0)\n",
    "local_patch_jv = sheet.jv_df[local_mask_jv] \n",
    "local_patch_je = sheet.je_df[sheet.upcast_srce(local_mask_jv) & sheet.upcast_trgt(local_mask_jv)]\n",
    "local_patch_cell = sheet.cell_df.loc[np.unique(local_patch_je.index.get_level_values('cell'))]\n",
    "local_datasets = {'jv': local_patch_jv,\n",
    "                  'je': local_patch_je,\n",
    "                  'cell':local_patch_cell}\n",
    "local_sheet = Sheet('local', local_datasets)\n",
    "\n",
    "fig, ax = sheet_view(local_sheet, ['z', 'x'], **draw_specs)\n",
    "ax.set_xlim(local_sheet.jv_df.z.min()-1, local_sheet.jv_df.z.max()+1)\n",
    "ax.set_ylim(local_sheet.jv_df.x.min()-1, local_sheet.jv_df.x.max()+1)"
   ]
  },
  {
   "cell_type": "code",
   "execution_count": null,
   "metadata": {
    "collapsed": true
   },
   "outputs": [],
   "source": []
  }
 ],
 "metadata": {
  "kernelspec": {
   "display_name": "Python 3",
   "language": "python",
   "name": "python3"
  },
  "language_info": {
   "codemirror_mode": {
    "name": "ipython",
    "version": 3
   },
   "file_extension": ".py",
   "mimetype": "text/x-python",
   "name": "python",
   "nbconvert_exporter": "python",
   "pygments_lexer": "ipython3",
   "version": "3.4.3"
  }
 },
 "nbformat": 4,
 "nbformat_minor": 0
}
