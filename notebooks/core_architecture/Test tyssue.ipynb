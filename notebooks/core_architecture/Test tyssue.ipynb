{
 "cells": [
  {
   "cell_type": "code",
   "execution_count": 1,
   "metadata": {
    "collapsed": false,
    "scrolled": true
   },
   "outputs": [],
   "source": [
    "import tyssue\n"
   ]
  },
  {
   "cell_type": "code",
   "execution_count": 2,
   "metadata": {
    "collapsed": false
   },
   "outputs": [],
   "source": [
    "eptm = tyssue.core.Epithelium()"
   ]
  },
  {
   "cell_type": "code",
   "execution_count": 3,
   "metadata": {
    "collapsed": false
   },
   "outputs": [
    {
     "data": {
      "text/plain": [
       "0"
      ]
     },
     "execution_count": 3,
     "metadata": {},
     "output_type": "execute_result"
    }
   ],
   "source": [
    "tyssue.core.make_hexagon(eptm)"
   ]
  },
  {
   "cell_type": "code",
   "execution_count": 4,
   "metadata": {
    "collapsed": false
   },
   "outputs": [
    {
     "data": {
      "text/plain": [
       "(6, 12, 1)"
      ]
     },
     "execution_count": 4,
     "metadata": {},
     "output_type": "execute_result"
    }
   ],
   "source": [
    "eptm.num_jvs(), eptm.num_jes(), eptm.num_cells()"
   ]
  },
  {
   "cell_type": "code",
   "execution_count": null,
   "metadata": {
    "collapsed": true
   },
   "outputs": [],
   "source": []
  },
  {
   "cell_type": "code",
   "execution_count": 4,
   "metadata": {
    "collapsed": false
   },
   "outputs": [
    {
     "name": "stdout",
     "output_type": "stream",
     "text": [
      "0000000000207358 u _ZGVN5boost6python9converter6detail15registered_baseIRVK5WorldE10convertersE\r\n",
      "0000000000207350 u _ZGVZN5boost6python6detail12caller_arityILj1EE4implIM5WorldFSsvENS0_21default_call_policiesENS_3mpl7vector2ISsRS5_EEE9signatureEvE3ret\r\n",
      "0000000000207338 u _ZGVZN5boost6python6detail15signature_arityILj1EE4implINS_3mpl7vector2ISsR5WorldEEE8elementsEvE6result\r\n",
      "0000000000207340 u _ZGVZN5boost6python6detail15signature_arityILj2EE4implINS_3mpl7vector3IvR5WorldSsEEE8elementsEvE6result\r\n",
      "00000000000046a0 t _ZN5boost6python19to_python_converterI5WorldNS0_7objects18class_cref_wrapperIS2_NS3_13make_instanceIS2_NS3_12value_holderIS2_EEEEEELb1EE15get_pytype_implEv\r\n",
      "0000000000004860 t _ZN5boost6python7objects11make_holderILi0EE5applyINS1_12value_holderI5WorldEENS_3mpl7vector0IN4mpl_2naEEEE7executeEP7_object\r\n",
      "0000000000004820 W _ZN5boost6python7objects12value_holderI5WorldE5holdsENS0_9type_infoEb\r\n",
      "0000000000004d20 t _ZN5boost6python7objects12value_holderI5WorldED0Ev\r\n",
      "0000000000004cb0 t _ZN5boost6python7objects12value_holderI5WorldED1Ev\r\n",
      "0000000000004cb0 t _ZN5boost6python7objects12value_holderI5WorldED2Ev\r\n",
      "0000000000004da0 t _ZN5boost6python7objects23caller_py_function_implINS0_6detail6callerIM5WorldFSsvENS0_21default_call_policiesENS_3mpl7vector2ISsRS5_EEEEEclEP7_objectSG_\r\n",
      "0000000000004c60 t _ZN5boost6python7objects23caller_py_function_implINS0_6detail6callerIM5WorldFSsvENS0_21default_call_policiesENS_3mpl7vector2ISsRS5_EEEEED0Ev\r\n",
      "0000000000004c40 t _ZN5boost6python7objects23caller_py_function_implINS0_6detail6callerIM5WorldFSsvENS0_21default_call_policiesENS_3mpl7vector2ISsRS5_EEEEED1Ev\r\n",
      "0000000000004c40 t _ZN5boost6python7objects23caller_py_function_implINS0_6detail6callerIM5WorldFSsvENS0_21default_call_policiesENS_3mpl7vector2ISsRS5_EEEEED2Ev\r\n",
      "0000000000005160 t _ZN5boost6python7objects23caller_py_function_implINS0_6detail6callerIM5WorldFvSsENS0_21default_call_policiesENS_3mpl7vector3IvRS5_SsEEEEEclEP7_objectSG_\r\n",
      "0000000000004c20 t _ZN5boost6python7objects23caller_py_function_implINS0_6detail6callerIM5WorldFvSsENS0_21default_call_policiesENS_3mpl7vector3IvRS5_SsEEEEED0Ev\r\n",
      "0000000000004c00 t _ZN5boost6python7objects23caller_py_function_implINS0_6detail6callerIM5WorldFvSsENS0_21default_call_policiesENS_3mpl7vector3IvRS5_SsEEEEED1Ev\r\n",
      "0000000000004c00 t _ZN5boost6python7objects23caller_py_function_implINS0_6detail6callerIM5WorldFvSsENS0_21default_call_policiesENS_3mpl7vector3IvRS5_SsEEEEED2Ev\r\n",
      "0000000000004690 t _ZN5boost6python7objects28non_polymorphic_id_generatorI5WorldE7executeEPv\r\n",
      "0000000000004e90 t _ZN5boost6python9converter21as_to_python_functionI5WorldNS0_7objects18class_cref_wrapperIS3_NS4_13make_instanceIS3_NS4_12value_holderIS3_EEEEEEE7convertEPKv\r\n",
      "00000000000047f0 t _ZN5boost6python9converter22shared_ptr_from_pythonI5WorldE11convertibleEP7_object\r\n",
      "0000000000004f60 t _ZN5boost6python9converter22shared_ptr_from_pythonI5WorldE9constructEP7_objectPNS1_30rvalue_from_python_stage1_dataE\r\n",
      "0000000000004b30 t _ZN5boost6python9converter23expected_pytype_for_argIR5WorldE10get_pytypeEv\r\n",
      "0000000000004780 t _ZN5boost6python9converter32expected_from_python_type_directI5WorldE10get_pytypeEv\r\n",
      "0000000000207380 u _ZN5boost6python9converter6detail15registered_baseIRVK5WorldE10convertersE\r\n",
      "0000000000004770 t _ZN5World3setESs\r\n",
      "0000000000004760 t _ZN5World5greetEv\r\n",
      "0000000000004700 t _ZNK5boost6python7objects23caller_py_function_implINS0_6detail6callerIM5WorldFSsvENS0_21default_call_policiesENS_3mpl7vector2ISsRS5_EEEEE9min_arityEv\r\n",
      "0000000000004a10 t _ZNK5boost6python7objects23caller_py_function_implINS0_6detail6callerIM5WorldFSsvENS0_21default_call_policiesENS_3mpl7vector2ISsRS5_EEEEE9signatureEv\r\n",
      "00000000000046f0 t _ZNK5boost6python7objects23caller_py_function_implINS0_6detail6callerIM5WorldFvSsENS0_21default_call_policiesENS_3mpl7vector3IvRS5_SsEEEEE9min_arityEv\r\n",
      "0000000000004970 t _ZNK5boost6python7objects23caller_py_function_implINS0_6detail6callerIM5WorldFvSsENS0_21default_call_policiesENS_3mpl7vector3IvRS5_SsEEEEE9signatureEv\r\n",
      "0000000000206a10 V _ZTIN5boost6python7objects12value_holderI5WorldEE\r\n",
      "0000000000206a30 V _ZTIN5boost6python7objects23caller_py_function_implINS0_6detail6callerIM5WorldFSsvENS0_21default_call_policiesENS_3mpl7vector2ISsRS5_EEEEEE\r\n",
      "0000000000206a50 V _ZTIN5boost6python7objects23caller_py_function_implINS0_6detail6callerIM5WorldFvSsENS0_21default_call_policiesENS_3mpl7vector3IvRS5_SsEEEEEE\r\n",
      "00000000000054ae V _ZTS5World\r\n",
      "0000000000005610 V _ZTSN5boost10shared_ptrI5WorldEE\r\n",
      "0000000000005480 V _ZTSN5boost6python7objects12value_holderI5WorldEE\r\n",
      "00000000000054c0 V _ZTSN5boost6python7objects23caller_py_function_implINS0_6detail6callerIM5WorldFSsvENS0_21default_call_policiesENS_3mpl7vector2ISsRS5_EEEEEE\r\n",
      "0000000000005580 V _ZTSN5boost6python7objects23caller_py_function_implINS0_6detail6callerIM5WorldFvSsENS0_21default_call_policiesENS_3mpl7vector3IvRS5_SsEEEEEE\r\n",
      "0000000000206b00 V _ZTVN5boost6python7objects12value_holderI5WorldEE\r\n",
      "0000000000206b40 V _ZTVN5boost6python7objects23caller_py_function_implINS0_6detail6callerIM5WorldFSsvENS0_21default_call_policiesENS_3mpl7vector2ISsRS5_EEEEEE\r\n",
      "0000000000206b80 V _ZTVN5boost6python7objects23caller_py_function_implINS0_6detail6callerIM5WorldFvSsENS0_21default_call_policiesENS_3mpl7vector3IvRS5_SsEEEEEE\r\n",
      "0000000000207210 u _ZZN5boost6python6detail12caller_arityILj1EE4implIM5WorldFSsvENS0_21default_call_policiesENS_3mpl7vector2ISsRS5_EEE9signatureEvE3ret\r\n",
      "00000000002069c0 u _ZZN5boost6python6detail12caller_arityILj2EE4implIM5WorldFvSsENS0_21default_call_policiesENS_3mpl7vector3IvRS5_SsEEE9signatureEvE3ret\r\n",
      "00000000002071c0 u _ZZN5boost6python6detail15signature_arityILj1EE4implINS_3mpl7vector2ISsR5WorldEEE8elementsEvE6result\r\n",
      "0000000000207240 u _ZZN5boost6python6detail15signature_arityILj2EE4implINS_3mpl7vector3IvR5WorldSsEEE8elementsEvE6result\r\n"
     ]
    }
   ],
   "source": [
    "!nm /home/guillaume/anaconda/envs/python3/lib/python3.4/site-packages/tyssue/libtyssue_core.so | grep World\n",
    "\n"
   ]
  },
  {
   "cell_type": "code",
   "execution_count": 5,
   "metadata": {
    "collapsed": false
   },
   "outputs": [
    {
     "name": "stdout",
     "output_type": "stream",
     "text": [
      "core\t      draw     __init__.py\t  libtyssue_core.so\r\n",
      "dl_import.py  include  libtyssue_core.la  __pycache__\r\n"
     ]
    }
   ],
   "source": [
    "!ls /home/guillaume/anaconda/envs/python3/lib/python3.4/site-packages/tyssue/\n"
   ]
  },
  {
   "cell_type": "code",
   "execution_count": null,
   "metadata": {
    "collapsed": true
   },
   "outputs": [],
   "source": []
  }
 ],
 "metadata": {
  "kernelspec": {
   "display_name": "Python 3",
   "language": "python",
   "name": "python3"
  },
  "language_info": {
   "codemirror_mode": {
    "name": "ipython",
    "version": 3
   },
   "file_extension": ".py",
   "mimetype": "text/x-python",
   "name": "python",
   "nbconvert_exporter": "python",
   "pygments_lexer": "ipython3",
   "version": "3.4.3"
  }
 },
 "nbformat": 4,
 "nbformat_minor": 0
}
