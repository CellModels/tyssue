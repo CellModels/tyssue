{
 "cells": [
  {
   "cell_type": "code",
   "execution_count": 1,
   "metadata": {
    "collapsed": false,
    "scrolled": true
   },
   "outputs": [
    {
     "ename": "ImportError",
     "evalue": "/home/guillaume/anaconda/envs/python3/lib/libtyssue_core.so: undefined symbol: _ZN3Uid2idE",
     "output_type": "error",
     "traceback": [
      "\u001b[1;31m---------------------------------------------------------------------------\u001b[0m",
      "\u001b[1;31mImportError\u001b[0m                               Traceback (most recent call last)",
      "\u001b[1;32m<ipython-input-1-5aec49483c66>\u001b[0m in \u001b[0;36m<module>\u001b[1;34m()\u001b[0m\n\u001b[0;32m      1\u001b[0m \u001b[0mget_ipython\u001b[0m\u001b[1;33m(\u001b[0m\u001b[1;33m)\u001b[0m\u001b[1;33m.\u001b[0m\u001b[0mmagic\u001b[0m\u001b[1;33m(\u001b[0m\u001b[1;34m'load_ext autoreload'\u001b[0m\u001b[1;33m)\u001b[0m\u001b[1;33m\u001b[0m\u001b[0m\n\u001b[0;32m      2\u001b[0m \u001b[0mget_ipython\u001b[0m\u001b[1;33m(\u001b[0m\u001b[1;33m)\u001b[0m\u001b[1;33m.\u001b[0m\u001b[0mmagic\u001b[0m\u001b[1;33m(\u001b[0m\u001b[1;34m'autoreload 2'\u001b[0m\u001b[1;33m)\u001b[0m\u001b[1;33m\u001b[0m\u001b[0m\n\u001b[1;32m----> 3\u001b[1;33m \u001b[1;32mimport\u001b[0m \u001b[0mtyssue\u001b[0m\u001b[1;33m\u001b[0m\u001b[0m\n\u001b[0m",
      "\u001b[1;32m/home/guillaume/anaconda/envs/python3/lib/python3.4/site-packages/tyssue-0.1-py3.4.egg/tyssue/__init__.py\u001b[0m in \u001b[0;36m<module>\u001b[1;34m()\u001b[0m\n\u001b[1;32m----> 1\u001b[1;33m \u001b[1;32mfrom\u001b[0m \u001b[1;33m.\u001b[0m\u001b[0mcore\u001b[0m \u001b[1;32mimport\u001b[0m \u001b[0mobjects\u001b[0m\u001b[1;33m\u001b[0m\u001b[0m\n\u001b[0m",
      "\u001b[1;32m/home/guillaume/anaconda/envs/python3/lib/python3.4/site-packages/tyssue-0.1-py3.4.egg/tyssue/core/__init__.py\u001b[0m in \u001b[0;36m<module>\u001b[1;34m()\u001b[0m\n\u001b[0;32m      5\u001b[0m \u001b[0msys\u001b[0m\u001b[1;33m.\u001b[0m\u001b[0mpath\u001b[0m\u001b[1;33m.\u001b[0m\u001b[0mappend\u001b[0m\u001b[1;33m(\u001b[0m\u001b[0mld_library_path\u001b[0m\u001b[1;33m)\u001b[0m\u001b[1;33m\u001b[0m\u001b[0m\n\u001b[0;32m      6\u001b[0m \u001b[1;33m\u001b[0m\u001b[0m\n\u001b[1;32m----> 7\u001b[1;33m \u001b[1;32mfrom\u001b[0m \u001b[1;33m.\u001b[0m\u001b[0mobjects\u001b[0m \u001b[1;32mimport\u001b[0m \u001b[0mEpithelium\u001b[0m\u001b[1;33m,\u001b[0m \u001b[0mVertex\u001b[0m\u001b[1;33m,\u001b[0m \u001b[0mEdge\u001b[0m\u001b[1;33m,\u001b[0m \u001b[0mFace\u001b[0m\u001b[1;33m,\u001b[0m \u001b[0mVolume\u001b[0m\u001b[1;33m,\u001b[0m \u001b[0mCell\u001b[0m\u001b[1;33m,\u001b[0m \u001b[0mtest_import\u001b[0m\u001b[1;33m\u001b[0m\u001b[0m\n\u001b[0m\u001b[0;32m      8\u001b[0m \u001b[1;32mfrom\u001b[0m \u001b[0mlibtyssue_core\u001b[0m \u001b[1;32mimport\u001b[0m \u001b[0mmake_hexagon\u001b[0m\u001b[1;33m\u001b[0m\u001b[0m\n",
      "\u001b[1;32m/home/guillaume/anaconda/envs/python3/lib/python3.4/site-packages/tyssue-0.1-py3.4.egg/tyssue/core/objects.py\u001b[0m in \u001b[0;36m<module>\u001b[1;34m()\u001b[0m\n\u001b[1;32m----> 1\u001b[1;33m \u001b[1;32mimport\u001b[0m \u001b[0mlibtyssue_core\u001b[0m \u001b[1;32mas\u001b[0m \u001b[0mlibcore\u001b[0m\u001b[1;33m\u001b[0m\u001b[0m\n\u001b[0m\u001b[0;32m      2\u001b[0m \u001b[1;32mfrom\u001b[0m \u001b[1;33m.\u001b[0m\u001b[1;33m.\u001b[0m\u001b[0mdl_import\u001b[0m \u001b[1;32mimport\u001b[0m \u001b[0mdl_import\u001b[0m\u001b[1;33m\u001b[0m\u001b[0m\n\u001b[0;32m      3\u001b[0m \u001b[1;33m\u001b[0m\u001b[0m\n\u001b[0;32m      4\u001b[0m \u001b[1;32mimport\u001b[0m \u001b[0mlogging\u001b[0m\u001b[1;33m\u001b[0m\u001b[0m\n\u001b[0;32m      5\u001b[0m \u001b[1;33m\u001b[0m\u001b[0m\n",
      "\u001b[1;31mImportError\u001b[0m: /home/guillaume/anaconda/envs/python3/lib/libtyssue_core.so: undefined symbol: _ZN3Uid2idE"
     ]
    }
   ],
   "source": [
    "%load_ext autoreload\n",
    "%autoreload 2\n",
    "import tyssue\n"
   ]
  },
  {
   "cell_type": "code",
   "execution_count": 2,
   "metadata": {
    "collapsed": false
   },
   "outputs": [],
   "source": [
    "eptm = tyssue.core.Epithelium()"
   ]
  },
  {
   "cell_type": "code",
   "execution_count": 3,
   "metadata": {
    "collapsed": false
   },
   "outputs": [
    {
     "data": {
      "text/plain": [
       "<tyssue.core.objects.Epithelium at 0x7f5da21354a8>"
      ]
     },
     "execution_count": 3,
     "metadata": {},
     "output_type": "execute_result"
    }
   ],
   "source": [
    "eptm"
   ]
  },
  {
   "cell_type": "code",
   "execution_count": 4,
   "metadata": {
    "collapsed": false
   },
   "outputs": [],
   "source": [
    "tyssue.core.make_hexagon(eptm.ceptm)"
   ]
  },
  {
   "cell_type": "code",
   "execution_count": 5,
   "metadata": {
    "collapsed": false
   },
   "outputs": [
    {
     "ename": "AttributeError",
     "evalue": "'Epithelium' object has no attribute 'num_jvs'",
     "output_type": "error",
     "traceback": [
      "\u001b[1;31m---------------------------------------------------------------------------\u001b[0m",
      "\u001b[1;31mAttributeError\u001b[0m                            Traceback (most recent call last)",
      "\u001b[1;32m<ipython-input-5-59cb7281024d>\u001b[0m in \u001b[0;36m<module>\u001b[1;34m()\u001b[0m\n\u001b[1;32m----> 1\u001b[1;33m \u001b[0meptm\u001b[0m\u001b[1;33m.\u001b[0m\u001b[0mnum_jvs\u001b[0m\u001b[1;33m(\u001b[0m\u001b[1;33m)\u001b[0m\u001b[1;33m,\u001b[0m \u001b[0meptm\u001b[0m\u001b[1;33m.\u001b[0m\u001b[0mnum_jes\u001b[0m\u001b[1;33m(\u001b[0m\u001b[1;33m)\u001b[0m\u001b[1;33m,\u001b[0m \u001b[0meptm\u001b[0m\u001b[1;33m.\u001b[0m\u001b[0mnum_cells\u001b[0m\u001b[1;33m(\u001b[0m\u001b[1;33m)\u001b[0m\u001b[1;33m\u001b[0m\u001b[0m\n\u001b[0m",
      "\u001b[1;31mAttributeError\u001b[0m: 'Epithelium' object has no attribute 'num_jvs'"
     ]
    }
   ],
   "source": [
    "eptm.num_jvs(), eptm.num_jes(), eptm.num_cells()"
   ]
  },
  {
   "cell_type": "code",
   "execution_count": 4,
   "metadata": {
    "collapsed": false
   },
   "outputs": [
    {
     "name": "stdout",
     "output_type": "stream",
     "text": [
      "0000000000207358 u _ZGVN5boost6python9converter6detail15registered_baseIRVK5WorldE10convertersE\r\n",
      "0000000000207350 u _ZGVZN5boost6python6detail12caller_arityILj1EE4implIM5WorldFSsvENS0_21default_call_policiesENS_3mpl7vector2ISsRS5_EEE9signatureEvE3ret\r\n",
      "0000000000207338 u _ZGVZN5boost6python6detail15signature_arityILj1EE4implINS_3mpl7vector2ISsR5WorldEEE8elementsEvE6result\r\n",
      "0000000000207340 u _ZGVZN5boost6python6detail15signature_arityILj2EE4implINS_3mpl7vector3IvR5WorldSsEEE8elementsEvE6result\r\n",
      "00000000000046a0 t _ZN5boost6python19to_python_converterI5WorldNS0_7objects18class_cref_wrapperIS2_NS3_13make_instanceIS2_NS3_12value_holderIS2_EEEEEELb1EE15get_pytype_implEv\r\n",
      "0000000000004860 t _ZN5boost6python7objects11make_holderILi0EE5applyINS1_12value_holderI5WorldEENS_3mpl7vector0IN4mpl_2naEEEE7executeEP7_object\r\n",
      "0000000000004820 W _ZN5boost6python7objects12value_holderI5WorldE5holdsENS0_9type_infoEb\r\n",
      "0000000000004d20 t _ZN5boost6python7objects12value_holderI5WorldED0Ev\r\n",
      "0000000000004cb0 t _ZN5boost6python7objects12value_holderI5WorldED1Ev\r\n",
      "0000000000004cb0 t _ZN5boost6python7objects12value_holderI5WorldED2Ev\r\n",
      "0000000000004da0 t _ZN5boost6python7objects23caller_py_function_implINS0_6detail6callerIM5WorldFSsvENS0_21default_call_policiesENS_3mpl7vector2ISsRS5_EEEEEclEP7_objectSG_\r\n",
      "0000000000004c60 t _ZN5boost6python7objects23caller_py_function_implINS0_6detail6callerIM5WorldFSsvENS0_21default_call_policiesENS_3mpl7vector2ISsRS5_EEEEED0Ev\r\n",
      "0000000000004c40 t _ZN5boost6python7objects23caller_py_function_implINS0_6detail6callerIM5WorldFSsvENS0_21default_call_policiesENS_3mpl7vector2ISsRS5_EEEEED1Ev\r\n",
      "0000000000004c40 t _ZN5boost6python7objects23caller_py_function_implINS0_6detail6callerIM5WorldFSsvENS0_21default_call_policiesENS_3mpl7vector2ISsRS5_EEEEED2Ev\r\n",
      "0000000000005160 t _ZN5boost6python7objects23caller_py_function_implINS0_6detail6callerIM5WorldFvSsENS0_21default_call_policiesENS_3mpl7vector3IvRS5_SsEEEEEclEP7_objectSG_\r\n",
      "0000000000004c20 t _ZN5boost6python7objects23caller_py_function_implINS0_6detail6callerIM5WorldFvSsENS0_21default_call_policiesENS_3mpl7vector3IvRS5_SsEEEEED0Ev\r\n",
      "0000000000004c00 t _ZN5boost6python7objects23caller_py_function_implINS0_6detail6callerIM5WorldFvSsENS0_21default_call_policiesENS_3mpl7vector3IvRS5_SsEEEEED1Ev\r\n",
      "0000000000004c00 t _ZN5boost6python7objects23caller_py_function_implINS0_6detail6callerIM5WorldFvSsENS0_21default_call_policiesENS_3mpl7vector3IvRS5_SsEEEEED2Ev\r\n",
      "0000000000004690 t _ZN5boost6python7objects28non_polymorphic_id_generatorI5WorldE7executeEPv\r\n",
      "0000000000004e90 t _ZN5boost6python9converter21as_to_python_functionI5WorldNS0_7objects18class_cref_wrapperIS3_NS4_13make_instanceIS3_NS4_12value_holderIS3_EEEEEEE7convertEPKv\r\n",
      "00000000000047f0 t _ZN5boost6python9converter22shared_ptr_from_pythonI5WorldE11convertibleEP7_object\r\n",
      "0000000000004f60 t _ZN5boost6python9converter22shared_ptr_from_pythonI5WorldE9constructEP7_objectPNS1_30rvalue_from_python_stage1_dataE\r\n",
      "0000000000004b30 t _ZN5boost6python9converter23expected_pytype_for_argIR5WorldE10get_pytypeEv\r\n",
      "0000000000004780 t _ZN5boost6python9converter32expected_from_python_type_directI5WorldE10get_pytypeEv\r\n",
      "0000000000207380 u _ZN5boost6python9converter6detail15registered_baseIRVK5WorldE10convertersE\r\n",
      "0000000000004770 t _ZN5World3setESs\r\n",
      "0000000000004760 t _ZN5World5greetEv\r\n",
      "0000000000004700 t _ZNK5boost6python7objects23caller_py_function_implINS0_6detail6callerIM5WorldFSsvENS0_21default_call_policiesENS_3mpl7vector2ISsRS5_EEEEE9min_arityEv\r\n",
      "0000000000004a10 t _ZNK5boost6python7objects23caller_py_function_implINS0_6detail6callerIM5WorldFSsvENS0_21default_call_policiesENS_3mpl7vector2ISsRS5_EEEEE9signatureEv\r\n",
      "00000000000046f0 t _ZNK5boost6python7objects23caller_py_function_implINS0_6detail6callerIM5WorldFvSsENS0_21default_call_policiesENS_3mpl7vector3IvRS5_SsEEEEE9min_arityEv\r\n",
      "0000000000004970 t _ZNK5boost6python7objects23caller_py_function_implINS0_6detail6callerIM5WorldFvSsENS0_21default_call_policiesENS_3mpl7vector3IvRS5_SsEEEEE9signatureEv\r\n",
      "0000000000206a10 V _ZTIN5boost6python7objects12value_holderI5WorldEE\r\n",
      "0000000000206a30 V _ZTIN5boost6python7objects23caller_py_function_implINS0_6detail6callerIM5WorldFSsvENS0_21default_call_policiesENS_3mpl7vector2ISsRS5_EEEEEE\r\n",
      "0000000000206a50 V _ZTIN5boost6python7objects23caller_py_function_implINS0_6detail6callerIM5WorldFvSsENS0_21default_call_policiesENS_3mpl7vector3IvRS5_SsEEEEEE\r\n",
      "00000000000054ae V _ZTS5World\r\n",
      "0000000000005610 V _ZTSN5boost10shared_ptrI5WorldEE\r\n",
      "0000000000005480 V _ZTSN5boost6python7objects12value_holderI5WorldEE\r\n",
      "00000000000054c0 V _ZTSN5boost6python7objects23caller_py_function_implINS0_6detail6callerIM5WorldFSsvENS0_21default_call_policiesENS_3mpl7vector2ISsRS5_EEEEEE\r\n",
      "0000000000005580 V _ZTSN5boost6python7objects23caller_py_function_implINS0_6detail6callerIM5WorldFvSsENS0_21default_call_policiesENS_3mpl7vector3IvRS5_SsEEEEEE\r\n",
      "0000000000206b00 V _ZTVN5boost6python7objects12value_holderI5WorldEE\r\n",
      "0000000000206b40 V _ZTVN5boost6python7objects23caller_py_function_implINS0_6detail6callerIM5WorldFSsvENS0_21default_call_policiesENS_3mpl7vector2ISsRS5_EEEEEE\r\n",
      "0000000000206b80 V _ZTVN5boost6python7objects23caller_py_function_implINS0_6detail6callerIM5WorldFvSsENS0_21default_call_policiesENS_3mpl7vector3IvRS5_SsEEEEEE\r\n",
      "0000000000207210 u _ZZN5boost6python6detail12caller_arityILj1EE4implIM5WorldFSsvENS0_21default_call_policiesENS_3mpl7vector2ISsRS5_EEE9signatureEvE3ret\r\n",
      "00000000002069c0 u _ZZN5boost6python6detail12caller_arityILj2EE4implIM5WorldFvSsENS0_21default_call_policiesENS_3mpl7vector3IvRS5_SsEEE9signatureEvE3ret\r\n",
      "00000000002071c0 u _ZZN5boost6python6detail15signature_arityILj1EE4implINS_3mpl7vector2ISsR5WorldEEE8elementsEvE6result\r\n",
      "0000000000207240 u _ZZN5boost6python6detail15signature_arityILj2EE4implINS_3mpl7vector3IvR5WorldSsEEE8elementsEvE6result\r\n"
     ]
    }
   ],
   "source": [
    "!nm /home/guillaume/anaconda/envs/python3/lib/python3.4/site-packages/tyssue/libtyssue_core.so | grep World\n",
    "\n"
   ]
  },
  {
   "cell_type": "code",
   "execution_count": 5,
   "metadata": {
    "collapsed": false
   },
   "outputs": [
    {
     "name": "stdout",
     "output_type": "stream",
     "text": [
      "core\t      draw     __init__.py\t  libtyssue_core.so\r\n",
      "dl_import.py  include  libtyssue_core.la  __pycache__\r\n"
     ]
    }
   ],
   "source": [
    "!ls /home/guillaume/anaconda/envs/python3/lib/python3.4/site-packages/tyssue/\n"
   ]
  },
  {
   "cell_type": "code",
   "execution_count": null,
   "metadata": {
    "collapsed": true
   },
   "outputs": [],
   "source": []
  }
 ],
 "metadata": {
  "kernelspec": {
   "display_name": "Python 3",
   "language": "python",
   "name": "python3"
  },
  "language_info": {
   "codemirror_mode": {
    "name": "ipython",
    "version": 3
   },
   "file_extension": ".py",
   "mimetype": "text/x-python",
   "name": "python",
   "nbconvert_exporter": "python",
   "pygments_lexer": "ipython3",
   "version": "3.4.3"
  }
 },
 "nbformat": 4,
 "nbformat_minor": 0
}
