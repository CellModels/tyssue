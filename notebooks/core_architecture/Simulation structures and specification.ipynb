{
 "cells": [
  {
   "cell_type": "markdown",
   "metadata": {},
   "source": [
    "\n",
    "# We seek to build a generic architecture to model an epithelium.\n",
    "\n",
    "<hr/>\n",
    "\n",
    "## Documentation\n",
    "\n",
    "### Boost\n",
    "\n",
    "* [Official boost.python  documentation](http://www.boost.org/doc/libs/1_58_0/libs/python/doc/index.html)\n",
    "* [Boost.python on python wiki](https://wiki.python.org/moin/boost.python/HowTo)\n",
    "* [Workshop at scipy 2014 on boost-python](https://github.com/jcfr/scipy2014_boost_python_workshop_student_material)\n",
    "* [Neet mingling of boost::python in an IPython notebook](https://github.com/abingham/boost_python_tutorial)\n",
    "\n",
    "\n",
    "The `graph_tool` library is a very good example of higly efficient, complete and complex boost based python library: \n",
    "* [graph-tool source code](https://git.skewed.de/count0/graph-tool/tree/master)\n",
    "\n",
    "### CGAL\n",
    "* [CGAL documentation](http://doc.cgal.org)\n",
    "* [CGAL Polyhedron](http://doc.cgal.org/latest/Polyhedron/index.html)\n",
    "* [CGAL LinearCellComplex](http://doc.cgal.org/latest/Linear_cell_complex/group__PkgLinearCellComplex.html)\n",
    "* [CGAL CombinatorialMap](http://doc.cgal.org/latest/Combinatorial_map/index.html#ChapterCombinatorialMap)\n",
    "\n",
    "\n",
    "\n",
    "## Models we want to simulate\n",
    "\n",
    "The first model that will be implemented is the one described in\n",
    "Monier et al. [monier2015apico]. It is an example of a vertex model,\n",
    "where the interactions are only evaluated on the apical surface sheet\n",
    "of the epithelium. The second class of models are still at an\n",
    "stage. They implement a description of the tissue's rheology, within a\n",
    "dissipation function formalism.\n",
    "\n",
    "![Examples of possible models](../../doc/illus/two_models.png)"
   ]
  },
  {
   "cell_type": "markdown",
   "metadata": {},
   "source": [
    "## Class diagram\n",
    "\n",
    "The graphic below details the various objects modeled here. Each of those are implemented as an abstract class. If one considers the model in Monier et al. [monier2015apico], the apical sheet is consituted of vertices and edges, representing apical junctions. This geometry can be generalized to model 3D columnar cells constituted of apical, basal and equatorial meshes, linked by sagital edges. Depending on the model, a subset of those junctions will be used. Each cell interacts with its neighbour through its junctions. An epithelium is then a graph of interacting cells, with two cells neighbouring cells sharing a junction.\n",
    "\n",
    "There are two interesting libraries to deal with the objects we whish to consider. The first one, [`CGAL::Polyhedron`](http://doc.cgal.org/latest/Polyhedron/index.html) can only represent surfaces, and can't be used for the general 3D tissue. The second one, [`CGAL::LinearCellComplex`](http://doc.cgal.org/latest/Linear_cell_complex/group__PkgLinearCellComplex.html) is suited for all our models. The `Polyhedron` model is simpler though, and there's a [function](http://doc.cgal.org/latest/Linear_cell_complex/group__PkgLinearCellComplexConstructions.html#ga9239e988c6d5e674d64438d47b95a548) that can create `LCC` objects form `Polyhedron` instances. In order to ease the porting of the `leg-joint` simulations to the new architecture, we'll first develop this model within the `Polyhedron` framework, and then generalized with the LCC.\n",
    "\n",
    "### `Polyhedron` class diagramm\n",
    "\n",
    "Here is a representation of the data structure defined by the `CGAL::Polyhedron` data structure:\n",
    "\n",
    "![Definition of a polyedron_3 data structure from CGAL's doc](http://doc.cgal.org/latest/Polyhedron/halfedge_small.png)\n",
    "\n",
    "When modeling an epithelium sheet (apical, basal or sagital), there is a direct equivalence between:\n",
    "\n",
    "* Junction vertex and Vertex \n",
    "* Junction edge and Edge (represented by two halfedges)\n",
    "* Facet and cell\n",
    "\n",
    "![Class diagram for polyhedron](../../doc/illus/class_diagramm_poly.png)\n",
    "\n",
    "\n",
    "\n",
    "\n",
    "### `LCC` class diagramm\n",
    "\n",
    "\n",
    "All the physical objects are represented by CGAL Linear Cell Complexes - in short LCC, that are specialized versions of CGAL Combinatorial Maps. Vertices are 0-cells (associated to a Point object in the LCC), edges 1-cells, faces are 2-cells and volumes are 3-cells [1]. With this concept, individual cells as well as the whole epithelium are represented by a LCC. As can be seen by browsing the above linked documentations, this very general framework provides efficient ways to represent the tissue and common events such as cell division (using lcc.insert_point_in_cell). For a given model, only subsets of these objects might be needed, but we'll try to keep the various definitions as generic as possible, for example by defining cell division irrespective of the detailed geometry of the cell, through template meta-programming\n",
    "\n",
    "\n",
    "![Class diagram](../../doc/illus/class_diagram.png)\n",
    "_Not meant to be ULM compliant_\n",
    "\n",
    "\n",
    "Note that we might need to further sub-class CGAL's LinearCellComplex to take into account the possibility of curved edges and faces in the vertex rheology models.\n",
    "\n",
    "### LinearCellComplex in CGAL\n",
    "\n",
    "In CGAL, the LinearCellComplex defines linear oriented nD objects. In 2D, this representation is equivalent to the [HalfEdge data structure](http://doc.cgal.org/latest/HalfedgeDS/index.html#chapterHalfedgeDS) and could be implemented as [Polygon_3](http://doc.cgal.org/latest/Polyhedron/group__PkgPolyhedron.html). The advantage of LCC over halfedges is it's extensibility to 3 dimentions and dimention agnostic aspects.\n",
    "\n",
    "![Schematic of a CGAL LCC](http://doc.cgal.org/latest/Linear_cell_complex/lcc-examples-2d-3d.png)\n",
    "\n",
    "As a LCC is a CombinatorialMap, and as such is **edge centered**. A combinatorial map is a set of **darts** linking all its elements. The concept of darts and $\\beta_i$ pointers is discussed at length in CGAL documentation. We will mainly use them to define custom iterators over the various elements of our tissues. \n",
    "\n",
    "#### Over libraries of interest in CGAL\n",
    "\n",
    "* [Boost property maps](http://doc.cgal.org/latest/Property_map/index.html)\n",
    "* [I/O](http://doc.cgal.org/latest/Stream_support/index.html#Chapter_IO_Streams). We might prefer to\n",
    "  defer I/O to python, though.\n"
   ]
  },
  {
   "cell_type": "markdown",
   "metadata": {},
   "source": [
    "## Definitions of the building blocks\n",
    "\n",
    "The sketch below details the overall tissue organisation, and the different building blocks a tissue is composed of.\n",
    "\n",
    "![Objects architecture](../../doc/illus/objects_architecture.png)\n",
    "\n",
    "Note that the vertex called \"cell vertex\" and the \"cell to junction\" edges are an oversegmentation of the tissue, that might be usefull to compute geometrical properties or for visualisation (as a mesh). Actual cells can be represented by a single n-cell LCC, or a combination of n-cells LCC, where n is the tissue dimention (n is 2 for a sheet, 3 for a volume).\n",
    "\n",
    "\n",
    "###  Notations\n",
    "\n",
    "\n",
    "| Object   | index notation  | iterator notation  |\n",
    "| -------- | ---------------- | ------------------- |\n",
    "| Junction vertex | $jv^a_i$ | $i = {0, \\cdots, N_{ajv}}$ |\n",
    "| Bulk vertex | $bv^a_\\alpha$  | $\\alpha = {0, \\cdots, N_{c}}$  |\n",
    "| Junction edge | $je^a_{ij}$ | $i,j / j \\neq i, (i, j) \\in C(i)$ |\n",
    "\n",
    "Here $C(i)$ is the set of junction edges going out of vertex $i$. The superscript $a$ stends for apical."
   ]
  },
  {
   "cell_type": "markdown",
   "metadata": {},
   "source": [
    "### Project file structure\n",
    "\n",
    "* [tyssue project](../../)\n",
    "    - [notebooks](../)\n",
    "        * sympy _Models implementation in sympy_\n",
    "        * core-architecture _Technical documentation of the project implementation_\n",
    "        * simulations _Documentation of the python frontend_\n",
    "    - [illus](../../illus) _Sketches and illustrations_\n",
    "    - [src](../../src) _The source code_\n",
    "        * cpp-tyssue _C++ files_\n",
    "        * tyssue _Python bindings_\n",
    "        "
   ]
  },
  {
   "cell_type": "markdown",
   "metadata": {},
   "source": [
    "## Python implementation of the class structure\n",
    "\n"
   ]
  },
  {
   "cell_type": "code",
   "execution_count": 1,
   "metadata": {
    "collapsed": false
   },
   "outputs": [],
   "source": [
    "import numpy as np\n",
    "import pandas as pd\n",
    "\n",
    "import matplotlib.pylab as plt\n",
    "%matplotlib inline\n"
   ]
  },
  {
   "cell_type": "markdown",
   "metadata": {},
   "source": [
    "### Data format\n",
    "\n",
    "Linear Cell complexes in CGAL can be constructed from a graph input as `std::istream & ais`. [From the docs](http://doc.cgal.org/latest/Linear_cell_complex/group__PkgLinearCellComplexConstructions.html#gaa356d78601f8844476fc2e039f0df83e)):\n",
    "\n",
    "\n",
    ">The file format must be the following. First the number of vertices and the number of edges of the planar graph. Then, for each vertex of the planar graph, the coordinates of the $i^{th}$ vertex (two numbers for x and y coordinates). The first vertex index is 0. Then for each edge of the planar graph, the two indices of the two vertices (two numbers between 0 and the number of vertices minus 1).\n",
    "\n",
    "\n",
    "Let's see if we can reproduce this format from nd arrays\n",
    "\n",
    "\n",
    "### Minimal epithelium\n",
    "\n",
    "For now, we'll mimick the CGAL component by hand for a minimal epithelium pictured below:\n",
    "\n",
    "![Minimal 2D Epithelium](../../doc/illus/minimal_eptm_2D.svg)\n",
    "\n"
   ]
  },
  {
   "cell_type": "code",
   "execution_count": 2,
   "metadata": {
    "collapsed": false
   },
   "outputs": [],
   "source": [
    "Nc = 3 # Number of cells\n",
    "\n",
    "points = np.array([[0., 0.],\n",
    "                   [1.0, 0.0],\n",
    "                   [1.5, 0.866],\n",
    "                   [1.0, 1.732],\n",
    "                   [0.0, 1.732],\n",
    "                   [-0.5, 0.866],\n",
    "                   [-1.5, 0.866],\n",
    "                   [-2, 0.],\n",
    "                   [-1.5, -0.866],\n",
    "                   [-0.5, -0.866],\n",
    "                   [0, -1.732],\n",
    "                   [1, -1.732],\n",
    "                   [1.5, -0.866]])\n",
    "\n",
    "edges = np.array([[0, 1],\n",
    "                  [1, 2],\n",
    "                  [2, 3],\n",
    "                  [3, 4],\n",
    "                  [4, 5],\n",
    "                  [5, 0],\n",
    "                  [5, 6],\n",
    "                  [6, 7],\n",
    "                  [7, 8],\n",
    "                  [8, 9],\n",
    "                  [9, 0],\n",
    "                  [9, 10],\n",
    "                  [10, 11],\n",
    "                  [11, 12],\n",
    "                  [12, 1]])\n",
    "\n",
    "Nv, Ne = len(points), len(edges)\n"
   ]
  },
  {
   "cell_type": "code",
   "execution_count": 3,
   "metadata": {
    "collapsed": false
   },
   "outputs": [
    {
     "data": {
      "image/png": "[encoded data removed]",
      "text/plain": [
       "<matplotlib.figure.Figure at 0x7fc5ec2bf668>"
      ]
     },
     "metadata": {},
     "output_type": "display_data"
    }
   ],
   "source": [
    "\n",
    "fig, ax = plt.subplots()\n",
    "\n",
    "ax.plot(points[:, 0], points[:, 1], 'ko')\n",
    "\n",
    "for s, t in edges:\n",
    "    ax.plot([points[s, 0], points[t, 0]],\n",
    "            [points[s, 1], points[t, 1]], 'b-')\n",
    "ax.set_aspect('equal')\n"
   ]
  },
  {
   "cell_type": "markdown",
   "metadata": {},
   "source": [
    "#### From that it's pretty easy to print the `ais` string refered above:\n",
    "\n",
    "[Numpy print options](http://docs.scipy.org/doc/numpy/reference/generated/numpy.set_printoptions.html) might be usefull here. \n",
    "\n",
    "Also relevant: [a discussion of `std::istream` and `boost::python`](http://stackoverflow.com/questions/24225442/converting-python-io-object-to-stdistream-when-using-boostpython)"
   ]
  },
  {
   "cell_type": "code",
   "execution_count": 4,
   "metadata": {
    "collapsed": false
   },
   "outputs": [
    {
     "name": "stdout",
     "output_type": "stream",
     "text": [
      "ais string:\n",
      "\n",
      "13 15\n",
      "0.0 0.0 1.0 0.0 1.5 0.866 1.0 1.732 0.0 1.732 -0.5 0.866 -1.5 0.866 -2.0 0.0 -1.5 -0.866 -0.5 -0.866 0.0 -1.732 1.0 -1.732 1.5 -0.866\n",
      "0 1 1 2 2 3 3 4 4 5 5 0 5 6 6 7 7 8 8 9 9 0 9 10 10 11 11 12 12 1\n",
      "\n",
      "************\n",
      "\n",
      "OFF string:\n",
      "\n",
      "OFF\n",
      "13 3 15\n",
      "0.0 0.0 0\n",
      "1.0 0.0 0\n",
      "1.5 0.866 0\n",
      "1.0 1.732 0\n",
      "0.0 1.732 0\n",
      "-0.5 0.866 0\n",
      "-1.5 0.866 0\n",
      "-2.0 0.0 0\n",
      "-1.5 -0.866 0\n",
      "-0.5 -0.866 0\n",
      "0.0 -1.732 0\n",
      "1.0 -1.732 0\n",
      "1.5 -0.866 0\n",
      "6 0 1 2 3 4 5\n",
      "6 0 5 6 7 8 9\n",
      "6 0 9 10 11 12 1\n",
      "\n",
      "************\n",
      "\n"
     ]
    }
   ],
   "source": [
    "\n",
    "def ais_string(points, edges):\n",
    "    ais = '\\n'.join(\n",
    "        ['{} {}'.format(Nv, Ne), \n",
    "         ' '.join(['{} {}'.format(x, y) for (x, y) in points]),\n",
    "         ' '.join(['{} {}'.format(srce, trgt) for (srce, trgt) in edges])\n",
    "        ])\n",
    "\n",
    "    return ais\n",
    "\n",
    "print('ais string:\\n')\n",
    "print(ais_string(points, edges))\n",
    "\n",
    "def off_string(points, edges):\n",
    "    '''\n",
    "    Line 1\n",
    "        OFF\n",
    "    Line 2\n",
    "        vertex_count face_count edge_count\n",
    "    One line for each vertex:\n",
    "        x y z\n",
    "        for vertex 0, 1, ..., vertex_count-1\n",
    "    One line for each polygonal face:\n",
    "        n v1 v2 ... vn,\n",
    "        the number of vertices, and the vertex indices for each face. \n",
    "    '''\n",
    "\n",
    "    off_str = 'OFF\\n'\n",
    "    off_str += '{} {} {}\\n'.format(Nv, Nc, Ne)\n",
    "    for p in points:\n",
    "        off_str +='{} {} 0\\n'.format(p[0], p[1])\n",
    "    off_str += '6 0 1 2 3 4 5\\n'\n",
    "    off_str += '6 0 5 6 7 8 9\\n'\n",
    "    off_str += '6 0 9 10 11 12 1\\n'\n",
    "    \n",
    "    return off_str\n",
    "\n",
    "print('\\n************\\n')\n",
    "    \n",
    "print('OFF string:\\n')\n",
    "print(off_string(points, edges))\n",
    "print('************\\n')\n"
   ]
  },
  {
   "cell_type": "markdown",
   "metadata": {},
   "source": [
    "#### Core indexes\n",
    "\n"
   ]
  },
  {
   "cell_type": "code",
   "execution_count": 5,
   "metadata": {
    "collapsed": true
   },
   "outputs": [],
   "source": [
    "cell_idx = pd.Index(range(Nc), name='cell')\n",
    "jv_idx = pd.Index(range(Nv), name='jv')\n",
    "\n",
    "### We'll rely on CGAL for this, of course, but a by-hand test case\n",
    "### won't be wasted\n",
    "_je_idx = [(0, 1, 0),\n",
    "           (1, 2, 0),\n",
    "           (2, 3, 0),\n",
    "           (3, 4, 0),\n",
    "           (4, 5, 0),\n",
    "           (5, 0, 0),\n",
    "           (0, 5, 1),\n",
    "           (5, 6, 1),\n",
    "           (6, 7, 1),\n",
    "           (7, 8, 1),\n",
    "           (8, 9, 1),\n",
    "           (9, 0, 1),\n",
    "           (0, 9, 2),\n",
    "           (9, 10, 2),\n",
    "           (10, 11, 2),\n",
    "           (11, 12, 2),\n",
    "           (12, 1, 2),\n",
    "           (1, 0, 2)]\n",
    "\n",
    "je_idx = pd.MultiIndex.from_tuples(_je_idx, names=['srce', 'trgt', 'cell'])\n",
    "\n",
    "### Cell - cell graph\n",
    "cc_idx = []\n",
    "for srce0, trgt0, cell0 in je_idx:\n",
    "    for srce1, trgt1, cell1 in je_idx:\n",
    "        if (cell0 != cell1 \n",
    "            and trgt0 == srce1\n",
    "            and trgt1 == srce0\n",
    "            and not (cell1, cell0) in cc_idx):\n",
    "            cc_idx.append((cell0, cell1))\n",
    "cc_idx = pd.MultiIndex.from_tuples(cc_idx, names=['cella', 'cellb'])"
   ]
  },
  {
   "cell_type": "markdown",
   "metadata": {},
   "source": [
    "###  Core data\n",
    "\n",
    "\n",
    "\n",
    "We specify the data for each object as a dictionnary.\n",
    "Its values are `(default, dtype)` pairs that will be used to create the dataframes, one column per item in the dict.\n",
    "\n",
    "In the final implementation, the `_data` dictionnaries should be easily configurable and extensible."
   ]
  },
  {
   "cell_type": "code",
   "execution_count": 6,
   "metadata": {
    "collapsed": true
   },
   "outputs": [],
   "source": [
    "coords = ['x', 'y']\n",
    "\n",
    "cell_data = {\n",
    "    ## Cell Geometry\n",
    "    'perimeter': (0., np.float),\n",
    "    'area': (0., np.float),\n",
    "    ## Coordinates\n",
    "    'x': (0., np.float),\n",
    "    'y': (0., np.float),\n",
    "    ## Topology\n",
    "    'num_sides': (1, np.int),\n",
    "    ## Masks\n",
    "    'is_alive': (1, np.bool)}   \n",
    "\n",
    "jv_data = {\n",
    "    ## Coordinates\n",
    "    'x': (0., np.float),\n",
    "    'y': (0., np.float),\n",
    "    ## Masks\n",
    "    'is_active': (1, np.bool)}\n",
    "\n",
    "je_data = {\n",
    "    ## Coordinates\n",
    "    'dx': (0., np.float),\n",
    "    'dy': (0., np.float),\n",
    "    'length': (0., np.float),\n",
    "    ### Normal\n",
    "    'n': (1., np.float)}\n"
   ]
  },
  {
   "cell_type": "code",
   "execution_count": 7,
   "metadata": {
    "collapsed": false
   },
   "outputs": [
    {
     "name": "stdout",
     "output_type": "stream",
     "text": [
      "x            float64\n",
      "y            float64\n",
      "is_active      int64\n",
      "dtype: object\n"
     ]
    }
   ],
   "source": [
    "def make_df(index, data_dict):\n",
    "    '''\n",
    "    Creates a pd.DataFrame indexed by `index` with\n",
    "    the `data_dict` keys as column names, filled with the\n",
    "    value given by the `data_dict` values.\n",
    "    \n",
    "    '''\n",
    "    #### See this pandas issue on how to specify mixed\n",
    "    #### dtypes at instentiation time: \n",
    "    \n",
    "    dtypes = np.dtype([(name, val[1]) for name, val in data_dict.items()])\n",
    "    N = len(index)\n",
    "    arr = np.empty(N, dtype=dtypes)\n",
    "    df = pd.DataFrame.from_records(arr, index=index)\n",
    "    for name, val in data_dict.items():\n",
    "        df[name] = val[0]\n",
    "    return df\n",
    "        \n",
    "### Cells DataFrame\n",
    "cell_df = make_df(index=cell_idx, data_dict=cell_data)\n",
    "\n",
    "### Junction vertices and edges DataFrames\n",
    "jv_df = make_df(index=jv_idx, data_dict=jv_data)\n",
    "je_df = make_df(index=je_idx, data_dict=je_data)\n",
    "\n",
    "print(jv_df.dtypes)"
   ]
  },
  {
   "cell_type": "code",
   "execution_count": 8,
   "metadata": {
    "collapsed": true
   },
   "outputs": [],
   "source": [
    "jv_df[['x', 'y']] = points"
   ]
  },
  {
   "cell_type": "markdown",
   "metadata": {},
   "source": [
    "### Toy computations\n",
    "\n",
    "Below we show some examples of geometrical computing.\n"
   ]
  },
  {
   "cell_type": "code",
   "execution_count": 9,
   "metadata": {
    "collapsed": false
   },
   "outputs": [],
   "source": [
    "srce_idx = je_idx.get_level_values('srce')\n",
    "trgt_idx = je_idx.get_level_values('trgt')\n",
    "e_cell_idx = je_idx.get_level_values('cell')\n",
    "\n",
    "je_df[['dx', 'dy']] = (jv_df.loc[trgt_idx][['x', 'y']].values\n",
    "                      - jv_df.loc[srce_idx][['x', 'y']].values)\n",
    "\n",
    "je_df['length'] = np.hypot(je_df['dx'], je_df['dy'])\n",
    "np.testing.assert_allclose(je_df['length'], 1, rtol=1e-3)\n",
    "\n",
    "## Let's take the edge source positions for each edge\n",
    "## That's upcasting from source to edges\n",
    "upcast_pos = jv_df.loc[srce_idx][['x', 'y']]\n",
    "upcast_pos.set_index(je_idx, inplace=True)\n",
    "\n",
    "## Now it's easy to compute the centroid of each cell\n",
    "cell_df[['x', 'y']] = upcast_pos.groupby(level='cell').mean()\n",
    "\n",
    "## the area is trickier, let's first get the normals\n",
    "\n",
    "je_df['n'] = np.cross(jv_df.loc[srce_idx][['x', 'y']].values\n",
    "                      - cell_df[['x', 'y']].loc[e_cell_idx].values,\n",
    "                      jv_df.loc[trgt_idx][['x', 'y']].values\n",
    "                      - cell_df[['x', 'y']].loc[e_cell_idx].values)\n",
    "## Now the area\n",
    "cell_df['area'] = np.abs(je_df['n']).groupby(level='cell').sum()\n",
    "np.testing.assert_allclose(cell_df['area'], np.sqrt(3)*3, rtol=1e-3)\n"
   ]
  },
  {
   "cell_type": "code",
   "execution_count": 10,
   "metadata": {
    "collapsed": false
   },
   "outputs": [],
   "source": [
    "mask, sub_idx = je_idx.get_loc_level(0, level='cell', drop_level=False)"
   ]
  },
  {
   "cell_type": "code",
   "execution_count": 11,
   "metadata": {
    "collapsed": false
   },
   "outputs": [
    {
     "data": {
      "text/html": [
       "<div>\n",
       "<table border=\"1\" class=\"dataframe\">\n",
       "  <thead>\n",
       "    <tr style=\"text-align: right;\">\n",
       "      <th></th>\n",
       "      <th></th>\n",
       "      <th></th>\n",
       "      <th>n</th>\n",
       "      <th>dx</th>\n",
       "      <th>dy</th>\n",
       "      <th>length</th>\n",
       "    </tr>\n",
       "    <tr>\n",
       "      <th>srce</th>\n",
       "      <th>trgt</th>\n",
       "      <th>cell</th>\n",
       "      <th></th>\n",
       "      <th></th>\n",
       "      <th></th>\n",
       "      <th></th>\n",
       "    </tr>\n",
       "  </thead>\n",
       "  <tbody>\n",
       "    <tr>\n",
       "      <th>0</th>\n",
       "      <th>1</th>\n",
       "      <th>0</th>\n",
       "      <td>0.866</td>\n",
       "      <td>1.0</td>\n",
       "      <td>0.000</td>\n",
       "      <td>1.000000</td>\n",
       "    </tr>\n",
       "    <tr>\n",
       "      <th>1</th>\n",
       "      <th>2</th>\n",
       "      <th>0</th>\n",
       "      <td>0.866</td>\n",
       "      <td>0.5</td>\n",
       "      <td>0.866</td>\n",
       "      <td>0.999978</td>\n",
       "    </tr>\n",
       "    <tr>\n",
       "      <th>2</th>\n",
       "      <th>3</th>\n",
       "      <th>0</th>\n",
       "      <td>0.866</td>\n",
       "      <td>-0.5</td>\n",
       "      <td>0.866</td>\n",
       "      <td>0.999978</td>\n",
       "    </tr>\n",
       "    <tr>\n",
       "      <th>3</th>\n",
       "      <th>4</th>\n",
       "      <th>0</th>\n",
       "      <td>0.866</td>\n",
       "      <td>-1.0</td>\n",
       "      <td>0.000</td>\n",
       "      <td>1.000000</td>\n",
       "    </tr>\n",
       "    <tr>\n",
       "      <th>4</th>\n",
       "      <th>5</th>\n",
       "      <th>0</th>\n",
       "      <td>0.866</td>\n",
       "      <td>-0.5</td>\n",
       "      <td>-0.866</td>\n",
       "      <td>0.999978</td>\n",
       "    </tr>\n",
       "    <tr>\n",
       "      <th>5</th>\n",
       "      <th>0</th>\n",
       "      <th>0</th>\n",
       "      <td>0.866</td>\n",
       "      <td>0.5</td>\n",
       "      <td>-0.866</td>\n",
       "      <td>0.999978</td>\n",
       "    </tr>\n",
       "  </tbody>\n",
       "</table>\n",
       "</div>"
      ],
      "text/plain": [
       "                    n   dx     dy    length\n",
       "srce trgt cell                             \n",
       "0    1    0     0.866  1.0  0.000  1.000000\n",
       "1    2    0     0.866  0.5  0.866  0.999978\n",
       "2    3    0     0.866 -0.5  0.866  0.999978\n",
       "3    4    0     0.866 -1.0  0.000  1.000000\n",
       "4    5    0     0.866 -0.5 -0.866  0.999978\n",
       "5    0    0     0.866  0.5 -0.866  0.999978"
      ]
     },
     "execution_count": 11,
     "metadata": {},
     "output_type": "execute_result"
    }
   ],
   "source": [
    "je_df.loc[sub_idx]"
   ]
  },
  {
   "cell_type": "markdown",
   "metadata": {},
   "source": [
    "## Class definitions"
   ]
  },
  {
   "cell_type": "code",
   "execution_count": 12,
   "metadata": {
    "collapsed": false
   },
   "outputs": [],
   "source": [
    "\n",
    "def parse(source):\n",
    "    raise NotImplementedError\n",
    "\n",
    "class Epithelium:\n",
    "    '''\n",
    "    The whole tissue.\n",
    "    \n",
    "    '''\n",
    "    def __init__(self, identifier, points,\n",
    "                 cell_idx, jv_idx, je_idx,\n",
    "                 cell_data, jv_data, je_data):\n",
    "        '''\n",
    "        Creates an epithelium\n",
    "        \n",
    "        \n",
    "        '''\n",
    "        \n",
    "        \n",
    "        self.identifier = identifier\n",
    "        self.points = points\n",
    "        \n",
    "        ### Cells DataFrame\n",
    "        self.cell_df = make_df(index=cell_idx, data_dict=cell_data)\n",
    "\n",
    "        ### Junction vertices and edges DataFrames\n",
    "        self.jv_df = make_df(index=jv_idx, data_dict=jv_data)\n",
    "        self.je_df = make_df(index=je_idx, data_dict=je_data)\n",
    "        \n",
    "        self.jv_df[['x', 'y']] = points\n",
    "        \n",
    "    @property\n",
    "    def cell_idx(self):\n",
    "        return self.cell_df.index\n",
    "    \n",
    "    @property\n",
    "    def jv_idx(self):\n",
    "        return self.jv_df.index\n",
    "\n",
    "    @property\n",
    "    def je_idx(self):\n",
    "        return self.je_df.index\n",
    "    \n",
    "    @property\n",
    "    def cc_idx(self):\n",
    "        return self._build_cell_cell_indexes()\n",
    "        \n",
    "    def _build_cell_cell_indexes(self):\n",
    "        '''\n",
    "        This is hackish and not optimized,\n",
    "        should be provided by CGAL\n",
    "        '''\n",
    "        cc_idx = []\n",
    "        for srce0, trgt0, cell0 in self.je_idx:\n",
    "            for srce1, trgt1, cell1 in self.je_idx:\n",
    "                if (cell0 != cell1 \n",
    "                    and trgt0 == srce1\n",
    "                    and trgt1 == srce0\n",
    "                    and not (cell1, cell0) in cc_idx):\n",
    "                    cc_idx.append((cell0, cell1))\n",
    "        cc_idx = pd.MultiIndex.from_tuples(cc_idx, names=['cella', 'cellb'])\n",
    "        return cc_idx\n",
    "        \n",
    "    @classmethod\n",
    "    def from_file(cls, input_file, identifier):\n",
    "        '''\n",
    "        Creates an `Epithelium` instance from parsing an input file\n",
    "        \n",
    "        '''\n",
    "        with open(input_file, 'r') as source:\n",
    "            input_data = parse(source)\n",
    "            return cls.__init__(identifier, *input_data)\n",
    "        \n",
    "    \n",
    "    \n",
    "    \n",
    "\n",
    "class Cell:\n",
    "    '''\n",
    "    Doesn't hold any data, just methods. \n",
    "    \n",
    "    I think it should be instanciated on demand, not systematically\n",
    "    for the whole epithelium\n",
    "    \n",
    "    '''\n",
    "    def __init__(self, eptm, index):\n",
    "        \n",
    "        self.__eptm = eptm\n",
    "        self.__index = index\n",
    "        \n",
    "    ### This should be implemented in CGAL\n",
    "    def je_orbit(self):\n",
    "        '''\n",
    "        Indexes of the cell's junction halfedges.       \n",
    "        \n",
    "        '''\n",
    "        mask, sub_idx = self.__eptm.je_idx.get_loc_level(self.__index,\n",
    "                                                         level='cell',\n",
    "                                                         drop_level=False)\n",
    "        return sub_idx\n",
    "    \n",
    "    def jv_orbit(self): \n",
    "        '''\n",
    "        Index of the cell's junction vertices.       \n",
    "        \n",
    "        '''\n",
    "        je_orbit = self.je_orbit()\n",
    "        return je_orbit.get_level_values('srce')\n",
    "            \n",
    "    @property\n",
    "    def num_sides(self):\n",
    "        return len(self.je_orbit())\n",
    "        \n",
    "        \n",
    "class JunctionVertex:\n",
    "    \n",
    "    def __init__(self, eptm, index):\n",
    "        \n",
    "        self.__index = index #from CGAL\n",
    "        self.__eptm = eptm #from CGAL\n",
    "        \n",
    "\n",
    "    def je_orbit(self):\n",
    "        '''\n",
    "        Indexes of the neighboring junction edges, returned\n",
    "        as the indexes of the **outgoing** halfedges. \n",
    "        '''\n",
    "\n",
    "        mask, sub_idx = self.__eptm.je_idx.get_loc_level(self._index,\n",
    "                                                         level='srce',\n",
    "                                                         drop_level=False)\n",
    "        return sub_idx\n",
    "        \n",
    "        \n",
    "    def cell_orbit(self):\n",
    "        '''\n",
    "        Index of the junction's cells.       \n",
    "        \n",
    "        '''\n",
    "        je_orbit = self.je_orbit()\n",
    "        return je_orbit.get_level_values('cell')\n",
    "\n",
    "\n",
    "    def jv_orbit(self):\n",
    "        '''\n",
    "        Index of the junction's neighbor junction vertices.       \n",
    "        \n",
    "        '''\n",
    "        je_orbit = self.je_orbit()\n",
    "        return je_orbit.get_level_values('trgt')\n",
    "\n",
    "\n",
    "        \n",
    "class JunctionEdge():\n",
    "    '''\n",
    "    Really a HalfEdge ...\n",
    "    '''\n",
    "    \n",
    "    \n",
    "    def __init__(self, eptm, index):\n",
    "        \n",
    "        self.__index = index #from CGAL\n",
    "        self.__eptm = eptm #from CGAL\n",
    "        \n",
    "    @property\n",
    "    def source_idx(self):\n",
    "        return self.__index[0]\n",
    "    \n",
    "    @property\n",
    "    def target_idx(self):\n",
    "        return self.__index[1]\n",
    "    \n",
    "    @property\n",
    "    def cell_idx(self):\n",
    "        return self.__index[2]\n",
    "    \n",
    "    def oposite_idx(self):\n",
    "        return (self.__index[1], self.__index[0], self.__index[2])\n",
    "\n",
    "    \n",
    "    \n",
    "def simple_geom(eptm):\n",
    "\n",
    "    \n",
    "    srce_idx = eptm.je_idx.get_level_values('srce')\n",
    "    trgt_idx = eptm.je_idx.get_level_values('trgt')\n",
    "    e_cell_idx = eptm.je_idx.get_level_values('cell')\n",
    "\n",
    "    eptm.je_df[['dx', 'dy']] = (eptm.jv_df.loc[trgt_idx][['x', 'y']].values\n",
    "                                - eptm.jv_df.loc[srce_idx][['x', 'y']].values)\n",
    "\n",
    "    eptm.je_df['length'] = np.hypot(eptm.je_df['dx'], eptm.je_df['dy'])\n",
    "\n",
    "    ## Let's take the edge source positions for each edge\n",
    "    ## That's upcasting from source to edges\n",
    "    upcast_pos = eptm.jv_df.loc[srce_idx][['x', 'y']]\n",
    "    upcast_pos.set_index(eptm.je_idx, inplace=True)\n",
    "\n",
    "    ## Now it's easy to compute the centroid of each cell\n",
    "    eptm.cell_df[['x', 'y']] = upcast_pos.groupby(level='cell').mean()\n",
    "\n",
    "    ## the area is trickier, let's first get the normals\n",
    "\n",
    "    eptm.je_df['n'] = np.cross(eptm.jv_df.loc[srce_idx][['x', 'y']].values\n",
    "                               - eptm.cell_df[['x', 'y']].loc[e_cell_idx].values,\n",
    "                               eptm.jv_df.loc[trgt_idx][['x', 'y']].values\n",
    "                               - eptm.cell_df[['x', 'y']].loc[e_cell_idx].values)\n",
    "    ## Now the area\n",
    "    eptm.cell_df['area'] = np.abs(eptm.je_df['n']).groupby(level='cell').sum()\n",
    "\n",
    "    \n",
    "    "
   ]
  },
  {
   "cell_type": "code",
   "execution_count": 13,
   "metadata": {
    "collapsed": false
   },
   "outputs": [
    {
     "data": {
      "text/plain": [
       "Int64Index([0, 1, 2, 3, 4, 5], dtype='int64', name='srce')"
      ]
     },
     "execution_count": 13,
     "metadata": {},
     "output_type": "execute_result"
    }
   ],
   "source": [
    "eptm = Epithelium('3cells_2D', points,\n",
    "                  cell_idx, jv_idx, je_idx,\n",
    "                  cell_data, jv_data, je_data)\n",
    "\n",
    "cell = Cell(eptm, 0)\n",
    "jv = JunctionVertex(eptm, 0)\n",
    "je = JunctionEdge(eptm, (0, 1, 0))\n",
    "cell.jv_orbit()"
   ]
  },
  {
   "cell_type": "code",
   "execution_count": 14,
   "metadata": {
    "collapsed": true
   },
   "outputs": [],
   "source": [
    "simple_geom(eptm)"
   ]
  },
  {
   "cell_type": "code",
   "execution_count": 15,
   "metadata": {
    "collapsed": false
   },
   "outputs": [
    {
     "data": {
      "text/html": [
       "<div>\n",
       "<table border=\"1\" class=\"dataframe\">\n",
       "  <thead>\n",
       "    <tr style=\"text-align: right;\">\n",
       "      <th></th>\n",
       "      <th></th>\n",
       "      <th></th>\n",
       "      <th>n</th>\n",
       "      <th>dx</th>\n",
       "      <th>dy</th>\n",
       "      <th>length</th>\n",
       "    </tr>\n",
       "    <tr>\n",
       "      <th>srce</th>\n",
       "      <th>trgt</th>\n",
       "      <th>cell</th>\n",
       "      <th></th>\n",
       "      <th></th>\n",
       "      <th></th>\n",
       "      <th></th>\n",
       "    </tr>\n",
       "  </thead>\n",
       "  <tbody>\n",
       "    <tr>\n",
       "      <th>0</th>\n",
       "      <th>1</th>\n",
       "      <th>0</th>\n",
       "      <td>0.866</td>\n",
       "      <td>1.0</td>\n",
       "      <td>0.000</td>\n",
       "      <td>1.000000</td>\n",
       "    </tr>\n",
       "    <tr>\n",
       "      <th>1</th>\n",
       "      <th>2</th>\n",
       "      <th>0</th>\n",
       "      <td>0.866</td>\n",
       "      <td>0.5</td>\n",
       "      <td>0.866</td>\n",
       "      <td>0.999978</td>\n",
       "    </tr>\n",
       "    <tr>\n",
       "      <th>2</th>\n",
       "      <th>3</th>\n",
       "      <th>0</th>\n",
       "      <td>0.866</td>\n",
       "      <td>-0.5</td>\n",
       "      <td>0.866</td>\n",
       "      <td>0.999978</td>\n",
       "    </tr>\n",
       "    <tr>\n",
       "      <th>3</th>\n",
       "      <th>4</th>\n",
       "      <th>0</th>\n",
       "      <td>0.866</td>\n",
       "      <td>-1.0</td>\n",
       "      <td>0.000</td>\n",
       "      <td>1.000000</td>\n",
       "    </tr>\n",
       "    <tr>\n",
       "      <th>4</th>\n",
       "      <th>5</th>\n",
       "      <th>0</th>\n",
       "      <td>0.866</td>\n",
       "      <td>-0.5</td>\n",
       "      <td>-0.866</td>\n",
       "      <td>0.999978</td>\n",
       "    </tr>\n",
       "  </tbody>\n",
       "</table>\n",
       "</div>"
      ],
      "text/plain": [
       "                    n   dx     dy    length\n",
       "srce trgt cell                             \n",
       "0    1    0     0.866  1.0  0.000  1.000000\n",
       "1    2    0     0.866  0.5  0.866  0.999978\n",
       "2    3    0     0.866 -0.5  0.866  0.999978\n",
       "3    4    0     0.866 -1.0  0.000  1.000000\n",
       "4    5    0     0.866 -0.5 -0.866  0.999978"
      ]
     },
     "execution_count": 15,
     "metadata": {},
     "output_type": "execute_result"
    }
   ],
   "source": [
    "eptm.je_df.head()"
   ]
  },
  {
   "cell_type": "markdown",
   "metadata": {},
   "source": [
    "## Visualization\n",
    "\n",
    "\n",
    "### Matplotlib based\n",
    "\n",
    "#### Custom settings\n",
    "\n",
    "These might go in a config file latter on."
   ]
  },
  {
   "cell_type": "code",
   "execution_count": 16,
   "metadata": {
    "collapsed": true
   },
   "outputs": [],
   "source": [
    "edge_arrow_style = {'width':0.01,\n",
    "                    'length_includes_head':True,\n",
    "                    'shape':'right',\n",
    "                    'color':'#2b5d0a',\n",
    "                    'alpha':0.8,\n",
    "                   'zorder':1}\n",
    "\n",
    "points_style = {'s':100,\n",
    "                'c':'#000a4b',\n",
    "                'alpha':0.3, 'zorder':2}"
   ]
  },
  {
   "cell_type": "markdown",
   "metadata": {},
   "source": [
    "#### Ploting itself"
   ]
  },
  {
   "cell_type": "code",
   "execution_count": 17,
   "metadata": {
    "collapsed": false
   },
   "outputs": [],
   "source": [
    "def plt_eptm(eptm, coords, edge_arrow_style, points_style):\n",
    "\n",
    "    fig, ax = plt.subplots()\n",
    "    try:\n",
    "        dcoords = ['d'+c for c in coords]\n",
    "        x, y = coords\n",
    "        dx, dy = dcoords\n",
    "    except (ValueError, TypeError):\n",
    "        raise ValueError('The `coords` argument must be'\n",
    "                         ' a pair of column names')\n",
    "    \n",
    "    ax.scatter(eptm.jv_df[x], eptm.jv_df[y], **points_style)\n",
    "\n",
    "    for e in eptm.je_idx:\n",
    "        s, t, c = e\n",
    "        ax.arrow(eptm.jv_df[x].loc[s], eptm.jv_df[y].loc[s],\n",
    "                 eptm.je_df[dx].loc[e], eptm.je_df[dy].loc[e],\n",
    "                 **edge_arrow_style)\n",
    "\n",
    "    ax.set_xlim(-3, 2.5)\n",
    "    ax.set_ylim(-2.75, 2.75)\n",
    "\n",
    "    ax.set_aspect('equal')\n",
    "    ax.grid()\n",
    "    fig.set_size_inches((12, 12))\n",
    "    \n",
    "    return fig, ax\n",
    "    "
   ]
  },
  {
   "cell_type": "markdown",
   "metadata": {},
   "source": [
    "#### Default plot"
   ]
  },
  {
   "cell_type": "code",
   "execution_count": 18,
   "metadata": {
    "collapsed": false
   },
   "outputs": [
    {
     "data": {
      "image/png": "[encoded data removed]",
      "text/plain": [
       "<matplotlib.figure.Figure at 0x7fc5ec2bf208>"
      ]
     },
     "metadata": {},
     "output_type": "display_data"
    }
   ],
   "source": [
    "fig, ax = plt_eptm(eptm, ['x', 'y'],\n",
    "                   edge_arrow_style,\n",
    "                   points_style)"
   ]
  },
  {
   "cell_type": "markdown",
   "metadata": {},
   "source": [
    "#### Coloring"
   ]
  },
  {
   "cell_type": "code",
   "execution_count": 19,
   "metadata": {
    "collapsed": false
   },
   "outputs": [],
   "source": [
    "new_pt_style = points_style.copy()\n",
    "\n",
    "## Let's add a column to eptm.jv_df\n",
    "eptm.jv_df['rand'] = np.random.normal(loc=0.5, scale=0.4, \n",
    "                                      size=eptm.jv_df.shape[0])\n",
    "\n",
    "cmap = plt.cm.get_cmap('PRGn')\n",
    "color_cmap = cmap(eptm.jv_df.rand)\n",
    "\n",
    "new_pt_style['color'] = color_cmap\n",
    "new_pt_style['alpha'] = 1\n",
    "new_pt_style['s'] = 200\n",
    "\n",
    "### TODO: doing the same to change the edge's style is less\n",
    "### trivial, as you have to cycle through the color sequence\n",
    "### within the `for e in eptm.je_idx` loop..."
   ]
  },
  {
   "cell_type": "code",
   "execution_count": 20,
   "metadata": {
    "collapsed": false
   },
   "outputs": [
    {
     "data": {
      "image/png": "[encoded data removed]",
      "text/plain": [
       "<matplotlib.figure.Figure at 0x7fc5cd0d0e10>"
      ]
     },
     "metadata": {},
     "output_type": "display_data"
    }
   ],
   "source": [
    "fig, ax = plt_eptm(eptm, coords, edge_arrow_style, new_pt_style)"
   ]
  },
  {
   "cell_type": "markdown",
   "metadata": {},
   "source": [
    "#### Filling the cells\n",
    "\n"
   ]
  },
  {
   "cell_type": "code",
   "execution_count": 21,
   "metadata": {
    "collapsed": false
   },
   "outputs": [
    {
     "data": {
      "image/png": "[encoded data removed]",
      "text/plain": [
       "<matplotlib.figure.Figure at 0x7fc5cd0d0e10>"
      ]
     },
     "execution_count": 21,
     "metadata": {},
     "output_type": "execute_result"
    }
   ],
   "source": [
    "from matplotlib.patches import Polygon\n",
    "\n",
    "coords = ['x', 'y']\n",
    "x, y = coords\n",
    "\n",
    "cell_colors = None\n",
    "alphas = None\n",
    "cell_style = {'color':'#8aa678',\n",
    "              'alpha':1,\n",
    "              'zorder':-1}\n",
    "\n",
    "\n",
    "for c_idx in eptm.cell_idx:\n",
    "    \n",
    "    cell = Cell(eptm, c_idx)\n",
    "    poly = eptm.jv_df[coords].loc[cell.jv_orbit()]\n",
    "    patch = Polygon(poly,\n",
    "                    fill=True,\n",
    "                    closed=True,\n",
    "                    **cell_style)\n",
    "    ax.add_patch(patch)\n",
    "    \n",
    "    \n",
    "fig"
   ]
  },
  {
   "cell_type": "markdown",
   "metadata": {},
   "source": [
    "### Vispy based\n"
   ]
  },
  {
   "cell_type": "code",
   "execution_count": 22,
   "metadata": {
    "collapsed": true
   },
   "outputs": [],
   "source": [
    "## Let's first add a third dimension to our tissue:\n",
    "\n",
    "eptm.jv_df['z'] = 0.\n",
    "eptm.je_df['dz'] = 0.\n",
    "eptm.cell_df['z'] = 0.\n",
    "\n",
    "coords = ['x', 'y', 'z']\n",
    "\n",
    "eptm.Nc = eptm.cell_idx.shape[0]\n",
    "eptm.Nv = eptm.jv_idx.shape[0]\n",
    "eptm.Nf = eptm.je_idx.shape[0]\n",
    "\n",
    "\n",
    "### Now construct the mesh:\n",
    "def triangular_mesh(eptm, coords):\n",
    "    '''\n",
    "    Return a triangulation of an epithelial sheet (2D in a 3D space),\n",
    "    with added edges between cell barycenters and junction vertices.\n",
    "    \n",
    "    Parameters:\n",
    "    -----------\n",
    "    \n",
    "    eptm: :class:`Epithelium` instance\n",
    "    coords: list of str:\n",
    "      pair of coordinates corresponding to column names\n",
    "      for eptm.cell_df and eptm.jv_df\n",
    "    \n",
    "    Returns:\n",
    "    --------\n",
    "    \n",
    "    vertices: (Nc+Nv, 3) ndarray\n",
    "       all the vertices' coordinates\n",
    "    faces: (Ne, 3) ndarray of ints\n",
    "       triple of the vertices' indexes forming \n",
    "       the triangular faces. For each junction edge, this is simply\n",
    "       the index (srce, trgt, cell). This is correctly oriented.\n",
    "    cell_mask: Nc+Nv mask with 1 iff the vertex corresponds to a cell\n",
    "    '''\n",
    "    \n",
    "    vertices = np.concatenate((eptm.cell_df[coords],\n",
    "                               eptm.jv_df[coords]), axis=0)\n",
    "\n",
    "    ## edge indices as (Nc + Nv) * 3 array\n",
    "    faces = np.asarray(eptm.je_idx.labels).T\n",
    "    ## The src, trgt, cell triangle is correctly oriented\n",
    "    ## both jv_idx cols are shifted by Nc \n",
    "    faces[:, :2] += eptm.Nc\n",
    "\n",
    "    cell_mask = np.arange(eptm.Nc + eptm.Nv) < eptm.Nc\n",
    "    return vertices, faces, cell_mask\n",
    "    "
   ]
  },
  {
   "cell_type": "code",
   "execution_count": 23,
   "metadata": {
    "collapsed": false
   },
   "outputs": [],
   "source": [
    "vertices, faces, cell_mask = triangular_mesh(eptm, coords)"
   ]
  },
  {
   "cell_type": "code",
   "execution_count": 24,
   "metadata": {
    "collapsed": false
   },
   "outputs": [
    {
     "name": "stdout",
     "output_type": "stream",
     "text": [
      "[[ 0.5    0.866  0.   ]\n",
      " [-1.     0.     0.   ]\n",
      " [ 0.5   -0.866  0.   ]\n",
      " [ 0.     0.     0.   ]\n",
      " [ 1.     0.     0.   ]\n",
      " [ 1.5    0.866  0.   ]\n",
      " [ 1.     1.732  0.   ]\n",
      " [ 0.     1.732  0.   ]\n",
      " [-0.5    0.866  0.   ]\n",
      " [-1.5    0.866  0.   ]\n",
      " [-2.     0.     0.   ]\n",
      " [-1.5   -0.866  0.   ]\n",
      " [-0.5   -0.866  0.   ]\n",
      " [ 0.    -1.732  0.   ]\n",
      " [ 1.    -1.732  0.   ]\n",
      " [ 1.5   -0.866  0.   ]]\n",
      "~~~~~~~~~~~~~~~~~~~\n",
      "\n",
      "[[ 3  4  0]\n",
      " [ 4  5  0]\n",
      " [ 5  6  0]\n",
      " [ 6  7  0]\n",
      " [ 7  8  0]\n",
      " [ 8  3  0]\n",
      " [ 3  8  1]\n",
      " [ 8  9  1]\n",
      " [ 9 10  1]\n",
      " [10 11  1]\n",
      " [11 12  1]\n",
      " [12  3  1]\n",
      " [ 3 12  2]\n",
      " [12 13  2]\n",
      " [13 14  2]\n",
      " [14 15  2]\n",
      " [15  4  2]\n",
      " [ 4  3  2]]\n"
     ]
    }
   ],
   "source": [
    "vertices, faces, cell_mask = triangular_mesh(eptm, coords)\n",
    "\n",
    "\n",
    "print(vertices)\n",
    "print('~~~~~~~~~~~~~~~~~~~\\n')\n",
    "print(faces)"
   ]
  },
  {
   "cell_type": "code",
   "execution_count": 25,
   "metadata": {
    "collapsed": false
   },
   "outputs": [
    {
     "name": "stdout",
     "output_type": "stream",
     "text": [
      "VisPy version: 0.5.0.dev0\n",
      "Python version: 3.4.3 |Anaconda 2.3.0 (64-bit)| (default, Jun  4 2015, 15:29:08) \n",
      "[GCC 4.4.7 20120313 (Red Hat 4.4.7-1)]\n",
      "Jupyter version: 4.0.0\n"
     ]
    }
   ],
   "source": [
    "import vispy as vp\n",
    "import sys\n",
    "import IPython\n",
    "\n",
    "\n",
    "from vispy import app, gloo, visuals, scene\n",
    "from vispy.geometry import MeshData\n",
    "#from vispy import plot\n",
    "vp.use('PyQt4')\n",
    "\n",
    "print('VisPy version: {}'.format(vp.__version__))\n",
    "\n",
    "\n",
    "print('Python version: {}'.format(sys.version))\n",
    "print('Jupyter version: {}'.format(IPython.__version__))"
   ]
  },
  {
   "cell_type": "code",
   "execution_count": 40,
   "metadata": {
    "collapsed": false,
    "scrolled": true
   },
   "outputs": [
    {
     "data": {
      "text/plain": [
       "0"
      ]
     },
     "execution_count": 40,
     "metadata": {},
     "output_type": "execute_result"
    }
   ],
   "source": [
    "canvas = scene.SceneCanvas(keys='interactive', show=True)\n",
    "\n",
    "grid = canvas.central_widget.add_grid()\n",
    "view = grid.add_view(0, 1)\n",
    "#view = canvas.central_widget.add_view()\n",
    "view.camera =  'turntable'\n",
    "view.camera.aspect = 1\n",
    "\n",
    "mesh = vp.scene.visuals.Mesh(vertices=vertices,\n",
    "                             faces=faces,\n",
    "                             vertex_colors=np.ones((eptm.Nc+eptm.Nv, 4))*0.7,\n",
    "                             face_colors=np.ones((eptm.Nf, 3))*0.3)\n",
    "\n",
    "wire = vp.scene.visuals.Line(pos=vertices[Nc:]+0.1, \n",
    "                             connect=faces[:, :2]-Nc,\n",
    "                             color=(1., 0, 0),\n",
    "                             width=20)\n",
    "\n",
    "view.add(mesh)\n",
    "view.add(wire)\n",
    "view.camera.set_range()\n",
    "canvas.show()\n",
    "\n",
    "app.run()"
   ]
  },
  {
   "cell_type": "code",
   "execution_count": 38,
   "metadata": {
    "collapsed": false
   },
   "outputs": [],
   "source": [
    "vp.scene.visuals.Line?"
   ]
  },
  {
   "cell_type": "code",
   "execution_count": 38,
   "metadata": {
    "collapsed": false
   },
   "outputs": [
    {
     "data": {
      "text/plain": [
       "True"
      ]
     },
     "execution_count": 38,
     "metadata": {},
     "output_type": "execute_result"
    }
   ],
   "source": [
    "isinstance(mesh, vp.scene.Node)"
   ]
  },
  {
   "cell_type": "code",
   "execution_count": null,
   "metadata": {
    "collapsed": true
   },
   "outputs": [],
   "source": [
    "\n",
    "canvas = scene.SceneCanvas(keys='interactive', show=True, size=(1024, 768))\n",
    "grid = canvas.central_widget.add_grid()\n",
    "view = grid.add_view(0, 1)\n",
    "view.camera = scene.MagnifyCamera(mag=1, size_factor=0.5, radius_ratio=0.6)"
   ]
  },
  {
   "cell_type": "code",
   "execution_count": 29,
   "metadata": {
    "collapsed": false
   },
   "outputs": [
    {
     "data": {
      "text/plain": [
       "0"
      ]
     },
     "execution_count": 29,
     "metadata": {},
     "output_type": "execute_result"
    }
   ],
   "source": [
    "app.run()\n"
   ]
  },
  {
   "cell_type": "code",
   "execution_count": 43,
   "metadata": {
    "collapsed": false
   },
   "outputs": [
    {
     "data": {
      "text/plain": [
       "array([[ 3,  4,  0],\n",
       "       [ 4,  5,  0],\n",
       "       [ 5,  6,  0],\n",
       "       [ 6,  7,  0],\n",
       "       [ 7,  8,  0],\n",
       "       [ 8,  3,  0],\n",
       "       [ 3,  8,  1],\n",
       "       [ 8,  9,  1],\n",
       "       [ 9, 10,  1],\n",
       "       [10, 11,  1],\n",
       "       [11, 12,  1],\n",
       "       [12,  3,  1],\n",
       "       [ 3, 12,  2],\n",
       "       [12, 13,  2],\n",
       "       [13, 14,  2],\n",
       "       [14, 15,  2],\n",
       "       [15,  4,  2],\n",
       "       [ 4,  3,  2]], dtype=int8)"
      ]
     },
     "execution_count": 43,
     "metadata": {},
     "output_type": "execute_result"
    }
   ],
   "source": [
    "faces = np.asarray(je_idx.labels).T\n",
    "\n",
    "\n",
    "faces[:, :2] += eptm.cell_df.shape[0] ## The src, trgt, cell triangle is correctly oriented\n",
    "\n",
    "faces"
   ]
  },
  {
   "cell_type": "code",
   "execution_count": 27,
   "metadata": {
    "collapsed": true
   },
   "outputs": [],
   "source": [
    "vp_vertices = np.concatenate((eptm.cell_df[coords],\n",
    "                              eptm.jv_df[coords]), axis=0)"
   ]
  },
  {
   "cell_type": "code",
   "execution_count": 29,
   "metadata": {
    "collapsed": false
   },
   "outputs": [
    {
     "data": {
      "text/plain": [
       "array([[ 0.5  ,  0.866],\n",
       "       [-1.   ,  0.   ],\n",
       "       [ 0.5  , -0.866],\n",
       "       [ 0.   ,  0.   ],\n",
       "       [ 1.   ,  0.   ],\n",
       "       [ 1.5  ,  0.866],\n",
       "       [ 1.   ,  1.732],\n",
       "       [ 0.   ,  1.732],\n",
       "       [-0.5  ,  0.866],\n",
       "       [-1.5  ,  0.866],\n",
       "       [-2.   ,  0.   ],\n",
       "       [-1.5  , -0.866],\n",
       "       [-0.5  , -0.866],\n",
       "       [ 0.   , -1.732],\n",
       "       [ 1.   , -1.732],\n",
       "       [ 1.5  , -0.866]])"
      ]
     },
     "execution_count": 29,
     "metadata": {},
     "output_type": "execute_result"
    }
   ],
   "source": [
    "vp_vertices"
   ]
  },
  {
   "cell_type": "code",
   "execution_count": null,
   "metadata": {
    "collapsed": true
   },
   "outputs": [],
   "source": []
  }
 ],
 "metadata": {
  "kernelspec": {
   "display_name": "Python 3",
   "language": "python",
   "name": "python3"
  },
  "language_info": {
   "codemirror_mode": {
    "name": "ipython",
    "version": 3
   },
   "file_extension": ".py",
   "mimetype": "text/x-python",
   "name": "python",
   "nbconvert_exporter": "python",
   "pygments_lexer": "ipython3",
   "version": "3.4.3"
  }
 },
 "nbformat": 4,
 "nbformat_minor": 0
}
