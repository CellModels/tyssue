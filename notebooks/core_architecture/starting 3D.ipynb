{
 "cells": [
  {
   "cell_type": "code",
   "execution_count": 1,
   "metadata": {
    "collapsed": false
   },
   "outputs": [],
   "source": [
    "## \n",
    "import numpy as np\n",
    "import pandas as pd\n",
    "from scipy.spatial import Voronoi\n",
    "\n",
    "import tyssue\n",
    "\n",
    "from tyssue.core.objects import Epithelium\n",
    "from tyssue.geometry.bulk_geometry import BulkGeometry as bgeom\n",
    "from tyssue.core.generation import hexa_grid3d, from_3d_voronoi\n",
    "from tyssue.draw.vispy_draw import vp_view\n"
   ]
  },
  {
   "cell_type": "code",
   "execution_count": 5,
   "metadata": {
    "collapsed": false
   },
   "outputs": [
    {
     "data": {
      "text/html": [
       "<div>\n",
       "<table border=\"1\" class=\"dataframe\">\n",
       "  <thead>\n",
       "    <tr style=\"text-align: right;\">\n",
       "      <th></th>\n",
       "      <th>z</th>\n",
       "      <th>y</th>\n",
       "      <th>num_faces</th>\n",
       "      <th>x</th>\n",
       "      <th>is_alive</th>\n",
       "      <th>vol</th>\n",
       "    </tr>\n",
       "    <tr>\n",
       "      <th>cell</th>\n",
       "      <th></th>\n",
       "      <th></th>\n",
       "      <th></th>\n",
       "      <th></th>\n",
       "      <th></th>\n",
       "      <th></th>\n",
       "    </tr>\n",
       "  </thead>\n",
       "  <tbody>\n",
       "    <tr>\n",
       "      <th>0</th>\n",
       "      <td>0.433013</td>\n",
       "      <td>0.649519</td>\n",
       "      <td>4</td>\n",
       "      <td>0.75</td>\n",
       "      <td>True</td>\n",
       "      <td>4.006172e-18</td>\n",
       "    </tr>\n",
       "    <tr>\n",
       "      <th>1</th>\n",
       "      <td>0.433013</td>\n",
       "      <td>0.649519</td>\n",
       "      <td>8</td>\n",
       "      <td>1.50</td>\n",
       "      <td>True</td>\n",
       "      <td>2.083333e-02</td>\n",
       "    </tr>\n",
       "    <tr>\n",
       "      <th>2</th>\n",
       "      <td>0.433013</td>\n",
       "      <td>0.649519</td>\n",
       "      <td>8</td>\n",
       "      <td>2.50</td>\n",
       "      <td>True</td>\n",
       "      <td>2.083333e-02</td>\n",
       "    </tr>\n",
       "    <tr>\n",
       "      <th>3</th>\n",
       "      <td>0.433013</td>\n",
       "      <td>0.649519</td>\n",
       "      <td>8</td>\n",
       "      <td>3.50</td>\n",
       "      <td>True</td>\n",
       "      <td>2.083333e-02</td>\n",
       "    </tr>\n",
       "    <tr>\n",
       "      <th>4</th>\n",
       "      <td>0.433013</td>\n",
       "      <td>0.649519</td>\n",
       "      <td>8</td>\n",
       "      <td>4.50</td>\n",
       "      <td>True</td>\n",
       "      <td>2.083333e-02</td>\n",
       "    </tr>\n",
       "  </tbody>\n",
       "</table>\n",
       "</div>"
      ],
      "text/plain": [
       "             z         y  num_faces     x is_alive           vol\n",
       "cell                                                            \n",
       "0     0.433013  0.649519          4  0.75     True  4.006172e-18\n",
       "1     0.433013  0.649519          8  1.50     True  2.083333e-02\n",
       "2     0.433013  0.649519          8  2.50     True  2.083333e-02\n",
       "3     0.433013  0.649519          8  3.50     True  2.083333e-02\n",
       "4     0.433013  0.649519          8  4.50     True  2.083333e-02"
      ]
     },
     "execution_count": 5,
     "metadata": {},
     "output_type": "execute_result"
    }
   ],
   "source": [
    "grid = hexa_grid3d(6, 4, 3)\n",
    "\n",
    "datasets = from_3d_voronoi(Voronoi(grid))\n",
    "eptm = Epithelium('start3D', datasets)\n",
    "\n",
    "gspecs = eptm.set_geom('sheet')\n",
    "bgeom.update_all(eptm)\n",
    "eptm.cell_df.head()"
   ]
  },
  {
   "cell_type": "code",
   "execution_count": 10,
   "metadata": {
    "collapsed": false
   },
   "outputs": [
    {
     "data": {
      "text/plain": [
       "(283, 7)"
      ]
     },
     "execution_count": 10,
     "metadata": {},
     "output_type": "execute_result"
    }
   ],
   "source": [
    "datasets['face'].shape"
   ]
  },
  {
   "cell_type": "code",
   "execution_count": 11,
   "metadata": {
    "collapsed": true
   },
   "outputs": [],
   "source": [
    "from tyssue.core import generation"
   ]
  },
  {
   "cell_type": "code",
   "execution_count": 13,
   "metadata": {
    "collapsed": false
   },
   "outputs": [
    {
     "name": "stdout",
     "output_type": "stream",
     "text": [
      "jv (32, 3)\n",
      "je (82, 7)\n",
      "face (24, 6)\n"
     ]
    }
   ],
   "source": [
    "from tyssue.core.generation import hexa_grid2d, from_2d_voronoi\n",
    "grid = hexa_grid2d(6, 4, 1, 1)\n",
    "datasets = from_2d_voronoi(Voronoi(grid))\n",
    "\n",
    "\n",
    "for key, df in datasets.items():\n",
    "    print(key, df.shape)"
   ]
  },
  {
   "cell_type": "code",
   "execution_count": 3,
   "metadata": {
    "collapsed": false
   },
   "outputs": [
    {
     "name": "stderr",
     "output_type": "stream",
     "text": [
      "/home/guillaume/anaconda/envs/tyssue/lib/python3.4/site-packages/IPython/config.py:13: ShimWarning: The `IPython.config` package has been deprecated. You should import from traitlets.config instead.\n",
      "  \"You should import from traitlets.config instead.\", ShimWarning)\n"
     ]
    }
   ],
   "source": [
    "draw_tyssue(eptm)"
   ]
  },
  {
   "cell_type": "code",
   "execution_count": 4,
   "metadata": {
    "collapsed": true
   },
   "outputs": [],
   "source": [
    "bounds = [[-0.1, 2], [0, 2], [0, 10]]\n",
    "\n",
    "je_out = eptm.cut_out(bounds)\n",
    "\n",
    "eptm.remove(je_out)"
   ]
  },
  {
   "cell_type": "code",
   "execution_count": null,
   "metadata": {
    "collapsed": true
   },
   "outputs": [],
   "source": []
  },
  {
   "cell_type": "code",
   "execution_count": 8,
   "metadata": {
    "collapsed": false
   },
   "outputs": [
    {
     "data": {
      "text/plain": [
       "1.5155444566227692"
      ]
     },
     "execution_count": 8,
     "metadata": {},
     "output_type": "execute_result"
    }
   ],
   "source": [
    "eptm.jv_df['z'].ptp()"
   ]
  },
  {
   "cell_type": "code",
   "execution_count": 10,
   "metadata": {
    "collapsed": true
   },
   "outputs": [],
   "source": [
    "eptm.jv_df['z'] = eptm.jv_df['z'] * np.cos(eptm.jv_df['y'])\n",
    "bgeom.update_all(eptm)"
   ]
  },
  {
   "cell_type": "code",
   "execution_count": 6,
   "metadata": {
    "collapsed": true
   },
   "outputs": [],
   "source": [
    "import vispy.io as io"
   ]
  },
  {
   "cell_type": "code",
   "execution_count": 7,
   "metadata": {
    "collapsed": true
   },
   "outputs": [],
   "source": [
    "bgeom.update_all(eptm)"
   ]
  },
  {
   "cell_type": "code",
   "execution_count": 8,
   "metadata": {
    "collapsed": false
   },
   "outputs": [
    {
     "data": {
      "text/html": [
       "<div>\n",
       "<table border=\"1\" class=\"dataframe\">\n",
       "  <thead>\n",
       "    <tr style=\"text-align: right;\">\n",
       "      <th></th>\n",
       "      <th>dx</th>\n",
       "      <th>srce</th>\n",
       "      <th>dy</th>\n",
       "      <th>dz</th>\n",
       "      <th>nx</th>\n",
       "      <th>ny</th>\n",
       "      <th>length</th>\n",
       "      <th>face</th>\n",
       "      <th>trgt</th>\n",
       "      <th>nz</th>\n",
       "      <th>cell</th>\n",
       "      <th>sub_area</th>\n",
       "      <th>sub_vol</th>\n",
       "    </tr>\n",
       "    <tr>\n",
       "      <th>je</th>\n",
       "      <th></th>\n",
       "      <th></th>\n",
       "      <th></th>\n",
       "      <th></th>\n",
       "      <th></th>\n",
       "      <th></th>\n",
       "      <th></th>\n",
       "      <th></th>\n",
       "      <th></th>\n",
       "      <th></th>\n",
       "      <th></th>\n",
       "      <th></th>\n",
       "      <th></th>\n",
       "    </tr>\n",
       "  </thead>\n",
       "  <tbody>\n",
       "    <tr>\n",
       "      <th>0</th>\n",
       "      <td>-0.5</td>\n",
       "      <td>10</td>\n",
       "      <td>0.288675</td>\n",
       "      <td>0.144338</td>\n",
       "      <td>0.0625</td>\n",
       "      <td>0.054127</td>\n",
       "      <td>0.595119</td>\n",
       "      <td>14</td>\n",
       "      <td>6</td>\n",
       "      <td>0.108253</td>\n",
       "      <td>0</td>\n",
       "      <td>0.068108</td>\n",
       "      <td>-7.703720e-34</td>\n",
       "    </tr>\n",
       "    <tr>\n",
       "      <th>1</th>\n",
       "      <td>0.0</td>\n",
       "      <td>6</td>\n",
       "      <td>-0.433013</td>\n",
       "      <td>0.216506</td>\n",
       "      <td>0.0625</td>\n",
       "      <td>0.054127</td>\n",
       "      <td>0.484123</td>\n",
       "      <td>14</td>\n",
       "      <td>4</td>\n",
       "      <td>0.108253</td>\n",
       "      <td>0</td>\n",
       "      <td>0.068108</td>\n",
       "      <td>-5.135813e-34</td>\n",
       "    </tr>\n",
       "    <tr>\n",
       "      <th>2</th>\n",
       "      <td>0.5</td>\n",
       "      <td>4</td>\n",
       "      <td>-0.288675</td>\n",
       "      <td>-0.144338</td>\n",
       "      <td>0.0625</td>\n",
       "      <td>0.054127</td>\n",
       "      <td>0.595119</td>\n",
       "      <td>14</td>\n",
       "      <td>11</td>\n",
       "      <td>0.108253</td>\n",
       "      <td>0</td>\n",
       "      <td>0.068108</td>\n",
       "      <td>-8.987673e-34</td>\n",
       "    </tr>\n",
       "    <tr>\n",
       "      <th>3</th>\n",
       "      <td>0.0</td>\n",
       "      <td>11</td>\n",
       "      <td>0.433013</td>\n",
       "      <td>-0.216506</td>\n",
       "      <td>0.0625</td>\n",
       "      <td>0.054127</td>\n",
       "      <td>0.484123</td>\n",
       "      <td>14</td>\n",
       "      <td>10</td>\n",
       "      <td>0.108253</td>\n",
       "      <td>0</td>\n",
       "      <td>0.068108</td>\n",
       "      <td>-1.155558e-33</td>\n",
       "    </tr>\n",
       "    <tr>\n",
       "      <th>4</th>\n",
       "      <td>0.0</td>\n",
       "      <td>16</td>\n",
       "      <td>-0.433013</td>\n",
       "      <td>0.216506</td>\n",
       "      <td>0.0625</td>\n",
       "      <td>0.054127</td>\n",
       "      <td>0.484123</td>\n",
       "      <td>4</td>\n",
       "      <td>12</td>\n",
       "      <td>0.108253</td>\n",
       "      <td>1</td>\n",
       "      <td>0.068108</td>\n",
       "      <td>2.604167e-03</td>\n",
       "    </tr>\n",
       "  </tbody>\n",
       "</table>\n",
       "</div>"
      ],
      "text/plain": [
       "     dx  srce        dy        dz      nx        ny    length  face  trgt  \\\n",
       "je                                                                          \n",
       "0  -0.5    10  0.288675  0.144338  0.0625  0.054127  0.595119    14     6   \n",
       "1   0.0     6 -0.433013  0.216506  0.0625  0.054127  0.484123    14     4   \n",
       "2   0.5     4 -0.288675 -0.144338  0.0625  0.054127  0.595119    14    11   \n",
       "3   0.0    11  0.433013 -0.216506  0.0625  0.054127  0.484123    14    10   \n",
       "4   0.0    16 -0.433013  0.216506  0.0625  0.054127  0.484123     4    12   \n",
       "\n",
       "          nz  cell  sub_area       sub_vol  \n",
       "je                                          \n",
       "0   0.108253     0  0.068108 -7.703720e-34  \n",
       "1   0.108253     0  0.068108 -5.135813e-34  \n",
       "2   0.108253     0  0.068108 -8.987673e-34  \n",
       "3   0.108253     0  0.068108 -1.155558e-33  \n",
       "4   0.108253     1  0.068108  2.604167e-03  "
      ]
     },
     "execution_count": 8,
     "metadata": {},
     "output_type": "execute_result"
    }
   ],
   "source": [
    "eptm.je_df.head()"
   ]
  },
  {
   "cell_type": "code",
   "execution_count": 9,
   "metadata": {
    "collapsed": false
   },
   "outputs": [],
   "source": [
    "io.write_mesh('test.obj', vertices=vertices, faces=faces,\n",
    "              normals=eptm.je_df[['nx', 'ny', 'nz']].values,\n",
    "              texcoords=None, overwrite=True)"
   ]
  },
  {
   "cell_type": "code",
   "execution_count": null,
   "metadata": {
    "collapsed": true
   },
   "outputs": [],
   "source": []
  }
 ],
 "metadata": {
  "kernelspec": {
   "display_name": "Python 3",
   "language": "python",
   "name": "python3"
  },
  "language_info": {
   "codemirror_mode": {
    "name": "ipython",
    "version": 3
   },
   "file_extension": ".py",
   "mimetype": "text/x-python",
   "name": "python",
   "nbconvert_exporter": "python",
   "pygments_lexer": "ipython3",
   "version": "3.4.4"
  }
 },
 "nbformat": 4,
 "nbformat_minor": 0
}
