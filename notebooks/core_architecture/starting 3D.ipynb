{
 "cells": [
  {
   "cell_type": "code",
   "execution_count": 1,
   "metadata": {
    "collapsed": false
   },
   "outputs": [],
   "source": [
    "%load_ext autoreload\n",
    "%autoreload 2\n",
    "\n",
    "import numpy as np\n",
    "import pandas as pd\n",
    "from scipy.spatial import Voronoi\n",
    "\n",
    "\n",
    "import tyssue\n",
    "\n",
    "from tyssue.core.objects import Epithelium\n",
    "from tyssue.geometry import bulk_geometry as bgeom\n",
    "from tyssue.core.generation import (data_dicts, make_df,\n",
    "                                    hexa_grid3d, from_3d_voronoi)\n",
    "import vispy as vp\n",
    "from vispy import app, gloo, visuals, scene\n",
    "from vispy.geometry import MeshData\n"
   ]
  },
  {
   "cell_type": "markdown",
   "metadata": {
    "collapsed": false
   },
   "source": [
    "### Scatter plots of the cell centers\n",
    "\n",
    "```python\n",
    "from mpl_toolkits.mplot3d import Axes3D\n",
    "import matplotlib.pyplot as plt\n",
    "import seaborn as sns\n",
    "\n",
    "\n",
    "fig = plt.figure()\n",
    "ax = fig.add_subplot(111, projection='3d')\n",
    "ax.scatter(*grid.T, c='k', marker='o')\n",
    "\n",
    "ax.set_xlabel('X Label')\n",
    "ax.set_ylabel('Y Label')\n",
    "ax.set_zlabel('Z Label')\n",
    "\n",
    "plt.show()\n",
    "```"
   ]
  },
  {
   "cell_type": "code",
   "execution_count": 2,
   "metadata": {
    "collapsed": false
   },
   "outputs": [
    {
     "data": {
      "text/html": [
       "<div>\n",
       "<table border=\"1\" class=\"dataframe\">\n",
       "  <thead>\n",
       "    <tr style=\"text-align: right;\">\n",
       "      <th></th>\n",
       "      <th>z</th>\n",
       "      <th>num_faces</th>\n",
       "      <th>vol</th>\n",
       "      <th>x</th>\n",
       "      <th>is_alive</th>\n",
       "      <th>y</th>\n",
       "      <th>area</th>\n",
       "    </tr>\n",
       "    <tr>\n",
       "      <th>cell</th>\n",
       "      <th></th>\n",
       "      <th></th>\n",
       "      <th></th>\n",
       "      <th></th>\n",
       "      <th></th>\n",
       "      <th></th>\n",
       "      <th></th>\n",
       "    </tr>\n",
       "  </thead>\n",
       "  <tbody>\n",
       "    <tr>\n",
       "      <th>0</th>\n",
       "      <td>0.6875</td>\n",
       "      <td>4</td>\n",
       "      <td>0.000000</td>\n",
       "      <td>0.75</td>\n",
       "      <td>1</td>\n",
       "      <td>-0.625</td>\n",
       "      <td>0</td>\n",
       "    </tr>\n",
       "    <tr>\n",
       "      <th>1</th>\n",
       "      <td>0.6875</td>\n",
       "      <td>8</td>\n",
       "      <td>0.052083</td>\n",
       "      <td>1.50</td>\n",
       "      <td>1</td>\n",
       "      <td>-0.625</td>\n",
       "      <td>0</td>\n",
       "    </tr>\n",
       "    <tr>\n",
       "      <th>2</th>\n",
       "      <td>0.6875</td>\n",
       "      <td>8</td>\n",
       "      <td>0.052083</td>\n",
       "      <td>2.50</td>\n",
       "      <td>1</td>\n",
       "      <td>-0.625</td>\n",
       "      <td>0</td>\n",
       "    </tr>\n",
       "    <tr>\n",
       "      <th>3</th>\n",
       "      <td>0.6875</td>\n",
       "      <td>8</td>\n",
       "      <td>0.052083</td>\n",
       "      <td>3.50</td>\n",
       "      <td>1</td>\n",
       "      <td>-0.625</td>\n",
       "      <td>0</td>\n",
       "    </tr>\n",
       "    <tr>\n",
       "      <th>4</th>\n",
       "      <td>0.6875</td>\n",
       "      <td>8</td>\n",
       "      <td>0.052083</td>\n",
       "      <td>4.50</td>\n",
       "      <td>1</td>\n",
       "      <td>-0.625</td>\n",
       "      <td>0</td>\n",
       "    </tr>\n",
       "  </tbody>\n",
       "</table>\n",
       "</div>"
      ],
      "text/plain": [
       "           z  num_faces       vol     x  is_alive      y  area\n",
       "cell                                                          \n",
       "0     0.6875          4  0.000000  0.75         1 -0.625     0\n",
       "1     0.6875          8  0.052083  1.50         1 -0.625     0\n",
       "2     0.6875          8  0.052083  2.50         1 -0.625     0\n",
       "3     0.6875          8  0.052083  3.50         1 -0.625     0\n",
       "4     0.6875          8  0.052083  4.50         1 -0.625     0"
      ]
     },
     "execution_count": 2,
     "metadata": {},
     "output_type": "execute_result"
    }
   ],
   "source": [
    "grid = hexa_grid3d(16, 14, 3)\n",
    "\n",
    "datasets = from_3d_voronoi(Voronoi(grid))\n",
    "eptm = Epithelium('start3D', datasets)\n",
    "\n",
    "gspecs = eptm.set_geom(bgeom)\n",
    "bgeom.update_all(eptm)\n",
    "eptm.cell_df.head()"
   ]
  },
  {
   "cell_type": "code",
   "execution_count": 3,
   "metadata": {
    "collapsed": false
   },
   "outputs": [
    {
     "data": {
      "text/html": [
       "<div>\n",
       "<table border=\"1\" class=\"dataframe\">\n",
       "  <thead>\n",
       "    <tr style=\"text-align: right;\">\n",
       "      <th></th>\n",
       "      <th>z</th>\n",
       "      <th>num_faces</th>\n",
       "      <th>vol</th>\n",
       "      <th>x</th>\n",
       "      <th>is_alive</th>\n",
       "      <th>y</th>\n",
       "      <th>area</th>\n",
       "    </tr>\n",
       "    <tr>\n",
       "      <th>cell</th>\n",
       "      <th></th>\n",
       "      <th></th>\n",
       "      <th></th>\n",
       "      <th></th>\n",
       "      <th></th>\n",
       "      <th></th>\n",
       "      <th></th>\n",
       "    </tr>\n",
       "  </thead>\n",
       "  <tbody>\n",
       "    <tr>\n",
       "      <th>0</th>\n",
       "      <td>0.6875</td>\n",
       "      <td>4</td>\n",
       "      <td>0.000000</td>\n",
       "      <td>0.75</td>\n",
       "      <td>1</td>\n",
       "      <td>-0.625</td>\n",
       "      <td>0</td>\n",
       "    </tr>\n",
       "    <tr>\n",
       "      <th>1</th>\n",
       "      <td>0.6875</td>\n",
       "      <td>8</td>\n",
       "      <td>0.052083</td>\n",
       "      <td>1.50</td>\n",
       "      <td>1</td>\n",
       "      <td>-0.625</td>\n",
       "      <td>0</td>\n",
       "    </tr>\n",
       "    <tr>\n",
       "      <th>2</th>\n",
       "      <td>0.6875</td>\n",
       "      <td>8</td>\n",
       "      <td>0.052083</td>\n",
       "      <td>2.50</td>\n",
       "      <td>1</td>\n",
       "      <td>-0.625</td>\n",
       "      <td>0</td>\n",
       "    </tr>\n",
       "    <tr>\n",
       "      <th>3</th>\n",
       "      <td>0.6875</td>\n",
       "      <td>8</td>\n",
       "      <td>0.052083</td>\n",
       "      <td>3.50</td>\n",
       "      <td>1</td>\n",
       "      <td>-0.625</td>\n",
       "      <td>0</td>\n",
       "    </tr>\n",
       "    <tr>\n",
       "      <th>4</th>\n",
       "      <td>0.6875</td>\n",
       "      <td>8</td>\n",
       "      <td>0.052083</td>\n",
       "      <td>4.50</td>\n",
       "      <td>1</td>\n",
       "      <td>-0.625</td>\n",
       "      <td>0</td>\n",
       "    </tr>\n",
       "  </tbody>\n",
       "</table>\n",
       "</div>"
      ],
      "text/plain": [
       "           z  num_faces       vol     x  is_alive      y  area\n",
       "cell                                                          \n",
       "0     0.6875          4  0.000000  0.75         1 -0.625     0\n",
       "1     0.6875          8  0.052083  1.50         1 -0.625     0\n",
       "2     0.6875          8  0.052083  2.50         1 -0.625     0\n",
       "3     0.6875          8  0.052083  3.50         1 -0.625     0\n",
       "4     0.6875          8  0.052083  4.50         1 -0.625     0"
      ]
     },
     "execution_count": 3,
     "metadata": {},
     "output_type": "execute_result"
    }
   ],
   "source": [
    "eptm.cell_df.head()"
   ]
  },
  {
   "cell_type": "code",
   "execution_count": 4,
   "metadata": {
    "collapsed": true
   },
   "outputs": [],
   "source": [
    "bounds = [[-0.1, 2], [0, 2], [0, 10]]\n",
    "\n",
    "je_out = eptm.cut_out(bounds)\n",
    "\n",
    "eptm.remove(je_out)"
   ]
  },
  {
   "cell_type": "code",
   "execution_count": 7,
   "metadata": {
    "collapsed": false
   },
   "outputs": [
    {
     "data": {
      "text/plain": [
       "0"
      ]
     },
     "execution_count": 7,
     "metadata": {},
     "output_type": "execute_result"
    }
   ],
   "source": [
    "vertices, faces, face_mask = eptm.triangular_mesh(eptm.coords)\n",
    "\n",
    "canvas = scene.SceneCanvas(keys='interactive', show=True)\n",
    "\n",
    "grid = canvas.central_widget.add_grid()\n",
    "view = grid.add_view(0, 1)\n",
    "#view = canvas.central_widget.add_view()\n",
    "view.camera =  'turntable'\n",
    "view.camera.aspect = 1\n",
    "\n",
    "\n",
    "view.bgcolor = vp.color.Color('#aaaaaa')\n",
    "\n",
    "\n",
    "\n",
    "mesh = vp.scene.visuals.Mesh(vertices=vertices,\n",
    "                             faces=faces, color=[0.2, 0.5, 0.1, 0.8])\n",
    "\n",
    "wire_pos = vertices[eptm.Nc:].copy()\n",
    "\n",
    "\n",
    "wire = vp.scene.visuals.Line(pos=wire_pos, \n",
    "                             connect=faces[:, :2] - eptm.Nc,\n",
    "                             color=[0.1, 0.1, 0.3, 0.8],\n",
    "                             width=1)\n",
    "ccenters = vp.scene.visuals.Markers(\n",
    "        pos=eptm.cell_df[eptm.coords].values,\n",
    "        face_color=[1, 1, 1])\n",
    "\n",
    "view.add(mesh)\n",
    "view.add(wire)\n",
    "# view.add(ccenters)\n",
    "canvas.show()\n",
    "\n",
    "app.run()"
   ]
  },
  {
   "cell_type": "code",
   "execution_count": 8,
   "metadata": {
    "collapsed": true
   },
   "outputs": [],
   "source": [
    "import vispy.io as io"
   ]
  },
  {
   "cell_type": "code",
   "execution_count": 9,
   "metadata": {
    "collapsed": true
   },
   "outputs": [],
   "source": [
    "bgeom.update_all(eptm)"
   ]
  },
  {
   "cell_type": "code",
   "execution_count": 10,
   "metadata": {
    "collapsed": false
   },
   "outputs": [
    {
     "data": {
      "text/html": [
       "<div>\n",
       "<table border=\"1\" class=\"dataframe\">\n",
       "  <thead>\n",
       "    <tr style=\"text-align: right;\">\n",
       "      <th></th>\n",
       "      <th>trgt</th>\n",
       "      <th>srce</th>\n",
       "      <th>nx</th>\n",
       "      <th>length</th>\n",
       "      <th>face</th>\n",
       "      <th>ny</th>\n",
       "      <th>nz</th>\n",
       "      <th>cell</th>\n",
       "      <th>dx</th>\n",
       "      <th>dy</th>\n",
       "      <th>dz</th>\n",
       "      <th>sub_area</th>\n",
       "      <th>sub_vol</th>\n",
       "    </tr>\n",
       "    <tr>\n",
       "      <th>je</th>\n",
       "      <th></th>\n",
       "      <th></th>\n",
       "      <th></th>\n",
       "      <th></th>\n",
       "      <th></th>\n",
       "      <th></th>\n",
       "      <th></th>\n",
       "      <th></th>\n",
       "      <th></th>\n",
       "      <th></th>\n",
       "      <th></th>\n",
       "      <th></th>\n",
       "      <th></th>\n",
       "    </tr>\n",
       "  </thead>\n",
       "  <tbody>\n",
       "    <tr>\n",
       "      <th>0</th>\n",
       "      <td>25</td>\n",
       "      <td>15</td>\n",
       "      <td>0.0625</td>\n",
       "      <td>0.559017</td>\n",
       "      <td>14</td>\n",
       "      <td>0.0625</td>\n",
       "      <td>0.125</td>\n",
       "      <td>0</td>\n",
       "      <td>0.0</td>\n",
       "      <td>0.5</td>\n",
       "      <td>-0.25</td>\n",
       "      <td>0.076547</td>\n",
       "      <td>0.002604</td>\n",
       "    </tr>\n",
       "    <tr>\n",
       "      <th>1</th>\n",
       "      <td>17</td>\n",
       "      <td>25</td>\n",
       "      <td>0.0625</td>\n",
       "      <td>0.559017</td>\n",
       "      <td>14</td>\n",
       "      <td>0.0625</td>\n",
       "      <td>0.125</td>\n",
       "      <td>0</td>\n",
       "      <td>-0.5</td>\n",
       "      <td>0.0</td>\n",
       "      <td>0.25</td>\n",
       "      <td>0.076547</td>\n",
       "      <td>0.002604</td>\n",
       "    </tr>\n",
       "    <tr>\n",
       "      <th>2</th>\n",
       "      <td>15</td>\n",
       "      <td>3</td>\n",
       "      <td>0.0625</td>\n",
       "      <td>0.559017</td>\n",
       "      <td>4</td>\n",
       "      <td>-0.0625</td>\n",
       "      <td>0.125</td>\n",
       "      <td>0</td>\n",
       "      <td>0.0</td>\n",
       "      <td>0.5</td>\n",
       "      <td>0.25</td>\n",
       "      <td>0.076547</td>\n",
       "      <td>0.002604</td>\n",
       "    </tr>\n",
       "    <tr>\n",
       "      <th>3</th>\n",
       "      <td>22</td>\n",
       "      <td>15</td>\n",
       "      <td>0.0625</td>\n",
       "      <td>0.559017</td>\n",
       "      <td>4</td>\n",
       "      <td>-0.0625</td>\n",
       "      <td>0.125</td>\n",
       "      <td>0</td>\n",
       "      <td>-0.5</td>\n",
       "      <td>0.0</td>\n",
       "      <td>0.25</td>\n",
       "      <td>0.076547</td>\n",
       "      <td>0.002604</td>\n",
       "    </tr>\n",
       "    <tr>\n",
       "      <th>4</th>\n",
       "      <td>1</td>\n",
       "      <td>22</td>\n",
       "      <td>0.0625</td>\n",
       "      <td>0.559017</td>\n",
       "      <td>4</td>\n",
       "      <td>-0.0625</td>\n",
       "      <td>0.125</td>\n",
       "      <td>0</td>\n",
       "      <td>0.0</td>\n",
       "      <td>-0.5</td>\n",
       "      <td>-0.25</td>\n",
       "      <td>0.076547</td>\n",
       "      <td>0.002604</td>\n",
       "    </tr>\n",
       "  </tbody>\n",
       "</table>\n",
       "</div>"
      ],
      "text/plain": [
       "    trgt  srce      nx    length  face      ny     nz  cell   dx   dy    dz  \\\n",
       "je                                                                            \n",
       "0     25    15  0.0625  0.559017    14  0.0625  0.125     0  0.0  0.5 -0.25   \n",
       "1     17    25  0.0625  0.559017    14  0.0625  0.125     0 -0.5  0.0  0.25   \n",
       "2     15     3  0.0625  0.559017     4 -0.0625  0.125     0  0.0  0.5  0.25   \n",
       "3     22    15  0.0625  0.559017     4 -0.0625  0.125     0 -0.5  0.0  0.25   \n",
       "4      1    22  0.0625  0.559017     4 -0.0625  0.125     0  0.0 -0.5 -0.25   \n",
       "\n",
       "    sub_area   sub_vol  \n",
       "je                      \n",
       "0   0.076547  0.002604  \n",
       "1   0.076547  0.002604  \n",
       "2   0.076547  0.002604  \n",
       "3   0.076547  0.002604  \n",
       "4   0.076547  0.002604  "
      ]
     },
     "execution_count": 10,
     "metadata": {},
     "output_type": "execute_result"
    }
   ],
   "source": [
    "eptm.je_df.head()"
   ]
  },
  {
   "cell_type": "code",
   "execution_count": 11,
   "metadata": {
    "collapsed": false
   },
   "outputs": [],
   "source": [
    "io.write_mesh('test.obj', vertices=vertices, faces=faces,\n",
    "              normals=eptm.je_df[['nx', 'ny', 'nz']].values,\n",
    "              texcoords=None, overwrite=True)"
   ]
  },
  {
   "cell_type": "code",
   "execution_count": null,
   "metadata": {
    "collapsed": true
   },
   "outputs": [],
   "source": []
  }
 ],
 "metadata": {
  "kernelspec": {
   "display_name": "Python 3",
   "language": "python",
   "name": "python3"
  },
  "language_info": {
   "codemirror_mode": {
    "name": "ipython",
    "version": 3
   },
   "file_extension": ".py",
   "mimetype": "text/x-python",
   "name": "python",
   "nbconvert_exporter": "python",
   "pygments_lexer": "ipython3",
   "version": "3.4.3"
  }
 },
 "nbformat": 4,
 "nbformat_minor": 0
}
