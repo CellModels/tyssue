{
 "cells": [
  {
   "cell_type": "code",
   "execution_count": 1,
   "metadata": {
    "collapsed": false
   },
   "outputs": [],
   "source": [
    "%load_ext autoreload\n",
    "%autoreload 2\n",
    "\n",
    "import numpy as np\n",
    "import pandas as pd\n",
    "from scipy.spatial import Voronoi\n",
    "import vispy as vp\n",
    "\n",
    "\n",
    "import tyssue\n",
    "\n",
    "from tyssue.core.objects import Epithelium\n",
    "from tyssue.geometry import bulk_geometry as bgeom\n",
    "from tyssue.core.generation import (data_dicts, make_df,\n",
    "                                    hexa_grid3d, from_3d_voronoi)\n"
   ]
  },
  {
   "cell_type": "code",
   "execution_count": 2,
   "metadata": {
    "collapsed": false
   },
   "outputs": [],
   "source": [
    "grid = hexa_grid3d(10, 10, 3)"
   ]
  },
  {
   "cell_type": "code",
   "execution_count": 3,
   "metadata": {
    "collapsed": false
   },
   "outputs": [
    {
     "name": "stderr",
     "output_type": "stream",
     "text": [
      "/home/guillaume/anaconda/envs/py35/lib/python3.5/site-packages/matplotlib/__init__.py:872: UserWarning: axes.color_cycle is deprecated and replaced with axes.prop_cycle; please use the latter.\n",
      "  warnings.warn(self.msg_depr % (key, alt_key))\n"
     ]
    }
   ],
   "source": [
    "from mpl_toolkits.mplot3d import Axes3D\n",
    "import matplotlib.pyplot as plt\n",
    "import seaborn as sns\n",
    "\n",
    "\n",
    "fig = plt.figure()\n",
    "ax = fig.add_subplot(111, projection='3d')\n",
    "ax.scatter(*grid.T, c='k', marker='o')\n",
    "\n",
    "ax.set_xlabel('X Label')\n",
    "ax.set_ylabel('Y Label')\n",
    "ax.set_zlabel('Z Label')\n",
    "\n",
    "plt.show()"
   ]
  },
  {
   "cell_type": "code",
   "execution_count": 3,
   "metadata": {
    "collapsed": false
   },
   "outputs": [],
   "source": [
    "datasets = from_3d_voronoi(Voronoi(grid))\n",
    "eptm = Epithelium('start3D', datasets)"
   ]
  },
  {
   "cell_type": "code",
   "execution_count": 4,
   "metadata": {
    "collapsed": true
   },
   "outputs": [],
   "source": [
    "from vispy import app, gloo, visuals, scene\n",
    "from vispy.geometry import MeshData"
   ]
  },
  {
   "cell_type": "code",
   "execution_count": 8,
   "metadata": {
    "collapsed": false
   },
   "outputs": [],
   "source": [
    "gspecs = eptm.set_geom(bgeom)"
   ]
  },
  {
   "cell_type": "code",
   "execution_count": 9,
   "metadata": {
    "collapsed": false
   },
   "outputs": [],
   "source": [
    "bgeom.update_all(eptm)"
   ]
  },
  {
   "cell_type": "code",
   "execution_count": 10,
   "metadata": {
    "collapsed": false
   },
   "outputs": [
    {
     "data": {
      "text/html": [
       "<div>\n",
       "<table border=\"1\" class=\"dataframe\">\n",
       "  <thead>\n",
       "    <tr style=\"text-align: right;\">\n",
       "      <th></th>\n",
       "      <th>x</th>\n",
       "      <th>num_faces</th>\n",
       "      <th>vol</th>\n",
       "      <th>z</th>\n",
       "      <th>is_alive</th>\n",
       "      <th>y</th>\n",
       "      <th>area</th>\n",
       "    </tr>\n",
       "    <tr>\n",
       "      <th>cell</th>\n",
       "      <th></th>\n",
       "      <th></th>\n",
       "      <th></th>\n",
       "      <th></th>\n",
       "      <th></th>\n",
       "      <th></th>\n",
       "      <th></th>\n",
       "    </tr>\n",
       "  </thead>\n",
       "  <tbody>\n",
       "    <tr>\n",
       "      <th>0</th>\n",
       "      <td>-0.125</td>\n",
       "      <td>0</td>\n",
       "      <td>0.000000</td>\n",
       "      <td>0.6875</td>\n",
       "      <td>1</td>\n",
       "      <td>0.75</td>\n",
       "      <td>0</td>\n",
       "    </tr>\n",
       "    <tr>\n",
       "      <th>1</th>\n",
       "      <td>1.000</td>\n",
       "      <td>0</td>\n",
       "      <td>0.020833</td>\n",
       "      <td>0.5000</td>\n",
       "      <td>1</td>\n",
       "      <td>0.75</td>\n",
       "      <td>0</td>\n",
       "    </tr>\n",
       "    <tr>\n",
       "      <th>2</th>\n",
       "      <td>2.000</td>\n",
       "      <td>0</td>\n",
       "      <td>0.020833</td>\n",
       "      <td>0.5000</td>\n",
       "      <td>1</td>\n",
       "      <td>0.75</td>\n",
       "      <td>0</td>\n",
       "    </tr>\n",
       "    <tr>\n",
       "      <th>3</th>\n",
       "      <td>3.000</td>\n",
       "      <td>0</td>\n",
       "      <td>0.020833</td>\n",
       "      <td>0.5000</td>\n",
       "      <td>1</td>\n",
       "      <td>0.75</td>\n",
       "      <td>0</td>\n",
       "    </tr>\n",
       "    <tr>\n",
       "      <th>4</th>\n",
       "      <td>4.000</td>\n",
       "      <td>0</td>\n",
       "      <td>0.020833</td>\n",
       "      <td>0.5000</td>\n",
       "      <td>1</td>\n",
       "      <td>0.75</td>\n",
       "      <td>0</td>\n",
       "    </tr>\n",
       "  </tbody>\n",
       "</table>\n",
       "</div>"
      ],
      "text/plain": [
       "          x  num_faces       vol       z  is_alive     y  area\n",
       "cell                                                          \n",
       "0    -0.125          0  0.000000  0.6875         1  0.75     0\n",
       "1     1.000          0  0.020833  0.5000         1  0.75     0\n",
       "2     2.000          0  0.020833  0.5000         1  0.75     0\n",
       "3     3.000          0  0.020833  0.5000         1  0.75     0\n",
       "4     4.000          0  0.020833  0.5000         1  0.75     0"
      ]
     },
     "execution_count": 10,
     "metadata": {},
     "output_type": "execute_result"
    }
   ],
   "source": [
    "eptm.cell_df.head()"
   ]
  },
  {
   "cell_type": "code",
   "execution_count": 11,
   "metadata": {
    "collapsed": false
   },
   "outputs": [
    {
     "data": {
      "text/html": [
       "<div>\n",
       "<table border=\"1\" class=\"dataframe\">\n",
       "  <thead>\n",
       "    <tr style=\"text-align: right;\">\n",
       "      <th></th>\n",
       "      <th>nz</th>\n",
       "      <th>dy</th>\n",
       "      <th>cell</th>\n",
       "      <th>trgt</th>\n",
       "      <th>dz</th>\n",
       "      <th>nx</th>\n",
       "      <th>ny</th>\n",
       "      <th>length</th>\n",
       "      <th>srce</th>\n",
       "      <th>dx</th>\n",
       "      <th>face</th>\n",
       "      <th>sub_area</th>\n",
       "      <th>sub_vol</th>\n",
       "    </tr>\n",
       "    <tr>\n",
       "      <th>je</th>\n",
       "      <th></th>\n",
       "      <th></th>\n",
       "      <th></th>\n",
       "      <th></th>\n",
       "      <th></th>\n",
       "      <th></th>\n",
       "      <th></th>\n",
       "      <th></th>\n",
       "      <th></th>\n",
       "      <th></th>\n",
       "      <th></th>\n",
       "      <th></th>\n",
       "      <th></th>\n",
       "    </tr>\n",
       "  </thead>\n",
       "  <tbody>\n",
       "    <tr>\n",
       "      <th>1565</th>\n",
       "      <td>0.3125</td>\n",
       "      <td>0.5</td>\n",
       "      <td>0</td>\n",
       "      <td>122</td>\n",
       "      <td>-0.25</td>\n",
       "      <td>0.15625</td>\n",
       "      <td>0.15625</td>\n",
       "      <td>0.559017</td>\n",
       "      <td>40</td>\n",
       "      <td>0.0</td>\n",
       "      <td>175</td>\n",
       "      <td>0.191366</td>\n",
       "      <td>0.000000</td>\n",
       "    </tr>\n",
       "    <tr>\n",
       "      <th>1563</th>\n",
       "      <td>0.2500</td>\n",
       "      <td>0.0</td>\n",
       "      <td>0</td>\n",
       "      <td>40</td>\n",
       "      <td>-0.50</td>\n",
       "      <td>0.12500</td>\n",
       "      <td>0.12500</td>\n",
       "      <td>1.118034</td>\n",
       "      <td>15</td>\n",
       "      <td>1.0</td>\n",
       "      <td>175</td>\n",
       "      <td>0.153093</td>\n",
       "      <td>0.000000</td>\n",
       "    </tr>\n",
       "    <tr>\n",
       "      <th>1561</th>\n",
       "      <td>0.3125</td>\n",
       "      <td>-0.5</td>\n",
       "      <td>0</td>\n",
       "      <td>15</td>\n",
       "      <td>0.00</td>\n",
       "      <td>0.15625</td>\n",
       "      <td>0.15625</td>\n",
       "      <td>0.707107</td>\n",
       "      <td>74</td>\n",
       "      <td>0.5</td>\n",
       "      <td>175</td>\n",
       "      <td>0.191366</td>\n",
       "      <td>0.000000</td>\n",
       "    </tr>\n",
       "    <tr>\n",
       "      <th>1559</th>\n",
       "      <td>0.3750</td>\n",
       "      <td>0.0</td>\n",
       "      <td>0</td>\n",
       "      <td>74</td>\n",
       "      <td>0.75</td>\n",
       "      <td>0.18750</td>\n",
       "      <td>0.18750</td>\n",
       "      <td>1.677051</td>\n",
       "      <td>122</td>\n",
       "      <td>-1.5</td>\n",
       "      <td>175</td>\n",
       "      <td>0.229640</td>\n",
       "      <td>0.000000</td>\n",
       "    </tr>\n",
       "    <tr>\n",
       "      <th>1607</th>\n",
       "      <td>0.1250</td>\n",
       "      <td>-0.5</td>\n",
       "      <td>1</td>\n",
       "      <td>40</td>\n",
       "      <td>0.25</td>\n",
       "      <td>-0.06250</td>\n",
       "      <td>0.06250</td>\n",
       "      <td>0.559017</td>\n",
       "      <td>122</td>\n",
       "      <td>0.0</td>\n",
       "      <td>180</td>\n",
       "      <td>0.076547</td>\n",
       "      <td>0.002604</td>\n",
       "    </tr>\n",
       "  </tbody>\n",
       "</table>\n",
       "</div>"
      ],
      "text/plain": [
       "          nz   dy  cell  trgt    dz       nx       ny    length  srce   dx  \\\n",
       "je                                                                           \n",
       "1565  0.3125  0.5     0   122 -0.25  0.15625  0.15625  0.559017    40  0.0   \n",
       "1563  0.2500  0.0     0    40 -0.50  0.12500  0.12500  1.118034    15  1.0   \n",
       "1561  0.3125 -0.5     0    15  0.00  0.15625  0.15625  0.707107    74  0.5   \n",
       "1559  0.3750  0.0     0    74  0.75  0.18750  0.18750  1.677051   122 -1.5   \n",
       "1607  0.1250 -0.5     1    40  0.25 -0.06250  0.06250  0.559017   122  0.0   \n",
       "\n",
       "      face  sub_area   sub_vol  \n",
       "je                              \n",
       "1565   175  0.191366  0.000000  \n",
       "1563   175  0.153093  0.000000  \n",
       "1561   175  0.191366  0.000000  \n",
       "1559   175  0.229640  0.000000  \n",
       "1607   180  0.076547  0.002604  "
      ]
     },
     "execution_count": 11,
     "metadata": {},
     "output_type": "execute_result"
    }
   ],
   "source": [
    "eptm.je_df.head()"
   ]
  },
  {
   "cell_type": "code",
   "execution_count": 14,
   "metadata": {
    "collapsed": false
   },
   "outputs": [
    {
     "data": {
      "text/plain": [
       "0"
      ]
     },
     "execution_count": 14,
     "metadata": {},
     "output_type": "execute_result"
    }
   ],
   "source": [
    "\n",
    "vertices, faces, cell_mask = eptm.triangular_mesh(eptm.coords)\n",
    "\n",
    "canvas = scene.SceneCanvas(keys='interactive', show=True)\n",
    "\n",
    "grid = canvas.central_widget.add_grid()\n",
    "view = grid.add_view(0, 1)\n",
    "#view = canvas.central_widget.add_view()\n",
    "view.camera =  'turntable'\n",
    "view.camera.aspect = 1\n",
    "\n",
    "cell_color = vp.color.ColorArray('#ff0000', alpha=0.5)\n",
    "cell_color = cell_color.rgba.repeat(eptm.Ne, axis=0)\n",
    "\n",
    "edge_color = vp.color.ColorArray('#00ff00', alpha=1)\n",
    "\n",
    "view.bgcolor = vp.color.Color('#ffffff')\n",
    "\n",
    "\n",
    "mesh = vp.scene.visuals.Mesh(vertices=vertices,\n",
    "                             faces=faces,\n",
    "                             face_colors=cell_color)\n",
    "\n",
    "wire_pos = vertices[eptm.Nc:].copy()\n",
    "\n",
    "\n",
    "wire = vp.scene.visuals.Line(pos=wire_pos, \n",
    "                             connect=faces[:, :2]-eptm.Nc,\n",
    "                             color=edge_color,\n",
    "                             width=20)\n",
    "\n",
    "ccenters = vp.scene.visuals.Markers(pos=eptm.cell_df[eptm.coords].values)\n",
    "\n",
    "view.add(mesh)\n",
    "view.add(wire)\n",
    "view.add(ccenters)\n",
    "view.camera.set_range()\n",
    "canvas.show()\n",
    "\n",
    "#vp_widget = VispyWidget()\n",
    "#vp_widget.set_canvas(canvas)\n",
    "\n",
    "\n",
    "\n",
    "app.run()"
   ]
  },
  {
   "cell_type": "code",
   "execution_count": 15,
   "metadata": {
    "collapsed": false
   },
   "outputs": [
    {
     "data": {
      "text/html": [
       "<div>\n",
       "<table border=\"1\" class=\"dataframe\">\n",
       "  <thead>\n",
       "    <tr style=\"text-align: right;\">\n",
       "      <th></th>\n",
       "      <th>nz</th>\n",
       "      <th>dy</th>\n",
       "      <th>cell</th>\n",
       "      <th>trgt</th>\n",
       "      <th>dz</th>\n",
       "      <th>nx</th>\n",
       "      <th>ny</th>\n",
       "      <th>length</th>\n",
       "      <th>srce</th>\n",
       "      <th>dx</th>\n",
       "      <th>face</th>\n",
       "      <th>sub_area</th>\n",
       "      <th>sub_vol</th>\n",
       "    </tr>\n",
       "    <tr>\n",
       "      <th>je</th>\n",
       "      <th></th>\n",
       "      <th></th>\n",
       "      <th></th>\n",
       "      <th></th>\n",
       "      <th></th>\n",
       "      <th></th>\n",
       "      <th></th>\n",
       "      <th></th>\n",
       "      <th></th>\n",
       "      <th></th>\n",
       "      <th></th>\n",
       "      <th></th>\n",
       "      <th></th>\n",
       "    </tr>\n",
       "  </thead>\n",
       "  <tbody>\n",
       "    <tr>\n",
       "      <th>1565</th>\n",
       "      <td>0.3125</td>\n",
       "      <td>0.5</td>\n",
       "      <td>0</td>\n",
       "      <td>122</td>\n",
       "      <td>-0.25</td>\n",
       "      <td>0.15625</td>\n",
       "      <td>0.15625</td>\n",
       "      <td>0.559017</td>\n",
       "      <td>40</td>\n",
       "      <td>0.0</td>\n",
       "      <td>175</td>\n",
       "      <td>0.191366</td>\n",
       "      <td>0.000000</td>\n",
       "    </tr>\n",
       "    <tr>\n",
       "      <th>1563</th>\n",
       "      <td>0.2500</td>\n",
       "      <td>0.0</td>\n",
       "      <td>0</td>\n",
       "      <td>40</td>\n",
       "      <td>-0.50</td>\n",
       "      <td>0.12500</td>\n",
       "      <td>0.12500</td>\n",
       "      <td>1.118034</td>\n",
       "      <td>15</td>\n",
       "      <td>1.0</td>\n",
       "      <td>175</td>\n",
       "      <td>0.153093</td>\n",
       "      <td>0.000000</td>\n",
       "    </tr>\n",
       "    <tr>\n",
       "      <th>1561</th>\n",
       "      <td>0.3125</td>\n",
       "      <td>-0.5</td>\n",
       "      <td>0</td>\n",
       "      <td>15</td>\n",
       "      <td>0.00</td>\n",
       "      <td>0.15625</td>\n",
       "      <td>0.15625</td>\n",
       "      <td>0.707107</td>\n",
       "      <td>74</td>\n",
       "      <td>0.5</td>\n",
       "      <td>175</td>\n",
       "      <td>0.191366</td>\n",
       "      <td>0.000000</td>\n",
       "    </tr>\n",
       "    <tr>\n",
       "      <th>1559</th>\n",
       "      <td>0.3750</td>\n",
       "      <td>0.0</td>\n",
       "      <td>0</td>\n",
       "      <td>74</td>\n",
       "      <td>0.75</td>\n",
       "      <td>0.18750</td>\n",
       "      <td>0.18750</td>\n",
       "      <td>1.677051</td>\n",
       "      <td>122</td>\n",
       "      <td>-1.5</td>\n",
       "      <td>175</td>\n",
       "      <td>0.229640</td>\n",
       "      <td>0.000000</td>\n",
       "    </tr>\n",
       "    <tr>\n",
       "      <th>1607</th>\n",
       "      <td>0.1250</td>\n",
       "      <td>-0.5</td>\n",
       "      <td>1</td>\n",
       "      <td>40</td>\n",
       "      <td>0.25</td>\n",
       "      <td>-0.06250</td>\n",
       "      <td>0.06250</td>\n",
       "      <td>0.559017</td>\n",
       "      <td>122</td>\n",
       "      <td>0.0</td>\n",
       "      <td>180</td>\n",
       "      <td>0.076547</td>\n",
       "      <td>0.002604</td>\n",
       "    </tr>\n",
       "  </tbody>\n",
       "</table>\n",
       "</div>"
      ],
      "text/plain": [
       "          nz   dy  cell  trgt    dz       nx       ny    length  srce   dx  \\\n",
       "je                                                                           \n",
       "1565  0.3125  0.5     0   122 -0.25  0.15625  0.15625  0.559017    40  0.0   \n",
       "1563  0.2500  0.0     0    40 -0.50  0.12500  0.12500  1.118034    15  1.0   \n",
       "1561  0.3125 -0.5     0    15  0.00  0.15625  0.15625  0.707107    74  0.5   \n",
       "1559  0.3750  0.0     0    74  0.75  0.18750  0.18750  1.677051   122 -1.5   \n",
       "1607  0.1250 -0.5     1    40  0.25 -0.06250  0.06250  0.559017   122  0.0   \n",
       "\n",
       "      face  sub_area   sub_vol  \n",
       "je                              \n",
       "1565   175  0.191366  0.000000  \n",
       "1563   175  0.153093  0.000000  \n",
       "1561   175  0.191366  0.000000  \n",
       "1559   175  0.229640  0.000000  \n",
       "1607   180  0.076547  0.002604  "
      ]
     },
     "execution_count": 15,
     "metadata": {},
     "output_type": "execute_result"
    }
   ],
   "source": [
    "eptm.je_df.head()"
   ]
  },
  {
   "cell_type": "code",
   "execution_count": null,
   "metadata": {
    "collapsed": true
   },
   "outputs": [],
   "source": []
  }
 ],
 "metadata": {
  "kernelspec": {
   "display_name": "Python 3",
   "language": "python",
   "name": "python3"
  },
  "language_info": {
   "codemirror_mode": {
    "name": "ipython",
    "version": 3
   },
   "file_extension": ".py",
   "mimetype": "text/x-python",
   "name": "python",
   "nbconvert_exporter": "python",
   "pygments_lexer": "ipython3",
   "version": "3.5.1"
  }
 },
 "nbformat": 4,
 "nbformat_minor": 0
}
