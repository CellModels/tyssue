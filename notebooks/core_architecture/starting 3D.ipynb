{
 "cells": [
  {
   "cell_type": "code",
   "execution_count": 1,
   "metadata": {
    "collapsed": false
   },
   "outputs": [],
   "source": [
    "%load_ext autoreload\n",
    "%autoreload 2\n",
    "\n",
    "import numpy as np\n",
    "import pandas as pd\n",
    "from scipy.spatial import Voronoi\n",
    "import vispy as vp\n",
    "\n",
    "\n",
    "import tyssue\n",
    "from tyssue.core.sheet import Sheet\n",
    "from tyssue.core.objects import Epithelium\n",
    "from tyssue.geometry import sheet_geometry as sgeom\n"
   ]
  },
  {
   "cell_type": "code",
   "execution_count": 2,
   "metadata": {
    "collapsed": true
   },
   "outputs": [],
   "source": [
    "def hexa_grid3d(nx, ny, nz, distx=1., disty=1., distz=1., noise=None):\n",
    "    \"\"\"Creates an hexagonal grid of points\n",
    "    \"\"\"\n",
    "    cz, cy, cx = np.mgrid[0:nz, 0:ny, 0:nx]\n",
    "    cx = cx.astype(np.float)\n",
    "    cy = cy.astype(np.float)\n",
    "    cz = cz.astype(np.float)\n",
    "    cx[1::2, :] += 0.5\n",
    "    cy[::2, :] += 0.5\n",
    "    \n",
    "    \n",
    "    centers = np.vstack([cx.flatten(),\n",
    "                         cy.flatten(), cz.flatten()]).T\n",
    "    centers[:, 0] *= distx\n",
    "    centers[:, 1] *= disty\n",
    "    centers[:, 2] *= distz\n",
    "    if noise is not None:\n",
    "        pos_noise = np.random.normal(scale=noise, size=centers.shape)\n",
    "        centers += pos_noise\n",
    "    return centers\n"
   ]
  },
  {
   "cell_type": "code",
   "execution_count": 3,
   "metadata": {
    "collapsed": false
   },
   "outputs": [],
   "source": [
    "grid = hexa_grid3d(3, 3, 3)"
   ]
  },
  {
   "cell_type": "code",
   "execution_count": 4,
   "metadata": {
    "collapsed": false
   },
   "outputs": [
    {
     "name": "stderr",
     "output_type": "stream",
     "text": [
      "/home/guillaume/anaconda/envs/py35/lib/python3.5/site-packages/matplotlib/__init__.py:872: UserWarning: axes.color_cycle is deprecated and replaced with axes.prop_cycle; please use the latter.\n",
      "  warnings.warn(self.msg_depr % (key, alt_key))\n"
     ]
    }
   ],
   "source": [
    "from mpl_toolkits.mplot3d import Axes3D\n",
    "import matplotlib.pyplot as plt\n",
    "import seaborn as sns\n",
    "\n",
    "\n",
    "fig = plt.figure()\n",
    "ax = fig.add_subplot(111, projection='3d')\n",
    "ax.scatter(*grid.T, c='k', marker='o')\n",
    "\n",
    "ax.set_xlabel('X Label')\n",
    "ax.set_ylabel('Y Label')\n",
    "ax.set_zlabel('Z Label')\n",
    "\n",
    "plt.show()"
   ]
  },
  {
   "cell_type": "code",
   "execution_count": 5,
   "metadata": {
    "collapsed": true
   },
   "outputs": [],
   "source": [
    "voro = Voronoi(grid)"
   ]
  },
  {
   "cell_type": "code",
   "execution_count": 6,
   "metadata": {
    "collapsed": false
   },
   "outputs": [
    {
     "data": {
      "text/plain": [
       "(27, 3)"
      ]
     },
     "execution_count": 6,
     "metadata": {},
     "output_type": "execute_result"
    }
   ],
   "source": [
    "voro.points.shape"
   ]
  },
  {
   "cell_type": "code",
   "execution_count": 7,
   "metadata": {
    "collapsed": false,
    "scrolled": false
   },
   "outputs": [],
   "source": [
    "el_idx = []\n",
    "\n",
    "for f_idx, (rv, rp) in enumerate(\n",
    "    zip(voro.ridge_vertices,\n",
    "        voro.ridge_points)):\n",
    "    \n",
    "    if -1 in rv:\n",
    "        continue\n",
    "    face_verts = voro.vertices[rv]\n",
    "    f_center = face_verts.mean(axis=0)\n",
    "    c0 = voro.points[rp[0]]\n",
    "    ctof = f_center - c0\n",
    "\n",
    "    for rv0, rv1 in zip(rv, np.roll(rv, 1, axis=0)):\n",
    "        fv0 = voro.vertices[rv0]\n",
    "        fv1 = voro.vertices[rv1]\n",
    "        edge_v = fv1 - fv0\n",
    "        fto0 = fv0 - f_center\n",
    "        normal = np.cross(fto0, edge_v)\n",
    "        dotp = ctof @ normal\n",
    "        if np.sign(dotp) > 0:\n",
    "            el_idx.append([rv0, rv1, f_idx, rp[0]])\n",
    "            el_idx.append([rv1, rv0, f_idx, rp[1]])\n",
    "        else:\n",
    "            el_idx.append([rv1, rv0, f_idx, rp[0]])\n",
    "            el_idx.append([rv0, rv1, f_idx, rp[1]])\n",
    "\n",
    "el_idx = np.array(el_idx)"
   ]
  },
  {
   "cell_type": "code",
   "execution_count": 11,
   "metadata": {
    "collapsed": true
   },
   "outputs": [],
   "source": [
    "from tyssue.core.generation import data_dicts, make_df"
   ]
  },
  {
   "cell_type": "code",
   "execution_count": 13,
   "metadata": {
    "collapsed": true
   },
   "outputs": [],
   "source": [
    "cell_data = {\n",
    "    'volume': (0., np.float),\n",
    "    'num_faces': (6, int),\n",
    "    'area': (0.0, float),\n",
    "    'x': (0.0, float),\n",
    "    'y': (0.0, float),\n",
    "    'z': (0.0, float)\n",
    "    }\n",
    "\n",
    "data_dicts['cell'] = cell_data\n",
    "data_dicts['je']['cell'] = (0, np.int)"
   ]
  },
  {
   "cell_type": "code",
   "execution_count": 14,
   "metadata": {
    "collapsed": false
   },
   "outputs": [],
   "source": [
    "coords = ['x', 'y', 'z']\n",
    "\n",
    "je_idx = pd.Index(range(el_idx.shape[0]), name='je')\n",
    "je_df = make_df(je_idx, data_dicts['je'])\n",
    "for i, elem in enumerate(['srce', 'trgt', 'face', 'cell']):\n",
    "    je_df[elem] = el_idx[:, i]\n",
    "\n",
    "\n",
    "jv_idx = pd.Index(range(voro.vertices.shape[0]), name='jv')\n",
    "jv_df = make_df(jv_idx, data_dicts['jv'])\n",
    "jv_df[coords] = voro.vertices\n",
    "\n",
    "cell_idx = pd.Index(range(voro.points.shape[0]), name='cell')\n",
    "cell_df = make_df(cell_idx, data_dicts['cell'])\n",
    "cell_df[coords] = voro.points\n",
    "\n",
    "face_idx = pd.Index(range(f_idx), name='face')\n",
    "face_df = make_df(face_idx, data_dicts['cell'])\n",
    "je_df.sort_values(by='cell', inplace=True)"
   ]
  },
  {
   "cell_type": "code",
   "execution_count": 15,
   "metadata": {
    "collapsed": true
   },
   "outputs": [],
   "source": [
    "datasets= {\n",
    "    'jv': jv_df,\n",
    "    'je': je_df,\n",
    "    'face': face_df,\n",
    "    'cell': cell_df,\n",
    "}\n",
    "eptm = Epithelium('start3D', datasets)"
   ]
  },
  {
   "cell_type": "code",
   "execution_count": 16,
   "metadata": {
    "collapsed": true
   },
   "outputs": [],
   "source": [
    "from vispy import app, gloo, visuals, scene\n",
    "from vispy.geometry import MeshData"
   ]
  },
  {
   "cell_type": "code",
   "execution_count": 17,
   "metadata": {
    "collapsed": false,
    "scrolled": true
   },
   "outputs": [
    {
     "data": {
      "text/plain": [
       "MultiIndex(levels=[[0, 1, 2, 3, 4, 5, 6, 7, 8, 9, 10, 11, 12, 13, 14, 15, 16, 17, 18, 19, 20, 21, 22, 23, 24, 25, 26, 27, 28, 29, 30, 31, 32, 33, 34, 35, 36, 37, 38, 39], [0, 1, 2, 3, 4, 5, 6, 7, 8, 9, 10, 11, 12, 13, 14, 15, 16, 17, 18, 19, 20, 21, 22, 23, 24, 25, 26, 27, 28, 29, 30, 31, 32, 33, 34, 35, 36, 37, 38, 39], [1, 11, 16, 21, 28, 29, 30, 31, 34, 35, 38, 39, 43, 44, 46, 47, 50, 52, 54, 56, 57, 58, 59, 60, 65, 66, 67, 68, 69, 70, 71, 72, 73, 74, 75, 76, 77, 79, 81, 82]],\n",
       "           labels=[[1, 11, 7, 1, 8, 7, 19, 8, 21, 19, 11, 21, 11, 9, 21, 11, 20, 21, 10, 20, 12, 10, 9, 12, 4, 7, 7, 8, 8, 6, 6, 5, 5, 4, 0, 2, 3, 0, 12, 3, 10, 12, 2, 10, 27, 24, 22, 27, 30, 22, 24, 30, 26, 22, 23, 26, 30, 23, 22, 30, 25, 29, 29, 23, 23, 30, 30, 25, 28, 25, 24, 28, 30, 24, 25, 30, 10, 2, 22, 10, 27, 22, 2, 27, 20, 10, 10, 22, 22, 26, 26, 20, 8, 19, 23, 8, 26, 23, 19, 26, 6, 8, 8, 23, 23, 29, 29, 6, 17, 16, 27, 17, 24, 27, 16, 24, 16, 18, 18, 28, 28, 24, 24, 16, 13, 14, 14, 29, 29, 25, 25, 13, 15, 13, 28, 15, 25, 28, 13, 25, 19, 21, 26, 19, 20, 26, 21, 20, 5, 6, 6, 29, 29, 14, 14, 5, 28, 18, 18, 15, 15, 28, 2, 0, 0, 17, 17, 27, 27, 2, 37, 34, 33, 37, 39, 33, 34, 39, 34, 38, 38, 31, 31, 39, 39, 34, 31, 35, 35, 32, 32, 39, 39, 31, 36, 33, 32, 36, 39, 32, 33, 39, 16, 18, 34, 16, 37, 34, 18, 37, 37, 18, 18, 15, 15, 37, 15, 13, 37, 15, 33, 37, 13, 33, 13, 25, 33, 13, 39, 33, 30, 39, 25, 30, 16, 34, 24, 16, 30, 24, 39, 30, 34, 39, 3, 0, 0, 17, 17, 38, 38, 3, 22, 10, 10, 12, 12, 31, 31, 39, 39, 30, 30, 22, 12, 3, 3, 38, 38, 31, 31, 12, 17, 16, 16, 34, 34, 38, 38, 17, 7, 8, 32, 7, 39, 32, 30, 39, 23, 30, 8, 23, 4, 7, 7, 32, 32, 36, 36, 4, 5, 4, 4, 36, 36, 14, 14, 5, 13, 14, 14, 36, 36, 33, 33, 13, 12, 9, 31, 12, 35, 31, 9, 35, 1, 11, 35, 1, 9, 35, 11, 9, 7, 1, 1, 35, 35, 32, 32, 7], [11, 1, 1, 7, 7, 8, 8, 19, 19, 21, 21, 11, 9, 11, 11, 21, 21, 20, 20, 10, 10, 12, 12, 9, 7, 4, 8, 7, 6, 8, 5, 6, 4, 5, 2, 0, 0, 3, 3, 12, 12, 10, 10, 2, 24, 27, 27, 22, 22, 30, 30, 24, 22, 26, 26, 23, 23, 30, 30, 22, 29, 25, 23, 29, 30, 23, 25, 30, 25, 28, 28, 24, 24, 30, 30, 25, 2, 10, 10, 22, 22, 27, 27, 2, 10, 20, 22, 10, 26, 22, 20, 26, 19, 8, 8, 23, 23, 26, 26, 19, 8, 6, 23, 8, 29, 23, 6, 29, 16, 17, 17, 27, 27, 24, 24, 16, 18, 16, 28, 18, 24, 28, 16, 24, 14, 13, 29, 14, 25, 29, 13, 25, 13, 15, 15, 28, 28, 25, 25, 13, 21, 19, 19, 26, 26, 20, 20, 21, 6, 5, 29, 6, 14, 29, 5, 14, 18, 28, 15, 18, 28, 15, 0, 2, 17, 0, 27, 17, 2, 27, 34, 37, 37, 33, 33, 39, 39, 34, 38, 34, 31, 38, 39, 31, 34, 39, 35, 31, 32, 35, 39, 32, 31, 39, 33, 36, 36, 32, 32, 39, 39, 33, 18, 16, 16, 34, 34, 37, 37, 18, 18, 37, 15, 18, 37, 15, 13, 15, 15, 37, 37, 33, 33, 13, 25, 13, 13, 33, 33, 39, 39, 30, 30, 25, 34, 16, 16, 24, 24, 30, 30, 39, 39, 34, 0, 3, 17, 0, 38, 17, 3, 38, 10, 22, 12, 10, 31, 12, 39, 31, 30, 39, 22, 30, 3, 12, 38, 3, 31, 38, 12, 31, 16, 17, 34, 16, 38, 34, 17, 38, 8, 7, 7, 32, 32, 39, 39, 30, 30, 23, 23, 8, 7, 4, 32, 7, 36, 32, 4, 36, 4, 5, 36, 4, 14, 36, 5, 14, 14, 13, 36, 14, 33, 36, 13, 33, 9, 12, 12, 31, 31, 35, 35, 9, 11, 1, 1, 35, 35, 9, 9, 11, 1, 7, 35, 1, 32, 35, 7, 32], [0, 0, 0, 0, 0, 0, 0, 0, 0, 0, 0, 0, 1, 1, 1, 1, 1, 1, 1, 1, 1, 1, 1, 1, 2, 2, 2, 2, 2, 2, 2, 2, 2, 2, 3, 3, 3, 3, 3, 3, 3, 3, 3, 3, 4, 4, 4, 4, 4, 4, 4, 4, 5, 5, 5, 5, 5, 5, 5, 5, 6, 6, 6, 6, 6, 6, 6, 6, 7, 7, 7, 7, 7, 7, 7, 7, 8, 8, 8, 8, 8, 8, 8, 8, 9, 9, 9, 9, 9, 9, 9, 9, 10, 10, 10, 10, 10, 10, 10, 10, 11, 11, 11, 11, 11, 11, 11, 11, 12, 12, 12, 12, 12, 12, 12, 12, 13, 13, 13, 13, 13, 13, 13, 13, 14, 14, 14, 14, 14, 14, 14, 14, 15, 15, 15, 15, 15, 15, 15, 15, 16, 16, 16, 16, 16, 16, 16, 16, 17, 17, 17, 17, 17, 17, 17, 17, 18, 18, 18, 18, 18, 18, 19, 19, 19, 19, 19, 19, 19, 19, 20, 20, 20, 20, 20, 20, 20, 20, 21, 21, 21, 21, 21, 21, 21, 21, 22, 22, 22, 22, 22, 22, 22, 22, 23, 23, 23, 23, 23, 23, 23, 23, 24, 24, 24, 24, 24, 24, 24, 24, 25, 25, 25, 25, 25, 25, 26, 26, 26, 26, 26, 26, 26, 26, 27, 27, 27, 27, 27, 27, 27, 27, 27, 27, 28, 28, 28, 28, 28, 28, 28, 28, 28, 28, 29, 29, 29, 29, 29, 29, 29, 29, 30, 30, 30, 30, 30, 30, 30, 30, 30, 30, 30, 30, 31, 31, 31, 31, 31, 31, 31, 31, 32, 32, 32, 32, 32, 32, 32, 32, 33, 33, 33, 33, 33, 33, 33, 33, 33, 33, 33, 33, 34, 34, 34, 34, 34, 34, 34, 34, 35, 35, 35, 35, 35, 35, 35, 35, 36, 36, 36, 36, 36, 36, 36, 36, 37, 37, 37, 37, 37, 37, 37, 37, 38, 38, 38, 38, 38, 38, 38, 38, 39, 39, 39, 39, 39, 39, 39, 39]],\n",
       "           names=['srce', 'trgt', 'face'])"
      ]
     },
     "execution_count": 17,
     "metadata": {},
     "output_type": "execute_result"
    }
   ],
   "source": [
    "eptm.je_mindex"
   ]
  },
  {
   "cell_type": "code",
   "execution_count": 18,
   "metadata": {
    "collapsed": false
   },
   "outputs": [],
   "source": [
    "coords = ['x', 'y', 'z']\n",
    "upcast_pos = eptm.upcast_face(eptm.jv_df[coords])\n",
    "upcast_pos.index = eptm.je_mindex\n",
    "face_df[coords] = upcast_pos.groupby(level='face').mean()"
   ]
  },
  {
   "cell_type": "code",
   "execution_count": null,
   "metadata": {
    "collapsed": true
   },
   "outputs": [],
   "source": [
    "canvas = scene.SceneCanvas(keys='interactive', show=True)\n",
    "\n",
    "grid = canvas.central_widget.add_grid()\n",
    "view = grid.add_view(0, 1)\n",
    "#view = canvas.central_widget.add_view()\n",
    "view.camera =  'turntable'\n",
    "view.camera.aspect = 1\n",
    "\n",
    "cell_color = vp.color.ColorArray(cell_style['color'], alpha=0.5)\n",
    "cell_color = cell_color.rgba.repeat(eptm.Nf, axis=0)\n",
    "\n",
    "edge_color = vp.color.ColorArray(edge_arrow_style['color'], alpha=1)\n",
    "\n",
    "view.bgcolor = vp.color.Color('#ffffff')\n",
    "\n",
    "\n",
    "mesh = vp.scene.visuals.Mesh(vertices=vertices,\n",
    "                             faces=faces,\n",
    "                             face_colors=cell_color)\n",
    "\n",
    "wire_pos = vertices[eptm.Nc:].copy()\n",
    "wire_pos[:, 2] += 0.1\n",
    "\n",
    "wire = vp.scene.visuals.Line(pos=wire_pos, \n",
    "                             connect=faces[:, :2]-eptm.Nc,\n",
    "                             color=edge_color,\n",
    "                             width=20)\n",
    "\n",
    "view.add(mesh)\n",
    "view.add(wire)\n",
    "view.camera.set_range()\n",
    "canvas.show()\n",
    "\n",
    "#vp_widget = VispyWidget()\n",
    "#vp_widget.set_canvas(canvas)\n",
    "\n",
    "\n",
    "\n",
    "app.run()"
   ]
  }
 ],
 "metadata": {
  "kernelspec": {
   "display_name": "Python 3",
   "language": "python",
   "name": "python3"
  },
  "language_info": {
   "codemirror_mode": {
    "name": "ipython",
    "version": 3
   },
   "file_extension": ".py",
   "mimetype": "text/x-python",
   "name": "python",
   "nbconvert_exporter": "python",
   "pygments_lexer": "ipython3",
   "version": "3.5.1"
  }
 },
 "nbformat": 4,
 "nbformat_minor": 0
}
