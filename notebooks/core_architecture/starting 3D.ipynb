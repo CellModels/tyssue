{
 "cells": [
  {
   "cell_type": "code",
   "execution_count": 1,
   "metadata": {
    "collapsed": false
   },
   "outputs": [],
   "source": [
    "%load_ext autoreload\n",
    "%autoreload 2\n",
    "\n",
    "import numpy as np\n",
    "import pandas as pd\n",
    "from scipy.spatial import Voronoi\n",
    "import vispy as vp\n",
    "\n",
    "\n",
    "import tyssue\n",
    "from tyssue.core.sheet import Sheet\n",
    "from tyssue.core.objects import Epithelium\n",
    "from tyssue.geometry import bulk_geometry as bgeom\n"
   ]
  },
  {
   "cell_type": "code",
   "execution_count": 2,
   "metadata": {
    "collapsed": true
   },
   "outputs": [],
   "source": [
    "def hexa_grid3d(nx, ny, nz, distx=1., disty=1., distz=1., noise=None):\n",
    "    \"\"\"Creates an hexagonal grid of points\n",
    "    \"\"\"\n",
    "    cz, cy, cx = np.mgrid[0:nz, 0:ny, 0:nx]\n",
    "    cx = cx.astype(np.float)\n",
    "    cy = cy.astype(np.float)\n",
    "    cz = cz.astype(np.float)\n",
    "    cx[1::2, :] += 0.5\n",
    "    cy[::2, :] += 0.5\n",
    "    \n",
    "    \n",
    "    centers = np.vstack([cx.flatten(),\n",
    "                         cy.flatten(), cz.flatten()]).T\n",
    "    centers[:, 0] *= distx\n",
    "    centers[:, 1] *= disty\n",
    "    centers[:, 2] *= distz\n",
    "    if noise is not None:\n",
    "        pos_noise = np.random.normal(scale=noise, size=centers.shape)\n",
    "        centers += pos_noise\n",
    "    return centers\n"
   ]
  },
  {
   "cell_type": "code",
   "execution_count": 3,
   "metadata": {
    "collapsed": false
   },
   "outputs": [],
   "source": [
    "grid = hexa_grid3d(3, 3, 3)"
   ]
  },
  {
   "cell_type": "code",
   "execution_count": 4,
   "metadata": {
    "collapsed": false
   },
   "outputs": [
    {
     "name": "stderr",
     "output_type": "stream",
     "text": [
      "/home/guillaume/anaconda/envs/py35/lib/python3.5/site-packages/matplotlib/__init__.py:872: UserWarning: axes.color_cycle is deprecated and replaced with axes.prop_cycle; please use the latter.\n",
      "  warnings.warn(self.msg_depr % (key, alt_key))\n"
     ]
    }
   ],
   "source": [
    "from mpl_toolkits.mplot3d import Axes3D\n",
    "import matplotlib.pyplot as plt\n",
    "import seaborn as sns\n",
    "\n",
    "\n",
    "fig = plt.figure()\n",
    "ax = fig.add_subplot(111, projection='3d')\n",
    "ax.scatter(*grid.T, c='k', marker='o')\n",
    "\n",
    "ax.set_xlabel('X Label')\n",
    "ax.set_ylabel('Y Label')\n",
    "ax.set_zlabel('Z Label')\n",
    "\n",
    "plt.show()"
   ]
  },
  {
   "cell_type": "code",
   "execution_count": 5,
   "metadata": {
    "collapsed": true
   },
   "outputs": [],
   "source": [
    "voro = Voronoi(grid)"
   ]
  },
  {
   "cell_type": "code",
   "execution_count": 6,
   "metadata": {
    "collapsed": false
   },
   "outputs": [
    {
     "data": {
      "text/plain": [
       "(27, 3)"
      ]
     },
     "execution_count": 6,
     "metadata": {},
     "output_type": "execute_result"
    }
   ],
   "source": [
    "voro.points.shape"
   ]
  },
  {
   "cell_type": "code",
   "execution_count": 7,
   "metadata": {
    "collapsed": false,
    "scrolled": false
   },
   "outputs": [],
   "source": [
    "el_idx = []\n",
    "\n",
    "for f_idx, (rv, rp) in enumerate(\n",
    "    zip(voro.ridge_vertices,\n",
    "        voro.ridge_points)):\n",
    "    \n",
    "    if -1 in rv:\n",
    "        continue\n",
    "    face_verts = voro.vertices[rv]\n",
    "    f_center = face_verts.mean(axis=0)\n",
    "    c0 = voro.points[rp[0]]\n",
    "    ctof = f_center - c0\n",
    "\n",
    "    for rv0, rv1 in zip(rv, np.roll(rv, 1, axis=0)):\n",
    "        fv0 = voro.vertices[rv0]\n",
    "        fv1 = voro.vertices[rv1]\n",
    "        edge_v = fv1 - fv0\n",
    "        fto0 = fv0 - f_center\n",
    "        normal = np.cross(fto0, edge_v)\n",
    "        dotp = ctof @ normal\n",
    "        if np.sign(dotp) > 0:\n",
    "            el_idx.append([rv0, rv1, f_idx, rp[0]])\n",
    "            el_idx.append([rv1, rv0, f_idx, rp[1]])\n",
    "        else:\n",
    "            el_idx.append([rv1, rv0, f_idx, rp[0]])\n",
    "            el_idx.append([rv0, rv1, f_idx, rp[1]])\n",
    "\n",
    "el_idx = np.array(el_idx)"
   ]
  },
  {
   "cell_type": "code",
   "execution_count": 8,
   "metadata": {
    "collapsed": true
   },
   "outputs": [],
   "source": [
    "from tyssue.core.generation import data_dicts, make_df"
   ]
  },
  {
   "cell_type": "code",
   "execution_count": 9,
   "metadata": {
    "collapsed": true
   },
   "outputs": [],
   "source": [
    "cell_data = {\n",
    "    'volume': (0., np.float),\n",
    "    'num_faces': (6, int),\n",
    "    'area': (0.0, float),\n",
    "    'x': (0.0, float),\n",
    "    'y': (0.0, float),\n",
    "    'z': (0.0, float)\n",
    "    }\n",
    "\n",
    "data_dicts['cell'] = cell_data\n",
    "data_dicts['je']['cell'] = (0, np.int)"
   ]
  },
  {
   "cell_type": "code",
   "execution_count": 10,
   "metadata": {
    "collapsed": false
   },
   "outputs": [],
   "source": [
    "coords = ['x', 'y', 'z']\n",
    "\n",
    "je_idx = pd.Index(range(el_idx.shape[0]), name='je')\n",
    "je_df = make_df(je_idx, data_dicts['je'])\n",
    "for i, elem in enumerate(['srce', 'trgt', 'face', 'cell']):\n",
    "    je_df[elem] = el_idx[:, i]\n",
    "\n",
    "\n",
    "jv_idx = pd.Index(range(voro.vertices.shape[0]), name='jv')\n",
    "jv_df = make_df(jv_idx, data_dicts['jv'])\n",
    "jv_df[coords] = voro.vertices\n",
    "\n",
    "cell_idx = pd.Index(range(voro.points.shape[0]), name='cell')\n",
    "cell_df = make_df(cell_idx, data_dicts['cell'])\n",
    "cell_df[coords] = voro.points\n",
    "\n",
    "face_idx = pd.Index(range(f_idx), name='face')\n",
    "face_df = make_df(face_idx, data_dicts['cell'])\n",
    "je_df.sort_values(by='cell', inplace=True)"
   ]
  },
  {
   "cell_type": "code",
   "execution_count": 11,
   "metadata": {
    "collapsed": true
   },
   "outputs": [],
   "source": [
    "datasets= {\n",
    "    'jv': jv_df,\n",
    "    'je': je_df,\n",
    "    'face': face_df,\n",
    "    'cell': cell_df,\n",
    "}\n",
    "eptm = Epithelium('start3D', datasets)"
   ]
  },
  {
   "cell_type": "code",
   "execution_count": 12,
   "metadata": {
    "collapsed": true
   },
   "outputs": [],
   "source": [
    "from vispy import app, gloo, visuals, scene\n",
    "from vispy.geometry import MeshData"
   ]
  },
  {
   "cell_type": "code",
   "execution_count": 13,
   "metadata": {
    "collapsed": false,
    "scrolled": true
   },
   "outputs": [
    {
     "data": {
      "text/plain": [
       "FrozenList(['srce', 'trgt', 'face', 'cell'])"
      ]
     },
     "execution_count": 13,
     "metadata": {},
     "output_type": "execute_result"
    }
   ],
   "source": [
    "eptm.je_mindex.names"
   ]
  },
  {
   "cell_type": "code",
   "execution_count": null,
   "metadata": {
    "collapsed": true
   },
   "outputs": [],
   "source": []
  },
  {
   "cell_type": "code",
   "execution_count": 18,
   "metadata": {
    "collapsed": false
   },
   "outputs": [],
   "source": [
    "coords = ['x', 'y', 'z']\n",
    "upcast_pos = eptm.upcast_face(eptm.jv_df[coords])\n",
    "upcast_pos.index = eptm.je_mindex\n",
    "face_df[coords] = upcast_pos.groupby(level='face').mean()"
   ]
  },
  {
   "cell_type": "code",
   "execution_count": null,
   "metadata": {
    "collapsed": true
   },
   "outputs": [],
   "source": [
    "canvas = scene.SceneCanvas(keys='interactive', show=True)\n",
    "\n",
    "grid = canvas.central_widget.add_grid()\n",
    "view = grid.add_view(0, 1)\n",
    "#view = canvas.central_widget.add_view()\n",
    "view.camera =  'turntable'\n",
    "view.camera.aspect = 1\n",
    "\n",
    "cell_color = vp.color.ColorArray(cell_style['color'], alpha=0.5)\n",
    "cell_color = cell_color.rgba.repeat(eptm.Nf, axis=0)\n",
    "\n",
    "edge_color = vp.color.ColorArray(edge_arrow_style['color'], alpha=1)\n",
    "\n",
    "view.bgcolor = vp.color.Color('#ffffff')\n",
    "\n",
    "\n",
    "mesh = vp.scene.visuals.Mesh(vertices=vertices,\n",
    "                             faces=faces,\n",
    "                             face_colors=cell_color)\n",
    "\n",
    "wire_pos = vertices[eptm.Nc:].copy()\n",
    "wire_pos[:, 2] += 0.1\n",
    "\n",
    "wire = vp.scene.visuals.Line(pos=wire_pos, \n",
    "                             connect=faces[:, :2]-eptm.Nc,\n",
    "                             color=edge_color,\n",
    "                             width=20)\n",
    "\n",
    "view.add(mesh)\n",
    "view.add(wire)\n",
    "view.camera.set_range()\n",
    "canvas.show()\n",
    "\n",
    "#vp_widget = VispyWidget()\n",
    "#vp_widget.set_canvas(canvas)\n",
    "\n",
    "\n",
    "\n",
    "app.run()"
   ]
  }
 ],
 "metadata": {
  "kernelspec": {
   "display_name": "Python 3",
   "language": "python",
   "name": "python3"
  },
  "language_info": {
   "codemirror_mode": {
    "name": "ipython",
    "version": 3
   },
   "file_extension": ".py",
   "mimetype": "text/x-python",
   "name": "python",
   "nbconvert_exporter": "python",
   "pygments_lexer": "ipython3",
   "version": "3.5.1"
  }
 },
 "nbformat": 4,
 "nbformat_minor": 0
}
