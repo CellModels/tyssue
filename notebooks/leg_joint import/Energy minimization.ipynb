{
 "cells": [
  {
   "cell_type": "code",
   "execution_count": 15,
   "metadata": {
    "collapsed": false
   },
   "outputs": [
    {
     "name": "stdout",
     "output_type": "stream",
     "text": [
      "The autoreload extension is already loaded. To reload it, use:\n",
      "  %reload_ext autoreload\n"
     ]
    }
   ],
   "source": [
    "%load_ext autoreload\n",
    "%autoreload 2"
   ]
  },
  {
   "cell_type": "code",
   "execution_count": 16,
   "metadata": {
    "collapsed": false
   },
   "outputs": [],
   "source": [
    "#import tyssue\n",
    "import sys\n",
    "sys.path.append('/home/guillaume/Python/tyssue/src/py-tyssue/')\n",
    "import pandas as pd\n",
    "import numpy as np\n",
    "import json\n",
    "import matplotlib.pylab as plt\n",
    "%matplotlib inline\n",
    "from scipy import optimize\n",
    "\n",
    "from tyssue.core.sheet import Sheet\n",
    "\n",
    "from tyssue.utils.utils import set_data_columns\n",
    "\n",
    "import tyssue.geometry.sheet_geometry as geom\n",
    "import tyssue.dynamics.sheet_vertex_model as model\n",
    "import tyssue.solvers.sheet_vertex_solver as solver\n",
    "\n",
    "from tyssue.dynamics.sheet_isotropic_model import isotropic_relax\n",
    "\n",
    "\n",
    "\n",
    "from tyssue.draw.mpl_draw import sheet_view\n",
    "import tyssue.draw.mpl_draw as draw\n",
    "from tyssue.io import hdf5"
   ]
  },
  {
   "cell_type": "code",
   "execution_count": 17,
   "metadata": {
    "collapsed": true
   },
   "outputs": [],
   "source": [
    "h5store = 'small_hexagonal.hf5'\n",
    "datasets = hdf5.load_datasets(h5store, data_names=['cell', 'jv', 'je'])\n",
    "sheet = Sheet('emin', datasets)\n",
    "\n",
    "\n",
    "\n"
   ]
  },
  {
   "cell_type": "markdown",
   "metadata": {},
   "source": [
    "### Datasets are made of dataframes \n",
    "\n",
    "They are manipulated as such.\n",
    "\n",
    "```python\n",
    "hdf5.save_datasets('small_hexagonal.hf5', sheet)\n",
    "\n",
    "sheet.je_df.head()\n",
    "sheet.cell_df.describe()\n",
    "```\n",
    "\n",
    "### Dataset Specifications\n",
    "\n",
    "All the parameters are stored in **specifications**, which are nested dictionnaries.\n",
    "\n",
    "for example:\n",
    "\n"
   ]
  },
  {
   "cell_type": "code",
   "execution_count": 18,
   "metadata": {
    "collapsed": false
   },
   "outputs": [],
   "source": [
    "geom_spec = geom.get_default_geom_specs()"
   ]
  },
  {
   "cell_type": "code",
   "execution_count": 19,
   "metadata": {
    "collapsed": false,
    "scrolled": true
   },
   "outputs": [
    {
     "data": {
      "text/html": [
       "<div>\n",
       "<table border=\"1\" class=\"dataframe\">\n",
       "  <thead>\n",
       "    <tr style=\"text-align: right;\">\n",
       "      <th></th>\n",
       "      <th>perimeter</th>\n",
       "      <th>z</th>\n",
       "      <th>x</th>\n",
       "      <th>is_alive</th>\n",
       "      <th>area</th>\n",
       "      <th>y</th>\n",
       "      <th>old_idx</th>\n",
       "      <th>basal_shift</th>\n",
       "      <th>height</th>\n",
       "      <th>vol</th>\n",
       "      <th>vol_elasticity</th>\n",
       "      <th>prefered_height</th>\n",
       "      <th>contractility</th>\n",
       "      <th>prefered_area</th>\n",
       "      <th>num_sides</th>\n",
       "    </tr>\n",
       "  </thead>\n",
       "  <tbody>\n",
       "    <tr>\n",
       "      <th>count</th>\n",
       "      <td>56.000000</td>\n",
       "      <td>5.600000e+01</td>\n",
       "      <td>5.600000e+01</td>\n",
       "      <td>56.000000</td>\n",
       "      <td>56.000000</td>\n",
       "      <td>5.600000e+01</td>\n",
       "      <td>56.000000</td>\n",
       "      <td>56</td>\n",
       "      <td>56.000000</td>\n",
       "      <td>56.000000</td>\n",
       "      <td>56</td>\n",
       "      <td>56</td>\n",
       "      <td>56.00</td>\n",
       "      <td>56</td>\n",
       "      <td>56</td>\n",
       "    </tr>\n",
       "    <tr>\n",
       "      <th>mean</th>\n",
       "      <td>10.654597</td>\n",
       "      <td>-3.370320e-16</td>\n",
       "      <td>-1.284687e-15</td>\n",
       "      <td>0.714286</td>\n",
       "      <td>9.163036</td>\n",
       "      <td>4.440892e-16</td>\n",
       "      <td>27.500000</td>\n",
       "      <td>4</td>\n",
       "      <td>0.651436</td>\n",
       "      <td>7.825535</td>\n",
       "      <td>1</td>\n",
       "      <td>24</td>\n",
       "      <td>0.04</td>\n",
       "      <td>10</td>\n",
       "      <td>6</td>\n",
       "    </tr>\n",
       "    <tr>\n",
       "      <th>std</th>\n",
       "      <td>4.003702</td>\n",
       "      <td>5.972802e+00</td>\n",
       "      <td>3.319195e+00</td>\n",
       "      <td>0.455842</td>\n",
       "      <td>5.159561</td>\n",
       "      <td>3.319195e+00</td>\n",
       "      <td>16.309506</td>\n",
       "      <td>0</td>\n",
       "      <td>0.069771</td>\n",
       "      <td>4.406435</td>\n",
       "      <td>0</td>\n",
       "      <td>0</td>\n",
       "      <td>0.00</td>\n",
       "      <td>0</td>\n",
       "      <td>0</td>\n",
       "    </tr>\n",
       "    <tr>\n",
       "      <th>min</th>\n",
       "      <td>4.380964</td>\n",
       "      <td>-8.253977e+00</td>\n",
       "      <td>-4.669287e+00</td>\n",
       "      <td>0.000000</td>\n",
       "      <td>1.078220</td>\n",
       "      <td>-4.669287e+00</td>\n",
       "      <td>0.000000</td>\n",
       "      <td>4</td>\n",
       "      <td>0.607705</td>\n",
       "      <td>0.920836</td>\n",
       "      <td>1</td>\n",
       "      <td>24</td>\n",
       "      <td>0.04</td>\n",
       "      <td>10</td>\n",
       "      <td>6</td>\n",
       "    </tr>\n",
       "    <tr>\n",
       "      <th>25%</th>\n",
       "      <td>4.380964</td>\n",
       "      <td>-6.603181e+00</td>\n",
       "      <td>-3.258140e+00</td>\n",
       "      <td>0.000000</td>\n",
       "      <td>1.078220</td>\n",
       "      <td>-3.258140e+00</td>\n",
       "      <td>13.750000</td>\n",
       "      <td>4</td>\n",
       "      <td>0.607705</td>\n",
       "      <td>0.920836</td>\n",
       "      <td>1</td>\n",
       "      <td>24</td>\n",
       "      <td>0.04</td>\n",
       "      <td>10</td>\n",
       "      <td>6</td>\n",
       "    </tr>\n",
       "    <tr>\n",
       "      <th>50%</th>\n",
       "      <td>13.164050</td>\n",
       "      <td>-2.590520e-16</td>\n",
       "      <td>-1.702342e-15</td>\n",
       "      <td>1.000000</td>\n",
       "      <td>12.396962</td>\n",
       "      <td>1.369275e-15</td>\n",
       "      <td>27.500000</td>\n",
       "      <td>4</td>\n",
       "      <td>0.607705</td>\n",
       "      <td>10.587414</td>\n",
       "      <td>1</td>\n",
       "      <td>24</td>\n",
       "      <td>0.04</td>\n",
       "      <td>10</td>\n",
       "      <td>6</td>\n",
       "    </tr>\n",
       "    <tr>\n",
       "      <th>75%</th>\n",
       "      <td>13.164050</td>\n",
       "      <td>6.603181e+00</td>\n",
       "      <td>3.258140e+00</td>\n",
       "      <td>1.000000</td>\n",
       "      <td>12.396962</td>\n",
       "      <td>3.258140e+00</td>\n",
       "      <td>41.250000</td>\n",
       "      <td>4</td>\n",
       "      <td>0.760764</td>\n",
       "      <td>10.587414</td>\n",
       "      <td>1</td>\n",
       "      <td>24</td>\n",
       "      <td>0.04</td>\n",
       "      <td>10</td>\n",
       "      <td>6</td>\n",
       "    </tr>\n",
       "    <tr>\n",
       "      <th>max</th>\n",
       "      <td>13.164050</td>\n",
       "      <td>8.253977e+00</td>\n",
       "      <td>4.669287e+00</td>\n",
       "      <td>1.000000</td>\n",
       "      <td>12.396962</td>\n",
       "      <td>4.669287e+00</td>\n",
       "      <td>55.000000</td>\n",
       "      <td>4</td>\n",
       "      <td>0.760764</td>\n",
       "      <td>10.587414</td>\n",
       "      <td>1</td>\n",
       "      <td>24</td>\n",
       "      <td>0.04</td>\n",
       "      <td>10</td>\n",
       "      <td>6</td>\n",
       "    </tr>\n",
       "  </tbody>\n",
       "</table>\n",
       "</div>"
      ],
      "text/plain": [
       "       perimeter             z             x   is_alive       area  \\\n",
       "count  56.000000  5.600000e+01  5.600000e+01  56.000000  56.000000   \n",
       "mean   10.654597 -3.370320e-16 -1.284687e-15   0.714286   9.163036   \n",
       "std     4.003702  5.972802e+00  3.319195e+00   0.455842   5.159561   \n",
       "min     4.380964 -8.253977e+00 -4.669287e+00   0.000000   1.078220   \n",
       "25%     4.380964 -6.603181e+00 -3.258140e+00   0.000000   1.078220   \n",
       "50%    13.164050 -2.590520e-16 -1.702342e-15   1.000000  12.396962   \n",
       "75%    13.164050  6.603181e+00  3.258140e+00   1.000000  12.396962   \n",
       "max    13.164050  8.253977e+00  4.669287e+00   1.000000  12.396962   \n",
       "\n",
       "                  y    old_idx  basal_shift     height        vol  \\\n",
       "count  5.600000e+01  56.000000           56  56.000000  56.000000   \n",
       "mean   4.440892e-16  27.500000            4   0.651436   7.825535   \n",
       "std    3.319195e+00  16.309506            0   0.069771   4.406435   \n",
       "min   -4.669287e+00   0.000000            4   0.607705   0.920836   \n",
       "25%   -3.258140e+00  13.750000            4   0.607705   0.920836   \n",
       "50%    1.369275e-15  27.500000            4   0.607705  10.587414   \n",
       "75%    3.258140e+00  41.250000            4   0.760764  10.587414   \n",
       "max    4.669287e+00  55.000000            4   0.760764  10.587414   \n",
       "\n",
       "       vol_elasticity  prefered_height  contractility  prefered_area  \\\n",
       "count              56               56          56.00             56   \n",
       "mean                1               24           0.04             10   \n",
       "std                 0                0           0.00              0   \n",
       "min                 1               24           0.04             10   \n",
       "25%                 1               24           0.04             10   \n",
       "50%                 1               24           0.04             10   \n",
       "75%                 1               24           0.04             10   \n",
       "max                 1               24           0.04             10   \n",
       "\n",
       "       num_sides  \n",
       "count         56  \n",
       "mean           6  \n",
       "std            0  \n",
       "min            6  \n",
       "25%            6  \n",
       "50%            6  \n",
       "75%            6  \n",
       "max            6  "
      ]
     },
     "execution_count": 19,
     "metadata": {},
     "output_type": "execute_result"
    }
   ],
   "source": [
    "set_data_columns(sheet, geom_spec)\n",
    "geom.update_all(sheet, coords=sheet.coords)\n",
    "sheet.cell_df.describe()"
   ]
  },
  {
   "cell_type": "markdown",
   "metadata": {},
   "source": [
    "we define the adimentional contractility $\\bar\\Gamma = \\Gamma/K_vA_0h_0^2$ and line tension\n",
    "$\\bar\\Lambda = \\Lambda /K_v (A_0^{3/2}h_0^2)$, where $h_0$ is such that $V_0 = A_0h_0$.\n"
   ]
  },
  {
   "cell_type": "code",
   "execution_count": 20,
   "metadata": {
    "collapsed": false
   },
   "outputs": [],
   "source": [
    "# adim_parameters = model.default_params.copy()\n",
    "### Testing aspect-ratio parametrization\n",
    "\n",
    "mod_specs = model.get_default_mod_specs()\n",
    "mod_specs['cell']['aspect'] = (6., np.float)\n",
    "dim_mod_specs = model.dimentionalize(mod_specs)\n",
    "set_data_columns(sheet, dim_mod_specs)\n",
    "sheet.norm_factor = dim_mod_specs['settings']['norm_factor']\n",
    "isotropic_relax(sheet, **mod_specs)"
   ]
  },
  {
   "cell_type": "code",
   "execution_count": 21,
   "metadata": {
    "collapsed": false
   },
   "outputs": [
    {
     "data": {
      "text/plain": [
       "57600.0"
      ]
     },
     "execution_count": 21,
     "metadata": {},
     "output_type": "execute_result"
    }
   ],
   "source": [
    "sheet.norm_factor"
   ]
  },
  {
   "cell_type": "code",
   "execution_count": 22,
   "metadata": {
    "collapsed": false
   },
   "outputs": [
    {
     "name": "stdout",
     "output_type": "stream",
     "text": [
      "Automatic pdb calling has been turned OFF\n"
     ]
    }
   ],
   "source": [
    "%pdb"
   ]
  },
  {
   "cell_type": "code",
   "execution_count": 23,
   "metadata": {
    "collapsed": true
   },
   "outputs": [],
   "source": [
    "from scipy import optimize\n"
   ]
  },
  {
   "cell_type": "markdown",
   "metadata": {},
   "source": [
    "https://en.wikipedia.org/w/index.php?title=Vector_calculus_identities&section=13#Vector_dot_product"
   ]
  },
  {
   "cell_type": "code",
   "execution_count": 11,
   "metadata": {
    "collapsed": true
   },
   "outputs": [],
   "source": [
    "Et, Ec, Ev = model.compute_energy(sheet, full_output=True)"
   ]
  },
  {
   "cell_type": "markdown",
   "metadata": {
    "collapsed": false,
    "scrolled": false
   },
   "source": [
    "This buggy for some reason\n",
    "```python\n",
    "from tyssue.draw.mpl_draw import plot_analytical_to_numeric_comp\n",
    "\n",
    "fig, ax = plot_analytical_to_numeric_comp(sheet, model, geom,\n",
    "                                          dim_mod_specs, mod_specs)\n",
    "```"
   ]
  },
  {
   "cell_type": "code",
   "execution_count": 39,
   "metadata": {
    "collapsed": false
   },
   "outputs": [
    {
     "data": {
      "image/png": "[encoded data removed]",
      "text/plain": [
       "<matplotlib.figure.Figure at 0x7f600834b5f8>"
      ]
     },
     "metadata": {},
     "output_type": "display_data"
    }
   ],
   "source": [
    "isotropic_relax(sheet)\n",
    "\n",
    "fig, ax = sheet_view(sheet, ['z', 'x'])"
   ]
  },
  {
   "cell_type": "markdown",
   "metadata": {},
   "source": [
    "[Des maths intéressantes pour ce qui nous occupe](http://lacim.uqam.ca/~bedard/notes/cours_MAT1110/MAT1110_ch10_v2005.pdf)"
   ]
  },
  {
   "cell_type": "code",
   "execution_count": 40,
   "metadata": {
    "collapsed": false
   },
   "outputs": [
    {
     "data": {
      "text/html": [
       "<div>\n",
       "<table border=\"1\" class=\"dataframe\">\n",
       "  <thead>\n",
       "    <tr style=\"text-align: right;\">\n",
       "      <th></th>\n",
       "      <th>perimeter</th>\n",
       "      <th>z</th>\n",
       "      <th>x</th>\n",
       "      <th>is_alive</th>\n",
       "      <th>area</th>\n",
       "      <th>y</th>\n",
       "      <th>old_idx</th>\n",
       "      <th>basal_shift</th>\n",
       "      <th>height</th>\n",
       "      <th>vol</th>\n",
       "      <th>vol_elasticity</th>\n",
       "      <th>prefered_height</th>\n",
       "      <th>contractility</th>\n",
       "      <th>prefered_area</th>\n",
       "      <th>num_sides</th>\n",
       "      <th>prefered_vol</th>\n",
       "      <th>aspect</th>\n",
       "      <th>basal_height</th>\n",
       "    </tr>\n",
       "  </thead>\n",
       "  <tbody>\n",
       "    <tr>\n",
       "      <th>count</th>\n",
       "      <td>56.000000</td>\n",
       "      <td>5.600000e+01</td>\n",
       "      <td>5.600000e+01</td>\n",
       "      <td>56.000000</td>\n",
       "      <td>56.00000</td>\n",
       "      <td>5.600000e+01</td>\n",
       "      <td>56.000000</td>\n",
       "      <td>5.600000e+01</td>\n",
       "      <td>56.000000</td>\n",
       "      <td>56.000000</td>\n",
       "      <td>56</td>\n",
       "      <td>56</td>\n",
       "      <td>56</td>\n",
       "      <td>56</td>\n",
       "      <td>56</td>\n",
       "      <td>56</td>\n",
       "      <td>56</td>\n",
       "      <td>56.000000</td>\n",
       "    </tr>\n",
       "    <tr>\n",
       "      <th>mean</th>\n",
       "      <td>13.143443</td>\n",
       "      <td>3.785988e-10</td>\n",
       "      <td>-1.284687e-15</td>\n",
       "      <td>0.714286</td>\n",
       "      <td>13.94388</td>\n",
       "      <td>5.075305e-16</td>\n",
       "      <td>27.500000</td>\n",
       "      <td>-2.878023e+00</td>\n",
       "      <td>0.651436</td>\n",
       "      <td>123.625422</td>\n",
       "      <td>1</td>\n",
       "      <td>10</td>\n",
       "      <td>96</td>\n",
       "      <td>24</td>\n",
       "      <td>6</td>\n",
       "      <td>240</td>\n",
       "      <td>6</td>\n",
       "      <td>-3.246161</td>\n",
       "    </tr>\n",
       "    <tr>\n",
       "      <th>std</th>\n",
       "      <td>4.938941</td>\n",
       "      <td>7.368011e+00</td>\n",
       "      <td>4.094538e+00</td>\n",
       "      <td>0.455842</td>\n",
       "      <td>7.85158</td>\n",
       "      <td>4.094538e+00</td>\n",
       "      <td>16.309506</td>\n",
       "      <td>4.481082e-16</td>\n",
       "      <td>0.069771</td>\n",
       "      <td>69.611531</td>\n",
       "      <td>0</td>\n",
       "      <td>0</td>\n",
       "      <td>0</td>\n",
       "      <td>0</td>\n",
       "      <td>0</td>\n",
       "      <td>0</td>\n",
       "      <td>0</td>\n",
       "      <td>0.000000</td>\n",
       "    </tr>\n",
       "  </tbody>\n",
       "</table>\n",
       "</div>"
      ],
      "text/plain": [
       "       perimeter             z             x   is_alive      area  \\\n",
       "count  56.000000  5.600000e+01  5.600000e+01  56.000000  56.00000   \n",
       "mean   13.143443  3.785988e-10 -1.284687e-15   0.714286  13.94388   \n",
       "std     4.938941  7.368011e+00  4.094538e+00   0.455842   7.85158   \n",
       "\n",
       "                  y    old_idx   basal_shift     height         vol  \\\n",
       "count  5.600000e+01  56.000000  5.600000e+01  56.000000   56.000000   \n",
       "mean   5.075305e-16  27.500000 -2.878023e+00   0.651436  123.625422   \n",
       "std    4.094538e+00  16.309506  4.481082e-16   0.069771   69.611531   \n",
       "\n",
       "       vol_elasticity  prefered_height  contractility  prefered_area  \\\n",
       "count              56               56             56             56   \n",
       "mean                1               10             96             24   \n",
       "std                 0                0              0              0   \n",
       "\n",
       "       num_sides  prefered_vol  aspect  basal_height  \n",
       "count         56            56      56     56.000000  \n",
       "mean           6           240       6     -3.246161  \n",
       "std            0             0       0      0.000000  "
      ]
     },
     "execution_count": 40,
     "metadata": {},
     "output_type": "execute_result"
    }
   ],
   "source": [
    "sheet.cell_df.describe().head(3)"
   ]
  },
  {
   "cell_type": "code",
   "execution_count": 41,
   "metadata": {
    "collapsed": false
   },
   "outputs": [
    {
     "data": {
      "text/html": [
       "<div>\n",
       "<table border=\"1\" class=\"dataframe\">\n",
       "  <thead>\n",
       "    <tr style=\"text-align: right;\">\n",
       "      <th></th>\n",
       "      <th></th>\n",
       "      <th></th>\n",
       "      <th>dy</th>\n",
       "      <th>dx</th>\n",
       "      <th>dz</th>\n",
       "      <th>length</th>\n",
       "      <th>old_jv0</th>\n",
       "      <th>old_jv1</th>\n",
       "      <th>old_cell</th>\n",
       "      <th>nx</th>\n",
       "      <th>ny</th>\n",
       "      <th>nz</th>\n",
       "      <th>sub_area</th>\n",
       "      <th>line_tension</th>\n",
       "      <th>sub_vol</th>\n",
       "    </tr>\n",
       "    <tr>\n",
       "      <th>srce</th>\n",
       "      <th>trgt</th>\n",
       "      <th>cell</th>\n",
       "      <th></th>\n",
       "      <th></th>\n",
       "      <th></th>\n",
       "      <th></th>\n",
       "      <th></th>\n",
       "      <th></th>\n",
       "      <th></th>\n",
       "      <th></th>\n",
       "      <th></th>\n",
       "      <th></th>\n",
       "      <th></th>\n",
       "      <th></th>\n",
       "      <th></th>\n",
       "    </tr>\n",
       "  </thead>\n",
       "  <tbody>\n",
       "    <tr>\n",
       "      <th>1</th>\n",
       "      <th>0</th>\n",
       "      <th>0</th>\n",
       "      <td>-2.291472</td>\n",
       "      <td>0.455802</td>\n",
       "      <td>-1.357607</td>\n",
       "      <td>2.702165</td>\n",
       "      <td>56</td>\n",
       "      <td>57</td>\n",
       "      <td>0</td>\n",
       "      <td>2.874114</td>\n",
       "      <td>1.190497e+00</td>\n",
       "      <td>-1.044458e+00</td>\n",
       "      <td>1.640785e+00</td>\n",
       "      <td>1410.906092</td>\n",
       "      <td>1.454708e+01</td>\n",
       "    </tr>\n",
       "    <tr>\n",
       "      <th>2</th>\n",
       "      <th>1</th>\n",
       "      <th>0</th>\n",
       "      <td>-1.942616</td>\n",
       "      <td>1.298014</td>\n",
       "      <td>1.357607</td>\n",
       "      <td>2.702165</td>\n",
       "      <td>57</td>\n",
       "      <td>58</td>\n",
       "      <td>0</td>\n",
       "      <td>0.000000</td>\n",
       "      <td>-6.106227e-16</td>\n",
       "      <td>-7.771561e-16</td>\n",
       "      <td>4.941740e-16</td>\n",
       "      <td>1410.906092</td>\n",
       "      <td>4.381310e-15</td>\n",
       "    </tr>\n",
       "    <tr>\n",
       "      <th>0</th>\n",
       "      <th>1</th>\n",
       "      <th>1</th>\n",
       "      <td>2.291472</td>\n",
       "      <td>-0.455802</td>\n",
       "      <td>1.357607</td>\n",
       "      <td>2.702165</td>\n",
       "      <td>56</td>\n",
       "      <td>57</td>\n",
       "      <td>1</td>\n",
       "      <td>6.221837</td>\n",
       "      <td>8.250668e-01</td>\n",
       "      <td>6.963050e-01</td>\n",
       "      <td>3.157405e+00</td>\n",
       "      <td>1410.906092</td>\n",
       "      <td>2.799332e+01</td>\n",
       "    </tr>\n",
       "    <tr>\n",
       "      <th>3</th>\n",
       "      <th>0</th>\n",
       "      <th>1</th>\n",
       "      <td>2.291472</td>\n",
       "      <td>0.455802</td>\n",
       "      <td>-1.357607</td>\n",
       "      <td>2.702165</td>\n",
       "      <td>56</td>\n",
       "      <td>59</td>\n",
       "      <td>1</td>\n",
       "      <td>6.221837</td>\n",
       "      <td>-8.250668e-01</td>\n",
       "      <td>6.963050e-01</td>\n",
       "      <td>3.157405e+00</td>\n",
       "      <td>1410.906092</td>\n",
       "      <td>2.799332e+01</td>\n",
       "    </tr>\n",
       "    <tr>\n",
       "      <th>1</th>\n",
       "      <th>6</th>\n",
       "      <th>1</th>\n",
       "      <td>0.000000</td>\n",
       "      <td>0.000000</td>\n",
       "      <td>2.715214</td>\n",
       "      <td>2.715214</td>\n",
       "      <td>57</td>\n",
       "      <td>62</td>\n",
       "      <td>1</td>\n",
       "      <td>6.221837</td>\n",
       "      <td>4.125334e-01</td>\n",
       "      <td>0.000000e+00</td>\n",
       "      <td>3.117749e+00</td>\n",
       "      <td>1410.906092</td>\n",
       "      <td>2.764173e+01</td>\n",
       "    </tr>\n",
       "  </tbody>\n",
       "</table>\n",
       "</div>"
      ],
      "text/plain": [
       "                      dy        dx        dz    length  old_jv0  old_jv1  \\\n",
       "srce trgt cell                                                             \n",
       "1    0    0    -2.291472  0.455802 -1.357607  2.702165       56       57   \n",
       "2    1    0    -1.942616  1.298014  1.357607  2.702165       57       58   \n",
       "0    1    1     2.291472 -0.455802  1.357607  2.702165       56       57   \n",
       "3    0    1     2.291472  0.455802 -1.357607  2.702165       56       59   \n",
       "1    6    1     0.000000  0.000000  2.715214  2.715214       57       62   \n",
       "\n",
       "                old_cell        nx            ny            nz      sub_area  \\\n",
       "srce trgt cell                                                                 \n",
       "1    0    0            0  2.874114  1.190497e+00 -1.044458e+00  1.640785e+00   \n",
       "2    1    0            0  0.000000 -6.106227e-16 -7.771561e-16  4.941740e-16   \n",
       "0    1    1            1  6.221837  8.250668e-01  6.963050e-01  3.157405e+00   \n",
       "3    0    1            1  6.221837 -8.250668e-01  6.963050e-01  3.157405e+00   \n",
       "1    6    1            1  6.221837  4.125334e-01  0.000000e+00  3.117749e+00   \n",
       "\n",
       "                line_tension       sub_vol  \n",
       "srce trgt cell                              \n",
       "1    0    0      1410.906092  1.454708e+01  \n",
       "2    1    0      1410.906092  4.381310e-15  \n",
       "0    1    1      1410.906092  2.799332e+01  \n",
       "3    0    1      1410.906092  2.799332e+01  \n",
       "1    6    1      1410.906092  2.764173e+01  "
      ]
     },
     "execution_count": 41,
     "metadata": {},
     "output_type": "execute_result"
    }
   ],
   "source": [
    "sheet.je_df.head()"
   ]
  },
  {
   "cell_type": "code",
   "execution_count": 42,
   "metadata": {
    "collapsed": false
   },
   "outputs": [],
   "source": [
    "grad_i, grad_t, grad_c, grad_v = model.compute_gradient(sheet, components=True)"
   ]
  },
  {
   "cell_type": "code",
   "execution_count": 43,
   "metadata": {
    "collapsed": false
   },
   "outputs": [
    {
     "data": {
      "image/png": "[encoded data removed]",
      "text/plain": [
       "<matplotlib.figure.Figure at 0x7f60086cdcc0>"
      ]
     },
     "metadata": {},
     "output_type": "display_data"
    }
   ],
   "source": [
    "\n",
    "fig, ax = draw.plot_forces(sheet, model, ['z', 'y'], 1)\n",
    "fig.set_size_inches(10, 12)\n"
   ]
  },
  {
   "cell_type": "markdown",
   "metadata": {},
   "source": [
    "http://scipy.github.io/devdocs/generated/scipy.optimize.check_grad.html#scipy.optimize.check_grad"
   ]
  },
  {
   "cell_type": "code",
   "execution_count": 44,
   "metadata": {
    "collapsed": false,
    "scrolled": true
   },
   "outputs": [
    {
     "name": "stdout",
     "output_type": "stream",
     "text": [
      "Error on the gradient (non-dim, per cell): 0.003\n"
     ]
    }
   ],
   "source": [
    "\n",
    "grad_err = solver.check_grad(sheet, sheet.coords)\n",
    "grad_err /= sheet.Nc\n",
    "\n",
    "\n",
    "print(\"Error on the gradient (non-dim, per cell): {:.3f}\".format(grad_err))\n"
   ]
  },
  {
   "cell_type": "code",
   "execution_count": 45,
   "metadata": {
    "collapsed": false
   },
   "outputs": [
    {
     "data": {
      "text/plain": [
       "57600.0"
      ]
     },
     "execution_count": 45,
     "metadata": {},
     "output_type": "execute_result"
    }
   ],
   "source": [
    "sheet.norm_factor"
   ]
  },
  {
   "cell_type": "code",
   "execution_count": 46,
   "metadata": {
    "collapsed": false
   },
   "outputs": [
    {
     "data": {
      "image/png": "[encoded data removed]",
      "text/plain": [
       "<matplotlib.figure.Figure at 0x7f6002eb1748>"
      ]
     },
     "metadata": {},
     "output_type": "display_data"
    }
   ],
   "source": [
    "def draw_approx_force():\n",
    "    fig, ax = draw.plot_forces(sheet, model,\n",
    "                              ['z', 'y'], scaling=1,\n",
    "                              approx_grad=solver.approx_grad)\n",
    "    fig.set_size_inches(10, 12)\n",
    "    return fig, ax\n",
    "\n",
    "## Uncomment bellow to recompute\n",
    "fig, ax = draw_approx_force()\n",
    "#fig"
   ]
  },
  {
   "cell_type": "code",
   "execution_count": 47,
   "metadata": {
    "collapsed": false
   },
   "outputs": [],
   "source": [
    "grad_i, grad_t, grad_c, grad_v = model.compute_gradient(sheet, components=True)"
   ]
  },
  {
   "cell_type": "code",
   "execution_count": 48,
   "metadata": {
    "collapsed": false
   },
   "outputs": [
    {
     "data": {
      "text/html": [
       "<div>\n",
       "<table border=\"1\" class=\"dataframe\">\n",
       "  <thead>\n",
       "    <tr style=\"text-align: right;\">\n",
       "      <th></th>\n",
       "      <th></th>\n",
       "      <th></th>\n",
       "      <th>x</th>\n",
       "      <th>y</th>\n",
       "      <th>z</th>\n",
       "    </tr>\n",
       "    <tr>\n",
       "      <th>srce</th>\n",
       "      <th>trgt</th>\n",
       "      <th>cell</th>\n",
       "      <th></th>\n",
       "      <th></th>\n",
       "      <th></th>\n",
       "    </tr>\n",
       "  </thead>\n",
       "  <tbody>\n",
       "    <tr>\n",
       "      <th>1</th>\n",
       "      <th>0</th>\n",
       "      <th>0</th>\n",
       "      <td>-237.992103</td>\n",
       "      <td>1196.467099</td>\n",
       "      <td>708.859817</td>\n",
       "    </tr>\n",
       "    <tr>\n",
       "      <th>2</th>\n",
       "      <th>1</th>\n",
       "      <th>0</th>\n",
       "      <td>-677.744169</td>\n",
       "      <td>1014.315829</td>\n",
       "      <td>-708.859817</td>\n",
       "    </tr>\n",
       "    <tr>\n",
       "      <th>0</th>\n",
       "      <th>1</th>\n",
       "      <th>1</th>\n",
       "      <td>237.992103</td>\n",
       "      <td>-1196.467099</td>\n",
       "      <td>-708.859817</td>\n",
       "    </tr>\n",
       "    <tr>\n",
       "      <th>3</th>\n",
       "      <th>0</th>\n",
       "      <th>1</th>\n",
       "      <td>-237.992103</td>\n",
       "      <td>-1196.467099</td>\n",
       "      <td>708.859817</td>\n",
       "    </tr>\n",
       "    <tr>\n",
       "      <th>1</th>\n",
       "      <th>6</th>\n",
       "      <th>1</th>\n",
       "      <td>-0.000000</td>\n",
       "      <td>-0.000000</td>\n",
       "      <td>-1410.906092</td>\n",
       "    </tr>\n",
       "  </tbody>\n",
       "</table>\n",
       "</div>"
      ],
      "text/plain": [
       "                         x            y            z\n",
       "srce trgt cell                                      \n",
       "1    0    0    -237.992103  1196.467099   708.859817\n",
       "2    1    0    -677.744169  1014.315829  -708.859817\n",
       "0    1    1     237.992103 -1196.467099  -708.859817\n",
       "3    0    1    -237.992103 -1196.467099   708.859817\n",
       "1    6    1      -0.000000    -0.000000 -1410.906092"
      ]
     },
     "execution_count": 48,
     "metadata": {},
     "output_type": "execute_result"
    }
   ],
   "source": [
    "grad_t.head()"
   ]
  },
  {
   "cell_type": "code",
   "execution_count": 49,
   "metadata": {
    "collapsed": true
   },
   "outputs": [],
   "source": [
    "settings = {\n",
    "    'minimize': {\n",
    "        'options': {'disp':True,\n",
    "        'gtol':1},\n",
    "        'jac': solver.opt_grad\n",
    "        }\n",
    "    }"
   ]
  },
  {
   "cell_type": "code",
   "execution_count": null,
   "metadata": {
    "collapsed": false
   },
   "outputs": [],
   "source": [
    "\n",
    "res = solver.find_energy_min(sheet, **settings)"
   ]
  },
  {
   "cell_type": "code",
   "execution_count": 45,
   "metadata": {
    "collapsed": false,
    "scrolled": true
   },
   "outputs": [
    {
     "data": {
      "text/plain": [
       "True"
      ]
     },
     "execution_count": 45,
     "metadata": {},
     "output_type": "execute_result"
    }
   ],
   "source": [
    "res['success']"
   ]
  },
  {
   "cell_type": "code",
   "execution_count": 46,
   "metadata": {
    "collapsed": false
   },
   "outputs": [
    {
     "data": {
      "text/plain": [
       "18.583115964113457"
      ]
     },
     "execution_count": 46,
     "metadata": {},
     "output_type": "execute_result"
    }
   ],
   "source": [
    "res['fun']"
   ]
  },
  {
   "cell_type": "code",
   "execution_count": null,
   "metadata": {
    "collapsed": false,
    "scrolled": true
   },
   "outputs": [],
   "source": [
    "eptm.je_df.line_tension = eptm.je_df.line_tension * (np.cos(eptm.je_df.nz)**2 + 0.5)"
   ]
  },
  {
   "cell_type": "code",
   "execution_count": null,
   "metadata": {
    "collapsed": false
   },
   "outputs": [],
   "source": [
    "eptm.je_df.head(10)"
   ]
  },
  {
   "cell_type": "code",
   "execution_count": null,
   "metadata": {
    "collapsed": false
   },
   "outputs": [],
   "source": [
    "fig, ax = plot_gradients(eptm, ['z', 'y'])\n",
    "fig, ax = plot_gradients(eptm, ['z', 'y'], ax=ax, approx=True, ec='b', fc='b')\n",
    "\n",
    "fig.set_size_inches(10, 12)\n"
   ]
  },
  {
   "cell_type": "code",
   "execution_count": null,
   "metadata": {
    "collapsed": true
   },
   "outputs": [],
   "source": [
    "\n"
   ]
  },
  {
   "cell_type": "code",
   "execution_count": null,
   "metadata": {
    "collapsed": true
   },
   "outputs": [],
   "source": []
  }
 ],
 "metadata": {
  "kernelspec": {
   "display_name": "Python 3",
   "language": "python",
   "name": "python3"
  },
  "language_info": {
   "codemirror_mode": {
    "name": "ipython",
    "version": 3
   },
   "file_extension": ".py",
   "mimetype": "text/x-python",
   "name": "python",
   "nbconvert_exporter": "python",
   "pygments_lexer": "ipython3",
   "version": "3.4.3"
  }
 },
 "nbformat": 4,
 "nbformat_minor": 0
}
