{
 "cells": [
  {
   "cell_type": "code",
   "execution_count": 1,
   "metadata": {
    "collapsed": true
   },
   "outputs": [],
   "source": [
    "%load_ext autoreload\n",
    "%autoreload 2"
   ]
  },
  {
   "cell_type": "code",
   "execution_count": 2,
   "metadata": {
    "collapsed": true
   },
   "outputs": [],
   "source": [
    "import tyssue\n",
    "import pandas as pd\n",
    "import numpy as np\n",
    "import json"
   ]
  },
  {
   "cell_type": "code",
   "execution_count": 3,
   "metadata": {
    "collapsed": true
   },
   "outputs": [],
   "source": [
    "from tyssue.core import Epithelium"
   ]
  },
  {
   "cell_type": "code",
   "execution_count": 4,
   "metadata": {
    "collapsed": false
   },
   "outputs": [],
   "source": [
    "with pd.get_store('before_apoptosis.hf5') as store:\n",
    "    cell_df = store.get('cell_df')\n",
    "    jv_df = store.get('jv_df')\n",
    "    je_df = store.get('je_df')\n"
   ]
  },
  {
   "cell_type": "code",
   "execution_count": 5,
   "metadata": {
    "collapsed": true
   },
   "outputs": [],
   "source": [
    "eptm = Epithelium('emin', cell_df, jv_df, je_df)"
   ]
  },
  {
   "cell_type": "code",
   "execution_count": 6,
   "metadata": {
    "collapsed": false
   },
   "outputs": [
    {
     "data": {
      "text/html": [
       "<div>\n",
       "<table border=\"1\" class=\"dataframe\">\n",
       "  <thead>\n",
       "    <tr style=\"text-align: right;\">\n",
       "      <th></th>\n",
       "      <th>z</th>\n",
       "      <th>area</th>\n",
       "      <th>is_alive</th>\n",
       "      <th>perimeter</th>\n",
       "      <th>x</th>\n",
       "      <th>y</th>\n",
       "      <th>old_idx</th>\n",
       "    </tr>\n",
       "    <tr>\n",
       "      <th>cell</th>\n",
       "      <th></th>\n",
       "      <th></th>\n",
       "      <th></th>\n",
       "      <th></th>\n",
       "      <th></th>\n",
       "      <th></th>\n",
       "      <th></th>\n",
       "    </tr>\n",
       "  </thead>\n",
       "  <tbody>\n",
       "    <tr>\n",
       "      <th>0</th>\n",
       "      <td>-46.924275</td>\n",
       "      <td>12.000000</td>\n",
       "      <td>0</td>\n",
       "      <td>0.000000</td>\n",
       "      <td>26.662337</td>\n",
       "      <td>1.987162</td>\n",
       "      <td>0</td>\n",
       "    </tr>\n",
       "    <tr>\n",
       "      <th>1</th>\n",
       "      <td>-45.602975</td>\n",
       "      <td>9.791406</td>\n",
       "      <td>1</td>\n",
       "      <td>12.335801</td>\n",
       "      <td>27.251027</td>\n",
       "      <td>-0.223783</td>\n",
       "      <td>1</td>\n",
       "    </tr>\n",
       "    <tr>\n",
       "      <th>2</th>\n",
       "      <td>-41.930102</td>\n",
       "      <td>6.465672</td>\n",
       "      <td>1</td>\n",
       "      <td>10.006895</td>\n",
       "      <td>28.236650</td>\n",
       "      <td>0.707790</td>\n",
       "      <td>2</td>\n",
       "    </tr>\n",
       "    <tr>\n",
       "      <th>3</th>\n",
       "      <td>-40.636328</td>\n",
       "      <td>8.709595</td>\n",
       "      <td>1</td>\n",
       "      <td>11.041760</td>\n",
       "      <td>28.149745</td>\n",
       "      <td>-2.142625</td>\n",
       "      <td>3</td>\n",
       "    </tr>\n",
       "    <tr>\n",
       "      <th>4</th>\n",
       "      <td>-38.791643</td>\n",
       "      <td>8.197723</td>\n",
       "      <td>1</td>\n",
       "      <td>10.799216</td>\n",
       "      <td>27.901080</td>\n",
       "      <td>3.809064</td>\n",
       "      <td>4</td>\n",
       "    </tr>\n",
       "  </tbody>\n",
       "</table>\n",
       "</div>"
      ],
      "text/plain": [
       "              z       area  is_alive  perimeter          x         y  old_idx\n",
       "cell                                                                         \n",
       "0    -46.924275  12.000000         0   0.000000  26.662337  1.987162        0\n",
       "1    -45.602975   9.791406         1  12.335801  27.251027 -0.223783        1\n",
       "2    -41.930102   6.465672         1  10.006895  28.236650  0.707790        2\n",
       "3    -40.636328   8.709595         1  11.041760  28.149745 -2.142625        3\n",
       "4    -38.791643   8.197723         1  10.799216  27.901080  3.809064        4"
      ]
     },
     "execution_count": 6,
     "metadata": {},
     "output_type": "execute_result"
    }
   ],
   "source": [
    "eptm.cell_df.head()"
   ]
  },
  {
   "cell_type": "markdown",
   "metadata": {},
   "source": [
    "we define the adimentional contractility $\\bar\\Gamma = \\Gamma/K_vA_0h_0^2$ and line tension\n",
    "$\\bar\\Lambda = \\Lambda /K_v (A_0^{3/2}h_0^2)$, where $h_0$ is such that $V_0 = A_0h_0$.\n"
   ]
  },
  {
   "cell_type": "code",
   "execution_count": 7,
   "metadata": {
    "collapsed": true
   },
   "outputs": [],
   "source": [
    "parameters = {'contractility': 0.04,\n",
    "              'line_tension': 0.12,\n",
    "              'prefered_area':10.,\n",
    "              'prefered_height':24.,\n",
    "              'vol_elasticity':1.,\n",
    "              'rho_lumen':4.}\n",
    "with open('default_params.json', 'w') as param_json:\n",
    "    json.dump(parameters, param_json)\n",
    "\n",
    "def dimentionalize(parameters):\n",
    "    dim_params = parameters.copy()\n",
    "    Kv = parameters['vol_elasticity']\n",
    "    A0 = parameters['prefered_area']\n",
    "    h0 = parameters['prefered_height']\n",
    "    \n",
    "    dim_params['contractility'] = parameters['contractility'] * (Kv * A0 * h0**2)\n",
    "    dim_params['line_tension'] = parameters['line_tension'] * (Kv * A0**1.5 * h0**2)\n",
    "    dim_params['prefered_vol'] = A0 * h0\n",
    "    return dim_params\n",
    "\n",
    "parameters = dimentionalize(parameters)\n",
    "\n"
   ]
  },
  {
   "cell_type": "code",
   "execution_count": 8,
   "metadata": {
    "collapsed": true
   },
   "outputs": [],
   "source": [
    "for key in ['vol_elasticity', 'prefered_area', 'prefered_vol',\n",
    "            'prefered_height', 'contractility']:\n",
    "    eptm.cell_df[key] = parameters[key]\n",
    "\n",
    "eptm.je_df['line_tension'] = parameters['line_tension']\n"
   ]
  },
  {
   "cell_type": "code",
   "execution_count": 9,
   "metadata": {
    "collapsed": false
   },
   "outputs": [],
   "source": [
    "eptm.je_df.head()\n",
    "for nc in ['nx', 'ny', 'nz']:\n",
    "    eptm.je_df[nc] = 0"
   ]
  },
  {
   "cell_type": "code",
   "execution_count": 10,
   "metadata": {
    "collapsed": true
   },
   "outputs": [],
   "source": [
    "from tyssue.geometry import sheet_geometry"
   ]
  },
  {
   "cell_type": "code",
   "execution_count": 11,
   "metadata": {
    "collapsed": false
   },
   "outputs": [],
   "source": [
    "sheet_geometry.update_all(eptm)"
   ]
  },
  {
   "cell_type": "code",
   "execution_count": 12,
   "metadata": {
    "collapsed": false
   },
   "outputs": [
    {
     "data": {
      "text/plain": [
       "71126993.64768562"
      ]
     },
     "execution_count": 12,
     "metadata": {},
     "output_type": "execute_result"
    }
   ],
   "source": [
    "def update_vol(eptm):\n",
    "    eptm.cell_df['height'] = np.hypot(eptm.cell_df['y'],\n",
    "                                      eptm.cell_df['x']) - parameters['rho_lumen']\n",
    "    eptm.cell_df['vol'] = eptm.cell_df['height'] * eptm.cell_df['area']\n",
    "\n",
    "update_vol(eptm)\n",
    "\n",
    "def compute_energy(eptm, full_output=False):\n",
    "\n",
    "    E_t = eptm.je_df['line_tension'] * eptm.je_df['length']\n",
    "\n",
    "\n",
    "    E_v =  0.5 * (eptm.cell_df['vol_elasticity']\n",
    "                  * (eptm.cell_df['vol']\n",
    "                     - eptm.cell_df['prefered_vol'])**2\n",
    "                  ) * eptm.cell_df['is_alive']\n",
    "    E_c = 0.5 * (eptm.cell_df['contractility']\n",
    "                 * eptm.cell_df['perimeter']**2\n",
    "                 ) * eptm.cell_df['is_alive']\n",
    "    if full_output:\n",
    "        return E_t, E_c, E_v\n",
    "    else:\n",
    "        return E_t.sum() + (E_c+E_v).sum()\n",
    "\n",
    "compute_energy(eptm, full_output=False)"
   ]
  },
  {
   "cell_type": "code",
   "execution_count": 13,
   "metadata": {
    "collapsed": true
   },
   "outputs": [],
   "source": [
    "eptm.dcoords = ['dx', 'dy', 'dz']"
   ]
  },
  {
   "cell_type": "code",
   "execution_count": 14,
   "metadata": {
    "collapsed": false
   },
   "outputs": [
    {
     "data": {
      "text/html": [
       "<div>\n",
       "<table border=\"1\" class=\"dataframe\">\n",
       "  <thead>\n",
       "    <tr style=\"text-align: right;\">\n",
       "      <th></th>\n",
       "      <th></th>\n",
       "      <th></th>\n",
       "      <th>length</th>\n",
       "      <th>dz</th>\n",
       "      <th>dy</th>\n",
       "      <th>dx</th>\n",
       "      <th>old_jv0</th>\n",
       "      <th>old_jv1</th>\n",
       "      <th>old_cell</th>\n",
       "      <th>line_tension</th>\n",
       "      <th>nx</th>\n",
       "      <th>ny</th>\n",
       "      <th>nz</th>\n",
       "    </tr>\n",
       "    <tr>\n",
       "      <th>srce</th>\n",
       "      <th>trgt</th>\n",
       "      <th>cell</th>\n",
       "      <th></th>\n",
       "      <th></th>\n",
       "      <th></th>\n",
       "      <th></th>\n",
       "      <th></th>\n",
       "      <th></th>\n",
       "      <th></th>\n",
       "      <th></th>\n",
       "      <th></th>\n",
       "      <th></th>\n",
       "      <th></th>\n",
       "    </tr>\n",
       "  </thead>\n",
       "  <tbody>\n",
       "    <tr>\n",
       "      <th>1</th>\n",
       "      <th>0</th>\n",
       "      <th>0</th>\n",
       "      <td>2.491670</td>\n",
       "      <td>-0.665097</td>\n",
       "      <td>-2.382007</td>\n",
       "      <td>-0.303487</td>\n",
       "      <td>928</td>\n",
       "      <td>929</td>\n",
       "      <td>0</td>\n",
       "      <td>2185.766319</td>\n",
       "      <td>1.918098e+00</td>\n",
       "      <td>8.877496e-02</td>\n",
       "      <td>-1.193180e+00</td>\n",
       "    </tr>\n",
       "    <tr>\n",
       "      <th>2</th>\n",
       "      <th>1</th>\n",
       "      <th>0</th>\n",
       "      <td>2.639199</td>\n",
       "      <td>0.951623</td>\n",
       "      <td>-2.359688</td>\n",
       "      <td>0.701183</td>\n",
       "      <td>929</td>\n",
       "      <td>930</td>\n",
       "      <td>0</td>\n",
       "      <td>2185.766319</td>\n",
       "      <td>-8.437695e-15</td>\n",
       "      <td>-2.498002e-15</td>\n",
       "      <td>5.551115e-17</td>\n",
       "    </tr>\n",
       "    <tr>\n",
       "      <th>0</th>\n",
       "      <th>1</th>\n",
       "      <th>1</th>\n",
       "      <td>2.491670</td>\n",
       "      <td>0.665097</td>\n",
       "      <td>2.382007</td>\n",
       "      <td>0.303487</td>\n",
       "      <td>928</td>\n",
       "      <td>929</td>\n",
       "      <td>1</td>\n",
       "      <td>2185.766319</td>\n",
       "      <td>3.339108e+00</td>\n",
       "      <td>-6.864496e-02</td>\n",
       "      <td>-1.277804e+00</td>\n",
       "    </tr>\n",
       "    <tr>\n",
       "      <th>3</th>\n",
       "      <th>0</th>\n",
       "      <th>1</th>\n",
       "      <td>2.674664</td>\n",
       "      <td>-1.356183</td>\n",
       "      <td>2.278370</td>\n",
       "      <td>-0.351600</td>\n",
       "      <td>928</td>\n",
       "      <td>931</td>\n",
       "      <td>1</td>\n",
       "      <td>2185.766319</td>\n",
       "      <td>3.519823e+00</td>\n",
       "      <td>-2.468454e-01</td>\n",
       "      <td>-1.327235e+00</td>\n",
       "    </tr>\n",
       "    <tr>\n",
       "      <th>1</th>\n",
       "      <th>6</th>\n",
       "      <th>1</th>\n",
       "      <td>1.039101</td>\n",
       "      <td>0.938752</td>\n",
       "      <td>0.093970</td>\n",
       "      <td>0.435481</td>\n",
       "      <td>929</td>\n",
       "      <td>934</td>\n",
       "      <td>1</td>\n",
       "      <td>2185.766319</td>\n",
       "      <td>2.156034e+00</td>\n",
       "      <td>-1.024630e-01</td>\n",
       "      <td>-9.899148e-01</td>\n",
       "    </tr>\n",
       "  </tbody>\n",
       "</table>\n",
       "</div>"
      ],
      "text/plain": [
       "                  length        dz        dy        dx  old_jv0  old_jv1  \\\n",
       "srce trgt cell                                                             \n",
       "1    0    0     2.491670 -0.665097 -2.382007 -0.303487      928      929   \n",
       "2    1    0     2.639199  0.951623 -2.359688  0.701183      929      930   \n",
       "0    1    1     2.491670  0.665097  2.382007  0.303487      928      929   \n",
       "3    0    1     2.674664 -1.356183  2.278370 -0.351600      928      931   \n",
       "1    6    1     1.039101  0.938752  0.093970  0.435481      929      934   \n",
       "\n",
       "                old_cell  line_tension            nx            ny  \\\n",
       "srce trgt cell                                                       \n",
       "1    0    0            0   2185.766319  1.918098e+00  8.877496e-02   \n",
       "2    1    0            0   2185.766319 -8.437695e-15 -2.498002e-15   \n",
       "0    1    1            1   2185.766319  3.339108e+00 -6.864496e-02   \n",
       "3    0    1            1   2185.766319  3.519823e+00 -2.468454e-01   \n",
       "1    6    1            1   2185.766319  2.156034e+00 -1.024630e-01   \n",
       "\n",
       "                          nz  \n",
       "srce trgt cell                \n",
       "1    0    0    -1.193180e+00  \n",
       "2    1    0     5.551115e-17  \n",
       "0    1    1    -1.277804e+00  \n",
       "3    0    1    -1.327235e+00  \n",
       "1    6    1    -9.899148e-01  "
      ]
     },
     "execution_count": 14,
     "metadata": {},
     "output_type": "execute_result"
    }
   ],
   "source": [
    "eptm.je_df.head()"
   ]
  },
  {
   "cell_type": "code",
   "execution_count": 15,
   "metadata": {
    "collapsed": false
   },
   "outputs": [],
   "source": [
    "def _to_3d(df):\n",
    "\n",
    "    df_3d = np.asarray(df).repeat(3).reshape((df.size, 3))\n",
    "    return df_3d\n",
    "\n",
    "def compute_gradient(eptm, components=False):\n",
    "    '''\n",
    "    If components is True, returns the individual terms\n",
    "    (grad_t, grad_c, grad_v)\n",
    "    '''\n",
    "    \n",
    "    eptm.grad_i_lij = - (eptm.je_df[eptm.dcoords]\n",
    "                         / _to_3d(eptm.je_df['length']))\n",
    "\n",
    "\n",
    "    grad_t = tension_grad(eptm)\n",
    "    grad_c = contractile_grad(eptm)\n",
    "    grad_v = volume_grad(eptm)\n",
    "\n",
    "    grad_i = grad_t + grad_c + grad_v\n",
    "    if components:\n",
    "        return grad_i, grad_t, grad_c, grad_v\n",
    "    return grad_i\n",
    "\n",
    "\n",
    "def tension_grad(mesh):\n",
    "\n",
    "    _grad_t = eptm.grad_i_lij * _to_3d(eptm.je_df['line_tension'])\n",
    "    grad_t = _grad_t.sum(level='srce').loc(eptm.jv_idx)\n",
    "\n",
    "    return grad_t\n",
    "\n",
    "\n",
    "def contractile_grad(mesh):\n",
    "\n",
    "    contract = eptm.cell_df['contractility']\n",
    "    perimeter = eptm.cell_df['perimeter']\n",
    "\n",
    "    gamma_L = contract * perimeter\n",
    "    gamma_L = eptm.upcast_cell(df=gamma_L)\n",
    "\n",
    "    _grad_c = eptm.grad_i_lij * _to_3d(gamma_L)\n",
    "    grad_c = _grad_c.sum(level='srce').loc(eptm.jv_idx)\n",
    "\n",
    "    return grad_c\n",
    "\n",
    "\n",
    "def volume_grad(mesh):\n",
    "    '''\n",
    "    Computes :math:`\\sum_\\alpha\\nabla_i \\left(K (V_\\alpha - V_0)^2\\right)`\n",
    "    '''\n",
    "\n",
    "    elasticity = eptm.cell_df['vol_elasticity']\n",
    "    pref_V = eptm.cell_df['prefered_vol']\n",
    "    V = eptm.cell_df['vol']\n",
    "    KV_V0 = elasticity * (V - pref_V)\n",
    "    tri_KV_V0 = eptm.upcast_cell(df=KV_V0)\n",
    "\n",
    "    r_ijs = eptm.je_df[eptm.dcoords]\n",
    "    cross_ur = pd.DataFrame(np.cross(eptm.je_df[eptm.normal_coords], r_ijs),\n",
    "                            columns=eptm.coords)\n",
    "\n",
    "    h_nu = eptm.cell_df['height'] / (2 * eptm.cell_df['num_sides'])\n",
    "\n",
    "    grad_i_V_cell = cross_ur.sum(level='cell') * _to_3d(KV_V0 * h_nu)\n",
    "\n",
    "    cell_term = eptm.upcast_cell(df=grad_i_V_cell)\n",
    "    \n",
    "    grad_v = cell_term.sum(level='srce') / 2\n",
    "    \n",
    "    r_to_rho = eptm.jv_df[eptm.coords] / _to_3d(eptm.jv_df['rho'])\n",
    "    r_to_rho = eptm.upcast_srce(df=r_to_rho)\n",
    "    \n",
    "    r_ai = eptm.je_df[eptm.dcoords]\n",
    "    normals = eptm.je_df[mesh.normal_coords]\n",
    "    cross_aj = pd.DataFrame(np.cross(normals, -r_ai),\n",
    "                            columns=eptm.coords)\n",
    "\n",
    "    tri_height = eptm.upcast_cell(columns=['height'])\n",
    "\n",
    "    sub_area = eptm.je_df['sub_area']\n",
    "    \n",
    "    \n",
    "\n",
    "    ij_term = _to_3d(tri_KV_V0) * (_to_3d(sub_area / 2) * r_to_rho -\n",
    "                                    _to_3d(tri_height / 2) * cross_aj)\n",
    "    grad_v += ij_term.sum(level='srce')\n",
    "    return grad_v\n"
   ]
  },
  {
   "cell_type": "code",
   "execution_count": 16,
   "metadata": {
    "collapsed": false
   },
   "outputs": [
    {
     "ename": "TypeError",
     "evalue": "upcast_cell() got an unexpected keyword argument 'df'",
     "output_type": "error",
     "traceback": [
      "\u001b[1;31m---------------------------------------------------------------------------\u001b[0m",
      "\u001b[1;31mTypeError\u001b[0m                                 Traceback (most recent call last)",
      "\u001b[1;32m<ipython-input-16-13f25e1386b6>\u001b[0m in \u001b[0;36m<module>\u001b[1;34m()\u001b[0m\n\u001b[1;32m----> 1\u001b[1;33m \u001b[0mgrad_i\u001b[0m\u001b[1;33m,\u001b[0m \u001b[0mgrad_t\u001b[0m\u001b[1;33m,\u001b[0m \u001b[0mgrad_c\u001b[0m\u001b[1;33m,\u001b[0m \u001b[0mgrad_v\u001b[0m \u001b[1;33m=\u001b[0m \u001b[0mcompute_gradient\u001b[0m\u001b[1;33m(\u001b[0m\u001b[0meptm\u001b[0m\u001b[1;33m,\u001b[0m \u001b[0mcomponents\u001b[0m\u001b[1;33m=\u001b[0m\u001b[1;32mTrue\u001b[0m\u001b[1;33m)\u001b[0m\u001b[1;33m\u001b[0m\u001b[0m\n\u001b[0m",
      "\u001b[1;32m<ipython-input-15-ebbdc8dcc9c6>\u001b[0m in \u001b[0;36mcompute_gradient\u001b[1;34m(eptm, components)\u001b[0m\n\u001b[0;32m     15\u001b[0m \u001b[1;33m\u001b[0m\u001b[0m\n\u001b[0;32m     16\u001b[0m     \u001b[0mgrad_t\u001b[0m \u001b[1;33m=\u001b[0m \u001b[0mtension_grad\u001b[0m\u001b[1;33m(\u001b[0m\u001b[0meptm\u001b[0m\u001b[1;33m)\u001b[0m\u001b[1;33m\u001b[0m\u001b[0m\n\u001b[1;32m---> 17\u001b[1;33m     \u001b[0mgrad_c\u001b[0m \u001b[1;33m=\u001b[0m \u001b[0mcontractile_grad\u001b[0m\u001b[1;33m(\u001b[0m\u001b[0meptm\u001b[0m\u001b[1;33m)\u001b[0m\u001b[1;33m\u001b[0m\u001b[0m\n\u001b[0m\u001b[0;32m     18\u001b[0m     \u001b[0mgrad_v\u001b[0m \u001b[1;33m=\u001b[0m \u001b[0mvolume_grad\u001b[0m\u001b[1;33m(\u001b[0m\u001b[0meptm\u001b[0m\u001b[1;33m)\u001b[0m\u001b[1;33m\u001b[0m\u001b[0m\n\u001b[0;32m     19\u001b[0m \u001b[1;33m\u001b[0m\u001b[0m\n",
      "\u001b[1;32m<ipython-input-15-ebbdc8dcc9c6>\u001b[0m in \u001b[0;36mcontractile_grad\u001b[1;34m(mesh)\u001b[0m\n\u001b[0;32m     38\u001b[0m \u001b[1;33m\u001b[0m\u001b[0m\n\u001b[0;32m     39\u001b[0m     \u001b[0mgamma_L\u001b[0m \u001b[1;33m=\u001b[0m \u001b[0mcontract\u001b[0m \u001b[1;33m*\u001b[0m \u001b[0mperimeter\u001b[0m\u001b[1;33m\u001b[0m\u001b[0m\n\u001b[1;32m---> 40\u001b[1;33m     \u001b[0mgamma_L\u001b[0m \u001b[1;33m=\u001b[0m \u001b[0meptm\u001b[0m\u001b[1;33m.\u001b[0m\u001b[0mupcast_cell\u001b[0m\u001b[1;33m(\u001b[0m\u001b[0mdf\u001b[0m\u001b[1;33m=\u001b[0m\u001b[0mgamma_L\u001b[0m\u001b[1;33m)\u001b[0m\u001b[1;33m\u001b[0m\u001b[0m\n\u001b[0m\u001b[0;32m     41\u001b[0m \u001b[1;33m\u001b[0m\u001b[0m\n\u001b[0;32m     42\u001b[0m     \u001b[0m_grad_c\u001b[0m \u001b[1;33m=\u001b[0m \u001b[0meptm\u001b[0m\u001b[1;33m.\u001b[0m\u001b[0mgrad_i_lij\u001b[0m \u001b[1;33m*\u001b[0m \u001b[0m_to_3d\u001b[0m\u001b[1;33m(\u001b[0m\u001b[0mgamma_L\u001b[0m\u001b[1;33m)\u001b[0m\u001b[1;33m\u001b[0m\u001b[0m\n",
      "\u001b[1;31mTypeError\u001b[0m: upcast_cell() got an unexpected keyword argument 'df'"
     ]
    }
   ],
   "source": [
    "grad_i, grad_t, grad_c, grad_v = compute_gradient(eptm, components=True)"
   ]
  },
  {
   "cell_type": "code",
   "execution_count": null,
   "metadata": {
    "collapsed": true
   },
   "outputs": [],
   "source": []
  }
 ],
 "metadata": {
  "kernelspec": {
   "display_name": "Python 3",
   "language": "python",
   "name": "python3"
  },
  "language_info": {
   "codemirror_mode": {
    "name": "ipython",
    "version": 3
   },
   "file_extension": ".py",
   "mimetype": "text/x-python",
   "name": "python",
   "nbconvert_exporter": "python",
   "pygments_lexer": "ipython3",
   "version": "3.4.3"
  }
 },
 "nbformat": 4,
 "nbformat_minor": 0
}
