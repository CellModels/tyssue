{
 "cells": [
  {
   "cell_type": "code",
   "execution_count": 1,
   "metadata": {
    "collapsed": false
   },
   "outputs": [],
   "source": [
    "%load_ext autoreload\n",
    "%autoreload 2"
   ]
  },
  {
   "cell_type": "code",
   "execution_count": 2,
   "metadata": {
    "collapsed": false
   },
   "outputs": [],
   "source": [
    "#import tyssue\n",
    "import sys\n",
    "sys.path.append('/home/guillaume/Python/tyssue/src/py-tyssue/')\n",
    "import pandas as pd\n",
    "import numpy as np\n",
    "import json\n",
    "import matplotlib.pylab as plt\n",
    "\n",
    "from scipy import optimize\n",
    "\n",
    "from tyssue.core.sheet import Sheet\n",
    "\n",
    "import tyssue.geometry.sheet_geometry as geom\n",
    "import tyssue.dynamics.sheet_vertex_model as model\n",
    "import tyssue.solvers.sheet_vertex_solver as solver\n",
    "\n",
    "from tyssue.draw.mpl_draw import sheet_view, default_draw_specs\n",
    "from tyssue.io import hdf5"
   ]
  },
  {
   "cell_type": "code",
   "execution_count": 3,
   "metadata": {
    "collapsed": true
   },
   "outputs": [],
   "source": [
    "h5store = 'small_hexagonal.hf5'\n",
    "datasets = hdf5.load_datasets(h5store, data_names=['cell', 'jv', 'je'])\n",
    "sheet = Sheet('emin', datasets)\n",
    "\n",
    "# hdf5.save_datasets('small_hexagonal.hf5', sheet)"
   ]
  },
  {
   "cell_type": "code",
   "execution_count": 4,
   "metadata": {
    "collapsed": false
   },
   "outputs": [
    {
     "data": {
      "text/html": [
       "<div>\n",
       "<table border=\"1\" class=\"dataframe\">\n",
       "  <thead>\n",
       "    <tr style=\"text-align: right;\">\n",
       "      <th></th>\n",
       "      <th></th>\n",
       "      <th></th>\n",
       "      <th>dy</th>\n",
       "      <th>dx</th>\n",
       "      <th>dz</th>\n",
       "      <th>length</th>\n",
       "      <th>old_jv0</th>\n",
       "      <th>old_jv1</th>\n",
       "      <th>old_cell</th>\n",
       "      <th>nx</th>\n",
       "      <th>ny</th>\n",
       "      <th>nz</th>\n",
       "      <th>sub_area</th>\n",
       "      <th>line_tension</th>\n",
       "    </tr>\n",
       "    <tr>\n",
       "      <th>srce</th>\n",
       "      <th>trgt</th>\n",
       "      <th>cell</th>\n",
       "      <th></th>\n",
       "      <th></th>\n",
       "      <th></th>\n",
       "      <th></th>\n",
       "      <th></th>\n",
       "      <th></th>\n",
       "      <th></th>\n",
       "      <th></th>\n",
       "      <th></th>\n",
       "      <th></th>\n",
       "      <th></th>\n",
       "      <th></th>\n",
       "    </tr>\n",
       "  </thead>\n",
       "  <tbody>\n",
       "    <tr>\n",
       "      <th>1</th>\n",
       "      <th>0</th>\n",
       "      <th>0</th>\n",
       "      <td>-1.857558</td>\n",
       "      <td>0.369491</td>\n",
       "      <td>-1.10053</td>\n",
       "      <td>2.190482</td>\n",
       "      <td>56</td>\n",
       "      <td>57</td>\n",
       "      <td>0</td>\n",
       "      <td>1.888686</td>\n",
       "      <td>7.823193e-01</td>\n",
       "      <td>-6.863514e-01</td>\n",
       "      <td>1.078220e+00</td>\n",
       "      <td>0.12</td>\n",
       "    </tr>\n",
       "    <tr>\n",
       "      <th>2</th>\n",
       "      <th>1</th>\n",
       "      <th>0</th>\n",
       "      <td>-1.574762</td>\n",
       "      <td>1.052222</td>\n",
       "      <td>1.10053</td>\n",
       "      <td>2.190482</td>\n",
       "      <td>57</td>\n",
       "      <td>58</td>\n",
       "      <td>0</td>\n",
       "      <td>0.000000</td>\n",
       "      <td>-2.220446e-16</td>\n",
       "      <td>-3.330669e-16</td>\n",
       "      <td>2.001483e-16</td>\n",
       "      <td>0.12</td>\n",
       "    </tr>\n",
       "    <tr>\n",
       "      <th>0</th>\n",
       "      <th>1</th>\n",
       "      <th>1</th>\n",
       "      <td>1.857558</td>\n",
       "      <td>-0.369491</td>\n",
       "      <td>1.10053</td>\n",
       "      <td>2.190482</td>\n",
       "      <td>56</td>\n",
       "      <td>57</td>\n",
       "      <td>1</td>\n",
       "      <td>4.088597</td>\n",
       "      <td>5.421817e-01</td>\n",
       "      <td>4.575676e-01</td>\n",
       "      <td>2.074847e+00</td>\n",
       "      <td>0.12</td>\n",
       "    </tr>\n",
       "    <tr>\n",
       "      <th>3</th>\n",
       "      <th>0</th>\n",
       "      <th>1</th>\n",
       "      <td>1.857558</td>\n",
       "      <td>0.369491</td>\n",
       "      <td>-1.10053</td>\n",
       "      <td>2.190482</td>\n",
       "      <td>56</td>\n",
       "      <td>59</td>\n",
       "      <td>1</td>\n",
       "      <td>4.088597</td>\n",
       "      <td>-5.421817e-01</td>\n",
       "      <td>4.575676e-01</td>\n",
       "      <td>2.074847e+00</td>\n",
       "      <td>0.12</td>\n",
       "    </tr>\n",
       "    <tr>\n",
       "      <th>1</th>\n",
       "      <th>6</th>\n",
       "      <th>1</th>\n",
       "      <td>0.000000</td>\n",
       "      <td>0.000000</td>\n",
       "      <td>2.20106</td>\n",
       "      <td>2.201060</td>\n",
       "      <td>57</td>\n",
       "      <td>62</td>\n",
       "      <td>1</td>\n",
       "      <td>4.088597</td>\n",
       "      <td>2.710909e-01</td>\n",
       "      <td>0.000000e+00</td>\n",
       "      <td>2.048787e+00</td>\n",
       "      <td>0.12</td>\n",
       "    </tr>\n",
       "  </tbody>\n",
       "</table>\n",
       "</div>"
      ],
      "text/plain": [
       "                      dy        dx       dz    length  old_jv0  old_jv1  \\\n",
       "srce trgt cell                                                            \n",
       "1    0    0    -1.857558  0.369491 -1.10053  2.190482       56       57   \n",
       "2    1    0    -1.574762  1.052222  1.10053  2.190482       57       58   \n",
       "0    1    1     1.857558 -0.369491  1.10053  2.190482       56       57   \n",
       "3    0    1     1.857558  0.369491 -1.10053  2.190482       56       59   \n",
       "1    6    1     0.000000  0.000000  2.20106  2.201060       57       62   \n",
       "\n",
       "                old_cell        nx            ny            nz      sub_area  \\\n",
       "srce trgt cell                                                                 \n",
       "1    0    0            0  1.888686  7.823193e-01 -6.863514e-01  1.078220e+00   \n",
       "2    1    0            0  0.000000 -2.220446e-16 -3.330669e-16  2.001483e-16   \n",
       "0    1    1            1  4.088597  5.421817e-01  4.575676e-01  2.074847e+00   \n",
       "3    0    1            1  4.088597 -5.421817e-01  4.575676e-01  2.074847e+00   \n",
       "1    6    1            1  4.088597  2.710909e-01  0.000000e+00  2.048787e+00   \n",
       "\n",
       "                line_tension  \n",
       "srce trgt cell                \n",
       "1    0    0             0.12  \n",
       "2    1    0             0.12  \n",
       "0    1    1             0.12  \n",
       "3    0    1             0.12  \n",
       "1    6    1             0.12  "
      ]
     },
     "execution_count": 4,
     "metadata": {},
     "output_type": "execute_result"
    }
   ],
   "source": [
    "sheet.je_df.head()"
   ]
  },
  {
   "cell_type": "code",
   "execution_count": 5,
   "metadata": {
    "collapsed": false
   },
   "outputs": [
    {
     "data": {
      "text/html": [
       "<div>\n",
       "<table border=\"1\" class=\"dataframe\">\n",
       "  <thead>\n",
       "    <tr style=\"text-align: right;\">\n",
       "      <th></th>\n",
       "      <th>perimeter</th>\n",
       "      <th>z</th>\n",
       "      <th>x</th>\n",
       "      <th>is_alive</th>\n",
       "      <th>area</th>\n",
       "      <th>y</th>\n",
       "      <th>old_idx</th>\n",
       "      <th>basal_shift</th>\n",
       "      <th>height</th>\n",
       "      <th>vol</th>\n",
       "      <th>vol_elasticity</th>\n",
       "      <th>prefered_height</th>\n",
       "      <th>contractility</th>\n",
       "      <th>prefered_area</th>\n",
       "    </tr>\n",
       "  </thead>\n",
       "  <tbody>\n",
       "    <tr>\n",
       "      <th>count</th>\n",
       "      <td>56.000000</td>\n",
       "      <td>5.600000e+01</td>\n",
       "      <td>5.600000e+01</td>\n",
       "      <td>56.000000</td>\n",
       "      <td>56.000000</td>\n",
       "      <td>5.600000e+01</td>\n",
       "      <td>56.000000</td>\n",
       "      <td>56</td>\n",
       "      <td>56.000000</td>\n",
       "      <td>56.000000</td>\n",
       "      <td>56</td>\n",
       "      <td>56</td>\n",
       "      <td>56.00</td>\n",
       "      <td>56</td>\n",
       "    </tr>\n",
       "    <tr>\n",
       "      <th>mean</th>\n",
       "      <td>10.654597</td>\n",
       "      <td>-3.370320e-16</td>\n",
       "      <td>-1.284687e-15</td>\n",
       "      <td>0.714286</td>\n",
       "      <td>9.163036</td>\n",
       "      <td>4.440892e-16</td>\n",
       "      <td>27.500000</td>\n",
       "      <td>4</td>\n",
       "      <td>0.651436</td>\n",
       "      <td>5.615578</td>\n",
       "      <td>1</td>\n",
       "      <td>24</td>\n",
       "      <td>0.04</td>\n",
       "      <td>10</td>\n",
       "    </tr>\n",
       "    <tr>\n",
       "      <th>std</th>\n",
       "      <td>4.003702</td>\n",
       "      <td>5.972802e+00</td>\n",
       "      <td>3.319195e+00</td>\n",
       "      <td>0.455842</td>\n",
       "      <td>5.159561</td>\n",
       "      <td>3.319195e+00</td>\n",
       "      <td>16.309506</td>\n",
       "      <td>0</td>\n",
       "      <td>0.069771</td>\n",
       "      <td>3.060265</td>\n",
       "      <td>0</td>\n",
       "      <td>0</td>\n",
       "      <td>0.00</td>\n",
       "      <td>0</td>\n",
       "    </tr>\n",
       "    <tr>\n",
       "      <th>min</th>\n",
       "      <td>4.380964</td>\n",
       "      <td>-8.253977e+00</td>\n",
       "      <td>-4.669287e+00</td>\n",
       "      <td>0.000000</td>\n",
       "      <td>1.078220</td>\n",
       "      <td>-4.669287e+00</td>\n",
       "      <td>0.000000</td>\n",
       "      <td>4</td>\n",
       "      <td>0.607705</td>\n",
       "      <td>0.820271</td>\n",
       "      <td>1</td>\n",
       "      <td>24</td>\n",
       "      <td>0.04</td>\n",
       "      <td>10</td>\n",
       "    </tr>\n",
       "    <tr>\n",
       "      <th>25%</th>\n",
       "      <td>4.380964</td>\n",
       "      <td>-6.603181e+00</td>\n",
       "      <td>-3.258140e+00</td>\n",
       "      <td>0.000000</td>\n",
       "      <td>1.078220</td>\n",
       "      <td>-3.258140e+00</td>\n",
       "      <td>13.750000</td>\n",
       "      <td>4</td>\n",
       "      <td>0.607705</td>\n",
       "      <td>0.820271</td>\n",
       "      <td>1</td>\n",
       "      <td>24</td>\n",
       "      <td>0.04</td>\n",
       "      <td>10</td>\n",
       "    </tr>\n",
       "    <tr>\n",
       "      <th>50%</th>\n",
       "      <td>13.164050</td>\n",
       "      <td>-2.590520e-16</td>\n",
       "      <td>-1.702342e-15</td>\n",
       "      <td>1.000000</td>\n",
       "      <td>12.396962</td>\n",
       "      <td>1.369275e-15</td>\n",
       "      <td>27.500000</td>\n",
       "      <td>4</td>\n",
       "      <td>0.607705</td>\n",
       "      <td>7.533701</td>\n",
       "      <td>1</td>\n",
       "      <td>24</td>\n",
       "      <td>0.04</td>\n",
       "      <td>10</td>\n",
       "    </tr>\n",
       "    <tr>\n",
       "      <th>75%</th>\n",
       "      <td>13.164050</td>\n",
       "      <td>6.603181e+00</td>\n",
       "      <td>3.258140e+00</td>\n",
       "      <td>1.000000</td>\n",
       "      <td>12.396962</td>\n",
       "      <td>3.258140e+00</td>\n",
       "      <td>41.250000</td>\n",
       "      <td>4</td>\n",
       "      <td>0.760764</td>\n",
       "      <td>7.533701</td>\n",
       "      <td>1</td>\n",
       "      <td>24</td>\n",
       "      <td>0.04</td>\n",
       "      <td>10</td>\n",
       "    </tr>\n",
       "    <tr>\n",
       "      <th>max</th>\n",
       "      <td>13.164050</td>\n",
       "      <td>8.253977e+00</td>\n",
       "      <td>4.669287e+00</td>\n",
       "      <td>1.000000</td>\n",
       "      <td>12.396962</td>\n",
       "      <td>4.669287e+00</td>\n",
       "      <td>55.000000</td>\n",
       "      <td>4</td>\n",
       "      <td>0.760764</td>\n",
       "      <td>7.533701</td>\n",
       "      <td>1</td>\n",
       "      <td>24</td>\n",
       "      <td>0.04</td>\n",
       "      <td>10</td>\n",
       "    </tr>\n",
       "  </tbody>\n",
       "</table>\n",
       "</div>"
      ],
      "text/plain": [
       "       perimeter             z             x   is_alive       area  \\\n",
       "count  56.000000  5.600000e+01  5.600000e+01  56.000000  56.000000   \n",
       "mean   10.654597 -3.370320e-16 -1.284687e-15   0.714286   9.163036   \n",
       "std     4.003702  5.972802e+00  3.319195e+00   0.455842   5.159561   \n",
       "min     4.380964 -8.253977e+00 -4.669287e+00   0.000000   1.078220   \n",
       "25%     4.380964 -6.603181e+00 -3.258140e+00   0.000000   1.078220   \n",
       "50%    13.164050 -2.590520e-16 -1.702342e-15   1.000000  12.396962   \n",
       "75%    13.164050  6.603181e+00  3.258140e+00   1.000000  12.396962   \n",
       "max    13.164050  8.253977e+00  4.669287e+00   1.000000  12.396962   \n",
       "\n",
       "                  y    old_idx  basal_shift     height        vol  \\\n",
       "count  5.600000e+01  56.000000           56  56.000000  56.000000   \n",
       "mean   4.440892e-16  27.500000            4   0.651436   5.615578   \n",
       "std    3.319195e+00  16.309506            0   0.069771   3.060265   \n",
       "min   -4.669287e+00   0.000000            4   0.607705   0.820271   \n",
       "25%   -3.258140e+00  13.750000            4   0.607705   0.820271   \n",
       "50%    1.369275e-15  27.500000            4   0.607705   7.533701   \n",
       "75%    3.258140e+00  41.250000            4   0.760764   7.533701   \n",
       "max    4.669287e+00  55.000000            4   0.760764   7.533701   \n",
       "\n",
       "       vol_elasticity  prefered_height  contractility  prefered_area  \n",
       "count              56               56          56.00             56  \n",
       "mean                1               24           0.04             10  \n",
       "std                 0                0           0.00              0  \n",
       "min                 1               24           0.04             10  \n",
       "25%                 1               24           0.04             10  \n",
       "50%                 1               24           0.04             10  \n",
       "75%                 1               24           0.04             10  \n",
       "max                 1               24           0.04             10  "
      ]
     },
     "execution_count": 5,
     "metadata": {},
     "output_type": "execute_result"
    }
   ],
   "source": [
    "sheet.cell_df.describe()"
   ]
  },
  {
   "cell_type": "code",
   "execution_count": null,
   "metadata": {
    "collapsed": true
   },
   "outputs": [],
   "source": []
  },
  {
   "cell_type": "code",
   "execution_count": 6,
   "metadata": {
    "collapsed": false
   },
   "outputs": [
    {
     "data": {
      "text/plain": [
       "{'basal_shift': 4.0, 'geometry': 'cylindrical', 'height_axis': 'z'}"
      ]
     },
     "execution_count": 6,
     "metadata": {},
     "output_type": "execute_result"
    }
   ],
   "source": [
    "geom.default_params"
   ]
  },
  {
   "cell_type": "code",
   "execution_count": 7,
   "metadata": {
    "collapsed": false
   },
   "outputs": [
    {
     "data": {
      "text/html": [
       "<div>\n",
       "<table border=\"1\" class=\"dataframe\">\n",
       "  <thead>\n",
       "    <tr style=\"text-align: right;\">\n",
       "      <th></th>\n",
       "      <th>perimeter</th>\n",
       "      <th>z</th>\n",
       "      <th>x</th>\n",
       "      <th>is_alive</th>\n",
       "      <th>area</th>\n",
       "      <th>y</th>\n",
       "      <th>old_idx</th>\n",
       "      <th>basal_shift</th>\n",
       "      <th>height</th>\n",
       "      <th>vol</th>\n",
       "      <th>vol_elasticity</th>\n",
       "      <th>prefered_height</th>\n",
       "      <th>contractility</th>\n",
       "      <th>prefered_area</th>\n",
       "      <th>rho</th>\n",
       "    </tr>\n",
       "  </thead>\n",
       "  <tbody>\n",
       "    <tr>\n",
       "      <th>count</th>\n",
       "      <td>56.000000</td>\n",
       "      <td>5.600000e+01</td>\n",
       "      <td>5.600000e+01</td>\n",
       "      <td>56.000000</td>\n",
       "      <td>56.000000</td>\n",
       "      <td>5.600000e+01</td>\n",
       "      <td>56.000000</td>\n",
       "      <td>56</td>\n",
       "      <td>56.000000</td>\n",
       "      <td>56.000000</td>\n",
       "      <td>56</td>\n",
       "      <td>56</td>\n",
       "      <td>56.00</td>\n",
       "      <td>56</td>\n",
       "      <td>56.000000</td>\n",
       "    </tr>\n",
       "    <tr>\n",
       "      <th>mean</th>\n",
       "      <td>10.654597</td>\n",
       "      <td>-3.370320e-16</td>\n",
       "      <td>-1.284687e-15</td>\n",
       "      <td>0.714286</td>\n",
       "      <td>9.163036</td>\n",
       "      <td>4.440892e-16</td>\n",
       "      <td>27.500000</td>\n",
       "      <td>4</td>\n",
       "      <td>8.651436</td>\n",
       "      <td>78.919867</td>\n",
       "      <td>1</td>\n",
       "      <td>24</td>\n",
       "      <td>0.04</td>\n",
       "      <td>10</td>\n",
       "      <td>4.651436</td>\n",
       "    </tr>\n",
       "    <tr>\n",
       "      <th>std</th>\n",
       "      <td>4.003702</td>\n",
       "      <td>5.972802e+00</td>\n",
       "      <td>3.319195e+00</td>\n",
       "      <td>0.455842</td>\n",
       "      <td>5.159561</td>\n",
       "      <td>3.319195e+00</td>\n",
       "      <td>16.309506</td>\n",
       "      <td>0</td>\n",
       "      <td>0.069771</td>\n",
       "      <td>44.336757</td>\n",
       "      <td>0</td>\n",
       "      <td>0</td>\n",
       "      <td>0.00</td>\n",
       "      <td>0</td>\n",
       "      <td>0.069771</td>\n",
       "    </tr>\n",
       "    <tr>\n",
       "      <th>min</th>\n",
       "      <td>4.380964</td>\n",
       "      <td>-8.253977e+00</td>\n",
       "      <td>-4.669287e+00</td>\n",
       "      <td>0.000000</td>\n",
       "      <td>1.078220</td>\n",
       "      <td>-4.669287e+00</td>\n",
       "      <td>0.000000</td>\n",
       "      <td>4</td>\n",
       "      <td>8.607705</td>\n",
       "      <td>9.446033</td>\n",
       "      <td>1</td>\n",
       "      <td>24</td>\n",
       "      <td>0.04</td>\n",
       "      <td>10</td>\n",
       "      <td>4.607705</td>\n",
       "    </tr>\n",
       "    <tr>\n",
       "      <th>25%</th>\n",
       "      <td>4.380964</td>\n",
       "      <td>-6.603181e+00</td>\n",
       "      <td>-3.258140e+00</td>\n",
       "      <td>0.000000</td>\n",
       "      <td>1.078220</td>\n",
       "      <td>-3.258140e+00</td>\n",
       "      <td>13.750000</td>\n",
       "      <td>4</td>\n",
       "      <td>8.607705</td>\n",
       "      <td>9.446033</td>\n",
       "      <td>1</td>\n",
       "      <td>24</td>\n",
       "      <td>0.04</td>\n",
       "      <td>10</td>\n",
       "      <td>4.607705</td>\n",
       "    </tr>\n",
       "    <tr>\n",
       "      <th>50%</th>\n",
       "      <td>13.164050</td>\n",
       "      <td>-2.590520e-16</td>\n",
       "      <td>-1.702342e-15</td>\n",
       "      <td>1.000000</td>\n",
       "      <td>12.396962</td>\n",
       "      <td>1.369275e-15</td>\n",
       "      <td>27.500000</td>\n",
       "      <td>4</td>\n",
       "      <td>8.607705</td>\n",
       "      <td>106.709400</td>\n",
       "      <td>1</td>\n",
       "      <td>24</td>\n",
       "      <td>0.04</td>\n",
       "      <td>10</td>\n",
       "      <td>4.607705</td>\n",
       "    </tr>\n",
       "    <tr>\n",
       "      <th>75%</th>\n",
       "      <td>13.164050</td>\n",
       "      <td>6.603181e+00</td>\n",
       "      <td>3.258140e+00</td>\n",
       "      <td>1.000000</td>\n",
       "      <td>12.396962</td>\n",
       "      <td>3.258140e+00</td>\n",
       "      <td>41.250000</td>\n",
       "      <td>4</td>\n",
       "      <td>8.760764</td>\n",
       "      <td>106.709400</td>\n",
       "      <td>1</td>\n",
       "      <td>24</td>\n",
       "      <td>0.04</td>\n",
       "      <td>10</td>\n",
       "      <td>4.760764</td>\n",
       "    </tr>\n",
       "    <tr>\n",
       "      <th>max</th>\n",
       "      <td>13.164050</td>\n",
       "      <td>8.253977e+00</td>\n",
       "      <td>4.669287e+00</td>\n",
       "      <td>1.000000</td>\n",
       "      <td>12.396962</td>\n",
       "      <td>4.669287e+00</td>\n",
       "      <td>55.000000</td>\n",
       "      <td>4</td>\n",
       "      <td>8.760764</td>\n",
       "      <td>106.709400</td>\n",
       "      <td>1</td>\n",
       "      <td>24</td>\n",
       "      <td>0.04</td>\n",
       "      <td>10</td>\n",
       "      <td>4.760764</td>\n",
       "    </tr>\n",
       "  </tbody>\n",
       "</table>\n",
       "</div>"
      ],
      "text/plain": [
       "       perimeter             z             x   is_alive       area  \\\n",
       "count  56.000000  5.600000e+01  5.600000e+01  56.000000  56.000000   \n",
       "mean   10.654597 -3.370320e-16 -1.284687e-15   0.714286   9.163036   \n",
       "std     4.003702  5.972802e+00  3.319195e+00   0.455842   5.159561   \n",
       "min     4.380964 -8.253977e+00 -4.669287e+00   0.000000   1.078220   \n",
       "25%     4.380964 -6.603181e+00 -3.258140e+00   0.000000   1.078220   \n",
       "50%    13.164050 -2.590520e-16 -1.702342e-15   1.000000  12.396962   \n",
       "75%    13.164050  6.603181e+00  3.258140e+00   1.000000  12.396962   \n",
       "max    13.164050  8.253977e+00  4.669287e+00   1.000000  12.396962   \n",
       "\n",
       "                  y    old_idx  basal_shift     height         vol  \\\n",
       "count  5.600000e+01  56.000000           56  56.000000   56.000000   \n",
       "mean   4.440892e-16  27.500000            4   8.651436   78.919867   \n",
       "std    3.319195e+00  16.309506            0   0.069771   44.336757   \n",
       "min   -4.669287e+00   0.000000            4   8.607705    9.446033   \n",
       "25%   -3.258140e+00  13.750000            4   8.607705    9.446033   \n",
       "50%    1.369275e-15  27.500000            4   8.607705  106.709400   \n",
       "75%    3.258140e+00  41.250000            4   8.760764  106.709400   \n",
       "max    4.669287e+00  55.000000            4   8.760764  106.709400   \n",
       "\n",
       "       vol_elasticity  prefered_height  contractility  prefered_area  \\\n",
       "count              56               56          56.00             56   \n",
       "mean                1               24           0.04             10   \n",
       "std                 0                0           0.00              0   \n",
       "min                 1               24           0.04             10   \n",
       "25%                 1               24           0.04             10   \n",
       "50%                 1               24           0.04             10   \n",
       "75%                 1               24           0.04             10   \n",
       "max                 1               24           0.04             10   \n",
       "\n",
       "             rho  \n",
       "count  56.000000  \n",
       "mean    4.651436  \n",
       "std     0.069771  \n",
       "min     4.607705  \n",
       "25%     4.607705  \n",
       "50%     4.607705  \n",
       "75%     4.760764  \n",
       "max     4.760764  "
      ]
     },
     "execution_count": 7,
     "metadata": {},
     "output_type": "execute_result"
    }
   ],
   "source": [
    "geom.set_geometry_columns(sheet)\n",
    "geom.update_all(sheet, coords=sheet.coords)\n",
    "sheet.cell_df.describe()"
   ]
  },
  {
   "cell_type": "code",
   "execution_count": 8,
   "metadata": {
    "collapsed": false
   },
   "outputs": [
    {
     "data": {
      "text/plain": [
       "{'contractility': 0.04,\n",
       " 'line_tension': 0.12,\n",
       " 'prefered_area': 10.0,\n",
       " 'prefered_height': 24.0,\n",
       " 'vol_elasticity': 1.0}"
      ]
     },
     "execution_count": 8,
     "metadata": {},
     "output_type": "execute_result"
    }
   ],
   "source": [
    "model.default_params"
   ]
  },
  {
   "cell_type": "code",
   "execution_count": 9,
   "metadata": {
    "collapsed": false
   },
   "outputs": [
    {
     "data": {
      "text/plain": [
       "{'contractility': 230.4,\n",
       " 'line_tension': 2185.7663187083836,\n",
       " 'norm_factor': 57600.0,\n",
       " 'prefered_area': 10.0,\n",
       " 'prefered_height': 24.0,\n",
       " 'prefered_vol': 240.0,\n",
       " 'vol_elasticity': 1.0}"
      ]
     },
     "execution_count": 9,
     "metadata": {},
     "output_type": "execute_result"
    }
   ],
   "source": [
    "adim_parameters = model.default_params.copy()\n",
    "model_params = model.dimentionalize(adim_parameters)\n",
    "model.set_dynamic_columns(sheet, model_params)\n",
    "model_params"
   ]
  },
  {
   "cell_type": "markdown",
   "metadata": {},
   "source": [
    "we define the adimentional contractility $\\bar\\Gamma = \\Gamma/K_vA_0h_0^2$ and line tension\n",
    "$\\bar\\Lambda = \\Lambda /K_v (A_0^{3/2}h_0^2)$, where $h_0$ is such that $V_0 = A_0h_0$.\n"
   ]
  },
  {
   "cell_type": "code",
   "execution_count": 10,
   "metadata": {
    "collapsed": true
   },
   "outputs": [],
   "source": [
    "sheet.cell_df['num_sides'] = np.bincount(sheet.e_cell_idx.get_level_values('cell'))"
   ]
  },
  {
   "cell_type": "code",
   "execution_count": 17,
   "metadata": {
    "collapsed": false
   },
   "outputs": [
    {
     "data": {
      "text/plain": [
       "0.58914372422909544"
      ]
     },
     "execution_count": 17,
     "metadata": {},
     "output_type": "execute_result"
    }
   ],
   "source": [
    "\n",
    "grad_err = solver.check_grad(sheet, sheet.coords)\n",
    "grad_err / model_params['norm_factor']"
   ]
  },
  {
   "cell_type": "code",
   "execution_count": 18,
   "metadata": {
    "collapsed": false,
    "scrolled": true
   },
   "outputs": [],
   "source": [
    "grad_i, grad_t, grad_c, grad_v = model.compute_gradient(sheet, components=True)"
   ]
  },
  {
   "cell_type": "code",
   "execution_count": 19,
   "metadata": {
    "collapsed": false
   },
   "outputs": [
    {
     "data": {
      "text/plain": [
       "57600.0"
      ]
     },
     "execution_count": 19,
     "metadata": {},
     "output_type": "execute_result"
    }
   ],
   "source": [
    "model_params['norm_factor']"
   ]
  },
  {
   "cell_type": "code",
   "execution_count": 20,
   "metadata": {
    "collapsed": false
   },
   "outputs": [
    {
     "data": {
      "text/html": [
       "<div>\n",
       "<table border=\"1\" class=\"dataframe\">\n",
       "  <thead>\n",
       "    <tr style=\"text-align: right;\">\n",
       "      <th></th>\n",
       "      <th>x</th>\n",
       "      <th>y</th>\n",
       "      <th>z</th>\n",
       "    </tr>\n",
       "    <tr>\n",
       "      <th>jv</th>\n",
       "      <th></th>\n",
       "      <th></th>\n",
       "      <th></th>\n",
       "    </tr>\n",
       "  </thead>\n",
       "  <tbody>\n",
       "    <tr>\n",
       "      <th>0</th>\n",
       "      <td>0.008611</td>\n",
       "      <td>0.010937</td>\n",
       "      <td>-0.000087</td>\n",
       "    </tr>\n",
       "    <tr>\n",
       "      <th>1</th>\n",
       "      <td>-0.018210</td>\n",
       "      <td>0.005801</td>\n",
       "      <td>0.058789</td>\n",
       "    </tr>\n",
       "    <tr>\n",
       "      <th>2</th>\n",
       "      <td>-0.001644</td>\n",
       "      <td>0.013822</td>\n",
       "      <td>-0.000087</td>\n",
       "    </tr>\n",
       "    <tr>\n",
       "      <th>3</th>\n",
       "      <td>-0.008775</td>\n",
       "      <td>0.016979</td>\n",
       "      <td>0.058789</td>\n",
       "    </tr>\n",
       "    <tr>\n",
       "      <th>4</th>\n",
       "      <td>-0.022956</td>\n",
       "      <td>0.008002</td>\n",
       "      <td>0.006670</td>\n",
       "    </tr>\n",
       "  </tbody>\n",
       "</table>\n",
       "</div>"
      ],
      "text/plain": [
       "           x         y         z\n",
       "jv                              \n",
       "0   0.008611  0.010937 -0.000087\n",
       "1  -0.018210  0.005801  0.058789\n",
       "2  -0.001644  0.013822 -0.000087\n",
       "3  -0.008775  0.016979  0.058789\n",
       "4  -0.022956  0.008002  0.006670"
      ]
     },
     "execution_count": 20,
     "metadata": {},
     "output_type": "execute_result"
    }
   ],
   "source": [
    "grad_i.head() / model_params['norm_factor']"
   ]
  },
  {
   "cell_type": "code",
   "execution_count": 21,
   "metadata": {
    "collapsed": false
   },
   "outputs": [],
   "source": [
    "from tyssue.dynamics.sheet_isotropic_model import *"
   ]
  },
  {
   "cell_type": "code",
   "execution_count": 22,
   "metadata": {
    "collapsed": false
   },
   "outputs": [],
   "source": [
    "isotropic_relax(sheet)"
   ]
  },
  {
   "cell_type": "code",
   "execution_count": 23,
   "metadata": {
    "collapsed": false
   },
   "outputs": [],
   "source": [
    "geom.scale(sheet, 2, sheet.coords+['basal_shift'])\n",
    "geom.update_all(sheet)"
   ]
  },
  {
   "cell_type": "code",
   "execution_count": 24,
   "metadata": {
    "collapsed": false
   },
   "outputs": [
    {
     "data": {
      "text/html": [
       "<div>\n",
       "<table border=\"1\" class=\"dataframe\">\n",
       "  <thead>\n",
       "    <tr style=\"text-align: right;\">\n",
       "      <th></th>\n",
       "      <th></th>\n",
       "      <th></th>\n",
       "      <th>dy</th>\n",
       "      <th>dx</th>\n",
       "      <th>dz</th>\n",
       "      <th>length</th>\n",
       "      <th>old_jv0</th>\n",
       "      <th>old_jv1</th>\n",
       "      <th>old_cell</th>\n",
       "      <th>nx</th>\n",
       "      <th>ny</th>\n",
       "      <th>nz</th>\n",
       "      <th>sub_area</th>\n",
       "      <th>line_tension</th>\n",
       "    </tr>\n",
       "    <tr>\n",
       "      <th>srce</th>\n",
       "      <th>trgt</th>\n",
       "      <th>cell</th>\n",
       "      <th></th>\n",
       "      <th></th>\n",
       "      <th></th>\n",
       "      <th></th>\n",
       "      <th></th>\n",
       "      <th></th>\n",
       "      <th></th>\n",
       "      <th></th>\n",
       "      <th></th>\n",
       "      <th></th>\n",
       "      <th></th>\n",
       "      <th></th>\n",
       "    </tr>\n",
       "  </thead>\n",
       "  <tbody>\n",
       "    <tr>\n",
       "      <th>1</th>\n",
       "      <th>0</th>\n",
       "      <th>0</th>\n",
       "      <td>-3.440938</td>\n",
       "      <td>0.684445</td>\n",
       "      <td>-2.038621</td>\n",
       "      <td>4.057646</td>\n",
       "      <td>56</td>\n",
       "      <td>57</td>\n",
       "      <td>0</td>\n",
       "      <td>6.480800e+00</td>\n",
       "      <td>2.684435e+00</td>\n",
       "      <td>-2.355133e+00</td>\n",
       "      <td>3.699784e+00</td>\n",
       "      <td>2185.766319</td>\n",
       "    </tr>\n",
       "    <tr>\n",
       "      <th>2</th>\n",
       "      <th>1</th>\n",
       "      <th>0</th>\n",
       "      <td>-2.917086</td>\n",
       "      <td>1.949135</td>\n",
       "      <td>2.038621</td>\n",
       "      <td>4.057646</td>\n",
       "      <td>57</td>\n",
       "      <td>58</td>\n",
       "      <td>0</td>\n",
       "      <td>-1.776357e-15</td>\n",
       "      <td>-1.776357e-15</td>\n",
       "      <td>-8.881784e-16</td>\n",
       "      <td>1.332268e-15</td>\n",
       "      <td>2185.766319</td>\n",
       "    </tr>\n",
       "    <tr>\n",
       "      <th>0</th>\n",
       "      <th>1</th>\n",
       "      <th>1</th>\n",
       "      <td>3.440938</td>\n",
       "      <td>-0.684445</td>\n",
       "      <td>2.038621</td>\n",
       "      <td>4.057646</td>\n",
       "      <td>56</td>\n",
       "      <td>57</td>\n",
       "      <td>1</td>\n",
       "      <td>1.402953e+01</td>\n",
       "      <td>1.860432e+00</td>\n",
       "      <td>1.570089e+00</td>\n",
       "      <td>7.119589e+00</td>\n",
       "      <td>2185.766319</td>\n",
       "    </tr>\n",
       "    <tr>\n",
       "      <th>3</th>\n",
       "      <th>0</th>\n",
       "      <th>1</th>\n",
       "      <td>3.440938</td>\n",
       "      <td>0.684445</td>\n",
       "      <td>-2.038621</td>\n",
       "      <td>4.057646</td>\n",
       "      <td>56</td>\n",
       "      <td>59</td>\n",
       "      <td>1</td>\n",
       "      <td>1.402953e+01</td>\n",
       "      <td>-1.860432e+00</td>\n",
       "      <td>1.570089e+00</td>\n",
       "      <td>7.119589e+00</td>\n",
       "      <td>2185.766319</td>\n",
       "    </tr>\n",
       "    <tr>\n",
       "      <th>1</th>\n",
       "      <th>6</th>\n",
       "      <th>1</th>\n",
       "      <td>0.000000</td>\n",
       "      <td>0.000000</td>\n",
       "      <td>4.077241</td>\n",
       "      <td>4.077241</td>\n",
       "      <td>57</td>\n",
       "      <td>62</td>\n",
       "      <td>1</td>\n",
       "      <td>1.402953e+01</td>\n",
       "      <td>9.302159e-01</td>\n",
       "      <td>0.000000e+00</td>\n",
       "      <td>7.030169e+00</td>\n",
       "      <td>2185.766319</td>\n",
       "    </tr>\n",
       "  </tbody>\n",
       "</table>\n",
       "</div>"
      ],
      "text/plain": [
       "                      dy        dx        dz    length  old_jv0  old_jv1  \\\n",
       "srce trgt cell                                                             \n",
       "1    0    0    -3.440938  0.684445 -2.038621  4.057646       56       57   \n",
       "2    1    0    -2.917086  1.949135  2.038621  4.057646       57       58   \n",
       "0    1    1     3.440938 -0.684445  2.038621  4.057646       56       57   \n",
       "3    0    1     3.440938  0.684445 -2.038621  4.057646       56       59   \n",
       "1    6    1     0.000000  0.000000  4.077241  4.077241       57       62   \n",
       "\n",
       "                old_cell            nx            ny            nz  \\\n",
       "srce trgt cell                                                       \n",
       "1    0    0            0  6.480800e+00  2.684435e+00 -2.355133e+00   \n",
       "2    1    0            0 -1.776357e-15 -1.776357e-15 -8.881784e-16   \n",
       "0    1    1            1  1.402953e+01  1.860432e+00  1.570089e+00   \n",
       "3    0    1            1  1.402953e+01 -1.860432e+00  1.570089e+00   \n",
       "1    6    1            1  1.402953e+01  9.302159e-01  0.000000e+00   \n",
       "\n",
       "                    sub_area  line_tension  \n",
       "srce trgt cell                              \n",
       "1    0    0     3.699784e+00   2185.766319  \n",
       "2    1    0     1.332268e-15   2185.766319  \n",
       "0    1    1     7.119589e+00   2185.766319  \n",
       "3    0    1     7.119589e+00   2185.766319  \n",
       "1    6    1     7.030169e+00   2185.766319  "
      ]
     },
     "execution_count": 24,
     "metadata": {},
     "output_type": "execute_result"
    }
   ],
   "source": [
    "sheet.je_df.head()"
   ]
  },
  {
   "cell_type": "code",
   "execution_count": 25,
   "metadata": {
    "collapsed": false
   },
   "outputs": [],
   "source": [
    "grad_i, grad_t, grad_c, grad_v = model.compute_gradient(sheet, components=True)"
   ]
  },
  {
   "cell_type": "code",
   "execution_count": 26,
   "metadata": {
    "collapsed": false
   },
   "outputs": [
    {
     "data": {
      "text/html": [
       "<div>\n",
       "<table border=\"1\" class=\"dataframe\">\n",
       "  <thead>\n",
       "    <tr style=\"text-align: right;\">\n",
       "      <th></th>\n",
       "      <th>x</th>\n",
       "      <th>y</th>\n",
       "      <th>z</th>\n",
       "    </tr>\n",
       "    <tr>\n",
       "      <th>jv</th>\n",
       "      <th></th>\n",
       "      <th></th>\n",
       "      <th></th>\n",
       "    </tr>\n",
       "  </thead>\n",
       "  <tbody>\n",
       "    <tr>\n",
       "      <th>0</th>\n",
       "      <td>0.687680</td>\n",
       "      <td>-1.933695</td>\n",
       "      <td>-3.394522</td>\n",
       "    </tr>\n",
       "    <tr>\n",
       "      <th>1</th>\n",
       "      <td>2.368588</td>\n",
       "      <td>-1.185355</td>\n",
       "      <td>-3.403854</td>\n",
       "    </tr>\n",
       "    <tr>\n",
       "      <th>2</th>\n",
       "      <td>1.853592</td>\n",
       "      <td>-0.881066</td>\n",
       "      <td>-3.394522</td>\n",
       "    </tr>\n",
       "    <tr>\n",
       "      <th>3</th>\n",
       "      <td>0.836672</td>\n",
       "      <td>-2.513018</td>\n",
       "      <td>-3.403854</td>\n",
       "    </tr>\n",
       "    <tr>\n",
       "      <th>4</th>\n",
       "      <td>2.241983</td>\n",
       "      <td>-0.855219</td>\n",
       "      <td>-0.055295</td>\n",
       "    </tr>\n",
       "  </tbody>\n",
       "</table>\n",
       "</div>"
      ],
      "text/plain": [
       "           x         y         z\n",
       "jv                              \n",
       "0   0.687680 -1.933695 -3.394522\n",
       "1   2.368588 -1.185355 -3.403854\n",
       "2   1.853592 -0.881066 -3.394522\n",
       "3   0.836672 -2.513018 -3.403854\n",
       "4   2.241983 -0.855219 -0.055295"
      ]
     },
     "execution_count": 26,
     "metadata": {},
     "output_type": "execute_result"
    }
   ],
   "source": [
    "grad_i.head() / model_params['norm_factor']"
   ]
  },
  {
   "cell_type": "code",
   "execution_count": 197,
   "metadata": {
    "collapsed": false
   },
   "outputs": [
    {
     "name": "stdout",
     "output_type": "stream",
     "text": [
      "Automatic pdb calling has been turned OFF\n"
     ]
    }
   ],
   "source": [
    "%pdb"
   ]
  },
  {
   "cell_type": "code",
   "execution_count": 27,
   "metadata": {
    "collapsed": true
   },
   "outputs": [],
   "source": [
    "Et, Ec, Ev = model.compute_energy(sheet, full_output=True)"
   ]
  },
  {
   "cell_type": "code",
   "execution_count": 28,
   "metadata": {
    "collapsed": false,
    "scrolled": true
   },
   "outputs": [
    {
     "name": "stdout",
     "output_type": "stream",
     "text": [
      "0.886592687387 0.0886592687387\n"
     ]
    },
    {
     "data": {
      "image/png": "[encoded data removed]",
      "text/plain": [
       "<matplotlib.figure.Figure at 0x7f2674a7f320>"
      ]
     },
     "metadata": {},
     "output_type": "display_data"
    }
   ],
   "source": [
    "%matplotlib inline\n",
    "deltas = np.linspace(0.1, 2, 50)\n",
    "fig, ax = plt.subplots(figsize=(5, 8))\n",
    "lbda = adim_parameters['line_tension']\n",
    "gamma = adim_parameters['contractility']\n",
    "\n",
    "\n",
    "def elasticity(delta):\n",
    "    return (delta**3 - 1 )**2 / 2.\n",
    "\n",
    "def contractility(delta, gamma):\n",
    "    return gamma * mu**2 * delta**2 / 2.\n",
    "\n",
    "def tension(delta, lbda):\n",
    "    return lbda * mu * delta / 2.\n",
    "\n",
    "\n",
    "ax.plot(deltas, isotropic_energy(deltas, adim_parameters), 'k-',\n",
    "        label='Analytical total')\n",
    "ax.plot(sheet.delta_o, isotropic_energy(sheet.delta_o, adim_parameters), 'ro')\n",
    "ax.plot(deltas, elasticity(deltas), 'b-',\n",
    "        label='Analytical volume elasticity')\n",
    "ax.plot(deltas, contractility(deltas, gamma), color='orange', ls='-',\n",
    "        label='Analytical contractility')\n",
    "ax.plot(deltas, tension(deltas, lbda), 'g-',\n",
    "        label='Analytical line tension')\n",
    "\n",
    "ax.set_xlabel(r'Isotropic scaling $\\delta$')\n",
    "ax.set_ylabel(r'Isotropic energie $\\bar E$')\n",
    "\n",
    "area0 = model_params['prefered_area']\n",
    "h_0 = model_params['prefered_height']\n",
    "\n",
    "\n",
    "### Cells only area and height\n",
    "area_avg = sheet.cell_df[sheet.cell_df['is_alive'] == 1].area.mean()\n",
    "rho_avg = sheet.cell_df[sheet.cell_df['rho'] == 1].area.mean()\n",
    "\n",
    "### Set height and area to height0 and area0\n",
    "delta_0 = (area0 / area_avg)**0.5\n",
    "geom.scale(sheet, delta_0, sheet.coords)\n",
    "sheet.cell_df['basal_height'] = rho_avg * delta_0 - h_0\n",
    "\n",
    "geom.update_all(sheet)\n",
    "\n",
    "\n",
    "energy = model.compute_energy(sheet)\n",
    "\n",
    "\n",
    "\n",
    "\n",
    "norm = (model_params['norm_factor'] *\n",
    "        sheet.cell_df.is_alive).sum()\n",
    "\n",
    "energies = np.zeros((deltas.size, 3))\n",
    "#scales = np.linspace(0.5, 1.2, 20) / eptm.delta_o\n",
    "for n, delta in enumerate(deltas):\n",
    "    geom.scale(sheet, delta, sheet.coords+['basal_shift'])\n",
    "    geom.update_all(sheet)\n",
    "\n",
    "    Et, Ec, Ev = model.compute_energy(sheet, full_output=True)\n",
    "    energies[n, :] = [Et.sum(), Ec.sum(), Ev.sum()]\n",
    "    geom.scale(sheet, 1/delta, sheet.coords+['basal_shift'])\n",
    "    geom.update_all(sheet)\n",
    "\n",
    "isotropic_relax(sheet)\n",
    "\n",
    "\n",
    "energies = energies / norm\n",
    "ax.plot(deltas, energies[:, 2], 'bo:', lw=2, alpha=0.8,\n",
    "        label='Computed volume elasticity')\n",
    "ax.plot(deltas, energies[:, 0], 'go:', lw=2, alpha=0.8,\n",
    "        label='Computed line tension')\n",
    "ax.plot(deltas, energies[:, 1], ls=':',\n",
    "        marker='o', color='orange', label='Computed contractility')\n",
    "ax.plot(deltas, energies.sum(axis=1), 'ko:', lw=2, alpha=0.8,\n",
    "        label='Computed total')\n",
    "\n",
    "ax.legend(loc='upper left', fontsize=10)\n",
    "ax.set_ylim(0, 1.2)\n",
    "\n",
    "\n",
    "print(sheet.delta_o, deltas[energies.sum(axis=1).argmin()] * sheet.delta_o)"
   ]
  },
  {
   "cell_type": "code",
   "execution_count": 30,
   "metadata": {
    "collapsed": false
   },
   "outputs": [
    {
     "data": {
      "image/png": "[encoded data removed]",
      "text/plain": [
       "<matplotlib.figure.Figure at 0x7f266c540198>"
      ]
     },
     "metadata": {},
     "output_type": "display_data"
    }
   ],
   "source": [
    "ax, fig = sheet_view(sheet, ['z', 'x'], draw_specs=default_draw_specs)"
   ]
  },
  {
   "cell_type": "code",
   "execution_count": null,
   "metadata": {
    "collapsed": false
   },
   "outputs": [],
   "source": [
    "def plot_gradients(eptm, coords, mag=10, ax=None, approx=False, ec='r', fc='r'):\n",
    "    \n",
    "    gcoords = ['g'+c for c in coords]\n",
    "    if approx:\n",
    "        app_grad = approx_grad(eptm, coords=['x', 'y', 'z'])\n",
    "        grad_i = pd.DataFrame(index=eptm.jv_idx, \n",
    "                              data=app_grad.reshape((-1, 3)),\n",
    "                              columns=eptm.coords) / eptm.norm_factor\n",
    "        \n",
    "    else:    \n",
    "        grad_i = compute_gradient(eptm, components=False) / eptm.norm_factor\n",
    "    \n",
    "    arrows = pd.DataFrame(columns=coords + gcoords,\n",
    "                          index=eptm.jv_df.index)\n",
    "    \n",
    "    arrows[coords] = eptm.jv_df[coords]\n",
    "    arrows[gcoords] = grad_i[coords] * mag\n",
    "    \n",
    "    \n",
    "    if ax is None:\n",
    "        fig, ax = plt_eptm(eptm, coords, edge_arrow_style, points_style)\n",
    "    else:\n",
    "        fig = ax.get_figure()\n",
    "    \n",
    "    for idx, arrow in arrows.iterrows():\n",
    "        x, y = coords\n",
    "        gx, gy = gcoords\n",
    "        ax.arrow(arrow[x], arrow[y], arrow[gx], arrow[gy],\n",
    "                 ec=ec, fc=fc,\n",
    "                 width=0.01,\n",
    "                 alpha=0.5)\n",
    "        \n",
    "    return fig, ax"
   ]
  },
  {
   "cell_type": "code",
   "execution_count": null,
   "metadata": {
    "collapsed": false
   },
   "outputs": [],
   "source": [
    "fig, ax = plot_gradients(eptm, ['z', 'y'])\n",
    "fig, ax = plot_gradients(eptm, ['z', 'y'], ax=ax, approx=True, ec='b', fc='b')\n",
    "\n",
    "fig.set_size_inches(10, 12)\n"
   ]
  },
  {
   "cell_type": "code",
   "execution_count": null,
   "metadata": {
    "collapsed": false,
    "scrolled": true
   },
   "outputs": [],
   "source": [
    "eptm.je_df.line_tension = eptm.je_df.line_tension * (np.cos(eptm.je_df.nz)**2 + 0.5)"
   ]
  },
  {
   "cell_type": "code",
   "execution_count": null,
   "metadata": {
    "collapsed": false
   },
   "outputs": [],
   "source": [
    "eptm.je_df.head(10)"
   ]
  },
  {
   "cell_type": "code",
   "execution_count": null,
   "metadata": {
    "collapsed": false
   },
   "outputs": [],
   "source": [
    "fig, ax = plot_gradients(eptm, ['z', 'y'])\n",
    "fig, ax = plot_gradients(eptm, ['z', 'y'], ax=ax, approx=True, ec='b', fc='b')\n",
    "\n",
    "fig.set_size_inches(10, 12)\n"
   ]
  },
  {
   "cell_type": "code",
   "execution_count": null,
   "metadata": {
    "collapsed": true
   },
   "outputs": [],
   "source": []
  }
 ],
 "metadata": {
  "kernelspec": {
   "display_name": "Python 3",
   "language": "python",
   "name": "python3"
  },
  "language_info": {
   "codemirror_mode": {
    "name": "ipython",
    "version": 3
   },
   "file_extension": ".py",
   "mimetype": "text/x-python",
   "name": "python",
   "nbconvert_exporter": "python",
   "pygments_lexer": "ipython3",
   "version": "3.4.3"
  }
 },
 "nbformat": 4,
 "nbformat_minor": 0
}
