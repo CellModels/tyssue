{
 "cells": [
  {
   "cell_type": "code",
   "execution_count": 1,
   "metadata": {
    "collapsed": false
   },
   "outputs": [],
   "source": [
    "%load_ext autoreload\n",
    "%autoreload 2"
   ]
  },
  {
   "cell_type": "code",
   "execution_count": 18,
   "metadata": {
    "collapsed": false
   },
   "outputs": [],
   "source": [
    "import tyssue\n",
    "import pandas as pd\n",
    "import numpy as np\n",
    "import json\n",
    "import matplotlib.pylab as plt\n",
    "\n",
    "from scipy import optimize"
   ]
  },
  {
   "cell_type": "code",
   "execution_count": 3,
   "metadata": {
    "collapsed": true
   },
   "outputs": [],
   "source": [
    "from tyssue.core import Epithelium"
   ]
  },
  {
   "cell_type": "code",
   "execution_count": 4,
   "metadata": {
    "collapsed": false
   },
   "outputs": [],
   "source": [
    "with pd.get_store('small_hexagonal.hf5') as store:\n",
    "    cell_df = store.get('cell_df')\n",
    "    jv_df = store.get('jv_df')\n",
    "    je_df = store.get('je_df')\n"
   ]
  },
  {
   "cell_type": "code",
   "execution_count": 5,
   "metadata": {
    "collapsed": true
   },
   "outputs": [],
   "source": [
    "eptm = Epithelium('emin', cell_df, jv_df, je_df)"
   ]
  },
  {
   "cell_type": "code",
   "execution_count": 6,
   "metadata": {
    "collapsed": false
   },
   "outputs": [
    {
     "data": {
      "text/html": [
       "<div>\n",
       "<table border=\"1\" class=\"dataframe\">\n",
       "  <thead>\n",
       "    <tr style=\"text-align: right;\">\n",
       "      <th></th>\n",
       "      <th>perimeter</th>\n",
       "      <th>z</th>\n",
       "      <th>x</th>\n",
       "      <th>is_alive</th>\n",
       "      <th>area</th>\n",
       "      <th>y</th>\n",
       "      <th>old_idx</th>\n",
       "    </tr>\n",
       "    <tr>\n",
       "      <th>cell</th>\n",
       "      <th></th>\n",
       "      <th></th>\n",
       "      <th></th>\n",
       "      <th></th>\n",
       "      <th></th>\n",
       "      <th></th>\n",
       "      <th></th>\n",
       "    </tr>\n",
       "  </thead>\n",
       "  <tbody>\n",
       "    <tr>\n",
       "      <th>0</th>\n",
       "      <td>0.00000</td>\n",
       "      <td>-8.437398e+00</td>\n",
       "      <td>4.256965</td>\n",
       "      <td>0</td>\n",
       "      <td>12.000000</td>\n",
       "      <td>1.763293e+00</td>\n",
       "      <td>0</td>\n",
       "    </tr>\n",
       "    <tr>\n",
       "      <th>1</th>\n",
       "      <td>13.16405</td>\n",
       "      <td>-6.603181e+00</td>\n",
       "      <td>4.607705</td>\n",
       "      <td>1</td>\n",
       "      <td>12.396962</td>\n",
       "      <td>5.921189e-16</td>\n",
       "      <td>1</td>\n",
       "    </tr>\n",
       "    <tr>\n",
       "      <th>2</th>\n",
       "      <td>13.16405</td>\n",
       "      <td>-3.301591e+00</td>\n",
       "      <td>4.256965</td>\n",
       "      <td>1</td>\n",
       "      <td>12.396962</td>\n",
       "      <td>1.763293e+00</td>\n",
       "      <td>2</td>\n",
       "    </tr>\n",
       "    <tr>\n",
       "      <th>3</th>\n",
       "      <td>13.16405</td>\n",
       "      <td>-1.480297e-16</td>\n",
       "      <td>4.607705</td>\n",
       "      <td>1</td>\n",
       "      <td>12.396962</td>\n",
       "      <td>5.921189e-16</td>\n",
       "      <td>3</td>\n",
       "    </tr>\n",
       "    <tr>\n",
       "      <th>4</th>\n",
       "      <td>13.16405</td>\n",
       "      <td>3.301591e+00</td>\n",
       "      <td>4.256965</td>\n",
       "      <td>1</td>\n",
       "      <td>12.396962</td>\n",
       "      <td>1.763293e+00</td>\n",
       "      <td>4</td>\n",
       "    </tr>\n",
       "  </tbody>\n",
       "</table>\n",
       "</div>"
      ],
      "text/plain": [
       "      perimeter             z         x  is_alive       area             y  \\\n",
       "cell                                                                         \n",
       "0       0.00000 -8.437398e+00  4.256965         0  12.000000  1.763293e+00   \n",
       "1      13.16405 -6.603181e+00  4.607705         1  12.396962  5.921189e-16   \n",
       "2      13.16405 -3.301591e+00  4.256965         1  12.396962  1.763293e+00   \n",
       "3      13.16405 -1.480297e-16  4.607705         1  12.396962  5.921189e-16   \n",
       "4      13.16405  3.301591e+00  4.256965         1  12.396962  1.763293e+00   \n",
       "\n",
       "      old_idx  \n",
       "cell           \n",
       "0           0  \n",
       "1           1  \n",
       "2           2  \n",
       "3           3  \n",
       "4           4  "
      ]
     },
     "execution_count": 6,
     "metadata": {},
     "output_type": "execute_result"
    }
   ],
   "source": [
    "eptm.cell_df.head()"
   ]
  },
  {
   "cell_type": "markdown",
   "metadata": {},
   "source": [
    "we define the adimentional contractility $\\bar\\Gamma = \\Gamma/K_vA_0h_0^2$ and line tension\n",
    "$\\bar\\Lambda = \\Lambda /K_v (A_0^{3/2}h_0^2)$, where $h_0$ is such that $V_0 = A_0h_0$.\n"
   ]
  },
  {
   "cell_type": "code",
   "execution_count": 7,
   "metadata": {
    "collapsed": true
   },
   "outputs": [],
   "source": [
    "parameters = {'contractility': 0.04,\n",
    "              'line_tension': 0.12,\n",
    "              'prefered_area':10.,\n",
    "              'prefered_height':24.,\n",
    "              'vol_elasticity':1.,\n",
    "              'rho_lumen':4.}\n",
    "with open('default_params.json', 'w') as param_json:\n",
    "    json.dump(parameters, param_json)\n",
    "\n",
    "def dimentionalize(parameters):\n",
    "    dim_params = parameters.copy()\n",
    "    Kv = parameters['vol_elasticity']\n",
    "    A0 = parameters['prefered_area']\n",
    "    h0 = parameters['prefered_height']\n",
    "    \n",
    "    dim_params['contractility'] = parameters['contractility'] * (Kv * A0 * h0**2)\n",
    "    dim_params['line_tension'] = parameters['line_tension'] * (Kv * A0**1.5 * h0**2)\n",
    "    dim_params['prefered_vol'] = A0 * h0\n",
    "    return dim_params\n",
    "adim_parameters = parameters.copy()\n",
    "parameters = dimentionalize(parameters)\n",
    "\n"
   ]
  },
  {
   "cell_type": "code",
   "execution_count": 8,
   "metadata": {
    "collapsed": true
   },
   "outputs": [],
   "source": [
    "for key in ['vol_elasticity', 'prefered_area', 'prefered_vol',\n",
    "            'prefered_height', 'contractility']:\n",
    "    eptm.cell_df[key] = parameters[key]\n",
    "\n",
    "eptm.je_df['line_tension'] = parameters['line_tension']\n"
   ]
  },
  {
   "cell_type": "code",
   "execution_count": 9,
   "metadata": {
    "collapsed": false
   },
   "outputs": [],
   "source": [
    "from tyssue.geometry import sheet_geometry"
   ]
  },
  {
   "cell_type": "code",
   "execution_count": 10,
   "metadata": {
    "collapsed": false
   },
   "outputs": [],
   "source": [
    "ncoords = ['nx', 'ny', 'nz']\n",
    "for nc in ncoords:\n",
    "    eptm.je_df[nc] = 0\n",
    "sheet_geometry.update_all(eptm)"
   ]
  },
  {
   "cell_type": "code",
   "execution_count": 11,
   "metadata": {
    "collapsed": false
   },
   "outputs": [
    {
     "data": {
      "text/html": [
       "<div>\n",
       "<table border=\"1\" class=\"dataframe\">\n",
       "  <thead>\n",
       "    <tr style=\"text-align: right;\">\n",
       "      <th></th>\n",
       "      <th></th>\n",
       "      <th></th>\n",
       "      <th>dy</th>\n",
       "      <th>dx</th>\n",
       "      <th>dz</th>\n",
       "      <th>length</th>\n",
       "      <th>old_jv0</th>\n",
       "      <th>old_jv1</th>\n",
       "      <th>old_cell</th>\n",
       "      <th>line_tension</th>\n",
       "      <th>nx</th>\n",
       "      <th>ny</th>\n",
       "      <th>nz</th>\n",
       "      <th>sub_area</th>\n",
       "    </tr>\n",
       "    <tr>\n",
       "      <th>srce</th>\n",
       "      <th>trgt</th>\n",
       "      <th>cell</th>\n",
       "      <th></th>\n",
       "      <th></th>\n",
       "      <th></th>\n",
       "      <th></th>\n",
       "      <th></th>\n",
       "      <th></th>\n",
       "      <th></th>\n",
       "      <th></th>\n",
       "      <th></th>\n",
       "      <th></th>\n",
       "      <th></th>\n",
       "      <th></th>\n",
       "    </tr>\n",
       "  </thead>\n",
       "  <tbody>\n",
       "    <tr>\n",
       "      <th>1</th>\n",
       "      <th>0</th>\n",
       "      <th>0</th>\n",
       "      <td>-1.857558</td>\n",
       "      <td>0.369491</td>\n",
       "      <td>-1.10053</td>\n",
       "      <td>2.190482</td>\n",
       "      <td>56</td>\n",
       "      <td>57</td>\n",
       "      <td>0</td>\n",
       "      <td>2185.766319</td>\n",
       "      <td>1.888686</td>\n",
       "      <td>7.823193e-01</td>\n",
       "      <td>-6.863514e-01</td>\n",
       "      <td>1.078220e+00</td>\n",
       "    </tr>\n",
       "    <tr>\n",
       "      <th>2</th>\n",
       "      <th>1</th>\n",
       "      <th>0</th>\n",
       "      <td>-1.574762</td>\n",
       "      <td>1.052222</td>\n",
       "      <td>1.10053</td>\n",
       "      <td>2.190482</td>\n",
       "      <td>57</td>\n",
       "      <td>58</td>\n",
       "      <td>0</td>\n",
       "      <td>2185.766319</td>\n",
       "      <td>0.000000</td>\n",
       "      <td>-2.220446e-16</td>\n",
       "      <td>-3.330669e-16</td>\n",
       "      <td>2.001483e-16</td>\n",
       "    </tr>\n",
       "    <tr>\n",
       "      <th>0</th>\n",
       "      <th>1</th>\n",
       "      <th>1</th>\n",
       "      <td>1.857558</td>\n",
       "      <td>-0.369491</td>\n",
       "      <td>1.10053</td>\n",
       "      <td>2.190482</td>\n",
       "      <td>56</td>\n",
       "      <td>57</td>\n",
       "      <td>1</td>\n",
       "      <td>2185.766319</td>\n",
       "      <td>4.088597</td>\n",
       "      <td>5.421817e-01</td>\n",
       "      <td>4.575676e-01</td>\n",
       "      <td>2.074847e+00</td>\n",
       "    </tr>\n",
       "    <tr>\n",
       "      <th>3</th>\n",
       "      <th>0</th>\n",
       "      <th>1</th>\n",
       "      <td>1.857558</td>\n",
       "      <td>0.369491</td>\n",
       "      <td>-1.10053</td>\n",
       "      <td>2.190482</td>\n",
       "      <td>56</td>\n",
       "      <td>59</td>\n",
       "      <td>1</td>\n",
       "      <td>2185.766319</td>\n",
       "      <td>4.088597</td>\n",
       "      <td>-5.421817e-01</td>\n",
       "      <td>4.575676e-01</td>\n",
       "      <td>2.074847e+00</td>\n",
       "    </tr>\n",
       "    <tr>\n",
       "      <th>1</th>\n",
       "      <th>6</th>\n",
       "      <th>1</th>\n",
       "      <td>0.000000</td>\n",
       "      <td>0.000000</td>\n",
       "      <td>2.20106</td>\n",
       "      <td>2.201060</td>\n",
       "      <td>57</td>\n",
       "      <td>62</td>\n",
       "      <td>1</td>\n",
       "      <td>2185.766319</td>\n",
       "      <td>4.088597</td>\n",
       "      <td>2.710909e-01</td>\n",
       "      <td>0.000000e+00</td>\n",
       "      <td>2.048787e+00</td>\n",
       "    </tr>\n",
       "  </tbody>\n",
       "</table>\n",
       "</div>"
      ],
      "text/plain": [
       "                      dy        dx       dz    length  old_jv0  old_jv1  \\\n",
       "srce trgt cell                                                            \n",
       "1    0    0    -1.857558  0.369491 -1.10053  2.190482       56       57   \n",
       "2    1    0    -1.574762  1.052222  1.10053  2.190482       57       58   \n",
       "0    1    1     1.857558 -0.369491  1.10053  2.190482       56       57   \n",
       "3    0    1     1.857558  0.369491 -1.10053  2.190482       56       59   \n",
       "1    6    1     0.000000  0.000000  2.20106  2.201060       57       62   \n",
       "\n",
       "                old_cell  line_tension        nx            ny            nz  \\\n",
       "srce trgt cell                                                                 \n",
       "1    0    0            0   2185.766319  1.888686  7.823193e-01 -6.863514e-01   \n",
       "2    1    0            0   2185.766319  0.000000 -2.220446e-16 -3.330669e-16   \n",
       "0    1    1            1   2185.766319  4.088597  5.421817e-01  4.575676e-01   \n",
       "3    0    1            1   2185.766319  4.088597 -5.421817e-01  4.575676e-01   \n",
       "1    6    1            1   2185.766319  4.088597  2.710909e-01  0.000000e+00   \n",
       "\n",
       "                    sub_area  \n",
       "srce trgt cell                \n",
       "1    0    0     1.078220e+00  \n",
       "2    1    0     2.001483e-16  \n",
       "0    1    1     2.074847e+00  \n",
       "3    0    1     2.074847e+00  \n",
       "1    6    1     2.048787e+00  "
      ]
     },
     "execution_count": 11,
     "metadata": {},
     "output_type": "execute_result"
    }
   ],
   "source": [
    "eptm.je_df.head()\n"
   ]
  },
  {
   "cell_type": "code",
   "execution_count": 12,
   "metadata": {
    "collapsed": false
   },
   "outputs": [
    {
     "data": {
      "text/plain": [
       "2531418.9252106044"
      ]
     },
     "execution_count": 12,
     "metadata": {},
     "output_type": "execute_result"
    }
   ],
   "source": [
    "def update_vol(eptm):\n",
    "    eptm.cell_df['height'] = np.hypot(eptm.cell_df['y'],\n",
    "                                      eptm.cell_df['x']) - parameters['rho_lumen']\n",
    "    eptm.cell_df['vol'] = eptm.cell_df['height'] * eptm.cell_df['area']\n",
    "\n",
    "update_vol(eptm)\n",
    "\n",
    "def update_cylindrical(eptm):\n",
    "    \n",
    "    eptm.jv_df['rho'] = np.hypot(eptm.jv_df['y'],\n",
    "                                 eptm.jv_df['x'])\n",
    "    eptm.jv_df['theta'] = np.arctan2(eptm.jv_df['y'],\n",
    "                                     eptm.jv_df['x'])\n",
    "    eptm.cell_df['rho'] = np.hypot(eptm.cell_df['y'],\n",
    "                                   eptm.cell_df['x'])\n",
    "    eptm.cell_df['theta'] = np.arctan2(eptm.cell_df['y'],\n",
    "                                       eptm.cell_df['x'])\n",
    "\n",
    "update_cylindrical(eptm)\n",
    "    \n",
    "    \n",
    "def compute_energy(eptm, full_output=False):\n",
    "    live_cell_idx = (eptm.cell_df.is_alive==1).index\n",
    "    live_cells = eptm.cell_df.loc[live_cell_idx]\n",
    "    E_t = eptm.je_df['line_tension'] * eptm.je_df['length'] / 2\n",
    "    E_v =  0.5 * (live_cells['vol_elasticity'] *\n",
    "                  (live_cells['vol'] -\n",
    "                   live_cells['prefered_vol'])**2\n",
    "                  ) * live_cells['is_alive']\n",
    "    E_c = 0.5 * (live_cells['contractility']\n",
    "                 * live_cells['perimeter']**2\n",
    "                 ) * live_cells['is_alive']\n",
    "    if full_output:\n",
    "        return E_t, E_c, E_v\n",
    "    else:\n",
    "        return E_t.sum() + (E_c+E_v).sum()\n",
    "\n",
    "compute_energy(eptm, full_output=False)"
   ]
  },
  {
   "cell_type": "code",
   "execution_count": 13,
   "metadata": {
    "collapsed": true
   },
   "outputs": [],
   "source": [
    "eptm.coords = ['x', 'y', 'z']\n",
    "\n",
    "eptm.dcoords = ['dx', 'dy', 'dz']\n",
    "eptm.normal_coords = ['nx', 'ny', 'nz']\n",
    "eptm.cell_df['num_sides'] = np.bincount(eptm.e_cell_idx.get_level_values('cell'))"
   ]
  },
  {
   "cell_type": "code",
   "execution_count": 26,
   "metadata": {
    "collapsed": false
   },
   "outputs": [],
   "source": [
    "vol_elasticity0 = parameters['vol_elasticity']\n",
    "prefered_area = parameters[\"prefered_area\"]\n",
    "height = parameters[\"prefered_height\"]\n",
    "prefered_vol = prefered_area * height\n",
    "eptm.norm_factor = vol_elasticity0 * prefered_vol**2\n",
    "\n",
    "\n",
    "def _to_3d(df):\n",
    "\n",
    "    df_3d = np.asarray(df).repeat(3).reshape((df.size, 3))\n",
    "    return df_3d\n",
    "\n",
    "def compute_gradient(eptm, components=False):\n",
    "    '''\n",
    "    If components is True, returns the individual terms\n",
    "    (grad_t, grad_c, grad_v)\n",
    "    '''\n",
    "    \n",
    "    eptm.grad_i_lij = - (eptm.je_df[eptm.dcoords]\n",
    "                         / _to_3d(eptm.je_df['length']))\n",
    "\n",
    "    eptm.grad_i_lij.columns = eptm.coords\n",
    "    grad_t = tension_grad(eptm)\n",
    "    grad_c = contractile_grad(eptm)\n",
    "    grad_v = volume_grad(eptm)\n",
    "\n",
    "    grad_i = grad_t + grad_c + grad_v\n",
    "    if components:\n",
    "        return grad_i, grad_t, grad_c, grad_v\n",
    "    return grad_i\n",
    "\n",
    "\n",
    "def tension_grad(eptm):\n",
    "\n",
    "    _grad_t = eptm.grad_i_lij * _to_3d(eptm.je_df['line_tension'])\n",
    "    grad_t = _grad_t.sum(level='srce').loc[eptm.jv_idx]\n",
    "\n",
    "    return grad_t\n",
    "\n",
    "\n",
    "def contractile_grad(eptm):\n",
    "\n",
    "    contract = eptm.cell_df['contractility']\n",
    "    perimeter = eptm.cell_df['perimeter']\n",
    "\n",
    "    gamma_L = contract * perimeter\n",
    "    gamma_L = eptm.upcast_cell(gamma_L)\n",
    "\n",
    "    _grad_c = eptm.grad_i_lij * _to_3d(gamma_L)\n",
    "    grad_c = _grad_c.sum(level='srce').loc[eptm.jv_idx]\n",
    "\n",
    "    return grad_c\n",
    "\n",
    "\n",
    "def volume_grad(eptm):\n",
    "    '''\n",
    "    Computes :math:`\\sum_\\alpha\\nabla_i \\left(K (V_\\alpha - V_0)^2\\right)`\n",
    "    '''\n",
    "\n",
    "    elasticity = eptm.cell_df['vol_elasticity']\n",
    "    pref_V = eptm.cell_df['prefered_vol']\n",
    "    V = eptm.cell_df['vol']\n",
    "    KV_V0 = elasticity * (V - pref_V) * eptm.cell_df['is_alive']\n",
    "    tri_KV_V0 = eptm.upcast_cell(KV_V0)\n",
    "\n",
    "    r_ijs = eptm.je_df[eptm.dcoords]\n",
    "    cross_ur = pd.DataFrame(\n",
    "        np.cross(eptm.je_df[eptm.normal_coords], r_ijs),\n",
    "        index=eptm.je_idx, columns=eptm.coords)\n",
    "        \n",
    "\n",
    "    h_nu = eptm.cell_df['height'] / (2 * eptm.cell_df['num_sides'])\n",
    "\n",
    "    grad_i_V_cell = cross_ur.groupby(level='cell').sum() * _to_3d(KV_V0 * h_nu)\n",
    "\n",
    "    cell_term = eptm.upcast_cell(grad_i_V_cell)\n",
    "    \n",
    "    grad_v = cell_term.groupby(level='srce').sum()\n",
    "    \n",
    "    r_to_rho = eptm.jv_df[eptm.coords] / _to_3d(eptm.jv_df['rho'])\n",
    "    r_to_rho = eptm.upcast_srce(df=r_to_rho)\n",
    "    r_to_rho.columns = eptm.coords\n",
    "    \n",
    "    r_aj = (eptm.upcast_trgt(eptm.jv_df[eptm.coords]) -\n",
    "            eptm.upcast_cell(eptm.cell_df[eptm.coords]))\n",
    "    r_aj.columns = eptm.coords\n",
    "    \n",
    "    normals = eptm.je_df[eptm.normal_coords]\n",
    "    cross_aj = pd.DataFrame(np.cross(r_aj, normals),\n",
    "                            columns=eptm.coords, index=eptm.je_idx)\n",
    "\n",
    "    tri_height = eptm.upcast_cell(eptm.cell_df['height'])\n",
    "\n",
    "    sub_area = eptm.je_df['sub_area']\n",
    "\n",
    "    ij_term = _to_3d(tri_KV_V0) * (_to_3d(sub_area / 2) * r_to_rho +\n",
    "                                    _to_3d(tri_height / 2) * cross_aj)\n",
    "    ij_term = pd.DataFrame(ij_term, index=eptm.je_idx, columns=eptm.coords)\n",
    "    grad_v = grad_v + ij_term.groupby(level='srce').sum()\n",
    "    grad_v = grad_v\n",
    "    return grad_v.loc[eptm.jv_idx]\n"
   ]
  },
  {
   "cell_type": "code",
   "execution_count": 27,
   "metadata": {
    "collapsed": false
   },
   "outputs": [],
   "source": [
    "isotropic_relax(eptm)\n"
   ]
  },
  {
   "cell_type": "code",
   "execution_count": 28,
   "metadata": {
    "collapsed": true
   },
   "outputs": [],
   "source": [
    "def set_pos(pos, pos_idx, eptm, coords=['x', 'y', 'z']):\n",
    "    \n",
    "    pos = pos.reshape((pos.size//3, 3))\n",
    "    eptm.jv_df.loc[pos_idx, eptm.coords] = pos\n",
    "\n",
    "def opt_energy(pos, pos_idx, eptm):\n",
    "    \n",
    "    set_pos(pos, pos_idx, eptm)\n",
    "    sheet_geometry.update_all(eptm)\n",
    "    update_vol(eptm)\n",
    "    return compute_energy(eptm, full_output=False)\n",
    "\n",
    "def opt_grad(pos, pos_idx, eptm):\n",
    "    grad_i = compute_gradient(eptm, components=False)\n",
    "    return grad_i.values.flatten()\n",
    "\n",
    "def approx_grad(eptm, coords=['x', 'y', 'z']):\n",
    "    pos0 = eptm.jv_df[coords].values.flatten()\n",
    "    pos_idx = eptm.jv_idx\n",
    "    grad = optimize.approx_fprime(pos0,\n",
    "                                  opt_energy,\n",
    "                                  1e-9, pos_idx, eptm)\n",
    "    return grad\n",
    "\n",
    "    \n",
    "def check_local_grad(eptm, coords=['x', 'y', 'z']):\n",
    "    \n",
    "    pos0 = eptm.jv_df[coords].values.flatten()\n",
    "    pos_idx = eptm.jv_idx\n",
    "    grad_err = optimize.check_grad(opt_energy,\n",
    "                                   opt_grad,\n",
    "                                   pos0.flatten(),\n",
    "                                   pos_idx,\n",
    "                                   eptm)\n",
    "    return grad_err"
   ]
  },
  {
   "cell_type": "code",
   "execution_count": 29,
   "metadata": {
    "collapsed": false
   },
   "outputs": [
    {
     "data": {
      "text/plain": [
       "0.27346212932567654"
      ]
     },
     "execution_count": 29,
     "metadata": {},
     "output_type": "execute_result"
    }
   ],
   "source": [
    "#eptm.je_df['line_tension'] = parameters['line_tension']\n",
    "#eptm.cell_df['contractility'] = parameters['contractility']\n",
    "#eptm.cell_df['vol_elasticity'] = parameters['vol_elasticity']\n",
    "\n",
    "\n",
    "grad_err = check_local_grad(eptm)\n",
    "grad_err / eptm.norm_factor"
   ]
  },
  {
   "cell_type": "code",
   "execution_count": 16,
   "metadata": {
    "collapsed": false,
    "scrolled": true
   },
   "outputs": [],
   "source": [
    "grad_i, grad_t, grad_c, grad_v = compute_gradient(eptm, components=True)"
   ]
  },
  {
   "cell_type": "code",
   "execution_count": 17,
   "metadata": {
    "collapsed": false
   },
   "outputs": [
    {
     "data": {
      "text/html": [
       "<div>\n",
       "<table border=\"1\" class=\"dataframe\">\n",
       "  <thead>\n",
       "    <tr style=\"text-align: right;\">\n",
       "      <th></th>\n",
       "      <th>x</th>\n",
       "      <th>y</th>\n",
       "      <th>z</th>\n",
       "    </tr>\n",
       "    <tr>\n",
       "      <th>jv</th>\n",
       "      <th></th>\n",
       "      <th></th>\n",
       "      <th></th>\n",
       "    </tr>\n",
       "  </thead>\n",
       "  <tbody>\n",
       "    <tr>\n",
       "      <th>0</th>\n",
       "      <td>1079.849283</td>\n",
       "      <td>-1465.909252</td>\n",
       "      <td>-3162.289858</td>\n",
       "    </tr>\n",
       "    <tr>\n",
       "      <th>1</th>\n",
       "      <td>873.994179</td>\n",
       "      <td>-1081.815587</td>\n",
       "      <td>90.235431</td>\n",
       "    </tr>\n",
       "    <tr>\n",
       "      <th>2</th>\n",
       "      <td>1800.123123</td>\n",
       "      <td>-272.985622</td>\n",
       "      <td>-3162.289858</td>\n",
       "    </tr>\n",
       "    <tr>\n",
       "      <th>3</th>\n",
       "      <td>-146.951926</td>\n",
       "      <td>-1382.966348</td>\n",
       "      <td>90.235431</td>\n",
       "    </tr>\n",
       "    <tr>\n",
       "      <th>4</th>\n",
       "      <td>609.433795</td>\n",
       "      <td>-264.705875</td>\n",
       "      <td>784.463679</td>\n",
       "    </tr>\n",
       "  </tbody>\n",
       "</table>\n",
       "</div>"
      ],
      "text/plain": [
       "              x            y            z\n",
       "jv                                       \n",
       "0   1079.849283 -1465.909252 -3162.289858\n",
       "1    873.994179 -1081.815587    90.235431\n",
       "2   1800.123123  -272.985622 -3162.289858\n",
       "3   -146.951926 -1382.966348    90.235431\n",
       "4    609.433795  -264.705875   784.463679"
      ]
     },
     "execution_count": 17,
     "metadata": {},
     "output_type": "execute_result"
    }
   ],
   "source": [
    "grad_i.head()"
   ]
  },
  {
   "cell_type": "code",
   "execution_count": 18,
   "metadata": {
    "collapsed": true
   },
   "outputs": [],
   "source": []
  },
  {
   "cell_type": "code",
   "execution_count": 22,
   "metadata": {
    "collapsed": true
   },
   "outputs": [],
   "source": [
    "mu = 6 * np.sqrt(2. / (3 * np.sqrt(3)))\n",
    "\n",
    "def scale(eptm, delta):\n",
    "    eptm.jv_df[eptm.coords] = eptm.jv_df[eptm.coords] * delta\n",
    "    parameters['rho_lumen'] *= delta\n",
    "\n",
    "def isotropic_energy(adim_parameters, delta):\n",
    "    \"\"\"\n",
    "    Computes the theoritical energy per cell for the given\n",
    "    parameters.\n",
    "    \"\"\"\n",
    "    lbda = adim_parameters['line_tension']\n",
    "    gamma = adim_parameters['contractility']\n",
    "\n",
    "    elasticity = (delta**3 - 1 )**2 / 2.\n",
    "    contractility = gamma * mu**2 * delta**2 / 2.\n",
    "    tension = lbda * mu * delta / 2.\n",
    "    energy = elasticity + contractility + tension\n",
    "    return energy\n",
    "\n",
    "def isotropic_grad_poly(adim_parameters):\n",
    "\n",
    "    lbda = adim_parameters['line_tension']\n",
    "    gamma = adim_parameters['contractility']\n",
    "    grad_poly = [3, 0, 0,\n",
    "                 -3,\n",
    "                 mu**2 * gamma,\n",
    "                 mu * lbda / 2.]\n",
    "    return grad_poly\n",
    "\n",
    "def isotropic_grad(adim_parameters, delta):\n",
    "    grad_poly = isotropic_grad_poly(adim_parameters)\n",
    "    return np.polyval(grad_poly, delta)\n",
    "\n",
    "def find_grad_roots(adim_parameters):\n",
    "    \n",
    "    p = isotropic_grad_poly(adim_parameters)\n",
    "    roots = np.roots(p)\n",
    "    good_roots = np.real([r for r in roots if np.abs(r) == r])\n",
    "    np.sort(good_roots)\n",
    "    if len(good_roots) == 1:\n",
    "        return good_roots\n",
    "    elif len(good_roots) > 1:\n",
    "        return good_roots[0]\n",
    "    else:\n",
    "        return np.nan\n",
    "\n",
    "def isotropic_relax(eptm):\n",
    "\n",
    "    update_cylindrical(eptm)\n",
    "    area0 = parameters['prefered_area']\n",
    "    h_0 = parameters['prefered_height']\n",
    "\n",
    "    live_cell_idx = (eptm.cell_df.is_alive==1).index\n",
    "    live_cells = eptm.cell_df.loc[live_cell_idx]\n",
    "    \n",
    "    area_avg = live_cells.area.mean()\n",
    "    rho_avg = live_cells.rho.mean()\n",
    "\n",
    "\n",
    "    ### Set height and area to height0 and area0\n",
    "    delta = (area0 / area_avg)**0.5\n",
    "    scale(eptm, delta)\n",
    "    parameters['rho_lumen'] = rho_avg * delta - h_0\n",
    "    sheet_geometry.update_all(eptm)\n",
    "    update_vol(eptm)\n",
    "    \n",
    "    ### Optimal value for delta\n",
    "    delta_o = find_grad_roots(adim_parameters)\n",
    "    if not np.isfinite(delta_o):\n",
    "        raise ValueError('invalid parameters values')\n",
    "    eptm.delta_o = delta_o\n",
    "    ### Scaling\n",
    "\n",
    "    scale(eptm, delta_o)\n",
    "    sheet_geometry.update_all(eptm)\n",
    "    update_vol(eptm)\n",
    "\n"
   ]
  },
  {
   "cell_type": "code",
   "execution_count": 23,
   "metadata": {
    "collapsed": false
   },
   "outputs": [],
   "source": [
    "isotropic_relax(eptm)"
   ]
  },
  {
   "cell_type": "code",
   "execution_count": 24,
   "metadata": {
    "collapsed": false
   },
   "outputs": [],
   "source": [
    "grad_i, grad_t, grad_c, grad_v = compute_gradient(eptm, components=True)"
   ]
  },
  {
   "cell_type": "code",
   "execution_count": 25,
   "metadata": {
    "collapsed": false
   },
   "outputs": [
    {
     "ename": "AttributeError",
     "evalue": "'Epithelium' object has no attribute 'norm_factor'",
     "output_type": "error",
     "traceback": [
      "\u001b[1;31m---------------------------------------------------------------------------\u001b[0m",
      "\u001b[1;31mAttributeError\u001b[0m                            Traceback (most recent call last)",
      "\u001b[1;32m<ipython-input-25-d1fe4cc060db>\u001b[0m in \u001b[0;36m<module>\u001b[1;34m()\u001b[0m\n\u001b[1;32m----> 1\u001b[1;33m \u001b[0mgrad_i\u001b[0m\u001b[1;33m.\u001b[0m\u001b[0mhead\u001b[0m\u001b[1;33m(\u001b[0m\u001b[1;33m)\u001b[0m \u001b[1;33m/\u001b[0m \u001b[0meptm\u001b[0m\u001b[1;33m.\u001b[0m\u001b[0mnorm_factor\u001b[0m\u001b[1;33m\u001b[0m\u001b[0m\n\u001b[0m",
      "\u001b[1;31mAttributeError\u001b[0m: 'Epithelium' object has no attribute 'norm_factor'"
     ]
    }
   ],
   "source": [
    "grad_i.head() / eptm.norm_factor"
   ]
  },
  {
   "cell_type": "code",
   "execution_count": 23,
   "metadata": {
    "collapsed": true
   },
   "outputs": [],
   "source": [
    "def elasticity(delta):\n",
    "    return (delta**3 - 1 )**2 / 2.\n",
    "\n",
    "def contractility(delta, gamma):\n",
    "    return gamma * mu**2 * delta**2 / 2.\n",
    "\n",
    "def tension(delta, lbda):\n",
    "    return lbda * mu * delta / 2.\n",
    "\n",
    "def isotropic_energy(delta, gamma, lbda):\n",
    "    \n",
    "    energy = (elasticity(delta)\n",
    "              + contractility(delta, gamma)\n",
    "              + tension(delta, lbda))\n",
    "    return energy"
   ]
  },
  {
   "cell_type": "code",
   "execution_count": 24,
   "metadata": {
    "collapsed": false
   },
   "outputs": [],
   "source": [
    "live_cell_idx = (cell_df.is_alive==1).index"
   ]
  },
  {
   "cell_type": "code",
   "execution_count": 25,
   "metadata": {
    "collapsed": false
   },
   "outputs": [
    {
     "name": "stdout",
     "output_type": "stream",
     "text": [
      "0.886592687387 0.783934586743\n"
     ]
    },
    {
     "data": {
      "image/png": "[encoded data removed]",
      "text/plain": [
       "<matplotlib.figure.Figure at 0x7f3ca9ecd240>"
      ]
     },
     "metadata": {},
     "output_type": "display_data"
    }
   ],
   "source": [
    "%matplotlib inline\n",
    "deltas = np.linspace(0.2, 1.2, 20)\n",
    "fig, ax = plt.subplots(figsize=(5, 8))\n",
    "lbda = adim_parameters['line_tension']\n",
    "gamma = adim_parameters['contractility']\n",
    "ax.plot(deltas, isotropic_energy(deltas, gamma, lbda), 'k-',\n",
    "        label='Analytical total')\n",
    "ax.plot(eptm.delta_o, isotropic_energy(eptm.delta_o, gamma, lbda), 'ro')\n",
    "ax.plot(deltas, elasticity(deltas), 'b-',\n",
    "        label='Analytical volume elasticity')\n",
    "ax.plot(deltas, contractility(deltas, gamma), color='orange', ls='-',\n",
    "        label='Analytical contractility')\n",
    "ax.plot(deltas, tension(deltas, lbda), 'g-',\n",
    "        label='Analytical line tension')\n",
    "\n",
    "ax.set_xlabel(r'Isotropic scaling $\\delta$')\n",
    "ax.set_ylabel(r'Isotropic energie $\\bar E$')\n",
    "\n",
    "update_cylindrical(eptm)\n",
    "\n",
    "area0 = parameters['prefered_area']\n",
    "h_0 = parameters['prefered_height']\n",
    "\n",
    "\n",
    "### Cells only area and height\n",
    "live_cells = eptm.cell_df[eptm.cell_df.is_alive==1]\n",
    "\n",
    "area_avg = live_cells.area.mean()\n",
    "rho_avg = live_cells.rho.mean()\n",
    "\n",
    "\n",
    "### Set height and area to height0 and area0\n",
    "delta = (area0 / area_avg)**0.5\n",
    "scale(eptm, delta)\n",
    "parameters['rho_lumen'] = rho_avg * delta - h_0\n",
    "sheet_geometry.update_all(eptm)\n",
    "update_vol(eptm)\n",
    "\n",
    "\n",
    "\n",
    "energy = compute_energy(eptm)\n",
    "\n",
    "norm = (parameters['prefered_area']**2 *\n",
    "        parameters['prefered_height']**2 *\n",
    "        parameters['vol_elasticity'] *\n",
    "        eptm.cell_df.is_alive).sum()\n",
    "\n",
    "energies = np.zeros((deltas.size, 3))\n",
    "#scales = np.linspace(0.5, 1.2, 20) / eptm.delta_o\n",
    "for n, delta in enumerate(deltas):\n",
    "    scale(eptm, delta)\n",
    "    sheet_geometry.update_all(eptm)\n",
    "    update_vol(eptm)\n",
    "    Et, Ec, Ev = compute_energy(eptm, full_output=True)\n",
    "    energies[n, :] = [Et.sum(), Ec.sum(), Ev.sum()]\n",
    "    scale(eptm, 1 / delta)\n",
    "    sheet_geometry.update_all(eptm)\n",
    "    update_vol(eptm)\n",
    "    \n",
    "isotropic_relax(eptm)\n",
    "\n",
    "\n",
    "energies = np.array(energies) / norm\n",
    "ax.plot(deltas, energies[:, 2], 'bo:', lw=2, alpha=0.8,\n",
    "        label='Computed volume elasticity')\n",
    "ax.plot(deltas, energies[:, 0], 'go:', lw=2, alpha=0.8,\n",
    "        label='Computed line tension')\n",
    "ax.plot(deltas, energies[:, 1], ls=':',\n",
    "        marker='o', color='orange', label='Computed contractility')\n",
    "ax.plot(deltas, energies.sum(axis=1), 'ko:', lw=2, alpha=0.8,\n",
    "        label='Computed total')\n",
    "\n",
    "ax.legend(loc='upper left', fontsize=10)\n",
    "ax.set_ylim(0, 1.2)\n",
    "\n",
    "\n",
    "print(eptm.delta_o, deltas[energies.sum(axis=1).argmin()] * eptm.delta_o)"
   ]
  },
  {
   "cell_type": "code",
   "execution_count": 26,
   "metadata": {
    "collapsed": false
   },
   "outputs": [
    {
     "data": {
      "text/plain": [
       "0.88659268738739017"
      ]
     },
     "execution_count": 26,
     "metadata": {},
     "output_type": "execute_result"
    }
   ],
   "source": [
    "eptm.delta_o"
   ]
  },
  {
   "cell_type": "code",
   "execution_count": 27,
   "metadata": {
    "collapsed": true
   },
   "outputs": [],
   "source": [
    "edge_arrow_style = {'width':0.01,\n",
    "                    'length_includes_head':True,\n",
    "                    'shape':'right',\n",
    "                    'color':'#2b5d0a',\n",
    "                    'alpha':0.8,\n",
    "                    'zorder':1}\n",
    "\n",
    "points_style = {'s':100,\n",
    "                'c':'#000a4b',\n",
    "                'alpha':0.3,\n",
    "                'zorder':2}\n",
    "\n",
    "coords = ['x', 'y']\n",
    "\n",
    "def plt_eptm(eptm, coords, edge_arrow_style, points_style):\n",
    "\n",
    "    fig, ax = plt.subplots()\n",
    "    try:\n",
    "        dcoords = ['d'+c for c in coords]\n",
    "        x, y = coords\n",
    "        dx, dy = dcoords\n",
    "    except (ValueError, TypeError):\n",
    "        raise ValueError('The `coords` argument must be'\n",
    "                         ' a pair of column names')\n",
    "    \n",
    "    ax.scatter(eptm.jv_df[x], eptm.jv_df[y], **points_style)\n",
    "\n",
    "    for e in eptm.je_idx:\n",
    "        s, t, c = e\n",
    "        ax.arrow(eptm.jv_df[x].loc[s], eptm.jv_df[y].loc[s],\n",
    "                 eptm.je_df[dx].loc[e], eptm.je_df[dy].loc[e],\n",
    "                 **edge_arrow_style)\n",
    "\n",
    "    ax.set_aspect('equal')\n",
    "    ax.grid()\n",
    "    return fig, ax\n",
    "    \n",
    "    "
   ]
  },
  {
   "cell_type": "code",
   "execution_count": 28,
   "metadata": {
    "collapsed": false
   },
   "outputs": [
    {
     "data": {
      "image/png": "[encoded data removed]",
      "text/plain": [
       "<matplotlib.figure.Figure at 0x7f3c97895128>"
      ]
     },
     "metadata": {},
     "output_type": "display_data"
    }
   ],
   "source": [
    "fig, ax = plt_eptm(eptm, ['x', 'z'], edge_arrow_style, points_style)"
   ]
  },
  {
   "cell_type": "code",
   "execution_count": 29,
   "metadata": {
    "collapsed": true
   },
   "outputs": [],
   "source": [
    "from scipy import optimize"
   ]
  },
  {
   "cell_type": "code",
   "execution_count": 54,
   "metadata": {
    "collapsed": true
   },
   "outputs": [],
   "source": [
    "app_grad = approx_grad(eptm, coords=['x', 'y', 'z'])"
   ]
  },
  {
   "cell_type": "code",
   "execution_count": 48,
   "metadata": {
    "collapsed": false
   },
   "outputs": [],
   "source": [
    "pos0 = eptm.jv_df[coords].values.flatten()\n",
    "pos_idx = eptm.jv_idx\n",
    "\n",
    "true_grad = opt_grad(pos0, pos_idx, eptm)"
   ]
  },
  {
   "cell_type": "code",
   "execution_count": 49,
   "metadata": {
    "collapsed": false
   },
   "outputs": [
    {
     "data": {
      "text/plain": [
       "(288,)"
      ]
     },
     "execution_count": 49,
     "metadata": {},
     "output_type": "execute_result"
    }
   ],
   "source": [
    "app_grad.shape"
   ]
  },
  {
   "cell_type": "code",
   "execution_count": 50,
   "metadata": {
    "collapsed": false
   },
   "outputs": [
    {
     "data": {
      "text/plain": [
       "(288,)"
      ]
     },
     "execution_count": 50,
     "metadata": {},
     "output_type": "execute_result"
    }
   ],
   "source": [
    "true_grad.shape"
   ]
  },
  {
   "cell_type": "code",
   "execution_count": 51,
   "metadata": {
    "collapsed": false
   },
   "outputs": [
    {
     "data": {
      "text/plain": [
       "1303152.7862183899"
      ]
     },
     "execution_count": 51,
     "metadata": {},
     "output_type": "execute_result"
    }
   ],
   "source": [
    "np.sqrt(np.sum(app_grad - true_grad)**2)"
   ]
  },
  {
   "cell_type": "code",
   "execution_count": 58,
   "metadata": {
    "collapsed": false
   },
   "outputs": [
    {
     "data": {
      "text/plain": [
       "245.13749484731821"
      ]
     },
     "execution_count": 58,
     "metadata": {},
     "output_type": "execute_result"
    }
   ],
   "source": []
  },
  {
   "cell_type": "code",
   "execution_count": 57,
   "metadata": {
    "collapsed": true
   },
   "outputs": [],
   "source": [
    "\n"
   ]
  },
  {
   "cell_type": "code",
   "execution_count": null,
   "metadata": {
    "collapsed": true
   },
   "outputs": [],
   "source": [
    "def plot_gradients(eptm)\n",
    "    grad_i = compute_gradient(eptm, components=False)\n",
    "    v_ixs = np.array([pos0[0::3], - grad_ixs]).T\n",
    "    v_wys = np.array([pos0[1::3], - grad_wys]).T\n",
    "    v_zeds = np.array([pos0[2::3], - grad_zeds]).T\n",
    "    v_sigmas = np.array([sigmas, - grad_sigmas]).T\n",
    "\n",
    "    if axes is None:\n",
    "        ax_zs, ax_xy =  plot_2pannels(eptm, axes=None,\n",
    "                                      **kwargs)\n",
    "        axes = ax_zs, ax_xy\n",
    "    else:\n",
    "        ax_zs, ax_xy = axes\n",
    "    x_lim = ax_zs.get_xlim()\n",
    "\n",
    "    for s, z, x, y in zip(v_sigmas, v_zeds, v_ixs, v_wys):\n",
    "        ax_xy.arrow(x[0], y[0], x[1], y[1], width=0.01,\n",
    "                    ec=ec, fc=fc, alpha=0.5)\n",
    "        ax_zs.arrow(z[0], s[0], z[1], s[1], width=0.01,\n",
    "                    ec=ec, fc=fc, alpha=0.5)"
   ]
  }
 ],
 "metadata": {
  "kernelspec": {
   "display_name": "Python 3",
   "language": "python",
   "name": "python3"
  },
  "language_info": {
   "codemirror_mode": {
    "name": "ipython",
    "version": 3
   },
   "file_extension": ".py",
   "mimetype": "text/x-python",
   "name": "python",
   "nbconvert_exporter": "python",
   "pygments_lexer": "ipython3",
   "version": "3.4.3"
  }
 },
 "nbformat": 4,
 "nbformat_minor": 0
}
