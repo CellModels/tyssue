{
 "cells": [
  {
   "cell_type": "code",
   "execution_count": 1,
   "metadata": {
    "collapsed": false
   },
   "outputs": [
    {
     "name": "stderr",
     "output_type": "stream",
     "text": [
      "/home/guillaume/anaconda/envs/python3/lib/python3.4/site-packages/graph_tool/draw/cairo_draw.py:1340: RuntimeWarning: Error importing Gtk module: No module named 'gi'; GTK+ drawing will not work.\n",
      "  warnings.warn(msg, RuntimeWarning)\n",
      "2015-08-23 19:32:25,279 -leg_joint -INFO -successfully imported leg_joint\n"
     ]
    }
   ],
   "source": [
    "%load_ext autoreload\n",
    "%autoreload 2\n",
    "%matplotlib inline\n",
    "\n",
    "\n",
    "%run nb_init.py\n",
    "# This imports leg_joint as lj\n"
   ]
  },
  {
   "cell_type": "code",
   "execution_count": 2,
   "metadata": {
    "collapsed": false
   },
   "outputs": [
    {
     "name": "stderr",
     "output_type": "stream",
     "text": [
      "2015-08-23 19:32:26,484 -leg_joint.epithelium -INFO -Instanciating epithelium 0\n",
      "2015-08-23 19:32:27,756 -leg_joint.epithelium -INFO -Initial cells\n",
      "2015-08-23 19:32:27,757 -leg_joint.epithelium -INFO -Initial junctions\n",
      "2015-08-23 19:32:34,010 -leg_joint.epithelium -INFO -Update geometry\n"
     ]
    }
   ],
   "source": [
    "lj_eptm = lj.Epithelium(lj.data.before_apoptosis_xml(), save_dir='/tmp')"
   ]
  },
  {
   "cell_type": "code",
   "execution_count": 10,
   "metadata": {
    "collapsed": true
   },
   "outputs": [],
   "source": [
    "import numpy as np\n",
    "import pandas as pd\n",
    "\n",
    "import matplotlib.pylab as plt\n",
    "%matplotlib inline\n",
    "\n",
    "import tyssue as ty\n",
    "from tyssue.core import Epithelium, Cell, JunctionEdge, JunctionVertex\n",
    "from tyssue.core.generation import jv_data, cell_data, je_data\n",
    "from tyssue.geometry import sheet_geometry as geom"
   ]
  },
  {
   "cell_type": "code",
   "execution_count": 18,
   "metadata": {
    "collapsed": false
   },
   "outputs": [
    {
     "name": "stdout",
     "output_type": "stream",
     "text": [
      "****** Vertex ********\n",
      "volume_grad\n",
      "grad_zed\n",
      "grad_radial\n",
      "volume_grad_cell\n",
      "vol_elasticities\n",
      "volume_grad_radial\n",
      "grad_sigma\n",
      "contractile_grad\n",
      "prefered_vol\n",
      "volume_grad_apical\n",
      "wys\n",
      "is_active_vert\n",
      "zeds\n",
      "areas\n",
      "ixs\n",
      "grad_ix\n",
      "is_local_vert\n",
      "vols\n",
      "perimeters\n",
      "rhos\n",
      "ages\n",
      "is_alive\n",
      "radial_tensions\n",
      "grad_wy\n",
      "sigmas\n",
      "elastic_grad\n",
      "contractilities\n",
      "thetas\n",
      "is_cell_vert\n",
      "****** Edge ********\n",
      "u_drhos\n",
      "dixs\n",
      "dthetas\n",
      "drhos\n",
      "dwys\n",
      "u_dixs\n",
      "is_active_edge\n",
      "dzeds\n",
      "u_dzeds\n",
      "u_dwys\n",
      "u_dsigmas\n",
      "edge_lengths\n",
      "is_ctoj_edge\n",
      "line_tensions\n",
      "is_local_edge\n",
      "at_boundary\n",
      "is_new_edge\n",
      "dsigmas\n",
      "is_junction_edge\n"
     ]
    }
   ],
   "source": [
    "graph = lj_eptm.graph\n",
    "print('****** Vertex ********')\n",
    "print(*graph.vertex_properties.keys(), sep='\\n')\n",
    "print('****** Edge ********')\n",
    "\n",
    "print(*graph.edge_properties.keys(), sep='\\n')\n",
    "\n",
    "      "
   ]
  },
  {
   "cell_type": "code",
   "execution_count": 14,
   "metadata": {
    "collapsed": false
   },
   "outputs": [
    {
     "name": "stdout",
     "output_type": "stream",
     "text": [
      "CELLS\n",
      "z\tx\tperimeter\ty\tarea\tis_alive\tnum_sides\n",
      "JV\n",
      "z\tis_active\tx\ty\n",
      "JE\n",
      "nz\tlength\tdx\tdz\tdy\tny\tnx\n"
     ]
    }
   ],
   "source": [
    "print('CELLS')\n",
    "print(*cell_data.keys(), sep='\\t')\n",
    "\n",
    "print('JV')\n",
    "print(*jv_data.keys(), sep='\\t')\n",
    "\n",
    "print('JE')\n",
    "print(*je_data.keys(), sep='\\t')"
   ]
  },
  {
   "cell_type": "code",
   "execution_count": 19,
   "metadata": {
    "collapsed": true
   },
   "outputs": [],
   "source": [
    "jv_import = {'ixs': 'x', 'wys': 'y', 'zeds': 'z',\n",
    "             'is_active_vert': 'is_active'}\n",
    "\n",
    "cell_import = {'ixs': 'x', 'wys': 'y', 'zeds': 'z',\n",
    "               'area': 'area', 'perimeter': 'perimeter',\n",
    "               'is_alive': 'is_alive'}\n",
    "\n",
    "je_import = {'dixs': 'dx', 'dwys': 'dy', 'dzeds': 'dz',\n",
    "             'u_dixs': 'dx', 'u_dwys': 'dy', 'u_dzeds': 'nz',\n",
    "             'edge_lengths': 'length'}"
   ]
  },
  {
   "cell_type": "code",
   "execution_count": 20,
   "metadata": {
    "collapsed": true
   },
   "outputs": [],
   "source": [
    "def get_faces(graph, as_array=True):\n",
    "    '''\n",
    "    Retrieves all the triangular subgraphs of the form\n",
    "       1 -- > 2\n",
    "        ^   ^\n",
    "         \\ /\n",
    "          0\n",
    "    In our context, vertex 0 always corresponds to a cell\n",
    "    and vertices 1 and 2 to junction vertices\n",
    "\n",
    "    Parameters\n",
    "    ----------\n",
    "    graph : a :class:`GraphTool` graph instance\n",
    "    as_array: bool, optional, default `True`\n",
    "      if `True`, the output of `subraph_isomorphism` is converted\n",
    "      to a (N, 3) ndarray.\n",
    "\n",
    "    Returns\n",
    "    -------\n",
    "    triangles:  list of gt.PropertyMaps or (N, 3) ndarray\n",
    "      each line corresponds to a triplet (cell, jv0, jv1)\n",
    "      where cell, jv0 and jv1 are indices of the input graph.\n",
    "    '''\n",
    "    tri_graph = gt.Graph()\n",
    "    ## the vertices\n",
    "    verts = tri_graph.add_vertex(3)\n",
    "    ## edges\n",
    "    tri_graph.add_edge_list([(0, 1), (0, 2), (1, 2)])\n",
    "    _triangles = gt.subgraph_isomorphism(tri_graph, graph)\n",
    "    if not as_array:\n",
    "        return tri_graph, _triangles\n",
    "    triangles = np.array([tri.a for tri in _triangles], dtype=np.int)\n",
    "    return triangles"
   ]
  },
  {
   "cell_type": "code",
   "execution_count": 21,
   "metadata": {
    "collapsed": true
   },
   "outputs": [],
   "source": [
    "triangles = get_faces(graph)"
   ]
  },
  {
   "cell_type": "markdown",
   "metadata": {},
   "source": [
    "The new base triangle is oriented differently, as the edge is splited.\n",
    "\n",
    "We now have:\n",
    "\n",
    "```\n",
    "       1 -- > 2             2 <-- 1  \n",
    "        ^   /                ^   /\n",
    "         \\ v     and          \\ v  \n",
    "          0                    0\n",
    "```\n",
    "\n"
   ]
  },
  {
   "cell_type": "code",
   "execution_count": null,
   "metadata": {
    "collapsed": true
   },
   "outputs": [],
   "source": [
    "graph.set_vertex_filter(lj_eptm.is_cell_vert)\n",
    "graph.vertex_index\n",
    "\n",
    "graph.set_vertex_filter(lj_eptm.is_cell_vert)"
   ]
  }
 ],
 "metadata": {
  "kernelspec": {
   "display_name": "Python 3",
   "language": "python",
   "name": "python3"
  },
  "language_info": {
   "codemirror_mode": {
    "name": "ipython",
    "version": 3
   },
   "file_extension": ".py",
   "mimetype": "text/x-python",
   "name": "python",
   "nbconvert_exporter": "python",
   "pygments_lexer": "ipython3",
   "version": "3.4.3"
  }
 },
 "nbformat": 4,
 "nbformat_minor": 0
}
