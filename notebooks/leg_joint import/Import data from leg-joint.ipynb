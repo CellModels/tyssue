{
 "cells": [
  {
   "cell_type": "code",
   "execution_count": 1,
   "metadata": {
    "collapsed": false
   },
   "outputs": [
    {
     "name": "stderr",
     "output_type": "stream",
     "text": [
      "/home/guillaume/anaconda/envs/tyssue/lib/python3.4/site-packages/graph_tool/draw/cairo_draw.py:1340: RuntimeWarning: Error importing Gtk module: No module named 'gi'; GTK+ drawing will not work.\n",
      "  warnings.warn(msg, RuntimeWarning)\n",
      "2015-12-22 09:31:26,623 -leg_joint -INFO -successfully imported leg_joint\n"
     ]
    }
   ],
   "source": [
    "%load_ext autoreload\n",
    "%autoreload 2\n",
    "%matplotlib inline\n",
    "\n",
    "\n",
    "%run nb_init.py\n",
    "# This imports leg_joint as lj\n"
   ]
  },
  {
   "cell_type": "code",
   "execution_count": 2,
   "metadata": {
    "collapsed": false
   },
   "outputs": [
    {
     "name": "stderr",
     "output_type": "stream",
     "text": [
      "2015-12-22 09:31:28,621 -leg_joint.epithelium -INFO -Instanciating epithelium 0\n",
      "2015-12-22 09:31:29,343 -leg_joint.epithelium -INFO -Initial cells\n",
      "2015-12-22 09:31:29,344 -leg_joint.epithelium -INFO -Initial junctions\n",
      "2015-12-22 09:31:29,593 -leg_joint.epithelium -INFO -Update geometry\n"
     ]
    }
   ],
   "source": [
    "lj_eptm = lj.Epithelium(lj.data.small_xml(), save_dir='/tmp', copy=True)"
   ]
  },
  {
   "cell_type": "code",
   "execution_count": 4,
   "metadata": {
    "collapsed": false
   },
   "outputs": [],
   "source": [
    "import numpy as np\n",
    "import pandas as pd\n",
    "\n",
    "import matplotlib.pylab as plt\n",
    "%matplotlib inline\n",
    "\n",
    "import tyssue as ty\n",
    "from tyssue.core.sheet import Sheet\n",
    "from tyssue.core.generation import data_dicts\n",
    "from tyssue.geometry import sheet_geometry as geom"
   ]
  },
  {
   "cell_type": "code",
   "execution_count": 5,
   "metadata": {
    "collapsed": false
   },
   "outputs": [
    {
     "name": "stdout",
     "output_type": "stream",
     "text": [
      "****** Vertex ********\n",
      "volume_grad_cell\n",
      "perimeters\n",
      "grad_ix\n",
      "thetas\n",
      "sigmas\n",
      "vols\n",
      "ixs\n",
      "zeds\n",
      "is_cell_vert\n",
      "grad_sigma\n",
      "radial_tensions\n",
      "grad_zed\n",
      "volume_grad\n",
      "is_alive\n",
      "is_local_vert\n",
      "rhos\n",
      "contractilities\n",
      "ages\n",
      "grad_wy\n",
      "vol_elasticities\n",
      "contractile_grad\n",
      "volume_grad_apical\n",
      "wys\n",
      "is_active_vert\n",
      "grad_radial\n",
      "prefered_vol\n",
      "elastic_grad\n",
      "volume_grad_radial\n",
      "areas\n",
      "****** Edge ********\n",
      "u_dsigmas\n",
      "dsigmas\n",
      "u_dixs\n",
      "is_junction_edge\n",
      "is_active_edge\n",
      "at_boundary\n",
      "is_local_edge\n",
      "dthetas\n",
      "dzeds\n",
      "line_tensions\n",
      "u_dzeds\n",
      "is_new_edge\n",
      "u_drhos\n",
      "edge_lengths\n",
      "dixs\n",
      "is_ctoj_edge\n",
      "dwys\n",
      "u_dwys\n",
      "drhos\n"
     ]
    }
   ],
   "source": [
    "graph = lj_eptm.graph\n",
    "print('****** Vertex ********')\n",
    "print(*graph.vertex_properties.keys(), sep='\\n')\n",
    "print('****** Edge ********')\n",
    "\n",
    "print(*graph.edge_properties.keys(), sep='\\n')\n",
    "\n",
    "      "
   ]
  },
  {
   "cell_type": "code",
   "execution_count": 6,
   "metadata": {
    "collapsed": false
   },
   "outputs": [
    {
     "name": "stdout",
     "output_type": "stream",
     "text": [
      "CELLS\n",
      "x\tis_alive\ty\tz\tnum_sides\tperimeter\tarea\n",
      "JV\n",
      "x\tz\ty\tis_active\n",
      "JE\n",
      "length\tdz\tsrce\tnx\tface\ttrgt\tdy\tnz\tny\tdx\n"
     ]
    }
   ],
   "source": [
    "print('CELLS')\n",
    "print(*data_dicts['face'].keys(), sep='\\t')\n",
    "\n",
    "print('JV')\n",
    "print(*data_dicts['jv'].keys(), sep='\\t')\n",
    "\n",
    "print('JE')\n",
    "print(*data_dicts['je'].keys(), sep='\\t')"
   ]
  },
  {
   "cell_type": "code",
   "execution_count": 7,
   "metadata": {
    "collapsed": true
   },
   "outputs": [],
   "source": [
    "jv_import = {'ixs': 'x', 'wys': 'y', 'zeds': 'z',\n",
    "             'is_active_vert': 'is_active'}\n",
    "\n",
    "cell_import = {'ixs': 'x', 'wys': 'y', 'zeds': 'z',\n",
    "               'areas': 'area', 'perimeters': 'perimeter',\n",
    "               'is_alive': 'is_alive'}\n",
    "\n",
    "je_import = {'dixs': 'dx', 'dwys': 'dy', 'dzeds': 'dz',\n",
    "             'edge_lengths': 'length'}"
   ]
  },
  {
   "cell_type": "code",
   "execution_count": 8,
   "metadata": {
    "collapsed": true
   },
   "outputs": [],
   "source": [
    "def get_faces(graph, as_array=True):\n",
    "    '''\n",
    "    Retrieves all the triangular subgraphs of the form\n",
    "       1 -- > 2\n",
    "        ^   ^\n",
    "         \\ /\n",
    "          0\n",
    "    In our context, vertex 0 always corresponds to a cell/face\n",
    "    and vertices 1 and 2 to junction vertices\n",
    "\n",
    "    Parameters\n",
    "    ----------\n",
    "    graph : a :class:`GraphTool` graph instance\n",
    "    as_array: bool, optional, default `True`\n",
    "      if `True`, the output of `subraph_isomorphism` is converted\n",
    "      to a (N, 3) ndarray.\n",
    "\n",
    "    Returns\n",
    "    -------\n",
    "    triangles:  list of gt.PropertyMaps or (N, 3) ndarray\n",
    "      each line corresponds to a triplet (cell, jv0, jv1)\n",
    "      where cell, jv0 and jv1 are indices of the input graph.\n",
    "    '''\n",
    "    tri_graph = gt.Graph()\n",
    "    ## the vertices\n",
    "    verts = tri_graph.add_vertex(3)\n",
    "    ## edges\n",
    "    tri_graph.add_edge_list([(0, 1), (0, 2), (1, 2)])\n",
    "    _triangles = gt.subgraph_isomorphism(tri_graph, graph)\n",
    "    if not as_array:\n",
    "        return tri_graph, _triangles\n",
    "    triangles = np.array([tri.a for tri in _triangles], dtype=np.int)\n",
    "    return triangles"
   ]
  },
  {
   "cell_type": "code",
   "execution_count": 9,
   "metadata": {
    "collapsed": true
   },
   "outputs": [],
   "source": [
    "triangles = get_faces(graph)"
   ]
  },
  {
   "cell_type": "markdown",
   "metadata": {},
   "source": [
    "The new base triangle is oriented differently, as the edge is splited.\n",
    "\n",
    "We now have:\n",
    "\n",
    "```\n",
    "       1 -- > 2             2 <-- 1  \n",
    "        ^   /                ^   /\n",
    "         \\ v     and          \\ v  \n",
    "          0                    0\n",
    "```\n",
    "\n"
   ]
  },
  {
   "cell_type": "code",
   "execution_count": 10,
   "metadata": {
    "collapsed": false
   },
   "outputs": [],
   "source": [
    "pos = gt.group_vector_property([lj_eptm.ixs, lj_eptm.wys, lj_eptm.zeds])\n",
    "deltas = gt.group_vector_property([graph.ep['dixs'], graph.ep['dwys'],  graph.ep['dzeds']])\n",
    "\n",
    "oriented = []\n",
    "for (cell, jv0, jv1) in triangles:\n",
    "    \n",
    "    normal = np.cross(deltas[graph.edge(cell, jv0)],\n",
    "                      deltas[graph.edge(cell, jv1)])\n",
    "    orientation = np.sign(np.sum(pos[graph.vertex(cell)] * normal))\n",
    "    if orientation > 0:\n",
    "        oriented.append([jv0, jv1, cell])\n",
    "    else:\n",
    "        oriented.append([jv1, jv0, cell])\n",
    "    \n",
    "    "
   ]
  },
  {
   "cell_type": "code",
   "execution_count": 14,
   "metadata": {
    "collapsed": false
   },
   "outputs": [],
   "source": [
    "graph.set_vertex_filter(lj_eptm.is_cell_vert)\n",
    "cells_idx_in = graph.vertex_index.copy()\n",
    "cells_idx_in = cells_idx_in.fa\n",
    "\n",
    "graph.set_vertex_filter(lj_eptm.is_cell_vert, True)\n",
    "jv_idx_in = graph.vertex_index.copy()\n",
    "jv_idx_in = jv_idx_in.fa\n",
    "graph.set_vertex_filter(None)\n",
    "\n"
   ]
  },
  {
   "cell_type": "code",
   "execution_count": 15,
   "metadata": {
    "collapsed": false
   },
   "outputs": [],
   "source": [
    "face_df = pd.DataFrame(index=pd.Index(range(cells_idx_in.shape[0]), name='face'), \n",
    "                       columns=cell_import.values())\n",
    "face_df['old_idx'] = cells_idx_in\n",
    "\n",
    "for data_in, data_out in cell_import.items():\n",
    "    face_df[data_out] = graph.vp[data_in].a[cells_idx_in]\n",
    "\n",
    "jv_df = pd.DataFrame(index=pd.Index(range(jv_idx_in.shape[0]), name='jv'), \n",
    "                       columns=jv_import.values())\n",
    "jv_df['old_idx'] = jv_idx_in\n",
    "    \n",
    "    \n",
    "for data_in, data_out in jv_import.items():\n",
    "    jv_df[data_out] = graph.vp[data_in].a[jv_idx_in]\n",
    "\n"
   ]
  },
  {
   "cell_type": "code",
   "execution_count": 20,
   "metadata": {
    "collapsed": false
   },
   "outputs": [],
   "source": [
    "re_indexed = []\n",
    "for jv0, jv1, face in oriented:\n",
    "    srce = np.where(jv_df.old_idx==jv0)[0][0]\n",
    "    trgt = np.where(jv_df.old_idx==jv1)[0][0]\n",
    "    r_face = np.where(face_df.old_idx==face)[0][0]\n",
    "    re_indexed.append((srce, trgt, r_face))\n",
    "re_indexed = np.array(re_indexed)"
   ]
  },
  {
   "cell_type": "code",
   "execution_count": 21,
   "metadata": {
    "collapsed": false
   },
   "outputs": [
    {
     "data": {
      "text/plain": [
       "(272, 3)"
      ]
     },
     "execution_count": 21,
     "metadata": {},
     "output_type": "execute_result"
    }
   ],
   "source": [
    "re_indexed.shape"
   ]
  },
  {
   "cell_type": "code",
   "execution_count": 23,
   "metadata": {
    "collapsed": false
   },
   "outputs": [],
   "source": [
    "#je_idx = pd.MultiIndex.from_tuples(re_indexed, names=['srce', 'trgt', 'cell'])\n",
    "je_idx = pd.Index(np.arange(re_indexed.shape[0]), name='je')\n",
    "\n",
    "je_df = pd.DataFrame(index=je_idx, columns=je_import.values())\n",
    "je_df['srce'] = re_indexed[:, 0]\n",
    "je_df['trgt'] = re_indexed[:, 1]\n",
    "je_df['face'] = re_indexed[:, 2]\n",
    "\n",
    "\n",
    "je_df['old_jv0'] = triangles[:, 1]\n",
    "je_df['old_jv1'] = triangles[:, 2]\n",
    "je_df['old_cell'] = triangles[:, 0]\n",
    "\n",
    "\n",
    "eps = gt.group_vector_property([graph.ep[col] for col in je_import.keys()])\n",
    "\n",
    "\n",
    "#for halfedge in je_idx:\n",
    "    \n",
    "#    je_df[[v for v in je_import.values()]].loc[halfedge] = eps[graph.edge(je_df.old_jv0.loc[halfedge],\n",
    "#                                                             je_df.old_jv1.loc[halfedge])]"
   ]
  },
  {
   "cell_type": "code",
   "execution_count": 36,
   "metadata": {
    "collapsed": false
   },
   "outputs": [
    {
     "name": "stdout",
     "output_type": "stream",
     "text": [
      "-1.0\n"
     ]
    }
   ],
   "source": [
    "normal = np.cross(deltas[graph.edge(0, 56)],\n",
    "                  deltas[graph.edge(0, 57)])\n",
    "orientation = np.sign(np.sum(pos[graph.vertex(0)] * normal))\n",
    "print(orientation)"
   ]
  },
  {
   "cell_type": "code",
   "execution_count": 24,
   "metadata": {
    "collapsed": false,
    "scrolled": true
   },
   "outputs": [
    {
     "data": {
      "text/html": [
       "<div>\n",
       "<table border=\"1\" class=\"dataframe\">\n",
       "  <thead>\n",
       "    <tr style=\"text-align: right;\">\n",
       "      <th></th>\n",
       "      <th>dx</th>\n",
       "      <th>dz</th>\n",
       "      <th>dy</th>\n",
       "      <th>length</th>\n",
       "      <th>srce</th>\n",
       "      <th>trgt</th>\n",
       "      <th>face</th>\n",
       "      <th>old_jv0</th>\n",
       "      <th>old_jv1</th>\n",
       "      <th>old_cell</th>\n",
       "    </tr>\n",
       "    <tr>\n",
       "      <th>je</th>\n",
       "      <th></th>\n",
       "      <th></th>\n",
       "      <th></th>\n",
       "      <th></th>\n",
       "      <th></th>\n",
       "      <th></th>\n",
       "      <th></th>\n",
       "      <th></th>\n",
       "      <th></th>\n",
       "      <th></th>\n",
       "    </tr>\n",
       "  </thead>\n",
       "  <tbody>\n",
       "    <tr>\n",
       "      <th>0</th>\n",
       "      <td>NaN</td>\n",
       "      <td>NaN</td>\n",
       "      <td>NaN</td>\n",
       "      <td>NaN</td>\n",
       "      <td>1</td>\n",
       "      <td>0</td>\n",
       "      <td>0</td>\n",
       "      <td>56</td>\n",
       "      <td>57</td>\n",
       "      <td>0</td>\n",
       "    </tr>\n",
       "    <tr>\n",
       "      <th>1</th>\n",
       "      <td>NaN</td>\n",
       "      <td>NaN</td>\n",
       "      <td>NaN</td>\n",
       "      <td>NaN</td>\n",
       "      <td>2</td>\n",
       "      <td>1</td>\n",
       "      <td>0</td>\n",
       "      <td>57</td>\n",
       "      <td>58</td>\n",
       "      <td>0</td>\n",
       "    </tr>\n",
       "    <tr>\n",
       "      <th>2</th>\n",
       "      <td>NaN</td>\n",
       "      <td>NaN</td>\n",
       "      <td>NaN</td>\n",
       "      <td>NaN</td>\n",
       "      <td>0</td>\n",
       "      <td>1</td>\n",
       "      <td>1</td>\n",
       "      <td>56</td>\n",
       "      <td>57</td>\n",
       "      <td>1</td>\n",
       "    </tr>\n",
       "    <tr>\n",
       "      <th>3</th>\n",
       "      <td>NaN</td>\n",
       "      <td>NaN</td>\n",
       "      <td>NaN</td>\n",
       "      <td>NaN</td>\n",
       "      <td>3</td>\n",
       "      <td>0</td>\n",
       "      <td>1</td>\n",
       "      <td>56</td>\n",
       "      <td>59</td>\n",
       "      <td>1</td>\n",
       "    </tr>\n",
       "    <tr>\n",
       "      <th>4</th>\n",
       "      <td>NaN</td>\n",
       "      <td>NaN</td>\n",
       "      <td>NaN</td>\n",
       "      <td>NaN</td>\n",
       "      <td>1</td>\n",
       "      <td>6</td>\n",
       "      <td>1</td>\n",
       "      <td>57</td>\n",
       "      <td>62</td>\n",
       "      <td>1</td>\n",
       "    </tr>\n",
       "  </tbody>\n",
       "</table>\n",
       "</div>"
      ],
      "text/plain": [
       "     dx   dz   dy length  srce  trgt  face  old_jv0  old_jv1  old_cell\n",
       "je                                                                    \n",
       "0   NaN  NaN  NaN    NaN     1     0     0       56       57         0\n",
       "1   NaN  NaN  NaN    NaN     2     1     0       57       58         0\n",
       "2   NaN  NaN  NaN    NaN     0     1     1       56       57         1\n",
       "3   NaN  NaN  NaN    NaN     3     0     1       56       59         1\n",
       "4   NaN  NaN  NaN    NaN     1     6     1       57       62         1"
      ]
     },
     "execution_count": 24,
     "metadata": {},
     "output_type": "execute_result"
    }
   ],
   "source": [
    "je_df.head()\n"
   ]
  },
  {
   "cell_type": "code",
   "execution_count": 26,
   "metadata": {
    "collapsed": false
   },
   "outputs": [],
   "source": [
    "with pd.get_store('small_hexagonal.hf5') as store:\n",
    "    store.put('face_df', face_df, format='t', dropna=False)\n",
    "    store.put('jv_df', jv_df, format='t', dropna=False)\n",
    "    store.put('je_df', je_df, format='t', dropna=False)"
   ]
  },
  {
   "cell_type": "code",
   "execution_count": 39,
   "metadata": {
    "collapsed": true
   },
   "outputs": [],
   "source": [
    "datasets = {'je': je_df, 'jv': jv_df, 'face': face_df}"
   ]
  },
  {
   "cell_type": "code",
   "execution_count": 40,
   "metadata": {
    "collapsed": false
   },
   "outputs": [],
   "source": [
    "sheet = Sheet('imported', datasets, data_dicts)"
   ]
  },
  {
   "cell_type": "code",
   "execution_count": 41,
   "metadata": {
    "collapsed": false
   },
   "outputs": [
    {
     "data": {
      "text/plain": [
       "{'face': {'num_sides': (6, int)},\n",
       " 'je': {'nx': (0.0, float), 'ny': (0.0, float), 'nz': (0.0, float)},\n",
       " 'jv': {'basal_shift': (4.0, float), 'rho': (0.0, float)},\n",
       " 'settings': {'geometry': 'cylindrical', 'height_axis': 'z'}}"
      ]
     },
     "execution_count": 41,
     "metadata": {},
     "output_type": "execute_result"
    }
   ],
   "source": [
    "sheet.set_geom(geom)"
   ]
  },
  {
   "cell_type": "code",
   "execution_count": 42,
   "metadata": {
    "collapsed": true
   },
   "outputs": [],
   "source": [
    "geom.update_all(sheet)"
   ]
  },
  {
   "cell_type": "code",
   "execution_count": 43,
   "metadata": {
    "collapsed": false
   },
   "outputs": [
    {
     "data": {
      "text/html": [
       "<div>\n",
       "<table border=\"1\" class=\"dataframe\">\n",
       "  <thead>\n",
       "    <tr style=\"text-align: right;\">\n",
       "      <th></th>\n",
       "      <th>dx</th>\n",
       "      <th>dz</th>\n",
       "      <th>dy</th>\n",
       "      <th>length</th>\n",
       "      <th>srce</th>\n",
       "      <th>trgt</th>\n",
       "      <th>face</th>\n",
       "      <th>old_jv0</th>\n",
       "      <th>old_jv1</th>\n",
       "      <th>old_cell</th>\n",
       "      <th>ny</th>\n",
       "      <th>nz</th>\n",
       "      <th>nx</th>\n",
       "      <th>sub_area</th>\n",
       "      <th>sub_vol</th>\n",
       "    </tr>\n",
       "    <tr>\n",
       "      <th>je</th>\n",
       "      <th></th>\n",
       "      <th></th>\n",
       "      <th></th>\n",
       "      <th></th>\n",
       "      <th></th>\n",
       "      <th></th>\n",
       "      <th></th>\n",
       "      <th></th>\n",
       "      <th></th>\n",
       "      <th></th>\n",
       "      <th></th>\n",
       "      <th></th>\n",
       "      <th></th>\n",
       "      <th></th>\n",
       "      <th></th>\n",
       "    </tr>\n",
       "  </thead>\n",
       "  <tbody>\n",
       "    <tr>\n",
       "      <th>0</th>\n",
       "      <td>0.369491</td>\n",
       "      <td>-1.10053</td>\n",
       "      <td>-1.857558</td>\n",
       "      <td>2.190482</td>\n",
       "      <td>1</td>\n",
       "      <td>0</td>\n",
       "      <td>0</td>\n",
       "      <td>56</td>\n",
       "      <td>57</td>\n",
       "      <td>0</td>\n",
       "      <td>7.823193e-01</td>\n",
       "      <td>-6.863514e-01</td>\n",
       "      <td>1.888686</td>\n",
       "      <td>1.078220e+00</td>\n",
       "      <td>9.208356e-01</td>\n",
       "    </tr>\n",
       "    <tr>\n",
       "      <th>1</th>\n",
       "      <td>1.052222</td>\n",
       "      <td>1.10053</td>\n",
       "      <td>-1.574762</td>\n",
       "      <td>2.190482</td>\n",
       "      <td>2</td>\n",
       "      <td>1</td>\n",
       "      <td>0</td>\n",
       "      <td>57</td>\n",
       "      <td>58</td>\n",
       "      <td>0</td>\n",
       "      <td>-2.220446e-16</td>\n",
       "      <td>-3.330669e-16</td>\n",
       "      <td>0.000000</td>\n",
       "      <td>2.001483e-16</td>\n",
       "      <td>1.709332e-16</td>\n",
       "    </tr>\n",
       "    <tr>\n",
       "      <th>2</th>\n",
       "      <td>-0.369491</td>\n",
       "      <td>1.10053</td>\n",
       "      <td>1.857558</td>\n",
       "      <td>2.190482</td>\n",
       "      <td>0</td>\n",
       "      <td>1</td>\n",
       "      <td>1</td>\n",
       "      <td>56</td>\n",
       "      <td>57</td>\n",
       "      <td>1</td>\n",
       "      <td>5.421817e-01</td>\n",
       "      <td>4.575676e-01</td>\n",
       "      <td>4.088597</td>\n",
       "      <td>2.074847e+00</td>\n",
       "      <td>1.771988e+00</td>\n",
       "    </tr>\n",
       "    <tr>\n",
       "      <th>3</th>\n",
       "      <td>0.369491</td>\n",
       "      <td>-1.10053</td>\n",
       "      <td>1.857558</td>\n",
       "      <td>2.190482</td>\n",
       "      <td>3</td>\n",
       "      <td>0</td>\n",
       "      <td>1</td>\n",
       "      <td>56</td>\n",
       "      <td>59</td>\n",
       "      <td>1</td>\n",
       "      <td>-5.421817e-01</td>\n",
       "      <td>4.575676e-01</td>\n",
       "      <td>4.088597</td>\n",
       "      <td>2.074847e+00</td>\n",
       "      <td>1.771988e+00</td>\n",
       "    </tr>\n",
       "    <tr>\n",
       "      <th>4</th>\n",
       "      <td>0.000000</td>\n",
       "      <td>2.20106</td>\n",
       "      <td>0.000000</td>\n",
       "      <td>2.201060</td>\n",
       "      <td>1</td>\n",
       "      <td>6</td>\n",
       "      <td>1</td>\n",
       "      <td>57</td>\n",
       "      <td>62</td>\n",
       "      <td>1</td>\n",
       "      <td>2.710909e-01</td>\n",
       "      <td>-0.000000e+00</td>\n",
       "      <td>4.088597</td>\n",
       "      <td>2.048787e+00</td>\n",
       "      <td>1.749732e+00</td>\n",
       "    </tr>\n",
       "  </tbody>\n",
       "</table>\n",
       "</div>"
      ],
      "text/plain": [
       "          dx       dz        dy    length  srce  trgt  face  old_jv0  old_jv1  \\\n",
       "je                                                                              \n",
       "0   0.369491 -1.10053 -1.857558  2.190482     1     0     0       56       57   \n",
       "1   1.052222  1.10053 -1.574762  2.190482     2     1     0       57       58   \n",
       "2  -0.369491  1.10053  1.857558  2.190482     0     1     1       56       57   \n",
       "3   0.369491 -1.10053  1.857558  2.190482     3     0     1       56       59   \n",
       "4   0.000000  2.20106  0.000000  2.201060     1     6     1       57       62   \n",
       "\n",
       "    old_cell            ny            nz        nx      sub_area       sub_vol  \n",
       "je                                                                              \n",
       "0          0  7.823193e-01 -6.863514e-01  1.888686  1.078220e+00  9.208356e-01  \n",
       "1          0 -2.220446e-16 -3.330669e-16  0.000000  2.001483e-16  1.709332e-16  \n",
       "2          1  5.421817e-01  4.575676e-01  4.088597  2.074847e+00  1.771988e+00  \n",
       "3          1 -5.421817e-01  4.575676e-01  4.088597  2.074847e+00  1.771988e+00  \n",
       "4          1  2.710909e-01 -0.000000e+00  4.088597  2.048787e+00  1.749732e+00  "
      ]
     },
     "execution_count": 43,
     "metadata": {},
     "output_type": "execute_result"
    }
   ],
   "source": [
    "sheet.je_df.head()"
   ]
  },
  {
   "cell_type": "code",
   "execution_count": 44,
   "metadata": {
    "collapsed": true
   },
   "outputs": [],
   "source": [
    "from tyssue.draw.mpl_draw import sheet_view\n"
   ]
  },
  {
   "cell_type": "code",
   "execution_count": 46,
   "metadata": {
    "collapsed": false
   },
   "outputs": [
    {
     "data": {
      "image/png": "[encoded data removed]",
      "text/plain": [
       "<matplotlib.figure.Figure at 0x7f41f076a0b8>"
      ]
     },
     "metadata": {},
     "output_type": "display_data"
    }
   ],
   "source": [
    "fig, ax = sheet_view(sheet, coords=['z', 'x'])"
   ]
  },
  {
   "cell_type": "code",
   "execution_count": null,
   "metadata": {
    "collapsed": true
   },
   "outputs": [],
   "source": []
  }
 ],
 "metadata": {
  "kernelspec": {
   "display_name": "Python 3",
   "language": "python",
   "name": "python3"
  },
  "language_info": {
   "codemirror_mode": {
    "name": "ipython",
    "version": 3
   },
   "file_extension": ".py",
   "mimetype": "text/x-python",
   "name": "python",
   "nbconvert_exporter": "python",
   "pygments_lexer": "ipython3",
   "version": "3.4.3"
  }
 },
 "nbformat": 4,
 "nbformat_minor": 0
}
