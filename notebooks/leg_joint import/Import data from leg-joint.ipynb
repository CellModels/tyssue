{
 "cells": [
  {
   "cell_type": "code",
   "execution_count": 1,
   "metadata": {
    "collapsed": false
   },
   "outputs": [
    {
     "name": "stderr",
     "output_type": "stream",
     "text": [
      "/home/guillaume/anaconda/envs/tyssue/lib/python3.4/site-packages/graph_tool/draw/cairo_draw.py:36: RuntimeWarning: Error importing cairo. Graph drawing will not work.\n",
      "  warnings.warn(msg, RuntimeWarning)\n",
      "/home/guillaume/anaconda/envs/tyssue/lib/python3.4/site-packages/graph_tool/draw/cairo_draw.py:36: RuntimeWarning: Error importing cairo. Graph drawing will not work.\n",
      "  warnings.warn(msg, RuntimeWarning)\n",
      "/home/guillaume/anaconda/envs/tyssue/lib/python3.4/site-packages/graph_tool/draw/cairo_draw.py:36: RuntimeWarning: Error importing cairo. Graph drawing will not work.\n",
      "  warnings.warn(msg, RuntimeWarning)\n",
      "/home/guillaume/anaconda/envs/tyssue/lib/python3.4/site-packages/graph_tool/all.py:40: RuntimeWarning: Error importing draw module, proceeding nevertheless: No module named 'cairo'\n",
      "  warnings.warn(msg, RuntimeWarning)\n",
      "2015-09-23 18:00:47,254 -leg_joint -INFO -successfully imported leg_joint\n"
     ]
    }
   ],
   "source": [
    "%load_ext autoreload\n",
    "%autoreload 2\n",
    "%matplotlib inline\n",
    "\n",
    "\n",
    "%run nb_init.py\n",
    "# This imports leg_joint as lj\n"
   ]
  },
  {
   "cell_type": "code",
   "execution_count": 2,
   "metadata": {
    "collapsed": false
   },
   "outputs": [
    {
     "name": "stderr",
     "output_type": "stream",
     "text": [
      "2015-09-23 18:00:48,138 -leg_joint.epithelium -INFO -Instanciating epithelium 0\n",
      "2015-09-23 18:00:48,318 -leg_joint.epithelium -INFO -Initial cells\n",
      "2015-09-23 18:00:48,318 -leg_joint.epithelium -INFO -Initial junctions\n",
      "2015-09-23 18:00:48,536 -leg_joint.epithelium -INFO -Update geometry\n"
     ]
    }
   ],
   "source": [
    "lj_eptm = lj.Epithelium(lj.data.small_xml(), save_dir='/tmp', copy=True)"
   ]
  },
  {
   "cell_type": "code",
   "execution_count": 3,
   "metadata": {
    "collapsed": true
   },
   "outputs": [],
   "source": [
    "import numpy as np\n",
    "import pandas as pd\n",
    "\n",
    "import matplotlib.pylab as plt\n",
    "%matplotlib inline\n",
    "\n",
    "import tyssue as ty\n",
    "from tyssue.core import Epithelium, Cell, JunctionEdge, JunctionVertex\n",
    "from tyssue.core.generation import jv_data, cell_data, je_data\n",
    "from tyssue.geometry import sheet_geometry as geom"
   ]
  },
  {
   "cell_type": "code",
   "execution_count": 4,
   "metadata": {
    "collapsed": false
   },
   "outputs": [
    {
     "name": "stdout",
     "output_type": "stream",
     "text": [
      "****** Vertex ********\n",
      "vols\n",
      "grad_radial\n",
      "volume_grad_cell\n",
      "volume_grad_radial\n",
      "grad_ix\n",
      "elastic_grad\n",
      "perimeters\n",
      "ages\n",
      "contractilities\n",
      "grad_zed\n",
      "thetas\n",
      "radial_tensions\n",
      "wys\n",
      "is_cell_vert\n",
      "volume_grad\n",
      "areas\n",
      "prefered_vol\n",
      "is_alive\n",
      "grad_wy\n",
      "is_local_vert\n",
      "grad_sigma\n",
      "ixs\n",
      "zeds\n",
      "volume_grad_apical\n",
      "rhos\n",
      "sigmas\n",
      "is_active_vert\n",
      "contractile_grad\n",
      "vol_elasticities\n",
      "****** Edge ********\n",
      "dixs\n",
      "u_dwys\n",
      "at_boundary\n",
      "u_dixs\n",
      "u_dzeds\n",
      "is_junction_edge\n",
      "dzeds\n",
      "edge_lengths\n",
      "is_local_edge\n",
      "drhos\n",
      "dsigmas\n",
      "u_drhos\n",
      "dthetas\n",
      "line_tensions\n",
      "is_new_edge\n",
      "is_active_edge\n",
      "is_ctoj_edge\n",
      "u_dsigmas\n",
      "dwys\n"
     ]
    }
   ],
   "source": [
    "graph = lj_eptm.graph\n",
    "print('****** Vertex ********')\n",
    "print(*graph.vertex_properties.keys(), sep='\\n')\n",
    "print('****** Edge ********')\n",
    "\n",
    "print(*graph.edge_properties.keys(), sep='\\n')\n",
    "\n",
    "      "
   ]
  },
  {
   "cell_type": "code",
   "execution_count": 5,
   "metadata": {
    "collapsed": false
   },
   "outputs": [
    {
     "name": "stdout",
     "output_type": "stream",
     "text": [
      "CELLS\n",
      "perimeter\tnum_sides\tis_alive\tarea\ty\tz\tx\n",
      "JV\n",
      "is_active\tx\tz\ty\n",
      "JE\n",
      "dy\tnz\tlength\tdx\tdz\tny\tnx\n"
     ]
    }
   ],
   "source": [
    "print('CELLS')\n",
    "print(*cell_data.keys(), sep='\\t')\n",
    "\n",
    "print('JV')\n",
    "print(*jv_data.keys(), sep='\\t')\n",
    "\n",
    "print('JE')\n",
    "print(*je_data.keys(), sep='\\t')"
   ]
  },
  {
   "cell_type": "code",
   "execution_count": 6,
   "metadata": {
    "collapsed": true
   },
   "outputs": [],
   "source": [
    "jv_import = {'ixs': 'x', 'wys': 'y', 'zeds': 'z',\n",
    "             'is_active_vert': 'is_active'}\n",
    "\n",
    "cell_import = {'ixs': 'x', 'wys': 'y', 'zeds': 'z',\n",
    "               'areas': 'area', 'perimeters': 'perimeter',\n",
    "               'is_alive': 'is_alive'}\n",
    "\n",
    "je_import = {'dixs': 'dx', 'dwys': 'dy', 'dzeds': 'dz',\n",
    "             'edge_lengths': 'length'}"
   ]
  },
  {
   "cell_type": "code",
   "execution_count": 7,
   "metadata": {
    "collapsed": true
   },
   "outputs": [],
   "source": [
    "def get_faces(graph, as_array=True):\n",
    "    '''\n",
    "    Retrieves all the triangular subgraphs of the form\n",
    "       1 -- > 2\n",
    "        ^   ^\n",
    "         \\ /\n",
    "          0\n",
    "    In our context, vertex 0 always corresponds to a cell\n",
    "    and vertices 1 and 2 to junction vertices\n",
    "\n",
    "    Parameters\n",
    "    ----------\n",
    "    graph : a :class:`GraphTool` graph instance\n",
    "    as_array: bool, optional, default `True`\n",
    "      if `True`, the output of `subraph_isomorphism` is converted\n",
    "      to a (N, 3) ndarray.\n",
    "\n",
    "    Returns\n",
    "    -------\n",
    "    triangles:  list of gt.PropertyMaps or (N, 3) ndarray\n",
    "      each line corresponds to a triplet (cell, jv0, jv1)\n",
    "      where cell, jv0 and jv1 are indices of the input graph.\n",
    "    '''\n",
    "    tri_graph = gt.Graph()\n",
    "    ## the vertices\n",
    "    verts = tri_graph.add_vertex(3)\n",
    "    ## edges\n",
    "    tri_graph.add_edge_list([(0, 1), (0, 2), (1, 2)])\n",
    "    _triangles = gt.subgraph_isomorphism(tri_graph, graph)\n",
    "    if not as_array:\n",
    "        return tri_graph, _triangles\n",
    "    triangles = np.array([tri.a for tri in _triangles], dtype=np.int)\n",
    "    return triangles"
   ]
  },
  {
   "cell_type": "code",
   "execution_count": 8,
   "metadata": {
    "collapsed": true
   },
   "outputs": [],
   "source": [
    "triangles = get_faces(graph)"
   ]
  },
  {
   "cell_type": "markdown",
   "metadata": {},
   "source": [
    "The new base triangle is oriented differently, as the edge is splited.\n",
    "\n",
    "We now have:\n",
    "\n",
    "```\n",
    "       1 -- > 2             2 <-- 1  \n",
    "        ^   /                ^   /\n",
    "         \\ v     and          \\ v  \n",
    "          0                    0\n",
    "```\n",
    "\n"
   ]
  },
  {
   "cell_type": "code",
   "execution_count": 9,
   "metadata": {
    "collapsed": false
   },
   "outputs": [],
   "source": [
    "pos = gt.group_vector_property([lj_eptm.ixs, lj_eptm.wys, lj_eptm.zeds])\n",
    "deltas = gt.group_vector_property([graph.ep['dixs'], graph.ep['dwys'],  graph.ep['dzeds']])"
   ]
  },
  {
   "cell_type": "code",
   "execution_count": 10,
   "metadata": {
    "collapsed": false
   },
   "outputs": [
    {
     "name": "stdout",
     "output_type": "stream",
     "text": [
      "Automatic pdb calling has been turned ON\n"
     ]
    }
   ],
   "source": [
    "%pdb"
   ]
  },
  {
   "cell_type": "code",
   "execution_count": 11,
   "metadata": {
    "collapsed": false
   },
   "outputs": [],
   "source": [
    "oriented = []\n",
    "\n",
    "for (cell, jv1, jv2) in triangles:\n",
    "    \n",
    "    normal = np.cross(deltas[graph.edge(cell, jv1)],\n",
    "                      deltas[graph.edge(cell, jv2)])\n",
    "    orientation = np.sign(np.sum(pos[graph.vertex(cell)] * normal))\n",
    "    if orientation > 0:\n",
    "        oriented.append([jv1, jv2, cell])\n",
    "    else:\n",
    "        oriented.append([jv2, jv1, cell])\n",
    "    \n",
    "    "
   ]
  },
  {
   "cell_type": "code",
   "execution_count": 12,
   "metadata": {
    "collapsed": false
   },
   "outputs": [],
   "source": [
    "graph.set_vertex_filter(lj_eptm.is_cell_vert)\n",
    "cells_idx_in = graph.vertex_index.copy()\n",
    "cells_idx_in = cells_idx_in.fa\n",
    "\n",
    "graph.set_vertex_filter(lj_eptm.is_cell_vert, True)\n",
    "jv_idx_in = graph.vertex_index.copy()\n",
    "jv_idx_in = jv_idx_in.fa\n",
    "graph.set_vertex_filter(None)\n",
    "\n"
   ]
  },
  {
   "cell_type": "code",
   "execution_count": 13,
   "metadata": {
    "collapsed": false
   },
   "outputs": [],
   "source": [
    "cell_df = pd.DataFrame(index=pd.Index(range(cells_idx_in.shape[0]), name='cell'), \n",
    "                       columns=cell_import.values())\n",
    "cell_df['old_idx'] = cells_idx_in\n",
    "\n",
    "for data_in, data_out in cell_import.items():\n",
    "    cell_df[data_out] = graph.vp[data_in].a[cells_idx_in]\n",
    "\n",
    "jv_df = pd.DataFrame(index=pd.Index(range(jv_idx_in.shape[0]), name='jv'), \n",
    "                       columns=jv_import.values())\n",
    "jv_df['old_idx'] = jv_idx_in\n",
    "    \n",
    "    \n",
    "for data_in, data_out in jv_import.items():\n",
    "    jv_df[data_out] = graph.vp[data_in].a[jv_idx_in]\n",
    "\n"
   ]
  },
  {
   "cell_type": "code",
   "execution_count": 14,
   "metadata": {
    "collapsed": false
   },
   "outputs": [],
   "source": [
    "re_indexed = []\n",
    "for jv0, jv1, cell in oriented:\n",
    "    srce = np.where(jv_df.old_idx==jv0)[0][0]\n",
    "    trgt = np.where(jv_df.old_idx==jv1)[0][0]\n",
    "    r_cell = np.where(cell_df.old_idx==cell)[0][0]\n",
    "    re_indexed.append((srce, trgt, r_cell))"
   ]
  },
  {
   "cell_type": "code",
   "execution_count": 15,
   "metadata": {
    "collapsed": false
   },
   "outputs": [],
   "source": [
    "je_idx = pd.MultiIndex.from_tuples(re_indexed, names=['srce', 'trgt', 'cell'])\n",
    "je_df = pd.DataFrame(index=je_idx, columns=je_import.values())\n",
    "je_df['old_jv0'] = triangles[:, 1]\n",
    "je_df['old_jv1'] = triangles[:, 2]\n",
    "je_df['old_cell'] = triangles[:, 0]\n",
    "\n",
    "\n",
    "eps = gt.group_vector_property([graph.ep[col] for col in je_import.keys()])\n",
    "\n",
    "\n",
    "#for halfedge in je_idx:\n",
    "    \n",
    "#    je_df[[v for v in je_import.values()]].loc[halfedge] = eps[graph.edge(je_df.old_jv0.loc[halfedge],\n",
    "#                                                             je_df.old_jv1.loc[halfedge])]"
   ]
  },
  {
   "cell_type": "code",
   "execution_count": 17,
   "metadata": {
    "collapsed": false,
    "scrolled": true
   },
   "outputs": [
    {
     "data": {
      "text/html": [
       "<div>\n",
       "<table border=\"1\" class=\"dataframe\">\n",
       "  <thead>\n",
       "    <tr style=\"text-align: right;\">\n",
       "      <th></th>\n",
       "      <th></th>\n",
       "      <th></th>\n",
       "      <th>dy</th>\n",
       "      <th>dx</th>\n",
       "      <th>dz</th>\n",
       "      <th>length</th>\n",
       "      <th>old_jv0</th>\n",
       "      <th>old_jv1</th>\n",
       "      <th>old_cell</th>\n",
       "    </tr>\n",
       "    <tr>\n",
       "      <th>srce</th>\n",
       "      <th>trgt</th>\n",
       "      <th>cell</th>\n",
       "      <th></th>\n",
       "      <th></th>\n",
       "      <th></th>\n",
       "      <th></th>\n",
       "      <th></th>\n",
       "      <th></th>\n",
       "      <th></th>\n",
       "    </tr>\n",
       "  </thead>\n",
       "  <tbody>\n",
       "    <tr>\n",
       "      <th>1</th>\n",
       "      <th>0</th>\n",
       "      <th>0</th>\n",
       "      <td>NaN</td>\n",
       "      <td>NaN</td>\n",
       "      <td>NaN</td>\n",
       "      <td>NaN</td>\n",
       "      <td>56</td>\n",
       "      <td>57</td>\n",
       "      <td>0</td>\n",
       "    </tr>\n",
       "    <tr>\n",
       "      <th>2</th>\n",
       "      <th>1</th>\n",
       "      <th>0</th>\n",
       "      <td>NaN</td>\n",
       "      <td>NaN</td>\n",
       "      <td>NaN</td>\n",
       "      <td>NaN</td>\n",
       "      <td>57</td>\n",
       "      <td>58</td>\n",
       "      <td>0</td>\n",
       "    </tr>\n",
       "    <tr>\n",
       "      <th>0</th>\n",
       "      <th>1</th>\n",
       "      <th>1</th>\n",
       "      <td>NaN</td>\n",
       "      <td>NaN</td>\n",
       "      <td>NaN</td>\n",
       "      <td>NaN</td>\n",
       "      <td>56</td>\n",
       "      <td>57</td>\n",
       "      <td>1</td>\n",
       "    </tr>\n",
       "    <tr>\n",
       "      <th>3</th>\n",
       "      <th>0</th>\n",
       "      <th>1</th>\n",
       "      <td>NaN</td>\n",
       "      <td>NaN</td>\n",
       "      <td>NaN</td>\n",
       "      <td>NaN</td>\n",
       "      <td>56</td>\n",
       "      <td>59</td>\n",
       "      <td>1</td>\n",
       "    </tr>\n",
       "    <tr>\n",
       "      <th>1</th>\n",
       "      <th>6</th>\n",
       "      <th>1</th>\n",
       "      <td>NaN</td>\n",
       "      <td>NaN</td>\n",
       "      <td>NaN</td>\n",
       "      <td>NaN</td>\n",
       "      <td>57</td>\n",
       "      <td>62</td>\n",
       "      <td>1</td>\n",
       "    </tr>\n",
       "  </tbody>\n",
       "</table>\n",
       "</div>"
      ],
      "text/plain": [
       "                 dy   dx   dz length  old_jv0  old_jv1  old_cell\n",
       "srce trgt cell                                                  \n",
       "1    0    0     NaN  NaN  NaN    NaN       56       57         0\n",
       "2    1    0     NaN  NaN  NaN    NaN       57       58         0\n",
       "0    1    1     NaN  NaN  NaN    NaN       56       57         1\n",
       "3    0    1     NaN  NaN  NaN    NaN       56       59         1\n",
       "1    6    1     NaN  NaN  NaN    NaN       57       62         1"
      ]
     },
     "execution_count": 17,
     "metadata": {},
     "output_type": "execute_result"
    }
   ],
   "source": [
    "je_df.head()\n"
   ]
  },
  {
   "cell_type": "code",
   "execution_count": 19,
   "metadata": {
    "collapsed": false
   },
   "outputs": [],
   "source": [
    "with pd.get_store('small_hexagonal.hf5') as store:\n",
    "    store.put('cell_df', cell_df, format='t', dropna=False)\n",
    "    store.put('jv_df', jv_df, format='t', dropna=False)\n",
    "    store.put('je_df', je_df, format='t', dropna=False)"
   ]
  },
  {
   "cell_type": "code",
   "execution_count": null,
   "metadata": {
    "collapsed": true
   },
   "outputs": [],
   "source": []
  }
 ],
 "metadata": {
  "kernelspec": {
   "display_name": "Python 3",
   "language": "python",
   "name": "python3"
  },
  "language_info": {
   "codemirror_mode": {
    "name": "ipython",
    "version": 3
   },
   "file_extension": ".py",
   "mimetype": "text/x-python",
   "name": "python",
   "nbconvert_exporter": "python",
   "pygments_lexer": "ipython3",
   "version": "3.4.3"
  }
 },
 "nbformat": 4,
 "nbformat_minor": 0
}
