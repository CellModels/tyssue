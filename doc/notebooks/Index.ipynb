{
 "cells": [
  {
   "cell_type": "markdown",
   "metadata": {},
   "source": [
    "# The `tyssue` simulation library"
   ]
  },
  {
   "cell_type": "markdown",
   "metadata": {},
   "source": [
    "The `tyssue` library seeks to provide a unified interface to implement\n",
    "bio-mechanical models of living tissues, with a focus on **epithelium** modeling.\n",
    "It's main focus is on **vertex** based models.\n",
    "\n",
    "## 1. Overview\n",
    "\n",
    "### What kind of Models does it implement?\n",
    "\n",
    "The first model implemented is the one described in\n",
    "Monier et al. [monier2015apico]. It is an example of a vertex model,\n",
    "where the interactions are only evaluated on the apical surface sheet\n",
    "of the epithelium. The second class of models are still at an\n",
    "stage. They implement a description of the tissue's rheology, within a\n",
    "dissipation function formalism.\n",
    "\n",
    "![The two models considered](illus/two_models.png)\n",
    "\n",
    "The mesh structure is heavily inspired by\n",
    "[CGAL Linear Cell Complexes](http://doc.cgal.org/latest/Linear_cell_complex/index.html),\n",
    "most importantly, in the case of a 2D vertex sheet for example, each\n",
    "junction edge between the cells is \"splitted\" between two oriented **half\n",
    "edges**.\n",
    "\n",
    "### General Structure of the modeling API\n",
    "\n",
    "The core of the tyssue library rests on two structures: a set of\n",
    "`pandas DataFrame` holding the tissue geometry and associated data,\n",
    "and a nested dictionnary holding the model parameters, variables and default values.\n",
    "\n",
    "![Tyssue data structure](illus/tyssue_data_management.png)\n",
    "\n",
    "The API thus defines an `Epithelium` class. An instance of this class\n",
    "is a container for the datasets and the specifications, and implements\n",
    "methods to manipulate indexing of the dataframes to ease calculations.\n",
    "\n",
    "## 2. Basics\n",
    "\n",
    "### [2.1 Basic creation and index manipulation](Basic_Usage.ipynb)\n",
    "\n",
    "### 2.2 Visualisation\n",
    "\n",
    "## 3. Geometries\n",
    "\n",
    "### 3.1 Planar geometry\n",
    "\n",
    "### 3.2 Sheet geometry in 3D\n",
    "\n",
    "### 3.3 Monolayer\n",
    "\n",
    "### 3.4 Bulk Epithelium\n",
    "\n",
    "## 4. Energy minimization\n",
    "\n",
    "### 4.1 Vertex model for apical junctions\n",
    "\n",
    "### 4.2 Vertex model for monolayers\n",
    "\n",
    "## 5. Tyssue dynamics\n",
    "\n",
    "### 5.1 Cell division\n",
    "\n",
    "### 5.2 Apoptosis\n",
    "\n",
    "### 5.3 Type 1 transition\n"
   ]
  }
 ],
 "metadata": {
  "kernelspec": {
   "display_name": "Python 3",
   "language": "python",
   "name": "python3"
  },
  "language_info": {
   "codemirror_mode": {
    "name": "ipython",
    "version": 3
   },
   "file_extension": ".py",
   "mimetype": "text/x-python",
   "name": "python",
   "nbconvert_exporter": "python",
   "pygments_lexer": "ipython3",
   "version": "3.5.1"
  }
 },
 "nbformat": 4,
 "nbformat_minor": 0
}
